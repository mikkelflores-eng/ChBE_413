{
 "cells": [
  {
   "cell_type": "markdown",
   "id": "IsdqNE7lYKW9",
   "metadata": {
    "id": "IsdqNE7lYKW9"
   },
   "source": [
    "# CHEM452 - Model Assessment with cross-validation"
   ]
  },
  {
   "cell_type": "markdown",
   "id": "Lz-BC-MzYSxm",
   "metadata": {
    "id": "Lz-BC-MzYSxm"
   },
   "source": [
    "Here, we are going to implement K-fold cross-validation from scratch. Note that in the homeworks you will be asked to look through scikit-learn's documentation and figure out how to do this using some of their classes that automate many of these tasks. We are going to work with the melting point dataset again."
   ]
  },
  {
   "cell_type": "code",
   "execution_count": null,
   "id": "86b6ec9c-7d9c-4f7f-bd27-06a58235905d",
   "metadata": {
    "id": "86b6ec9c-7d9c-4f7f-bd27-06a58235905d"
   },
   "outputs": [],
   "source": [
    "import pandas as pd\n",
    "import numpy as np\n",
    "import matplotlib.pyplot as plt\n",
    "from sklearn.model_selection import train_test_split\n",
    "from sklearn.preprocessing import StandardScaler\n",
    "from sklearn.linear_model import LinearRegression\n",
    "from sklearn.linear_model import Ridge\n",
    "from sklearn.linear_model import Lasso\n",
    "from sklearn.svm import SVR\n",
    "from sklearn.metrics import mean_squared_error\n",
    "\n",
    "dataset_name = \"Solubility.csv\"\n",
    "df = pd.read_csv(dataset_name)\n",
    "x = df[['MolLogP','NumHAcceptors','NumHDonors','NumAromaticRings']].values[:1000]\n",
    "y = np.array(df[['Solubility']].values)[:1000]\n"
   ]
  },
  {
   "cell_type": "markdown",
   "id": "aCHuuniHK2xc",
   "metadata": {
    "id": "aCHuuniHK2xc"
   },
   "source": [
    "## Cross-Validation from Scratch"
   ]
  },
  {
   "cell_type": "markdown",
   "id": "f4efdad9-2974-49db-9cc0-63bbb2ae0b3a",
   "metadata": {
    "id": "f4efdad9-2974-49db-9cc0-63bbb2ae0b3a"
   },
   "source": [
    "Let's implement a logarithmic grid search with k-fold cross-validation with regularization from scratch.  \n",
    "\n",
    "Note that there are good scikit-learn libraries available for k-fold cross validation here that you will use on the homework: https://scikit-learn.org/0.17/modules/generated/sklearn.cross_validation.KFold.html.\n",
    "\n",
    "There is also a specific grid search that incorporates cross-validation here https://scikit-learn.org/stable/modules/generated/sklearn.model_selection.GridSearchCV.html.\n",
    "\n",
    "Finally, there is a pre-packaged cross-validation scorer available here that can be used with most models in scikit-learn: https://scikit-learn.org/stable/modules/generated/sklearn.model_selection.cross_val_score.html.  "
   ]
  },
  {
   "cell_type": "code",
   "execution_count": null,
   "id": "835199ea-79d4-4bad-9727-6edfc860310f",
   "metadata": {
    "colab": {
     "base_uri": "https://localhost:8080/"
    },
    "executionInfo": {
     "elapsed": 7476,
     "status": "ok",
     "timestamp": 1662759109151,
     "user": {
      "displayName": "Nicholas Jackson",
      "userId": "01670215121017026455"
     },
     "user_tz": 300
    },
    "id": "835199ea-79d4-4bad-9727-6edfc860310f",
    "outputId": "ec9514ef-e51e-4ae2-c90d-3b76562f0c4b"
   },
   "outputs": [
    {
     "name": "stderr",
     "output_type": "stream",
     "text": [
      "/usr/local/lib/python3.7/dist-packages/sklearn/utils/validation.py:993: DataConversionWarning: A column-vector y was passed when a 1d array was expected. Please change the shape of y to (n_samples, ), for example using ravel().\n",
      "  y = column_or_1d(y, warn=True)\n",
      "/usr/local/lib/python3.7/dist-packages/sklearn/utils/validation.py:993: DataConversionWarning: A column-vector y was passed when a 1d array was expected. Please change the shape of y to (n_samples, ), for example using ravel().\n",
      "  y = column_or_1d(y, warn=True)\n",
      "/usr/local/lib/python3.7/dist-packages/sklearn/utils/validation.py:993: DataConversionWarning: A column-vector y was passed when a 1d array was expected. Please change the shape of y to (n_samples, ), for example using ravel().\n",
      "  y = column_or_1d(y, warn=True)\n",
      "/usr/local/lib/python3.7/dist-packages/sklearn/utils/validation.py:993: DataConversionWarning: A column-vector y was passed when a 1d array was expected. Please change the shape of y to (n_samples, ), for example using ravel().\n",
      "  y = column_or_1d(y, warn=True)\n",
      "/usr/local/lib/python3.7/dist-packages/sklearn/utils/validation.py:993: DataConversionWarning: A column-vector y was passed when a 1d array was expected. Please change the shape of y to (n_samples, ), for example using ravel().\n",
      "  y = column_or_1d(y, warn=True)\n",
      "/usr/local/lib/python3.7/dist-packages/sklearn/utils/validation.py:993: DataConversionWarning: A column-vector y was passed when a 1d array was expected. Please change the shape of y to (n_samples, ), for example using ravel().\n",
      "  y = column_or_1d(y, warn=True)\n",
      "/usr/local/lib/python3.7/dist-packages/sklearn/utils/validation.py:993: DataConversionWarning: A column-vector y was passed when a 1d array was expected. Please change the shape of y to (n_samples, ), for example using ravel().\n",
      "  y = column_or_1d(y, warn=True)\n",
      "/usr/local/lib/python3.7/dist-packages/sklearn/utils/validation.py:993: DataConversionWarning: A column-vector y was passed when a 1d array was expected. Please change the shape of y to (n_samples, ), for example using ravel().\n",
      "  y = column_or_1d(y, warn=True)\n",
      "/usr/local/lib/python3.7/dist-packages/sklearn/utils/validation.py:993: DataConversionWarning: A column-vector y was passed when a 1d array was expected. Please change the shape of y to (n_samples, ), for example using ravel().\n",
      "  y = column_or_1d(y, warn=True)\n",
      "/usr/local/lib/python3.7/dist-packages/sklearn/utils/validation.py:993: DataConversionWarning: A column-vector y was passed when a 1d array was expected. Please change the shape of y to (n_samples, ), for example using ravel().\n",
      "  y = column_or_1d(y, warn=True)\n",
      "/usr/local/lib/python3.7/dist-packages/sklearn/utils/validation.py:993: DataConversionWarning: A column-vector y was passed when a 1d array was expected. Please change the shape of y to (n_samples, ), for example using ravel().\n",
      "  y = column_or_1d(y, warn=True)\n",
      "/usr/local/lib/python3.7/dist-packages/sklearn/utils/validation.py:993: DataConversionWarning: A column-vector y was passed when a 1d array was expected. Please change the shape of y to (n_samples, ), for example using ravel().\n",
      "  y = column_or_1d(y, warn=True)\n",
      "/usr/local/lib/python3.7/dist-packages/sklearn/utils/validation.py:993: DataConversionWarning: A column-vector y was passed when a 1d array was expected. Please change the shape of y to (n_samples, ), for example using ravel().\n",
      "  y = column_or_1d(y, warn=True)\n",
      "/usr/local/lib/python3.7/dist-packages/sklearn/utils/validation.py:993: DataConversionWarning: A column-vector y was passed when a 1d array was expected. Please change the shape of y to (n_samples, ), for example using ravel().\n",
      "  y = column_or_1d(y, warn=True)\n",
      "/usr/local/lib/python3.7/dist-packages/sklearn/utils/validation.py:993: DataConversionWarning: A column-vector y was passed when a 1d array was expected. Please change the shape of y to (n_samples, ), for example using ravel().\n",
      "  y = column_or_1d(y, warn=True)\n",
      "/usr/local/lib/python3.7/dist-packages/sklearn/utils/validation.py:993: DataConversionWarning: A column-vector y was passed when a 1d array was expected. Please change the shape of y to (n_samples, ), for example using ravel().\n",
      "  y = column_or_1d(y, warn=True)\n",
      "/usr/local/lib/python3.7/dist-packages/sklearn/utils/validation.py:993: DataConversionWarning: A column-vector y was passed when a 1d array was expected. Please change the shape of y to (n_samples, ), for example using ravel().\n",
      "  y = column_or_1d(y, warn=True)\n",
      "/usr/local/lib/python3.7/dist-packages/sklearn/utils/validation.py:993: DataConversionWarning: A column-vector y was passed when a 1d array was expected. Please change the shape of y to (n_samples, ), for example using ravel().\n",
      "  y = column_or_1d(y, warn=True)\n",
      "/usr/local/lib/python3.7/dist-packages/sklearn/utils/validation.py:993: DataConversionWarning: A column-vector y was passed when a 1d array was expected. Please change the shape of y to (n_samples, ), for example using ravel().\n",
      "  y = column_or_1d(y, warn=True)\n",
      "/usr/local/lib/python3.7/dist-packages/sklearn/utils/validation.py:993: DataConversionWarning: A column-vector y was passed when a 1d array was expected. Please change the shape of y to (n_samples, ), for example using ravel().\n",
      "  y = column_or_1d(y, warn=True)\n",
      "/usr/local/lib/python3.7/dist-packages/sklearn/utils/validation.py:993: DataConversionWarning: A column-vector y was passed when a 1d array was expected. Please change the shape of y to (n_samples, ), for example using ravel().\n",
      "  y = column_or_1d(y, warn=True)\n",
      "/usr/local/lib/python3.7/dist-packages/sklearn/utils/validation.py:993: DataConversionWarning: A column-vector y was passed when a 1d array was expected. Please change the shape of y to (n_samples, ), for example using ravel().\n",
      "  y = column_or_1d(y, warn=True)\n",
      "/usr/local/lib/python3.7/dist-packages/sklearn/utils/validation.py:993: DataConversionWarning: A column-vector y was passed when a 1d array was expected. Please change the shape of y to (n_samples, ), for example using ravel().\n",
      "  y = column_or_1d(y, warn=True)\n",
      "/usr/local/lib/python3.7/dist-packages/sklearn/utils/validation.py:993: DataConversionWarning: A column-vector y was passed when a 1d array was expected. Please change the shape of y to (n_samples, ), for example using ravel().\n",
      "  y = column_or_1d(y, warn=True)\n",
      "/usr/local/lib/python3.7/dist-packages/sklearn/utils/validation.py:993: DataConversionWarning: A column-vector y was passed when a 1d array was expected. Please change the shape of y to (n_samples, ), for example using ravel().\n",
      "  y = column_or_1d(y, warn=True)\n",
      "/usr/local/lib/python3.7/dist-packages/sklearn/utils/validation.py:993: DataConversionWarning: A column-vector y was passed when a 1d array was expected. Please change the shape of y to (n_samples, ), for example using ravel().\n",
      "  y = column_or_1d(y, warn=True)\n",
      "/usr/local/lib/python3.7/dist-packages/sklearn/utils/validation.py:993: DataConversionWarning: A column-vector y was passed when a 1d array was expected. Please change the shape of y to (n_samples, ), for example using ravel().\n",
      "  y = column_or_1d(y, warn=True)\n",
      "/usr/local/lib/python3.7/dist-packages/sklearn/utils/validation.py:993: DataConversionWarning: A column-vector y was passed when a 1d array was expected. Please change the shape of y to (n_samples, ), for example using ravel().\n",
      "  y = column_or_1d(y, warn=True)\n",
      "/usr/local/lib/python3.7/dist-packages/sklearn/utils/validation.py:993: DataConversionWarning: A column-vector y was passed when a 1d array was expected. Please change the shape of y to (n_samples, ), for example using ravel().\n",
      "  y = column_or_1d(y, warn=True)\n",
      "/usr/local/lib/python3.7/dist-packages/sklearn/utils/validation.py:993: DataConversionWarning: A column-vector y was passed when a 1d array was expected. Please change the shape of y to (n_samples, ), for example using ravel().\n",
      "  y = column_or_1d(y, warn=True)\n",
      "/usr/local/lib/python3.7/dist-packages/sklearn/utils/validation.py:993: DataConversionWarning: A column-vector y was passed when a 1d array was expected. Please change the shape of y to (n_samples, ), for example using ravel().\n",
      "  y = column_or_1d(y, warn=True)\n",
      "/usr/local/lib/python3.7/dist-packages/sklearn/utils/validation.py:993: DataConversionWarning: A column-vector y was passed when a 1d array was expected. Please change the shape of y to (n_samples, ), for example using ravel().\n",
      "  y = column_or_1d(y, warn=True)\n",
      "/usr/local/lib/python3.7/dist-packages/sklearn/utils/validation.py:993: DataConversionWarning: A column-vector y was passed when a 1d array was expected. Please change the shape of y to (n_samples, ), for example using ravel().\n",
      "  y = column_or_1d(y, warn=True)\n",
      "/usr/local/lib/python3.7/dist-packages/sklearn/utils/validation.py:993: DataConversionWarning: A column-vector y was passed when a 1d array was expected. Please change the shape of y to (n_samples, ), for example using ravel().\n",
      "  y = column_or_1d(y, warn=True)\n",
      "/usr/local/lib/python3.7/dist-packages/sklearn/utils/validation.py:993: DataConversionWarning: A column-vector y was passed when a 1d array was expected. Please change the shape of y to (n_samples, ), for example using ravel().\n",
      "  y = column_or_1d(y, warn=True)\n"
     ]
    }
   ],
   "source": [
    "rmse_train_mean = [] #List to store mean RMSE on training set as function of regularization\n",
    "rmse_train_std = [] #List to store variance of RMSE on training set as function of regularization\n",
    "rmse_val_mean = [] #List to store mean RMSE on validation set as function of regularization\n",
    "rmse_val_std = [] #List to store variance of RMSE on validation set as function of reglularization\n",
    "cc_list = [] #List to record value of regularization to make plotting easier\n",
    "\n",
    "size = len(x) #Compute how many datapoints are in the dataset\n",
    "id_all = np.arange(size) #Create an array to hold id's corresponding to each data point\n",
    "k_fold = 5 #number of folds in cross-validation\n",
    "\n",
    "#Loop over different possible regularization (alpha) values that are log-spaced\n",
    "#Note that a grid search in one dimension is just a for loop\n",
    "#A grid search of many parameters becomes many nested for loops, which\n",
    "#should be avoided for obvious computational cost reasons...\n",
    "\n",
    "for cc in np.logspace(-3,3,7): #Loop in logspace\n",
    "\n",
    "    model_tmp = SVR(C=cc) # adjust Ridge regularization hyperparameter alpha\n",
    "\n",
    "    # k-fold cross validation\n",
    "    rmse_train = np.zeros(k_fold) #Array to store individual train RMSE for each fold\n",
    "    rmse_val = np.zeros(k_fold) #Array to store individual validation RMSE for each fold\n",
    "\n",
    "    #This is a manual way to implement k-fold cross-validation that creates\n",
    "    #the folds manually using the iterator ik and manually computing the fold size (int(size/k_fold))\n",
    "    #In the homework you will use sklearn to simplify this with the KFold method\n",
    "\n",
    "    #Also, note that I do not do any standard scaling here, whereas you should\n",
    "    #incorporate this for best practice!\n",
    "\n",
    "    for ik in range(k_fold):\n",
    "\n",
    "        id_val = np.arange(ik*int(size/k_fold),(ik+1)*int(size/k_fold)) #Compute the list of ids for validation folds\n",
    "        id_train = np.setdiff1d(id_all,id_val) #Compute list of ids for training folds\n",
    "        x_train  = x[id_train] #Select training data\n",
    "        y_train = y[id_train]\n",
    "        x_val = x[id_val] #Select validation data\n",
    "        y_val = y[id_val]\n",
    "\n",
    "        model_tmp.fit(x_train,y_train) #fit the model\n",
    "\n",
    "        #I'm manually computing these error metrics, but you could just as well use the sklearn metrics library\n",
    "        rmse_train[ik] = np.sqrt(mean_squared_error(model_tmp.predict(x_train),y_train))\n",
    "        rmse_val[ik] = np.sqrt(mean_squared_error(model_tmp.predict(x_val),y_val))\n",
    "\n",
    "\n",
    "    rmse_train_mean.append(np.mean(rmse_train))\n",
    "    rmse_train_std.append(np.std(rmse_train)) #Compute variance of training rmse\n",
    "    rmse_val_mean.append(np.mean(rmse_val))\n",
    "    rmse_val_std.append(np.std(rmse_val)) #Compute variance of validation rmse\n",
    "    cc_list.append(cc)\n",
    "\n",
    "rmse_train_mean = np.array(rmse_train_mean)\n",
    "rmse_train_std = np.array(rmse_train_std)\n",
    "rmse_val_mean = np.array(rmse_val_mean)\n",
    "rmse_val_std = np.array(rmse_val_std)\n",
    "cc_list = np.array(cc_list)\n"
   ]
  },
  {
   "cell_type": "markdown",
   "id": "AsX-qS8xZZgG",
   "metadata": {
    "id": "AsX-qS8xZZgG"
   },
   "source": [
    "Let's plot the cross-validated performance of the regression as a function of the regularization weight value.  The results are not dramatic for this dataset, but there is certainly a minimum in the validation error reached at around 2.5! The training error exhibits no such minimum."
   ]
  },
  {
   "cell_type": "code",
   "execution_count": null,
   "id": "3c6c3c23-cc3c-4bf0-8d36-c1bcffcf5acd",
   "metadata": {
    "colab": {
     "base_uri": "https://localhost:8080/",
     "height": 386
    },
    "executionInfo": {
     "elapsed": 416,
     "status": "ok",
     "timestamp": 1662759113528,
     "user": {
      "displayName": "Nicholas Jackson",
      "userId": "01670215121017026455"
     },
     "user_tz": 300
    },
    "id": "3c6c3c23-cc3c-4bf0-8d36-c1bcffcf5acd",
    "outputId": "3342cf6a-63c2-4979-90b0-bf4c9cc7de88",
    "tags": []
   },
   "outputs": [
    {
     "data": {
      "image/png": "[encoded data removed]",
      "text/plain": [
       "<Figure size 600x400 with 1 Axes>"
      ]
     },
     "metadata": {
      "needs_background": "light"
     },
     "output_type": "display_data"
    }
   ],
   "source": [
    "plt.figure(dpi=100)\n",
    "#The error bars are pretty large, so I'm just going to show the mean in this demonstration\n",
    "#But you can use these commands to do error bar plots!\n",
    "\n",
    "#plt.errorbar(np.linspace(-5,5,41),rmse_train_mean,yerr=rmse_train_std,marker='o',label='Train')\n",
    "#plt.errorbar(np.linspace(-5,5,41),rmse_val_mean,yerr=rmse_val_std,marker='s',label='Val')\n",
    "plt.plot(np.linspace(-3,3,7),rmse_train_mean,marker='o',label='Train')\n",
    "plt.plot(np.linspace(-3,3,7),rmse_val_mean,marker='s',label='Val')\n",
    "plt.xlim(-3.5,3.5)\n",
    "plt.ylabel('RMSE')\n",
    "plt.xlabel('-log$_{10}\\lambda$ (model complexity)')\n",
    "plt.legend();"
   ]
  },
  {
   "cell_type": "markdown",
   "id": "Xcl2zcbHm7G6",
   "metadata": {
    "id": "Xcl2zcbHm7G6"
   },
   "source": [
    "# Making Pipelines in Scikit-learn"
   ]
  },
  {
   "cell_type": "markdown",
   "id": "-wmHFAZwnEog",
   "metadata": {
    "id": "-wmHFAZwnEog"
   },
   "source": [
    "Is there a shorter way to combine a standard scaler and a regression function instead of doing it all manually as in the Lecture 4 example? Yep - pipelines. It is also common to add dimensionality reduction into the pipeline - we will cover dimensionality reduction later in the class."
   ]
  },
  {
   "cell_type": "code",
   "execution_count": null,
   "id": "jxpg-KuinBBr",
   "metadata": {
    "colab": {
     "base_uri": "https://localhost:8080/",
     "height": 315
    },
    "executionInfo": {
     "elapsed": 210,
     "status": "ok",
     "timestamp": 1662483681959,
     "user": {
      "displayName": "Nicholas Jackson",
      "userId": "01670215121017026455"
     },
     "user_tz": 300
    },
    "id": "jxpg-KuinBBr",
    "outputId": "f46a506e-19a9-4483-8ebd-9afa94a5e58f"
   },
   "outputs": [
    {
     "name": "stdout",
     "output_type": "stream",
     "text": [
      "0.17274242326314937\n"
     ]
    },
    {
     "data": {
      "text/plain": [
       "Text(0, 0.5, 'Predict')"
      ]
     },
     "execution_count": 10,
     "metadata": {},
     "output_type": "execute_result"
    },
    {
     "data": {
      "image/png": "[encoded data removed]",
      "text/plain": [
       "<Figure size 432x288 with 1 Axes>"
      ]
     },
     "metadata": {
      "needs_background": "light"
     },
     "output_type": "display_data"
    }
   ],
   "source": [
    "from sklearn.pipeline import Pipeline\n",
    "\n",
    "#Make a pipeline with standard scaling and linear regression chained together\n",
    "pipe = Pipeline([('scaler', StandardScaler()), ('lr',LinearRegression())])\n",
    "pipe.fit(x,y) #Fit the pipeline\n",
    "y_lr = pipe.predict(x) #Predict using the pipeline\n",
    "print(pipe.score(x,y)) #Score defaults to R2 for linear regression\n",
    "plt.scatter(y,y_lr) #Plot predicted vs actual ground truth melting points\n",
    "plt.xlabel('Actual')\n",
    "plt.ylabel('Predict')"
   ]
  },
  {
   "cell_type": "markdown",
   "id": "Qqs_rlZtKtXV",
   "metadata": {
    "id": "Qqs_rlZtKtXV"
   },
   "source": [
    "## Bootstrapping"
   ]
  },
  {
   "cell_type": "markdown",
   "id": "vxFXtdZAqtU3",
   "metadata": {
    "id": "vxFXtdZAqtU3"
   },
   "source": [
    "scikit-learn also has a cross-validation method that uses bootstrapping in sklearn.cross_validation.Bootstrap.  Here we will just do vanilla bootstrapping with the melting point dataset to see how it works."
   ]
  },
  {
   "cell_type": "code",
   "execution_count": null,
   "id": "PfYpToIbHoYB",
   "metadata": {
    "colab": {
     "base_uri": "https://localhost:8080/"
    },
    "executionInfo": {
     "elapsed": 171,
     "status": "ok",
     "timestamp": 1662483684163,
     "user": {
      "displayName": "Nicholas Jackson",
      "userId": "01670215121017026455"
     },
     "user_tz": 300
    },
    "id": "PfYpToIbHoYB",
    "outputId": "b0981bdf-c6fc-4f03-c97b-6340f08be33d"
   },
   "outputs": [
    {
     "name": "stdout",
     "output_type": "stream",
     "text": [
      "[[11.35701135  3.11979595 18.        ]\n",
      " [22.69716356  5.5797044  24.        ]\n",
      " [11.47605184  2.37126491 21.        ]\n",
      " [33.38087304  8.77946337 33.        ]\n",
      " [19.26557826  7.34644036 20.        ]\n",
      " [21.52347245  5.22811698 34.        ]\n",
      " [37.67436582  2.52916588 33.        ]\n",
      " [11.35701135  3.11979595 18.        ]\n",
      " [ 8.45570461  5.72838026 19.        ]\n",
      " [22.69716356  5.5797044  24.        ]]\n",
      "[[433.15]\n",
      " [354.15]\n",
      " [323.15]\n",
      " [356.65]\n",
      " [435.15]\n",
      " [391.15]\n",
      " [492.15]\n",
      " [433.15]\n",
      " [387.15]\n",
      " [354.15]]\n"
     ]
    }
   ],
   "source": [
    "from sklearn.utils import resample\n",
    "\n",
    "#This simple command would generate 10 bootstrapped samples drawn from the\n",
    "#distributions of x and y. These bootstrapped samples could be used to compute\n",
    "#variance estimates.\n",
    "x_res,y_res = resample(x,y,n_samples=10,random_state=99)\n",
    "print(x_res)\n",
    "print(y_res)"
   ]
  },
  {
   "cell_type": "code",
   "execution_count": null,
   "id": "06C5pEQIrT-q",
   "metadata": {
    "id": "06C5pEQIrT-q"
   },
   "outputs": [],
   "source": []
  }
 ],
 "metadata": {
  "colab": {
   "provenance": []
  },
  "kernelspec": {
   "display_name": "chbe-413",
   "language": "python",
   "name": "python3"
  },
  "language_info": {
   "codemirror_mode": {
    "name": "ipython",
    "version": 3
   },
   "file_extension": ".py",
   "mimetype": "text/x-python",
   "name": "python",
   "nbconvert_exporter": "python",
   "pygments_lexer": "ipython3",
   "version": "3.11.13"
  },
  "toc-autonumbering": false,
  "toc-showmarkdowntxt": false,
  "toc-showtags": false
 },
 "nbformat": 4,
 "nbformat_minor": 5
}
