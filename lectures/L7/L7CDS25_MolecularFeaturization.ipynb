{
 "cells": [
  {
   "cell_type": "markdown",
   "metadata": {
    "id": "dO4qCY1DZ10H"
   },
   "source": [
    "# CHEM452 - The basics of the RDkit package for molecular featurization"
   ]
  },
  {
   "cell_type": "code",
   "execution_count": null,
   "metadata": {
    "colab": {
     "base_uri": "https://localhost:8080/"
    },
    "executionInfo": {
     "elapsed": 11867,
     "status": "ok",
     "timestamp": 1662396987289,
     "user": {
      "displayName": "Nicholas Jackson",
      "userId": "01670215121017026455"
     },
     "user_tz": 240
    },
    "id": "4n8Q6yEM-zMN",
    "outputId": "f49ad10a-0da5-47c6-9ef4-6c3a1691f813"
   },
   "outputs": [
    {
     "name": "stdout",
     "output_type": "stream",
     "text": [
      "Looking in indexes: https://pypi.org/simple, https://us-python.pkg.dev/colab-wheels/public/simple/\n",
      "Collecting rdkit-pypi\n",
      "  Downloading rdkit_pypi-2022.3.5-cp37-cp37m-manylinux_2_17_x86_64.manylinux2014_x86_64.whl (36.8 MB)\n",
      "\u001b[K     |████████████████████████████████| 36.8 MB 1.3 MB/s \n",
      "\u001b[?25hRequirement already satisfied: numpy in /usr/local/lib/python3.7/dist-packages (from rdkit-pypi) (1.21.6)\n",
      "Requirement already satisfied: Pillow in /usr/local/lib/python3.7/dist-packages (from rdkit-pypi) (7.1.2)\n",
      "Installing collected packages: rdkit-pypi\n",
      "Successfully installed rdkit-pypi-2022.3.5\n"
     ]
    }
   ],
   "source": [
    "import matplotlib.pyplot as plt\n",
    "import numpy as np\n",
    "import os\n",
    "import sys\n",
    "import pandas as pd\n",
    "!pip install rdkit-pypi\n",
    "import rdkit\n",
    "from rdkit import Chem\n",
    "from rdkit.Chem import AllChem\n",
    "from rdkit.Chem import Draw"
   ]
  },
  {
   "cell_type": "markdown",
   "metadata": {
    "id": "Bfgk29WQCTMq"
   },
   "source": [
    "#RDKit Features (2D & 3D)"
   ]
  },
  {
   "cell_type": "code",
   "execution_count": null,
   "metadata": {
    "colab": {
     "base_uri": "https://localhost:8080/",
     "height": 317
    },
    "executionInfo": {
     "elapsed": 272,
     "status": "ok",
     "timestamp": 1662396992037,
     "user": {
      "displayName": "Nicholas Jackson",
      "userId": "01670215121017026455"
     },
     "user_tz": 240
    },
    "id": "i5mMCJhffmtI",
    "outputId": "e7c92558-bc90-4256-b1f8-b40fddf9dba7"
   },
   "outputs": [
    {
     "data": {
      "image/png": "[encoded data removed]",
      "text/plain": [
       "<PIL.PngImagePlugin.PngImageFile image mode=RGB size=300x300 at 0x7F496A2BF6D0>"
      ]
     },
     "execution_count": 3,
     "metadata": {},
     "output_type": "execute_result"
    }
   ],
   "source": [
    "m = Chem.MolFromSmiles('c1ccccc1C(=O)O') #Benzoic acid\n",
    "Draw.MolToImage(m)"
   ]
  },
  {
   "cell_type": "markdown",
   "metadata": {
    "id": "nvUK8V3czd1W"
   },
   "source": [
    "Here are a few 2D properties RDKit can generate:"
   ]
  },
  {
   "cell_type": "code",
   "execution_count": null,
   "metadata": {
    "colab": {
     "base_uri": "https://localhost:8080/"
    },
    "executionInfo": {
     "elapsed": 235,
     "status": "ok",
     "timestamp": 1662396994360,
     "user": {
      "displayName": "Nicholas Jackson",
      "userId": "01670215121017026455"
     },
     "user_tz": 240
    },
    "id": "aqsbEmGPAzG5",
    "outputId": "8d1f1a6a-77ac-433e-aed3-1750e15af142"
   },
   "outputs": [
    {
     "name": "stdout",
     "output_type": "stream",
     "text": [
      "MolecularWeight = 122.12299999999998\n",
      "MolLogP = 1.3848\n",
      "AromaticRings = 1\n",
      "HeavyAtoms = 9\n",
      "TopologicalPolarSurfaceArea = 37.3 A^2\n",
      "NumHDonors = 1\n",
      "PartialChargeOnAtom0 = -0.04769375004654255\n"
     ]
    }
   ],
   "source": [
    "from rdkit.Chem import Descriptors\n",
    "from rdkit.Chem import Descriptors3D\n",
    "print('MolecularWeight = {}'.format(Descriptors.MolWt(m)))\n",
    "print('MolLogP = {}'.format(Descriptors.MolLogP(m)))\n",
    "print('AromaticRings = {}'.format(Descriptors.NumAromaticRings(m)))\n",
    "print('HeavyAtoms = {}'.format(Descriptors.HeavyAtomCount(m)))\n",
    "print('TopologicalPolarSurfaceArea = {} A^2'.format(Descriptors.TPSA(m)))\n",
    "print('NumHDonors = {}'.format(Descriptors.NumHDonors(m)))\n",
    "\n",
    "AllChem.ComputeGasteigerCharges(m)\n",
    "print('PartialChargeOnAtom0 = {}'.format(m.GetAtomWithIdx(0).GetDoubleProp('_GasteigerCharge')))"
   ]
  },
  {
   "cell_type": "markdown",
   "metadata": {
    "id": "RKPUTVgy9Kz4"
   },
   "source": [
    "Here are some 3D Properties from RDKit. 3D geometries must be infered or calculated by RDKit."
   ]
  },
  {
   "cell_type": "code",
   "execution_count": null,
   "metadata": {
    "colab": {
     "base_uri": "https://localhost:8080/"
    },
    "executionInfo": {
     "elapsed": 320,
     "status": "ok",
     "timestamp": 1662396996727,
     "user": {
      "displayName": "Nicholas Jackson",
      "userId": "01670215121017026455"
     },
     "user_tz": 240
    },
    "id": "7IpcYTaq0LBw",
    "outputId": "60c2a79d-be27-450e-9235-6d677aefd2ed"
   },
   "outputs": [
    {
     "name": "stdout",
     "output_type": "stream",
     "text": [
      "RadiusOfGyration = 2.1150009227110256\n",
      "Asphericity = 0.46362494385120745\n",
      "MMFF_RadiusOfGyration = 2.111208193172457\n",
      "MMFF_Asphericity = 0.45518149893813264\n"
     ]
    }
   ],
   "source": [
    "# 3D Properties Require adding hydrogens and Embedding the molecule to make it 3D\n",
    "m2=Chem.AddHs(m)\n",
    "AllChem.EmbedMolecule(m2)\n",
    "print('RadiusOfGyration = {}'.format(Descriptors3D.RadiusOfGyration(m2)))\n",
    "print('Asphericity = {}'.format(Descriptors3D.Asphericity(m2)))\n",
    "\n",
    "# You can also minimize a 3D structure to get slightly better accuracy\n",
    "AllChem.MMFFOptimizeMolecule(m2)\n",
    "print('MMFF_RadiusOfGyration = {}'.format(Descriptors3D.RadiusOfGyration(m2)))\n",
    "print('MMFF_Asphericity = {}'.format(Descriptors3D.Asphericity(m2)))"
   ]
  },
  {
   "cell_type": "markdown",
   "metadata": {
    "id": "0ZVdVxtECLEq"
   },
   "source": [
    "# Morgan Fingerprint"
   ]
  },
  {
   "cell_type": "markdown",
   "metadata": {
    "id": "c_lem60p-MV6"
   },
   "source": [
    "This generates fingerprints, prints the IDs of all fingerprints and how often they appear, and then prints one specific fingerprint."
   ]
  },
  {
   "cell_type": "code",
   "execution_count": null,
   "metadata": {
    "colab": {
     "base_uri": "https://localhost:8080/"
    },
    "executionInfo": {
     "elapsed": 192,
     "status": "ok",
     "timestamp": 1662396999473,
     "user": {
      "displayName": "Nicholas Jackson",
      "userId": "01670215121017026455"
     },
     "user_tz": 240
    },
    "id": "ZlsjcTRyTsfz",
    "outputId": "923bf18e-3d9f-40e5-8460-e31d4ebf2056"
   },
   "outputs": [
    {
     "name": "stdout",
     "output_type": "stream",
     "text": [
      "{98513984: 3, 128522177: 2, 864662311: 1, 864942730: 1, 951226070: 2, 1466409066: 1, 1510328189: 1, 1533864325: 1, 1710869618: 1, 2246699815: 1, 2763854213: 1, 2784506312: 1, 2994748777: 1, 3217380708: 1, 3218693969: 5, 3999906991: 2}\n"
     ]
    }
   ],
   "source": [
    "#m = Chem.MolFromSmiles('c1cccnc1C')\n",
    "bi={}\n",
    "fp = AllChem.GetMorganFingerprint(m,radius=2,bitInfo=bi)\n",
    "print(fp.GetNonzeroElements())"
   ]
  },
  {
   "cell_type": "code",
   "execution_count": null,
   "metadata": {
    "colab": {
     "base_uri": "https://localhost:8080/"
    },
    "executionInfo": {
     "elapsed": 5590,
     "status": "ok",
     "timestamp": 1662397006894,
     "user": {
      "displayName": "Nicholas Jackson",
      "userId": "01670215121017026455"
     },
     "user_tz": 240
    },
    "id": "mDX1-9dyBKz5",
    "outputId": "932eb074-a1b7-44e1-eb95-16c7b1b02e25"
   },
   "outputs": [
    {
     "name": "stdout",
     "output_type": "stream",
     "text": [
      "Looking in indexes: https://pypi.org/simple, https://us-python.pkg.dev/colab-wheels/public/simple/\n",
      "Collecting ipyplot\n",
      "  Downloading ipyplot-1.1.1-py3-none-any.whl (13 kB)\n",
      "Requirement already satisfied: pillow in /usr/local/lib/python3.7/dist-packages (from ipyplot) (7.1.2)\n",
      "Requirement already satisfied: IPython in /usr/local/lib/python3.7/dist-packages (from ipyplot) (7.9.0)\n",
      "Requirement already satisfied: numpy in /usr/local/lib/python3.7/dist-packages (from ipyplot) (1.21.6)\n",
      "Collecting shortuuid\n",
      "  Downloading shortuuid-1.0.9-py3-none-any.whl (9.4 kB)\n",
      "Requirement already satisfied: pygments in /usr/local/lib/python3.7/dist-packages (from IPython->ipyplot) (2.6.1)\n",
      "Requirement already satisfied: pickleshare in /usr/local/lib/python3.7/dist-packages (from IPython->ipyplot) (0.7.5)\n",
      "Requirement already satisfied: pexpect in /usr/local/lib/python3.7/dist-packages (from IPython->ipyplot) (4.8.0)\n",
      "Requirement already satisfied: traitlets>=4.2 in /usr/local/lib/python3.7/dist-packages (from IPython->ipyplot) (5.1.1)\n",
      "Requirement already satisfied: prompt-toolkit<2.1.0,>=2.0.0 in /usr/local/lib/python3.7/dist-packages (from IPython->ipyplot) (2.0.10)\n",
      "Requirement already satisfied: decorator in /usr/local/lib/python3.7/dist-packages (from IPython->ipyplot) (4.4.2)\n",
      "Requirement already satisfied: backcall in /usr/local/lib/python3.7/dist-packages (from IPython->ipyplot) (0.2.0)\n",
      "Requirement already satisfied: setuptools>=18.5 in /usr/local/lib/python3.7/dist-packages (from IPython->ipyplot) (57.4.0)\n",
      "Collecting jedi>=0.10\n",
      "  Downloading jedi-0.18.1-py2.py3-none-any.whl (1.6 MB)\n",
      "\u001b[K     |████████████████████████████████| 1.6 MB 5.3 MB/s \n",
      "\u001b[?25hRequirement already satisfied: parso<0.9.0,>=0.8.0 in /usr/local/lib/python3.7/dist-packages (from jedi>=0.10->IPython->ipyplot) (0.8.3)\n",
      "Requirement already satisfied: six>=1.9.0 in /usr/local/lib/python3.7/dist-packages (from prompt-toolkit<2.1.0,>=2.0.0->IPython->ipyplot) (1.15.0)\n",
      "Requirement already satisfied: wcwidth in /usr/local/lib/python3.7/dist-packages (from prompt-toolkit<2.1.0,>=2.0.0->IPython->ipyplot) (0.2.5)\n",
      "Requirement already satisfied: ptyprocess>=0.5 in /usr/local/lib/python3.7/dist-packages (from pexpect->IPython->ipyplot) (0.7.0)\n",
      "Installing collected packages: jedi, shortuuid, ipyplot\n",
      "Successfully installed ipyplot-1.1.1 jedi-0.18.1 shortuuid-1.0.9\n"
     ]
    }
   ],
   "source": [
    "## This Draws the fingerprint\n",
    "!pip install ipyplot"
   ]
  },
  {
   "cell_type": "code",
   "execution_count": null,
   "metadata": {
    "colab": {
     "base_uri": "https://localhost:8080/",
     "height": 282
    },
    "executionInfo": {
     "elapsed": 187,
     "status": "ok",
     "timestamp": 1662397047066,
     "user": {
      "displayName": "Nicholas Jackson",
      "userId": "01670215121017026455"
     },
     "user_tz": 240
    },
    "id": "kVynKsl6PWHM",
    "outputId": "9d9b9eb7-4eec-4b6b-91e3-78e29e7ba494"
   },
   "outputs": [
    {
     "name": "stdout",
     "output_type": "stream",
     "text": [
      "((1, 1), (2, 1), (3, 1))\n"
     ]
    },
    {
     "data": {
      "text/html": [
       "\n",
       "    <style>\n",
       "        #ipyplot-html-viewer-toggle-9oDjQB8QJ42feZaB5tA2Xh {\n",
       "            position: absolute;\n",
       "            top: -9999px;\n",
       "            left: -9999px;\n",
       "            visibility: hidden;\n",
       "        }\n",
       "\n",
       "        #ipyplot-html-viewer-label-9oDjQB8QJ42feZaB5tA2Xh { \n",
       "            position: relative;\n",
       "            display: inline-block;\n",
       "            cursor: pointer;\n",
       "            color: blue;\n",
       "            text-decoration: underline;\n",
       "        }\n",
       "\n",
       "        #ipyplot-html-viewer-textarea-9oDjQB8QJ42feZaB5tA2Xh {\n",
       "            background: lightgrey;\n",
       "            width: 100%;\n",
       "            height: 0px;\n",
       "            display: none;\n",
       "        }\n",
       "\n",
       "        #ipyplot-html-viewer-toggle-9oDjQB8QJ42feZaB5tA2Xh:checked ~ #ipyplot-html-viewer-textarea-9oDjQB8QJ42feZaB5tA2Xh {\n",
       "            height: 200px;\n",
       "            display: block;\n",
       "        }\n",
       "\n",
       "        #ipyplot-html-viewer-toggle-9oDjQB8QJ42feZaB5tA2Xh:checked + #ipyplot-html-viewer-label-9oDjQB8QJ42feZaB5tA2Xh:after {\n",
       "            content: \"hide html\";\n",
       "            position: absolute;\n",
       "            top: 0;\n",
       "            left: 0;\n",
       "            right: 0;\n",
       "            bottom: 0;\n",
       "            background: white;\n",
       "            cursor: pointer;\n",
       "            color: blue;\n",
       "            text-decoration: underline;\n",
       "        }\n",
       "    </style>\n",
       "    <div>\n",
       "        <input type=\"checkbox\" id=\"ipyplot-html-viewer-toggle-9oDjQB8QJ42feZaB5tA2Xh\">\n",
       "        <label id=\"ipyplot-html-viewer-label-9oDjQB8QJ42feZaB5tA2Xh\" for=\"ipyplot-html-viewer-toggle-9oDjQB8QJ42feZaB5tA2Xh\">show html</label>\n",
       "        <textarea id=\"ipyplot-html-viewer-textarea-9oDjQB8QJ42feZaB5tA2Xh\" readonly>\n",
       "            \n",
       "        <style>\n",
       "        #ipyplot-imgs-container-div-bc5CuAMufy9X4B5nDPs32z {\n",
       "            width: 100%;\n",
       "            height: 100%;\n",
       "            margin: 0%;\n",
       "            overflow: auto;\n",
       "            position: relative;\n",
       "            overflow-y: scroll;\n",
       "        }\n",
       "\n",
       "        div.ipyplot-placeholder-div-bc5CuAMufy9X4B5nDPs32z {\n",
       "            width: 250px;\n",
       "            display: inline-block;\n",
       "            margin: 3px;\n",
       "            position: relative;\n",
       "        }\n",
       "\n",
       "        div.ipyplot-content-div-bc5CuAMufy9X4B5nDPs32z {\n",
       "            width: 250px;\n",
       "            background: white;\n",
       "            display: inline-block;\n",
       "            vertical-align: top;\n",
       "            text-align: center;\n",
       "            position: relative;\n",
       "            border: 2px solid #ddd;\n",
       "            top: 0;\n",
       "            left: 0;\n",
       "        }\n",
       "\n",
       "        div.ipyplot-content-div-bc5CuAMufy9X4B5nDPs32z span.ipyplot-img-close {\n",
       "            display: none;\n",
       "        }\n",
       "\n",
       "        div.ipyplot-content-div-bc5CuAMufy9X4B5nDPs32z span {\n",
       "            width: 100%;\n",
       "            height: 100%;\n",
       "            position: absolute;\n",
       "            top: 0;\n",
       "            left: 0;\n",
       "        }\n",
       "\n",
       "        div.ipyplot-content-div-bc5CuAMufy9X4B5nDPs32z img {\n",
       "            width: 250px;\n",
       "        }\n",
       "\n",
       "        div.ipyplot-content-div-bc5CuAMufy9X4B5nDPs32z span.ipyplot-img-close:hover {\n",
       "            cursor: zoom-out;\n",
       "        }\n",
       "        div.ipyplot-content-div-bc5CuAMufy9X4B5nDPs32z span.ipyplot-img-expand:hover {\n",
       "            cursor: zoom-in;\n",
       "        }\n",
       "\n",
       "        div[id^=ipyplot-content-div-bc5CuAMufy9X4B5nDPs32z]:target {\n",
       "            transform: scale(2.5);\n",
       "            transform-origin: left top;\n",
       "            z-index: 5000;\n",
       "            top: 0;\n",
       "            left: 0;\n",
       "            position: absolute;\n",
       "        }\n",
       "\n",
       "        div[id^=ipyplot-content-div-bc5CuAMufy9X4B5nDPs32z]:target span.ipyplot-img-close {\n",
       "            display: block;\n",
       "        }\n",
       "\n",
       "        div[id^=ipyplot-content-div-bc5CuAMufy9X4B5nDPs32z]:target span.ipyplot-img-expand {\n",
       "            display: none;\n",
       "        }\n",
       "        </style>\n",
       "    <div id=\"ipyplot-imgs-container-div-bc5CuAMufy9X4B5nDPs32z\">\n",
       "    <div class=\"ipyplot-placeholder-div-bc5CuAMufy9X4B5nDPs32z\">\n",
       "        <div id=\"ipyplot-content-div-bc5CuAMufy9X4B5nDPs32z-MgUJmuyLgm3xpgx89fAVCp\" class=\"ipyplot-content-div-bc5CuAMufy9X4B5nDPs32z\">\n",
       "            <h4 style=\"font-size: 12px; word-wrap: break-word;\">0</h4>\n",
       "            <h4 style=\"font-size: 9px; padding-left: 10px; padding-right: 10px; width: 95%; word-wrap: break-word; white-space: normal;\"><?xml version='1.0' encoding='iso-8859-1'?>\n",
       "<svg version='1.1' baseProfile='full'\n",
       "              xmlns='http:/www.w3.org/2000/svg'\n",
       "                      xmlns:rdkit='http:/www.rdkit.org/xml'\n",
       "                      xmlns:xlink='http:/www.w3.org/1999/xlink'\n",
       "                  xml:space='preserve'\n",
       "width='150px' height='150px' viewBox='0 0 150 150'>\n",
       "<!-- END OF HEADER -->\n",
       "<rect style='opacity:1.0;fill:#FFFFFF;stroke:none' width='150.0' height='150.0' x='0.0' y='0.0'> </rect>\n",
       "<ellipse cx='105.3' cy='119.2' rx='12.0' ry='12.0' class='atom-0'  style='fill:#E5E533;fill-rule:evenodd;stroke:#E5E533;stroke-width:1.0px;stroke-linecap:butt;stroke-linejoin:miter;stroke-opacity:1' />\n",
       "<ellipse cx='45.4' cy='119.2' rx='12.0' ry='12.0' class='atom-1'  style='fill:#9999E5;fill-rule:evenodd;stroke:#9999E5;stroke-width:1.0px;stroke-linecap:butt;stroke-linejoin:miter;stroke-opacity:1' />\n",
       "<ellipse cx='15.4' cy='67.3' rx='12.0' ry='12.0' class='atom-2'  style='fill:#E5E533;fill-rule:evenodd;stroke:#E5E533;stroke-width:1.0px;stroke-linecap:butt;stroke-linejoin:miter;stroke-opacity:1' />\n",
       "<path class='bond-0 atom-0 atom-1' d='M 105.3,119.2 L 45.4,119.2' style='fill:none;fill-rule:evenodd;stroke:#000000;stroke-width:2.0px;stroke-linecap:butt;stroke-linejoin:miter;stroke-opacity:1' />\n",
       "<path class='bond-0 atom-0 atom-1' d='M 96.3,107.2 L 54.4,107.2' style='fill:none;fill-rule:evenodd;stroke:#000000;stroke-width:2.0px;stroke-linecap:butt;stroke-linejoin:miter;stroke-opacity:1;stroke-dasharray:6,0,6' />\n",
       "<path class='bond-1 atom-1 atom-2' d='M 45.4,119.2 L 15.4,67.3' style='fill:none;fill-rule:evenodd;stroke:#000000;stroke-width:2.0px;stroke-linecap:butt;stroke-linejoin:miter;stroke-opacity:1' />\n",
       "<path class='bond-1 atom-1 atom-2' d='M 51.2,105.4 L 30.3,69.1' style='fill:none;fill-rule:evenodd;stroke:#000000;stroke-width:2.0px;stroke-linecap:butt;stroke-linejoin:miter;stroke-opacity:1;stroke-dasharray:6,0,6' />\n",
       "<path class='bond-2 atom-2 atom-3' d='M 10.2,64.3 L 39.5,13.6' style='fill:none;fill-rule:evenodd;stroke:#E5E5E5;stroke-width:3.2px;stroke-linecap:butt;stroke-linejoin:miter;stroke-opacity:1' />\n",
       "<path class='bond-2 atom-2 atom-3' d='M 20.6,70.3 L 49.9,19.6' style='fill:none;fill-rule:evenodd;stroke:#E5E5E5;stroke-width:3.2px;stroke-linecap:butt;stroke-linejoin:miter;stroke-opacity:1;stroke-dasharray:6,0,6' />\n",
       "<path class='bond-3 atom-4 atom-0' d='M 139.8,71.4 L 110.5,122.2' style='fill:none;fill-rule:evenodd;stroke:#E5E5E5;stroke-width:3.2px;stroke-linecap:butt;stroke-linejoin:miter;stroke-opacity:1' />\n",
       "<path class='bond-3 atom-4 atom-0' d='M 129.4,65.4 L 100.1,116.2' style='fill:none;fill-rule:evenodd;stroke:#E5E5E5;stroke-width:3.2px;stroke-linecap:butt;stroke-linejoin:miter;stroke-opacity:1;stroke-dasharray:6,0,6' />\n",
       "<path class='atom-3' d='M 42.2 13.6\n",
       "L 44.7 11.0\n",
       "L 41.4 10.3\n",
       "L 41.9 8.6\n",
       "L 44.9 10.2\n",
       "L 44.5 6.8\n",
       "L 46.3 6.8\n",
       "L 45.8 10.1\n",
       "L 48.9 8.7\n",
       "L 49.4 10.3\n",
       "L 46.0 11.0\n",
       "L 48.4 13.5\n",
       "L 47.0 14.6\n",
       "L 45.3 11.4\n",
       "L 43.6 14.6\n",
       "L 42.2 13.6\n",
       "' fill='#191919'/>\n",
       "<path class='atom-4' d='M 132.0 65.4\n",
       "L 134.5 62.9\n",
       "L 131.2 62.2\n",
       "L 131.7 60.5\n",
       "L 134.8 62.1\n",
       "L 134.3 58.7\n",
       "L 136.1 58.7\n",
       "L 135.6 62.0\n",
       "L 138.7 60.6\n",
       "L 139.2 62.2\n",
       "L 135.9 62.8\n",
       "L 138.3 65.4\n",
       "L 136.8 66.5\n",
       "L 135.2 63.3\n",
       "L 133.5 66.5\n",
       "L 132.0 65.4\n",
       "' fill='#191919'/>\n",
       "</svg>\n",
       "</h4><img src=\"<?xml version='1.0' encoding='iso-8859-1'?>\n",
       "<svg version='1.1' baseProfile='full'\n",
       "              xmlns='http:/www.w3.org/2000/svg'\n",
       "                      xmlns:rdkit='http:/www.rdkit.org/xml'\n",
       "                      xmlns:xlink='http:/www.w3.org/1999/xlink'\n",
       "                  xml:space='preserve'\n",
       "width='150px' height='150px' viewBox='0 0 150 150'>\n",
       "<!-- END OF HEADER -->\n",
       "<rect style='opacity:1.0;fill:#FFFFFF;stroke:none' width='150.0' height='150.0' x='0.0' y='0.0'> </rect>\n",
       "<ellipse cx='105.3' cy='119.2' rx='12.0' ry='12.0' class='atom-0'  style='fill:#E5E533;fill-rule:evenodd;stroke:#E5E533;stroke-width:1.0px;stroke-linecap:butt;stroke-linejoin:miter;stroke-opacity:1' />\n",
       "<ellipse cx='45.4' cy='119.2' rx='12.0' ry='12.0' class='atom-1'  style='fill:#9999E5;fill-rule:evenodd;stroke:#9999E5;stroke-width:1.0px;stroke-linecap:butt;stroke-linejoin:miter;stroke-opacity:1' />\n",
       "<ellipse cx='15.4' cy='67.3' rx='12.0' ry='12.0' class='atom-2'  style='fill:#E5E533;fill-rule:evenodd;stroke:#E5E533;stroke-width:1.0px;stroke-linecap:butt;stroke-linejoin:miter;stroke-opacity:1' />\n",
       "<path class='bond-0 atom-0 atom-1' d='M 105.3,119.2 L 45.4,119.2' style='fill:none;fill-rule:evenodd;stroke:#000000;stroke-width:2.0px;stroke-linecap:butt;stroke-linejoin:miter;stroke-opacity:1' />\n",
       "<path class='bond-0 atom-0 atom-1' d='M 96.3,107.2 L 54.4,107.2' style='fill:none;fill-rule:evenodd;stroke:#000000;stroke-width:2.0px;stroke-linecap:butt;stroke-linejoin:miter;stroke-opacity:1;stroke-dasharray:6,0,6' />\n",
       "<path class='bond-1 atom-1 atom-2' d='M 45.4,119.2 L 15.4,67.3' style='fill:none;fill-rule:evenodd;stroke:#000000;stroke-width:2.0px;stroke-linecap:butt;stroke-linejoin:miter;stroke-opacity:1' />\n",
       "<path class='bond-1 atom-1 atom-2' d='M 51.2,105.4 L 30.3,69.1' style='fill:none;fill-rule:evenodd;stroke:#000000;stroke-width:2.0px;stroke-linecap:butt;stroke-linejoin:miter;stroke-opacity:1;stroke-dasharray:6,0,6' />\n",
       "<path class='bond-2 atom-2 atom-3' d='M 10.2,64.3 L 39.5,13.6' style='fill:none;fill-rule:evenodd;stroke:#E5E5E5;stroke-width:3.2px;stroke-linecap:butt;stroke-linejoin:miter;stroke-opacity:1' />\n",
       "<path class='bond-2 atom-2 atom-3' d='M 20.6,70.3 L 49.9,19.6' style='fill:none;fill-rule:evenodd;stroke:#E5E5E5;stroke-width:3.2px;stroke-linecap:butt;stroke-linejoin:miter;stroke-opacity:1;stroke-dasharray:6,0,6' />\n",
       "<path class='bond-3 atom-4 atom-0' d='M 139.8,71.4 L 110.5,122.2' style='fill:none;fill-rule:evenodd;stroke:#E5E5E5;stroke-width:3.2px;stroke-linecap:butt;stroke-linejoin:miter;stroke-opacity:1' />\n",
       "<path class='bond-3 atom-4 atom-0' d='M 129.4,65.4 L 100.1,116.2' style='fill:none;fill-rule:evenodd;stroke:#E5E5E5;stroke-width:3.2px;stroke-linecap:butt;stroke-linejoin:miter;stroke-opacity:1;stroke-dasharray:6,0,6' />\n",
       "<path class='atom-3' d='M 42.2 13.6\n",
       "L 44.7 11.0\n",
       "L 41.4 10.3\n",
       "L 41.9 8.6\n",
       "L 44.9 10.2\n",
       "L 44.5 6.8\n",
       "L 46.3 6.8\n",
       "L 45.8 10.1\n",
       "L 48.9 8.7\n",
       "L 49.4 10.3\n",
       "L 46.0 11.0\n",
       "L 48.4 13.5\n",
       "L 47.0 14.6\n",
       "L 45.3 11.4\n",
       "L 43.6 14.6\n",
       "L 42.2 13.6\n",
       "' fill='#191919'/>\n",
       "<path class='atom-4' d='M 132.0 65.4\n",
       "L 134.5 62.9\n",
       "L 131.2 62.2\n",
       "L 131.7 60.5\n",
       "L 134.8 62.1\n",
       "L 134.3 58.7\n",
       "L 136.1 58.7\n",
       "L 135.6 62.0\n",
       "L 138.7 60.6\n",
       "L 139.2 62.2\n",
       "L 135.9 62.8\n",
       "L 138.3 65.4\n",
       "L 136.8 66.5\n",
       "L 135.2 63.3\n",
       "L 133.5 66.5\n",
       "L 132.0 65.4\n",
       "' fill='#191919'/>\n",
       "</svg>\n",
       "\"/>\n",
       "            <a href=\"#!\">\n",
       "                <span class=\"ipyplot-img-close\"/>\n",
       "            </a>\n",
       "            <a href=\"#ipyplot-content-div-bc5CuAMufy9X4B5nDPs32z-MgUJmuyLgm3xpgx89fAVCp\">\n",
       "                <span class=\"ipyplot-img-expand\"/>\n",
       "            </a>\n",
       "        </div>\n",
       "    </div>\n",
       "    </div>\n",
       "        </textarea>\n",
       "    </div>\n",
       "    "
      ],
      "text/plain": [
       "<IPython.core.display.HTML object>"
      ]
     },
     "metadata": {},
     "output_type": "display_data"
    },
    {
     "data": {
      "text/html": [
       "\n",
       "        <style>\n",
       "        #ipyplot-imgs-container-div-bc5CuAMufy9X4B5nDPs32z {\n",
       "            width: 100%;\n",
       "            height: 100%;\n",
       "            margin: 0%;\n",
       "            overflow: auto;\n",
       "            position: relative;\n",
       "            overflow-y: scroll;\n",
       "        }\n",
       "\n",
       "        div.ipyplot-placeholder-div-bc5CuAMufy9X4B5nDPs32z {\n",
       "            width: 250px;\n",
       "            display: inline-block;\n",
       "            margin: 3px;\n",
       "            position: relative;\n",
       "        }\n",
       "\n",
       "        div.ipyplot-content-div-bc5CuAMufy9X4B5nDPs32z {\n",
       "            width: 250px;\n",
       "            background: white;\n",
       "            display: inline-block;\n",
       "            vertical-align: top;\n",
       "            text-align: center;\n",
       "            position: relative;\n",
       "            border: 2px solid #ddd;\n",
       "            top: 0;\n",
       "            left: 0;\n",
       "        }\n",
       "\n",
       "        div.ipyplot-content-div-bc5CuAMufy9X4B5nDPs32z span.ipyplot-img-close {\n",
       "            display: none;\n",
       "        }\n",
       "\n",
       "        div.ipyplot-content-div-bc5CuAMufy9X4B5nDPs32z span {\n",
       "            width: 100%;\n",
       "            height: 100%;\n",
       "            position: absolute;\n",
       "            top: 0;\n",
       "            left: 0;\n",
       "        }\n",
       "\n",
       "        div.ipyplot-content-div-bc5CuAMufy9X4B5nDPs32z img {\n",
       "            width: 250px;\n",
       "        }\n",
       "\n",
       "        div.ipyplot-content-div-bc5CuAMufy9X4B5nDPs32z span.ipyplot-img-close:hover {\n",
       "            cursor: zoom-out;\n",
       "        }\n",
       "        div.ipyplot-content-div-bc5CuAMufy9X4B5nDPs32z span.ipyplot-img-expand:hover {\n",
       "            cursor: zoom-in;\n",
       "        }\n",
       "\n",
       "        div[id^=ipyplot-content-div-bc5CuAMufy9X4B5nDPs32z]:target {\n",
       "            transform: scale(2.5);\n",
       "            transform-origin: left top;\n",
       "            z-index: 5000;\n",
       "            top: 0;\n",
       "            left: 0;\n",
       "            position: absolute;\n",
       "        }\n",
       "\n",
       "        div[id^=ipyplot-content-div-bc5CuAMufy9X4B5nDPs32z]:target span.ipyplot-img-close {\n",
       "            display: block;\n",
       "        }\n",
       "\n",
       "        div[id^=ipyplot-content-div-bc5CuAMufy9X4B5nDPs32z]:target span.ipyplot-img-expand {\n",
       "            display: none;\n",
       "        }\n",
       "        </style>\n",
       "    <div id=\"ipyplot-imgs-container-div-bc5CuAMufy9X4B5nDPs32z\">\n",
       "    <div class=\"ipyplot-placeholder-div-bc5CuAMufy9X4B5nDPs32z\">\n",
       "        <div id=\"ipyplot-content-div-bc5CuAMufy9X4B5nDPs32z-MgUJmuyLgm3xpgx89fAVCp\" class=\"ipyplot-content-div-bc5CuAMufy9X4B5nDPs32z\">\n",
       "            <h4 style=\"font-size: 12px; word-wrap: break-word;\">0</h4>\n",
       "            <h4 style=\"font-size: 9px; padding-left: 10px; padding-right: 10px; width: 95%; word-wrap: break-word; white-space: normal;\"><?xml version='1.0' encoding='iso-8859-1'?>\n",
       "<svg version='1.1' baseProfile='full'\n",
       "              xmlns='http:/www.w3.org/2000/svg'\n",
       "                      xmlns:rdkit='http:/www.rdkit.org/xml'\n",
       "                      xmlns:xlink='http:/www.w3.org/1999/xlink'\n",
       "                  xml:space='preserve'\n",
       "width='150px' height='150px' viewBox='0 0 150 150'>\n",
       "<!-- END OF HEADER -->\n",
       "<rect style='opacity:1.0;fill:#FFFFFF;stroke:none' width='150.0' height='150.0' x='0.0' y='0.0'> </rect>\n",
       "<ellipse cx='105.3' cy='119.2' rx='12.0' ry='12.0' class='atom-0'  style='fill:#E5E533;fill-rule:evenodd;stroke:#E5E533;stroke-width:1.0px;stroke-linecap:butt;stroke-linejoin:miter;stroke-opacity:1' />\n",
       "<ellipse cx='45.4' cy='119.2' rx='12.0' ry='12.0' class='atom-1'  style='fill:#9999E5;fill-rule:evenodd;stroke:#9999E5;stroke-width:1.0px;stroke-linecap:butt;stroke-linejoin:miter;stroke-opacity:1' />\n",
       "<ellipse cx='15.4' cy='67.3' rx='12.0' ry='12.0' class='atom-2'  style='fill:#E5E533;fill-rule:evenodd;stroke:#E5E533;stroke-width:1.0px;stroke-linecap:butt;stroke-linejoin:miter;stroke-opacity:1' />\n",
       "<path class='bond-0 atom-0 atom-1' d='M 105.3,119.2 L 45.4,119.2' style='fill:none;fill-rule:evenodd;stroke:#000000;stroke-width:2.0px;stroke-linecap:butt;stroke-linejoin:miter;stroke-opacity:1' />\n",
       "<path class='bond-0 atom-0 atom-1' d='M 96.3,107.2 L 54.4,107.2' style='fill:none;fill-rule:evenodd;stroke:#000000;stroke-width:2.0px;stroke-linecap:butt;stroke-linejoin:miter;stroke-opacity:1;stroke-dasharray:6,0,6' />\n",
       "<path class='bond-1 atom-1 atom-2' d='M 45.4,119.2 L 15.4,67.3' style='fill:none;fill-rule:evenodd;stroke:#000000;stroke-width:2.0px;stroke-linecap:butt;stroke-linejoin:miter;stroke-opacity:1' />\n",
       "<path class='bond-1 atom-1 atom-2' d='M 51.2,105.4 L 30.3,69.1' style='fill:none;fill-rule:evenodd;stroke:#000000;stroke-width:2.0px;stroke-linecap:butt;stroke-linejoin:miter;stroke-opacity:1;stroke-dasharray:6,0,6' />\n",
       "<path class='bond-2 atom-2 atom-3' d='M 10.2,64.3 L 39.5,13.6' style='fill:none;fill-rule:evenodd;stroke:#E5E5E5;stroke-width:3.2px;stroke-linecap:butt;stroke-linejoin:miter;stroke-opacity:1' />\n",
       "<path class='bond-2 atom-2 atom-3' d='M 20.6,70.3 L 49.9,19.6' style='fill:none;fill-rule:evenodd;stroke:#E5E5E5;stroke-width:3.2px;stroke-linecap:butt;stroke-linejoin:miter;stroke-opacity:1;stroke-dasharray:6,0,6' />\n",
       "<path class='bond-3 atom-4 atom-0' d='M 139.8,71.4 L 110.5,122.2' style='fill:none;fill-rule:evenodd;stroke:#E5E5E5;stroke-width:3.2px;stroke-linecap:butt;stroke-linejoin:miter;stroke-opacity:1' />\n",
       "<path class='bond-3 atom-4 atom-0' d='M 129.4,65.4 L 100.1,116.2' style='fill:none;fill-rule:evenodd;stroke:#E5E5E5;stroke-width:3.2px;stroke-linecap:butt;stroke-linejoin:miter;stroke-opacity:1;stroke-dasharray:6,0,6' />\n",
       "<path class='atom-3' d='M 42.2 13.6\n",
       "L 44.7 11.0\n",
       "L 41.4 10.3\n",
       "L 41.9 8.6\n",
       "L 44.9 10.2\n",
       "L 44.5 6.8\n",
       "L 46.3 6.8\n",
       "L 45.8 10.1\n",
       "L 48.9 8.7\n",
       "L 49.4 10.3\n",
       "L 46.0 11.0\n",
       "L 48.4 13.5\n",
       "L 47.0 14.6\n",
       "L 45.3 11.4\n",
       "L 43.6 14.6\n",
       "L 42.2 13.6\n",
       "' fill='#191919'/>\n",
       "<path class='atom-4' d='M 132.0 65.4\n",
       "L 134.5 62.9\n",
       "L 131.2 62.2\n",
       "L 131.7 60.5\n",
       "L 134.8 62.1\n",
       "L 134.3 58.7\n",
       "L 136.1 58.7\n",
       "L 135.6 62.0\n",
       "L 138.7 60.6\n",
       "L 139.2 62.2\n",
       "L 135.9 62.8\n",
       "L 138.3 65.4\n",
       "L 136.8 66.5\n",
       "L 135.2 63.3\n",
       "L 133.5 66.5\n",
       "L 132.0 65.4\n",
       "' fill='#191919'/>\n",
       "</svg>\n",
       "</h4><img src=\"<?xml version='1.0' encoding='iso-8859-1'?>\n",
       "<svg version='1.1' baseProfile='full'\n",
       "              xmlns='http:/www.w3.org/2000/svg'\n",
       "                      xmlns:rdkit='http:/www.rdkit.org/xml'\n",
       "                      xmlns:xlink='http:/www.w3.org/1999/xlink'\n",
       "                  xml:space='preserve'\n",
       "width='150px' height='150px' viewBox='0 0 150 150'>\n",
       "<!-- END OF HEADER -->\n",
       "<rect style='opacity:1.0;fill:#FFFFFF;stroke:none' width='150.0' height='150.0' x='0.0' y='0.0'> </rect>\n",
       "<ellipse cx='105.3' cy='119.2' rx='12.0' ry='12.0' class='atom-0'  style='fill:#E5E533;fill-rule:evenodd;stroke:#E5E533;stroke-width:1.0px;stroke-linecap:butt;stroke-linejoin:miter;stroke-opacity:1' />\n",
       "<ellipse cx='45.4' cy='119.2' rx='12.0' ry='12.0' class='atom-1'  style='fill:#9999E5;fill-rule:evenodd;stroke:#9999E5;stroke-width:1.0px;stroke-linecap:butt;stroke-linejoin:miter;stroke-opacity:1' />\n",
       "<ellipse cx='15.4' cy='67.3' rx='12.0' ry='12.0' class='atom-2'  style='fill:#E5E533;fill-rule:evenodd;stroke:#E5E533;stroke-width:1.0px;stroke-linecap:butt;stroke-linejoin:miter;stroke-opacity:1' />\n",
       "<path class='bond-0 atom-0 atom-1' d='M 105.3,119.2 L 45.4,119.2' style='fill:none;fill-rule:evenodd;stroke:#000000;stroke-width:2.0px;stroke-linecap:butt;stroke-linejoin:miter;stroke-opacity:1' />\n",
       "<path class='bond-0 atom-0 atom-1' d='M 96.3,107.2 L 54.4,107.2' style='fill:none;fill-rule:evenodd;stroke:#000000;stroke-width:2.0px;stroke-linecap:butt;stroke-linejoin:miter;stroke-opacity:1;stroke-dasharray:6,0,6' />\n",
       "<path class='bond-1 atom-1 atom-2' d='M 45.4,119.2 L 15.4,67.3' style='fill:none;fill-rule:evenodd;stroke:#000000;stroke-width:2.0px;stroke-linecap:butt;stroke-linejoin:miter;stroke-opacity:1' />\n",
       "<path class='bond-1 atom-1 atom-2' d='M 51.2,105.4 L 30.3,69.1' style='fill:none;fill-rule:evenodd;stroke:#000000;stroke-width:2.0px;stroke-linecap:butt;stroke-linejoin:miter;stroke-opacity:1;stroke-dasharray:6,0,6' />\n",
       "<path class='bond-2 atom-2 atom-3' d='M 10.2,64.3 L 39.5,13.6' style='fill:none;fill-rule:evenodd;stroke:#E5E5E5;stroke-width:3.2px;stroke-linecap:butt;stroke-linejoin:miter;stroke-opacity:1' />\n",
       "<path class='bond-2 atom-2 atom-3' d='M 20.6,70.3 L 49.9,19.6' style='fill:none;fill-rule:evenodd;stroke:#E5E5E5;stroke-width:3.2px;stroke-linecap:butt;stroke-linejoin:miter;stroke-opacity:1;stroke-dasharray:6,0,6' />\n",
       "<path class='bond-3 atom-4 atom-0' d='M 139.8,71.4 L 110.5,122.2' style='fill:none;fill-rule:evenodd;stroke:#E5E5E5;stroke-width:3.2px;stroke-linecap:butt;stroke-linejoin:miter;stroke-opacity:1' />\n",
       "<path class='bond-3 atom-4 atom-0' d='M 129.4,65.4 L 100.1,116.2' style='fill:none;fill-rule:evenodd;stroke:#E5E5E5;stroke-width:3.2px;stroke-linecap:butt;stroke-linejoin:miter;stroke-opacity:1;stroke-dasharray:6,0,6' />\n",
       "<path class='atom-3' d='M 42.2 13.6\n",
       "L 44.7 11.0\n",
       "L 41.4 10.3\n",
       "L 41.9 8.6\n",
       "L 44.9 10.2\n",
       "L 44.5 6.8\n",
       "L 46.3 6.8\n",
       "L 45.8 10.1\n",
       "L 48.9 8.7\n",
       "L 49.4 10.3\n",
       "L 46.0 11.0\n",
       "L 48.4 13.5\n",
       "L 47.0 14.6\n",
       "L 45.3 11.4\n",
       "L 43.6 14.6\n",
       "L 42.2 13.6\n",
       "' fill='#191919'/>\n",
       "<path class='atom-4' d='M 132.0 65.4\n",
       "L 134.5 62.9\n",
       "L 131.2 62.2\n",
       "L 131.7 60.5\n",
       "L 134.8 62.1\n",
       "L 134.3 58.7\n",
       "L 136.1 58.7\n",
       "L 135.6 62.0\n",
       "L 138.7 60.6\n",
       "L 139.2 62.2\n",
       "L 135.9 62.8\n",
       "L 138.3 65.4\n",
       "L 136.8 66.5\n",
       "L 135.2 63.3\n",
       "L 133.5 66.5\n",
       "L 132.0 65.4\n",
       "' fill='#191919'/>\n",
       "</svg>\n",
       "\"/>\n",
       "            <a href=\"#!\">\n",
       "                <span class=\"ipyplot-img-close\"/>\n",
       "            </a>\n",
       "            <a href=\"#ipyplot-content-div-bc5CuAMufy9X4B5nDPs32z-MgUJmuyLgm3xpgx89fAVCp\">\n",
       "                <span class=\"ipyplot-img-expand\"/>\n",
       "            </a>\n",
       "        </div>\n",
       "    </div>\n",
       "    </div>"
      ],
      "text/plain": [
       "<IPython.core.display.HTML object>"
      ]
     },
     "metadata": {},
     "output_type": "display_data"
    }
   ],
   "source": [
    "import ipyplot\n",
    "print(bi[98513984]) #tuples are (atom,radius) that the fingerprint occured\n",
    "svgfile = Draw.DrawMorganBit(m, 98513984, bi, useSVG=True)\n",
    "ipyplot.plot_images(\n",
    "    [svgfile], # images should be passed in as an array\n",
    "    img_width=250)"
   ]
  },
  {
   "cell_type": "markdown",
   "metadata": {
    "id": "AJ8W6eFBB5Ve"
   },
   "source": [
    "# Batch of Fingerprints"
   ]
  },
  {
   "cell_type": "code",
   "execution_count": null,
   "metadata": {
    "colab": {
     "base_uri": "https://localhost:8080/",
     "height": 206
    },
    "executionInfo": {
     "elapsed": 106,
     "status": "ok",
     "timestamp": 1662397062386,
     "user": {
      "displayName": "Nicholas Jackson",
      "userId": "01670215121017026455"
     },
     "user_tz": 240
    },
    "id": "LhNJA-P2Bgvd",
    "outputId": "7acdbcba-3994-4b2e-b7fb-501a9797b344"
   },
   "outputs": [
    {
     "data": {
      "text/html": [
       "\n",
       "  <div id=\"df-de2fa00f-83fa-4e47-83e6-9e2a905d11ef\">\n",
       "    <div class=\"colab-df-container\">\n",
       "      <div>\n",
       "<style scoped>\n",
       "    .dataframe tbody tr th:only-of-type {\n",
       "        vertical-align: middle;\n",
       "    }\n",
       "\n",
       "    .dataframe tbody tr th {\n",
       "        vertical-align: top;\n",
       "    }\n",
       "\n",
       "    .dataframe thead th {\n",
       "        text-align: right;\n",
       "    }\n",
       "</style>\n",
       "<table border=\"1\" class=\"dataframe\">\n",
       "  <thead>\n",
       "    <tr style=\"text-align: right;\">\n",
       "      <th></th>\n",
       "      <th>smiles</th>\n",
       "      <th>Tm</th>\n",
       "      <th>num_atms</th>\n",
       "      <th>dipole</th>\n",
       "      <th>quadrupole</th>\n",
       "    </tr>\n",
       "  </thead>\n",
       "  <tbody>\n",
       "    <tr>\n",
       "      <th>0</th>\n",
       "      <td>CC1=C(C=CC(O)=N1)[N+]([O-])=O</td>\n",
       "      <td>508.15</td>\n",
       "      <td>17</td>\n",
       "      <td>4.473978</td>\n",
       "      <td>23.191697</td>\n",
       "    </tr>\n",
       "    <tr>\n",
       "      <th>1</th>\n",
       "      <td>COC1=C(N)C=C(C=C1)C(=O)N(C)C</td>\n",
       "      <td>393.15</td>\n",
       "      <td>28</td>\n",
       "      <td>4.772571</td>\n",
       "      <td>21.767880</td>\n",
       "    </tr>\n",
       "    <tr>\n",
       "      <th>2</th>\n",
       "      <td>CC1=CC=C(Cl)C(N)=C1</td>\n",
       "      <td>303.95</td>\n",
       "      <td>17</td>\n",
       "      <td>2.216088</td>\n",
       "      <td>7.920099</td>\n",
       "    </tr>\n",
       "    <tr>\n",
       "      <th>3</th>\n",
       "      <td>BrC1(C(=O)C2=CC=CC=C2C1=O)C1=CC=CC=C1</td>\n",
       "      <td>379.15</td>\n",
       "      <td>27</td>\n",
       "      <td>3.919235</td>\n",
       "      <td>21.700726</td>\n",
       "    </tr>\n",
       "    <tr>\n",
       "      <th>4</th>\n",
       "      <td>NC1=C(Cl)C=C(Cl)C=C1I</td>\n",
       "      <td>353.15</td>\n",
       "      <td>14</td>\n",
       "      <td>2.157331</td>\n",
       "      <td>4.988358</td>\n",
       "    </tr>\n",
       "  </tbody>\n",
       "</table>\n",
       "</div>\n",
       "      <button class=\"colab-df-convert\" onclick=\"convertToInteractive('df-de2fa00f-83fa-4e47-83e6-9e2a905d11ef')\"\n",
       "              title=\"Convert this dataframe to an interactive table.\"\n",
       "              style=\"display:none;\">\n",
       "        \n",
       "  <svg xmlns=\"http://www.w3.org/2000/svg\" height=\"24px\"viewBox=\"0 0 24 24\"\n",
       "       width=\"24px\">\n",
       "    <path d=\"M0 0h24v24H0V0z\" fill=\"none\"/>\n",
       "    <path d=\"M18.56 5.44l.94 2.06.94-2.06 2.06-.94-2.06-.94-.94-2.06-.94 2.06-2.06.94zm-11 1L8.5 8.5l.94-2.06 2.06-.94-2.06-.94L8.5 2.5l-.94 2.06-2.06.94zm10 10l.94 2.06.94-2.06 2.06-.94-2.06-.94-.94-2.06-.94 2.06-2.06.94z\"/><path d=\"M17.41 7.96l-1.37-1.37c-.4-.4-.92-.59-1.43-.59-.52 0-1.04.2-1.43.59L10.3 9.45l-7.72 7.72c-.78.78-.78 2.05 0 2.83L4 21.41c.39.39.9.59 1.41.59.51 0 1.02-.2 1.41-.59l7.78-7.78 2.81-2.81c.8-.78.8-2.07 0-2.86zM5.41 20L4 18.59l7.72-7.72 1.47 1.35L5.41 20z\"/>\n",
       "  </svg>\n",
       "      </button>\n",
       "      \n",
       "  <style>\n",
       "    .colab-df-container {\n",
       "      display:flex;\n",
       "      flex-wrap:wrap;\n",
       "      gap: 12px;\n",
       "    }\n",
       "\n",
       "    .colab-df-convert {\n",
       "      background-color: #E8F0FE;\n",
       "      border: none;\n",
       "      border-radius: 50%;\n",
       "      cursor: pointer;\n",
       "      display: none;\n",
       "      fill: #1967D2;\n",
       "      height: 32px;\n",
       "      padding: 0 0 0 0;\n",
       "      width: 32px;\n",
       "    }\n",
       "\n",
       "    .colab-df-convert:hover {\n",
       "      background-color: #E2EBFA;\n",
       "      box-shadow: 0px 1px 2px rgba(60, 64, 67, 0.3), 0px 1px 3px 1px rgba(60, 64, 67, 0.15);\n",
       "      fill: #174EA6;\n",
       "    }\n",
       "\n",
       "    [theme=dark] .colab-df-convert {\n",
       "      background-color: #3B4455;\n",
       "      fill: #D2E3FC;\n",
       "    }\n",
       "\n",
       "    [theme=dark] .colab-df-convert:hover {\n",
       "      background-color: #434B5C;\n",
       "      box-shadow: 0px 1px 3px 1px rgba(0, 0, 0, 0.15);\n",
       "      filter: drop-shadow(0px 1px 2px rgba(0, 0, 0, 0.3));\n",
       "      fill: #FFFFFF;\n",
       "    }\n",
       "  </style>\n",
       "\n",
       "      <script>\n",
       "        const buttonEl =\n",
       "          document.querySelector('#df-de2fa00f-83fa-4e47-83e6-9e2a905d11ef button.colab-df-convert');\n",
       "        buttonEl.style.display =\n",
       "          google.colab.kernel.accessAllowed ? 'block' : 'none';\n",
       "\n",
       "        async function convertToInteractive(key) {\n",
       "          const element = document.querySelector('#df-de2fa00f-83fa-4e47-83e6-9e2a905d11ef');\n",
       "          const dataTable =\n",
       "            await google.colab.kernel.invokeFunction('convertToInteractive',\n",
       "                                                     [key], {});\n",
       "          if (!dataTable) return;\n",
       "\n",
       "          const docLinkHtml = 'Like what you see? Visit the ' +\n",
       "            '<a target=\"_blank\" href=https://colab.research.google.com/notebooks/data_table.ipynb>data table notebook</a>'\n",
       "            + ' to learn more about interactive tables.';\n",
       "          element.innerHTML = '';\n",
       "          dataTable['output_type'] = 'display_data';\n",
       "          await google.colab.output.renderOutput(dataTable, element);\n",
       "          const docLink = document.createElement('div');\n",
       "          docLink.innerHTML = docLinkHtml;\n",
       "          element.appendChild(docLink);\n",
       "        }\n",
       "      </script>\n",
       "    </div>\n",
       "  </div>\n",
       "  "
      ],
      "text/plain": [
       "                                  smiles      Tm  num_atms    dipole  \\\n",
       "0          CC1=C(C=CC(O)=N1)[N+]([O-])=O  508.15        17  4.473978   \n",
       "1           COC1=C(N)C=C(C=C1)C(=O)N(C)C  393.15        28  4.772571   \n",
       "2                    CC1=CC=C(Cl)C(N)=C1  303.95        17  2.216088   \n",
       "3  BrC1(C(=O)C2=CC=CC=C2C1=O)C1=CC=CC=C1  379.15        27  3.919235   \n",
       "4                  NC1=C(Cl)C=C(Cl)C=C1I  353.15        14  2.157331   \n",
       "\n",
       "   quadrupole  \n",
       "0   23.191697  \n",
       "1   21.767880  \n",
       "2    7.920099  \n",
       "3   21.700726  \n",
       "4    4.988358  "
      ]
     },
     "execution_count": 11,
     "metadata": {},
     "output_type": "execute_result"
    }
   ],
   "source": [
    "Tm_df = pd.read_csv(\"Tm_200_subset_original.csv\")\n",
    "Tm_df.head()"
   ]
  },
  {
   "cell_type": "markdown",
   "metadata": {
    "id": "XtCPkpTKD7cR"
   },
   "source": [
    "Check data types and for missing values. Convert SMILES to string."
   ]
  },
  {
   "cell_type": "code",
   "execution_count": null,
   "metadata": {
    "colab": {
     "base_uri": "https://localhost:8080/"
    },
    "executionInfo": {
     "elapsed": 118,
     "status": "ok",
     "timestamp": 1662397065929,
     "user": {
      "displayName": "Nicholas Jackson",
      "userId": "01670215121017026455"
     },
     "user_tz": 240
    },
    "id": "l1s6uWAQD9fX",
    "outputId": "bab2b7a5-a18f-435f-d283-f32bb129ba9d"
   },
   "outputs": [
    {
     "name": "stdout",
     "output_type": "stream",
     "text": [
      "<class 'pandas.core.frame.DataFrame'>\n",
      "RangeIndex: 201 entries, 0 to 200\n",
      "Data columns (total 5 columns):\n",
      " #   Column      Non-Null Count  Dtype  \n",
      "---  ------      --------------  -----  \n",
      " 0   smiles      201 non-null    string \n",
      " 1   Tm          201 non-null    float64\n",
      " 2   num_atms    201 non-null    int64  \n",
      " 3   dipole      201 non-null    float64\n",
      " 4   quadrupole  201 non-null    float64\n",
      "dtypes: float64(3), int64(1), string(1)\n",
      "memory usage: 8.0 KB\n"
     ]
    }
   ],
   "source": [
    "Tm_df.smiles = Tm_df.smiles.astype('string')\n",
    "Tm_df.info()"
   ]
  },
  {
   "cell_type": "markdown",
   "metadata": {
    "id": "2gmBa3ZEEEJA"
   },
   "source": [
    "Create a list of molecules."
   ]
  },
  {
   "cell_type": "code",
   "execution_count": null,
   "metadata": {
    "id": "AFYMl6JBEPrQ"
   },
   "outputs": [],
   "source": [
    "mols = [Chem.MolFromSmiles(smiles) for smiles in Tm_df['smiles']]\n",
    "#print(Tm_df.to_string())"
   ]
  },
  {
   "cell_type": "markdown",
   "metadata": {
    "id": "c7IQnq7_ZZ6P"
   },
   "source": [
    "Use RdKit to obtain molecular fingerprints for the entire dataset."
   ]
  },
  {
   "cell_type": "code",
   "execution_count": null,
   "metadata": {
    "colab": {
     "base_uri": "https://localhost:8080/"
    },
    "executionInfo": {
     "elapsed": 313,
     "status": "ok",
     "timestamp": 1662397099070,
     "user": {
      "displayName": "Nicholas Jackson",
      "userId": "01670215121017026455"
     },
     "user_tz": 240
    },
    "id": "5e9a7YZ6ZMFW",
    "outputId": "1107eb00-dc5f-4a26-cdc5-e2eb7047e254"
   },
   "outputs": [
    {
     "name": "stdout",
     "output_type": "stream",
     "text": [
      "There are 36 fingerprints\n",
      "[0. 0. 0. ... 0. 0. 0.]\n",
      "[0. 0. 0. ... 0. 0. 0.]\n",
      "[0. 0. 0. ... 0. 0. 0.]\n",
      "[0. 0. 0. ... 0. 0. 0.]\n",
      "[0. 0. 0. ... 0. 0. 0.]\n",
      "[0. 0. 0. ... 0. 0. 0.]\n",
      "[0. 0. 0. ... 0. 0. 0.]\n",
      "[0. 0. 0. ... 0. 0. 0.]\n",
      "[0. 0. 0. ... 0. 0. 0.]\n",
      "[0. 0. 0. ... 0. 0. 0.]\n",
      "[0. 1. 0. ... 0. 0. 0.]\n",
      "[0. 0. 0. ... 0. 0. 0.]\n",
      "[0. 1. 0. ... 0. 0. 0.]\n",
      "[0. 0. 0. ... 0. 0. 0.]\n",
      "[0. 0. 0. ... 0. 0. 0.]\n",
      "[0. 0. 0. ... 0. 0. 0.]\n",
      "[0. 0. 0. ... 0. 0. 0.]\n",
      "[0. 0. 0. ... 0. 0. 0.]\n",
      "[0. 0. 0. ... 0. 0. 0.]\n",
      "[0. 0. 0. ... 0. 0. 0.]\n",
      "[0. 0. 0. ... 0. 0. 0.]\n",
      "[0. 0. 0. ... 0. 0. 0.]\n",
      "[0. 0. 0. ... 0. 0. 0.]\n",
      "[0. 0. 0. ... 0. 0. 0.]\n",
      "[0. 0. 0. ... 0. 0. 0.]\n",
      "[0. 0. 0. ... 0. 0. 0.]\n",
      "[0. 1. 0. ... 0. 0. 0.]\n",
      "[0. 0. 0. ... 0. 0. 0.]\n",
      "[0. 0. 0. ... 0. 0. 0.]\n",
      "[0. 0. 0. ... 0. 0. 0.]\n",
      "[0. 0. 0. ... 0. 0. 0.]\n",
      "[0. 0. 0. ... 0. 0. 0.]\n",
      "[0. 0. 0. ... 0. 0. 0.]\n",
      "[0. 1. 0. ... 0. 0. 0.]\n",
      "[0. 0. 0. ... 0. 0. 0.]\n",
      "[0. 0. 0. ... 0. 0. 0.]\n",
      "[0. 0. 0. ... 0. 0. 0.]\n",
      "[0. 0. 0. ... 0. 0. 0.]\n",
      "[0. 0. 0. ... 0. 0. 0.]\n",
      "[0. 0. 0. ... 0. 0. 0.]\n",
      "[0. 0. 1. ... 0. 0. 0.]\n",
      "[0. 0. 0. ... 0. 0. 0.]\n",
      "[0. 0. 0. ... 0. 0. 1.]\n",
      "[0. 0. 0. ... 0. 0. 0.]\n",
      "[0. 0. 0. ... 0. 0. 0.]\n",
      "[0. 0. 0. ... 0. 0. 0.]\n",
      "[0. 0. 0. ... 0. 0. 0.]\n",
      "[1. 0. 0. ... 0. 0. 0.]\n",
      "[0. 1. 0. ... 0. 0. 0.]\n",
      "[0. 0. 0. ... 0. 0. 0.]\n",
      "[0. 0. 0. ... 0. 0. 0.]\n",
      "[0. 0. 0. ... 0. 0. 0.]\n",
      "[0. 0. 0. ... 0. 0. 0.]\n",
      "[0. 0. 0. ... 0. 0. 0.]\n",
      "[0. 0. 0. ... 0. 0. 0.]\n",
      "[0. 0. 0. ... 0. 0. 0.]\n",
      "[0. 0. 0. ... 0. 0. 0.]\n",
      "[0. 0. 0. ... 0. 0. 0.]\n",
      "[0. 0. 0. ... 0. 0. 0.]\n",
      "[0. 1. 0. ... 0. 0. 0.]\n",
      "[0. 0. 0. ... 0. 0. 0.]\n",
      "[0. 0. 0. ... 0. 0. 0.]\n",
      "[0. 0. 0. ... 0. 0. 0.]\n",
      "[0. 0. 0. ... 0. 0. 0.]\n",
      "[0. 0. 1. ... 0. 0. 0.]\n",
      "[0. 0. 0. ... 0. 0. 0.]\n",
      "[0. 0. 1. ... 0. 0. 0.]\n",
      "[0. 0. 0. ... 0. 0. 0.]\n",
      "[0. 0. 0. ... 0. 0. 0.]\n",
      "[0. 0. 0. ... 0. 0. 0.]\n",
      "[0. 0. 0. ... 0. 0. 0.]\n",
      "[0. 0. 0. ... 0. 0. 0.]\n",
      "[0. 0. 0. ... 0. 0. 0.]\n",
      "[0. 0. 0. ... 0. 0. 0.]\n",
      "[0. 0. 0. ... 0. 0. 0.]\n",
      "[0. 1. 0. ... 0. 0. 0.]\n",
      "[0. 0. 0. ... 0. 0. 0.]\n",
      "[0. 0. 0. ... 0. 0. 0.]\n",
      "[0. 0. 0. ... 0. 0. 0.]\n",
      "[0. 0. 0. ... 0. 0. 0.]\n",
      "[0. 0. 0. ... 0. 0. 0.]\n",
      "[0. 0. 0. ... 0. 0. 0.]\n",
      "[0. 0. 0. ... 0. 0. 0.]\n",
      "[0. 0. 0. ... 0. 0. 0.]\n",
      "[0. 1. 0. ... 0. 0. 0.]\n",
      "[0. 0. 0. ... 0. 0. 0.]\n",
      "[0. 1. 1. ... 1. 0. 1.]\n",
      "[0. 1. 0. ... 0. 0. 0.]\n",
      "[0. 1. 0. ... 0. 0. 0.]\n",
      "[0. 1. 0. ... 0. 0. 0.]\n",
      "[0. 0. 0. ... 0. 0. 0.]\n",
      "[0. 0. 0. ... 0. 0. 0.]\n",
      "[0. 0. 0. ... 0. 0. 0.]\n",
      "[0. 0. 0. ... 0. 0. 0.]\n",
      "[0. 0. 0. ... 0. 0. 0.]\n",
      "[0. 0. 0. ... 0. 0. 0.]\n",
      "[0. 0. 0. ... 0. 0. 0.]\n",
      "[0. 0. 0. ... 1. 0. 0.]\n",
      "[0. 0. 0. ... 0. 0. 0.]\n",
      "[0. 1. 0. ... 0. 0. 0.]\n",
      "[0. 0. 0. ... 0. 0. 0.]\n",
      "[0. 0. 0. ... 0. 0. 0.]\n",
      "[0. 0. 0. ... 0. 0. 0.]\n",
      "[0. 1. 0. ... 0. 0. 0.]\n",
      "[0. 0. 0. ... 0. 0. 0.]\n",
      "[0. 0. 0. ... 0. 0. 0.]\n",
      "[0. 0. 0. ... 0. 1. 0.]\n",
      "[0. 0. 0. ... 0. 0. 0.]\n",
      "[0. 1. 0. ... 0. 0. 0.]\n",
      "[0. 0. 0. ... 0. 0. 0.]\n",
      "[0. 0. 0. ... 0. 0. 0.]\n",
      "[0. 0. 0. ... 1. 0. 0.]\n",
      "[0. 0. 0. ... 0. 1. 0.]\n",
      "[0. 1. 0. ... 0. 0. 0.]\n",
      "[0. 0. 0. ... 0. 0. 0.]\n",
      "[0. 0. 0. ... 0. 0. 1.]\n",
      "[0. 0. 0. ... 0. 0. 0.]\n",
      "[0. 0. 0. ... 0. 0. 0.]\n",
      "[0. 0. 0. ... 0. 0. 0.]\n",
      "[0. 0. 0. ... 0. 0. 0.]\n",
      "[0. 0. 0. ... 0. 0. 0.]\n",
      "[0. 0. 1. ... 0. 0. 0.]\n",
      "[0. 1. 0. ... 0. 0. 0.]\n",
      "[0. 0. 0. ... 0. 0. 0.]\n",
      "[0. 0. 0. ... 0. 0. 0.]\n",
      "[0. 0. 0. ... 0. 0. 0.]\n",
      "[0. 0. 0. ... 0. 0. 0.]\n",
      "[0. 1. 0. ... 0. 0. 0.]\n",
      "[0. 0. 0. ... 0. 0. 0.]\n",
      "[0. 0. 0. ... 0. 0. 0.]\n",
      "[0. 0. 0. ... 0. 0. 0.]\n",
      "[0. 1. 0. ... 0. 0. 0.]\n",
      "[0. 1. 0. ... 0. 0. 0.]\n",
      "[0. 0. 0. ... 0. 0. 0.]\n",
      "[0. 0. 0. ... 0. 0. 0.]\n",
      "[0. 0. 0. ... 0. 0. 0.]\n",
      "[0. 0. 0. ... 0. 0. 0.]\n",
      "[0. 0. 0. ... 0. 0. 0.]\n",
      "[0. 0. 0. ... 0. 0. 0.]\n",
      "[0. 0. 0. ... 0. 0. 0.]\n",
      "[0. 0. 0. ... 0. 0. 0.]\n",
      "[0. 0. 0. ... 0. 0. 0.]\n",
      "[0. 0. 0. ... 0. 0. 0.]\n",
      "[0. 0. 0. ... 0. 0. 0.]\n",
      "[0. 0. 0. ... 0. 0. 0.]\n",
      "[0. 0. 0. ... 0. 0. 0.]\n",
      "[0. 0. 0. ... 0. 0. 0.]\n",
      "[0. 0. 0. ... 0. 0. 0.]\n",
      "[0. 1. 0. ... 0. 0. 0.]\n",
      "[0. 1. 0. ... 0. 0. 0.]\n",
      "[0. 0. 0. ... 0. 0. 0.]\n",
      "[0. 0. 0. ... 0. 0. 0.]\n",
      "[0. 0. 0. ... 0. 0. 0.]\n",
      "[0. 0. 0. ... 0. 0. 0.]\n",
      "[0. 0. 0. ... 0. 0. 0.]\n",
      "[0. 1. 0. ... 0. 0. 0.]\n",
      "[0. 1. 0. ... 0. 0. 0.]\n",
      "[0. 0. 0. ... 1. 0. 0.]\n",
      "[0. 0. 0. ... 0. 0. 0.]\n",
      "[0. 0. 0. ... 0. 0. 0.]\n",
      "[0. 0. 0. ... 0. 0. 0.]\n",
      "[0. 0. 0. ... 0. 0. 0.]\n",
      "[1. 0. 0. ... 0. 0. 0.]\n",
      "[0. 0. 1. ... 0. 0. 0.]\n",
      "[0. 0. 0. ... 0. 0. 0.]\n",
      "[0. 0. 0. ... 0. 0. 0.]\n",
      "[0. 0. 0. ... 0. 0. 0.]\n",
      "[0. 0. 0. ... 0. 0. 0.]\n",
      "[0. 0. 0. ... 0. 0. 0.]\n",
      "[0. 0. 1. ... 0. 0. 0.]\n",
      "[0. 0. 0. ... 0. 0. 0.]\n",
      "[0. 0. 0. ... 0. 0. 0.]\n",
      "[0. 0. 0. ... 0. 0. 0.]\n",
      "[0. 0. 0. ... 0. 0. 0.]\n",
      "[0. 0. 0. ... 0. 0. 0.]\n",
      "[0. 0. 0. ... 0. 0. 0.]\n",
      "[0. 0. 0. ... 0. 0. 0.]\n",
      "[0. 0. 0. ... 0. 0. 0.]\n",
      "[0. 0. 0. ... 0. 0. 0.]\n",
      "[0. 0. 0. ... 0. 0. 0.]\n",
      "[0. 0. 1. ... 0. 0. 0.]\n",
      "[0. 0. 0. ... 0. 0. 0.]\n",
      "[0. 0. 0. ... 0. 0. 0.]\n",
      "[0. 1. 0. ... 0. 0. 0.]\n",
      "[0. 0. 0. ... 0. 0. 0.]\n",
      "[0. 0. 0. ... 0. 0. 0.]\n",
      "[0. 0. 0. ... 0. 0. 0.]\n",
      "[0. 0. 0. ... 0. 0. 0.]\n",
      "[0. 0. 0. ... 0. 0. 0.]\n",
      "[0. 0. 0. ... 0. 0. 0.]\n",
      "[0. 0. 0. ... 0. 0. 0.]\n",
      "[0. 0. 0. ... 0. 0. 1.]\n",
      "[0. 0. 0. ... 0. 0. 0.]\n",
      "[0. 0. 0. ... 0. 0. 0.]\n",
      "[0. 0. 0. ... 0. 0. 0.]\n",
      "[0. 0. 0. ... 0. 0. 0.]\n",
      "[0. 0. 0. ... 0. 0. 0.]\n",
      "[0. 1. 0. ... 0. 0. 0.]\n",
      "[0. 0. 0. ... 0. 0. 0.]\n",
      "[0. 1. 0. ... 0. 0. 0.]\n",
      "[0. 0. 0. ... 0. 0. 0.]\n"
     ]
    }
   ],
   "source": [
    "from rdkit import DataStructs\n",
    "radius = 3\n",
    "nBits = 1024\n",
    "info = {}\n",
    "fps = [AllChem.GetMorganFingerprintAsBitVect(mol, radius=radius, nBits=nBits, bitInfo=info) for mol in mols]\n",
    "fps_np_array = []\n",
    "for fp_object in fps:\n",
    "  fp_vect = np.zeros((1,), dtype=float)\n",
    "  DataStructs.ConvertToNumpyArray(fp_object, fp_vect)\n",
    "  fps_np_array.append(fp_vect)\n",
    "  print(fp_vect)"
   ]
  },
  {
   "cell_type": "code",
   "execution_count": null,
   "metadata": {
    "id": "t_08xAzplqlO"
   },
   "outputs": [],
   "source": []
  }
 ],
 "metadata": {
  "colab": {
   "provenance": []
  },
  "kernelspec": {
   "display_name": "chbe-413",
   "language": "python",
   "name": "python3"
  },
  "language_info": {
   "codemirror_mode": {
    "name": "ipython",
    "version": 3
   },
   "file_extension": ".py",
   "mimetype": "text/x-python",
   "name": "python",
   "nbconvert_exporter": "python",
   "pygments_lexer": "ipython3",
   "version": "3.11.13"
  }
 },
 "nbformat": 4,
 "nbformat_minor": 0
}
