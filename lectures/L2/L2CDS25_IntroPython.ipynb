{
  "cells": [
    {
      "cell_type": "markdown",
      "metadata": {
        "id": "H_u4qCZ8c2IL"
      },
      "source": [
        "# CHEM492/CHBE494/CHBE594 - Introduction to Jupyter Notebooks and Python\n",
        "#Prof. Nick Jackson"
      ]
    },
    {
      "cell_type": "markdown",
      "metadata": {
        "id": "dZkHxK5cc2IN"
      },
      "source": [
        "## Overview\n",
        "\n",
        "In this notebook you will familiarize yourself with Jupyter Notebooks and Python. Unless you are very comfortable with Python and have significant previous experience, I strongly recommend completing this notebook."
      ]
    },
    {
      "cell_type": "markdown",
      "metadata": {
        "id": "V9iJ00G4c2IO"
      },
      "source": [
        "## Quick Python Introduction"
      ]
    },
    {
      "cell_type": "markdown",
      "metadata": {
        "id": "61lbwAFGc2IO"
      },
      "source": [
        "### Variables"
      ]
    },
    {
      "cell_type": "markdown",
      "metadata": {
        "id": "LBhp5lJAc2IO"
      },
      "source": [
        "In Python, variables do not need to be declared before they are used. In other words, Python automatically decides on the correct variable type (integer, float, etc.) You can simply define a new variable using `x = 5`. This is just like MATLAB."
      ]
    },
    {
      "cell_type": "markdown",
      "metadata": {
        "id": "86NtpodYc2IP"
      },
      "source": [
        "<div style=\"background-color: rgba(0,255,0,0.05) ; padding: 10px; border: 1px solid darkgreen;\">\n",
        "<b>Activity</b>: In the cell below, assign the value of 5 to the variable x. Then type Shift+Enter to execute the line.\n",
        "</div>"
      ]
    },
    {
      "cell_type": "code",
      "execution_count": null,
      "metadata": {
        "id": "iae2L7Ldc2IP"
      },
      "outputs": [],
      "source": [
        "x = 5"
      ]
    },
    {
      "cell_type": "markdown",
      "metadata": {
        "id": "9ig4PBpRc2IP"
      },
      "source": [
        "We can see the value of the variable using the built-in `print` function. For example, to print the value of `x`, we would use `print(x)`."
      ]
    },
    {
      "cell_type": "markdown",
      "metadata": {
        "id": "S0XxRydlc2IP"
      },
      "source": [
        "<div style=\"background-color: rgba(0,255,0,0.05) ; padding: 10px; border: 1px solid darkgreen;\">\n",
        "<b>Activity</b>: Print the value of x. Type Shift+Enter to execute the cell. (We'll stop reminding you to do this moving forward.)\n",
        "</div>"
      ]
    },
    {
      "cell_type": "code",
      "execution_count": null,
      "metadata": {
        "colab": {
          "base_uri": "https://localhost:8080/"
        },
        "id": "qGOwRAmRc2IP",
        "outputId": "5f6333d2-5a11-4e2c-a968-d9ffe0236b07"
      },
      "outputs": [
        {
          "name": "stdout",
          "output_type": "stream",
          "text": [
            "5\n"
          ]
        }
      ],
      "source": [
        "print(x)"
      ]
    },
    {
      "cell_type": "markdown",
      "metadata": {
        "id": "wbCRS7Owc2IQ"
      },
      "source": [
        "<div style=\"background-color: rgba(0,255,0,0.05) ; padding: 10px; border: 1px solid darkgreen;\">\n",
        "<b>Activity</b>: Now change the value of x to 8 and execute the cell.\n",
        "</div>"
      ]
    },
    {
      "cell_type": "code",
      "execution_count": null,
      "metadata": {
        "collapsed": true,
        "id": "9IbDGrI0c2IQ"
      },
      "outputs": [],
      "source": []
    },
    {
      "cell_type": "markdown",
      "metadata": {
        "id": "DEiStP-xc2IQ"
      },
      "source": [
        "### Execution Order\n",
        "\n",
        "**Note**: When using Jupyter notebooks, it is very important to know that the cells can be executed out of order\n",
        "(intentionally or not). The state of the environment (e.g., values of variables, imports, etc.) is defined by the execution\n",
        "order."
      ]
    },
    {
      "cell_type": "markdown",
      "metadata": {
        "id": "Z-H3PB11c2IQ"
      },
      "source": [
        "<div style=\"background-color: rgba(0,255,0,0.05) ; padding: 10px; border: 1px solid darkgreen;\">\n",
        "<b>Activity</b>: To see this concept, rerun the cell above with the print statement.\n",
        "</div>"
      ]
    },
    {
      "cell_type": "markdown",
      "metadata": {
        "id": "znCpvlJQc2IR"
      },
      "source": [
        "You should see that the value `8` is now printed. This may seem problematic if you are used to programming in environments where the state is linked to the order of the commands as *written*, not as *executed*.\n",
        "\n",
        "**Again, notice that the state of the environment is determined by the execution order.**\n",
        "Note also that the square brackets to the left of the cell show the order that cells were executed. If you scroll to the top, you should see that the code cells show an execution order of `[1]` , `[4]` , and `[3]`, indicating the actual execution order.\n",
        "\n",
        "There are some useful menu commands at the top of the Jupyter notebook to help with these problems and make sure you\n",
        "retain the execution order as expected.\n",
        "\n",
        "Some important commands to remember:\n",
        "* You can clear the current state with the menu item `Kernel | Restart & Clear Output`\n",
        "* It is often useful to clear the state using the menu command just described, and then execute all the lines above the currently selected cell using `Cell | Run All Above` .\n",
        "* You can clear all the state and re-run the entire notebook using `Kernel | Restart & Run All`."
      ]
    },
    {
      "cell_type": "markdown",
      "metadata": {
        "id": "4y_wMKjuExNm"
      },
      "source": []
    },
    {
      "cell_type": "markdown",
      "metadata": {
        "id": "U3FntdXhzep5"
      },
      "source": [
        "## 1a. Why Python?"
      ]
    },
    {
      "cell_type": "markdown",
      "metadata": {
        "id": "V0XF8SnYzep6"
      },
      "source": [
        "* Python is extremely popular for **scientific computing** and **data science**\n",
        "* Python is a *high-level* language. Its syntax is more flexible and forgiving.\n",
        "* Many concepts from Python translate to other languages such as Fortran, C/C++, MATLAB, etc.\n"
      ]
    },
    {
      "cell_type": "markdown",
      "metadata": {
        "id": "1wKF7gO1zep6"
      },
      "source": [
        "### Hello World and Interactive Sessions ###\n",
        "In almost any computer language the first thing you do is create a program called \"Hello world!\".\n",
        "\n",
        "This **notebook** is an interactive session. We just type the command `print(\"Hello World.\")` and the press Shift+Enter to execute."
      ]
    },
    {
      "cell_type": "code",
      "execution_count": null,
      "metadata": {
        "colab": {
          "base_uri": "https://localhost:8080/"
        },
        "id": "a7DNb-j-zep7",
        "outputId": "05a19abf-de84-4ed5-bdda-c7adc18a58a4"
      },
      "outputs": [
        {
          "name": "stdout",
          "output_type": "stream",
          "text": [
            "Hello World.\n"
          ]
        }
      ],
      "source": [
        "print(\"Hello World.\")"
      ]
    },
    {
      "cell_type": "markdown",
      "metadata": {
        "id": "K24H-oiXEebE"
      },
      "source": [
        "<div style=\"background-color: rgba(0,255,0,0.05) ; padding: 10px; border: 1px solid darkgreen;\">\n",
        "<b>Activity</b>: Print the first two lines of your favorite poem or song.\n",
        "</div>"
      ]
    },
    {
      "cell_type": "markdown",
      "metadata": {
        "id": "fgOji2SdEebE"
      },
      "source": [
        "Hint: Use `\\n` to create a new line."
      ]
    },
    {
      "cell_type": "code",
      "execution_count": null,
      "metadata": {
        "collapsed": true,
        "id": "T1WOs-gJEebF"
      },
      "outputs": [],
      "source": []
    },
    {
      "cell_type": "markdown",
      "metadata": {
        "id": "5aL5BAFdzeqH"
      },
      "source": [
        "**Unicode Characters**\n",
        "* A way to express fancy letters, like emojis\n",
        "* Supported by Python\n",
        "* Copy-and-paste is the easiest way to write in code\n",
        "* Easy to find on website such as http://xahlee.info, https://www.compart.com/en/unicode/, and https://unicode-table.com/en/#control-character (top Google search results)"
      ]
    },
    {
      "cell_type": "code",
      "execution_count": null,
      "metadata": {
        "colab": {
          "base_uri": "https://localhost:8080/"
        },
        "id": "5QrTYXXZEebG",
        "outputId": "6eb30997-01a9-4e0f-af85-3f9736ecc95b"
      },
      "outputs": [
        {
          "name": "stdout",
          "output_type": "stream",
          "text": [
            "The temperature was 56 °F this morning.\n"
          ]
        }
      ],
      "source": [
        "print(\"The temperature was 56 °F this morning.\")\n"
      ]
    },
    {
      "cell_type": "markdown",
      "metadata": {
        "id": "cayHRWjZEebG"
      },
      "source": [
        "<div style=\"background-color: rgba(0,255,0,0.05) ; padding: 10px; border: 1px solid darkgreen;\">\n",
        "    <b>Activity</b>: Write a print statement using at least two unicode characters.\n",
        "</div>"
      ]
    },
    {
      "cell_type": "code",
      "execution_count": null,
      "metadata": {
        "colab": {
          "base_uri": "https://localhost:8080/"
        },
        "id": "btDBA2ZcEebG",
        "outputId": "045a0f0b-776d-40dc-cf74-feacf2355555"
      },
      "outputs": [
        {
          "name": "stdout",
          "output_type": "stream",
          "text": [
            "😂\n"
          ]
        }
      ],
      "source": [
        "print(\"😂\")"
      ]
    },
    {
      "cell_type": "markdown",
      "metadata": {
        "id": "514Y2HW6zeqH"
      },
      "source": [
        "### Command Line Mode"
      ]
    },
    {
      "cell_type": "markdown",
      "metadata": {
        "id": "WyIDPARMzeqH"
      },
      "source": [
        "Above, we used the *interactive mode*, which means the result of each line is displayed when I enter the line.\n",
        "\n",
        "It is more common to put your code into a separate file and then execute it by typing\n",
        "\n",
        "``python codename.py``\n",
        "\n",
        "where ``codename.py`` is the name of your file."
      ]
    },
    {
      "cell_type": "markdown",
      "metadata": {
        "id": "ViEaI6AazeqI"
      },
      "source": [
        "**How to access a Python interpreter?**\n",
        "* Mac or Linux: Open terminal and type ``python``\n",
        "* Mac, Linux, or Windows: Use an IDE.\n",
        "\n",
        "*Anaconda* is the easiest free Python environment to install. It is already available in B19."
      ]
    },
    {
      "cell_type": "markdown",
      "metadata": {
        "id": "TaQ8KZ5WEebH"
      },
      "source": [
        "<div style=\"background-color: rgba(0,255,0,0.05) ; padding: 10px; border: 1px solid darkgreen;\">\n",
        "<b>Optional Activity</b>: Install Anaconda on your computer.\n",
        "</div>"
      ]
    },
    {
      "cell_type": "markdown",
      "metadata": {
        "id": "qYbCcfrzEebI"
      },
      "source": [
        "Hint: Start at https://www.anaconda.com/distribution/#download-section."
      ]
    },
    {
      "cell_type": "markdown",
      "metadata": {
        "id": "EFhiEPm0zeqJ"
      },
      "source": [
        "## 1b. Comments"
      ]
    },
    {
      "cell_type": "markdown",
      "metadata": {
        "id": "iWzyFHFyzeqJ"
      },
      "source": [
        "Comments are your friend.  They can be time consuming to add, but never have I looked back at old code and regreted adding them.\n",
        "\n",
        "A <b>comment</b> is a annotation in your code to\n",
        "<ul>\n",
        "<li> inform the reader, often yourself, of what a particular piece of code is trying to do\n",
        "<li> indicate the designed output, result, etc. of a part of the code\n",
        "<li> make the code more readable\n",
        "</ul>\n",
        "\n",
        "<b><blink>Any code you submit for a class assignment must be well commented!</blink></b>\n",
        "This is not to punish you, but to help you.\n",
        "\n",
        "You use the pound (aka hashtag) to comment out the rest of a line: everything that follows the # is ignored by python.  Therefore, you can put little notes to yourself or others about what is going on in the code."
      ]
    },
    {
      "cell_type": "code",
      "execution_count": null,
      "metadata": {
        "colab": {
          "base_uri": "https://localhost:8080/"
        },
        "collapsed": true,
        "id": "MZL6oIUXzeqK",
        "outputId": "d80691fb-a644-4eb3-9464-4a6ddfdfa379"
      },
      "outputs": [
        {
          "name": "stdout",
          "output_type": "stream",
          "text": [
            "100\n"
          ]
        },
        {
          "data": {
            "text/plain": [
              "81"
            ]
          },
          "execution_count": 6,
          "metadata": {},
          "output_type": "execute_result"
        }
      ],
      "source": [
        "#This next line should compute 9*9 + 19 = 100\n",
        "print(9*9 + 19)\n",
        "\n",
        "#You can also make comments inside a line\n",
        "9*9 #+ 19"
      ]
    },
    {
      "cell_type": "markdown",
      "metadata": {
        "id": "eTdVBURmzeqO"
      },
      "source": [
        "There are also ways to make multiline comments by using a triple quote '''"
      ]
    },
    {
      "cell_type": "code",
      "execution_count": null,
      "metadata": {
        "colab": {
          "base_uri": "https://localhost:8080/"
        },
        "collapsed": true,
        "id": "95fdWfiOzeqO",
        "outputId": "62aa3e8b-fd1b-4978-c0b4-714eee2850fa"
      },
      "outputs": [
        {
          "name": "stdout",
          "output_type": "stream",
          "text": [
            "Go Irish! Beat Tide!\n"
          ]
        }
      ],
      "source": [
        "'''The beginning of a multiline comment.\n",
        "This comment will be followed by meaningless\n",
        "code.  Enjoy '''\n",
        "print(\"Go Irish! Beat Tide!\")"
      ]
    },
    {
      "cell_type": "markdown",
      "metadata": {
        "id": "aVXdsPBzEebL"
      },
      "source": [
        "<div style=\"background-color: rgba(0,255,0,0.05) ; padding: 10px; border: 1px solid darkgreen;\">\n",
        "<b>Activity</b>: Add comments to the following calculation. At the top, write a sentence describing the program in the multiline comment block. Then fill in each empty single line comment with <b>units</b>.\n",
        "</div>"
      ]
    },
    {
      "cell_type": "code",
      "execution_count": null,
      "metadata": {
        "collapsed": true,
        "id": "ZdEngq9LEebM"
      },
      "outputs": [],
      "source": [
        "'''\n",
        "\n",
        "'''\n",
        "\n",
        "#\n",
        "r = 1.0\n",
        "\n",
        "#\n",
        "pi =  3.14159265359\n",
        "\n",
        "# Calculate sphere area (m^2)\n",
        "area = 4 * pi * r**2\n",
        "print(\"Sphere surface area:\",area,\"m^2\")\n",
        "\n",
        "#\n",
        "vol = 4/3 * pi * r**3\n",
        "print(\"Sphere volume:\",vol,\"m^3\")"
      ]
    },
    {
      "cell_type": "markdown",
      "metadata": {
        "id": "c_DeTmGEzeqQ"
      },
      "source": [
        "## 1c. Errors"
      ]
    },
    {
      "cell_type": "markdown",
      "metadata": {
        "id": "SBDc64ICzeqQ"
      },
      "source": [
        "We call errors in computer programs **bugs**. Even experienced programmers write code with bugs. Let's look at a **good bug** and a **bad bug**."
      ]
    },
    {
      "cell_type": "markdown",
      "metadata": {
        "id": "87qoKIntEebN"
      },
      "source": [
        "### \"Good\" Bugs"
      ]
    },
    {
      "cell_type": "markdown",
      "metadata": {
        "id": "cBFn-mOkEebN"
      },
      "source": [
        "Good bug: A syntax mistake that Python will catch and scream about.\n",
        "\n",
        "**Example**"
      ]
    },
    {
      "cell_type": "code",
      "execution_count": null,
      "metadata": {
        "collapsed": true,
        "id": "IP1pJOVTzeqR"
      },
      "outputs": [],
      "source": [
        "#This is a good bug because the python interpreter complains\n",
        "9*9 +"
      ]
    },
    {
      "cell_type": "markdown",
      "metadata": {
        "id": "xZz6cngvEebN"
      },
      "source": [
        "<div style=\"background-color: rgba(0,255,0,0.05) ; padding: 10px; border: 1px solid darkgreen;\">\n",
        "<b>Activity</b>: Create another example of a \"good\" bug. Share with a friend.\n",
        "</div>"
      ]
    },
    {
      "cell_type": "code",
      "execution_count": null,
      "metadata": {
        "collapsed": true,
        "id": "B61VPa43EebN"
      },
      "outputs": [],
      "source": []
    },
    {
      "cell_type": "markdown",
      "metadata": {
        "id": "cecqOJzNEebO"
      },
      "source": [
        "### \"Bad\" Bugs\n",
        "\n",
        "Bad bug: A flaw in the logic of the computer program. These are much harder to catch.\n",
        "\n",
        "**Example**: We want to compute\n",
        "\n",
        "$$(3 + 5)^2 = 8^2 = 64$$\n",
        "\n",
        "But we input:"
      ]
    },
    {
      "cell_type": "code",
      "execution_count": null,
      "metadata": {
        "collapsed": true,
        "id": "kSCGQAJ8zeqT"
      },
      "outputs": [],
      "source": [
        "3 + 5**2\n",
        "#You don't get the correct answer, and no one tells you that you're wrong."
      ]
    },
    {
      "cell_type": "markdown",
      "metadata": {
        "id": "R2EiXDBoEebO"
      },
      "source": [
        "<div style=\"background-color: rgba(0,255,0,0.05) ; padding: 10px; border: 1px solid darkgreen;\">\n",
        "<b>Activity</b>: Copy the code below and then fix the bad bug.\n",
        "</div>"
      ]
    },
    {
      "cell_type": "code",
      "execution_count": null,
      "metadata": {
        "collapsed": true,
        "id": "tv0RJgvOEebO"
      },
      "outputs": [],
      "source": []
    },
    {
      "cell_type": "markdown",
      "metadata": {
        "id": "2H3F9hIQzeqW"
      },
      "source": [
        "This is an example of the power and feebleness of computers.  A computer can do anything **you tell it to**, but it doesn't necessarily do what you want it to. Always keep this in mind: just because the computer did something, that doesn't mean it did what you wanted.\n",
        "\n"
      ]
    },
    {
      "cell_type": "markdown",
      "metadata": {
        "id": "jKzuOAWEzeqX"
      },
      "source": [
        "## 1d. Indentation"
      ]
    },
    {
      "cell_type": "markdown",
      "metadata": {
        "id": "lLB8KW_RzeqX"
      },
      "source": [
        "Python is, by design, **very picky about how you lay out your code**.  It requires that code blocks be properly indented. Your code needs to be properly aligned to make this work."
      ]
    },
    {
      "cell_type": "code",
      "execution_count": null,
      "metadata": {
        "collapsed": true,
        "id": "bMGbJP4BzeqY"
      },
      "outputs": [],
      "source": [
        "#If I improperly indent, my code won't work\n",
        "print(\"Not indented\")\n",
        "    print(\"indented, but it shouldn't be\")"
      ]
    },
    {
      "cell_type": "markdown",
      "metadata": {
        "id": "lgCjeC8pzeqa"
      },
      "source": [
        "Notice that none of my code executed because of the indentation error. An indent tells the Python interpreter the indented code is part of a code block and needs to be executed in a special way."
      ]
    },
    {
      "cell_type": "markdown",
      "metadata": {
        "id": "KK3TSniaEebP"
      },
      "source": [
        "<div style=\"background-color: rgba(0,255,0,0.05) ; padding: 10px; border: 1px solid darkgreen;\">\n",
        "<b>Activity</b>: Copy the code below and fix the indentation error.\n",
        "</div>"
      ]
    },
    {
      "cell_type": "code",
      "execution_count": null,
      "metadata": {
        "collapsed": true,
        "id": "syCKQ6X_EebQ"
      },
      "outputs": [],
      "source": [
        "\n"
      ]
    },
    {
      "cell_type": "markdown",
      "metadata": {
        "id": "OTDooC65zeqa"
      },
      "source": [
        "## 1e. Input"
      ]
    },
    {
      "cell_type": "markdown",
      "metadata": {
        "id": "RLyZhbm2zeqb"
      },
      "source": [
        "You can prompt the user for input using the <tt> input </tt> command:"
      ]
    },
    {
      "cell_type": "code",
      "execution_count": null,
      "metadata": {
        "collapsed": true,
        "id": "p1FN99flzeqc"
      },
      "outputs": [],
      "source": [
        "user_value = input(\"Enter a number: \")\n",
        "user_value = float(user_value)\n",
        "print(\"2 *\", user_value,\"=\", 2*user_value)"
      ]
    },
    {
      "cell_type": "code",
      "execution_count": null,
      "metadata": {
        "collapsed": true,
        "id": "q4kiGpgazeqd"
      },
      "outputs": [],
      "source": [
        "user_value = input(\"Enter a number (just type 7): \")\n",
        "user_value = int(user_value)\n",
        "if user_value == 7:\n",
        "    print(\"Correct, we have a winner\")\n",
        "    print(\"Claim your prize\")\n",
        "else:\n",
        "    print(\"You guessed poorly.\")"
      ]
    },
    {
      "cell_type": "markdown",
      "metadata": {
        "id": "lbRs-qCfzeqh"
      },
      "source": [
        "Notice that in this example we used an <tt>if-else</tt> statement.  The <tt>if-else</tt> statement is a way to execute different parts of the code based on some conditional expression.  This type of execution is sometimes called <b>branching</b> or <b>selection</b>. We will discuss this in detail below.\n",
        "\n",
        "Also notice the indentation in the <tt>if-else</tt> block."
      ]
    },
    {
      "cell_type": "markdown",
      "metadata": {
        "id": "tsfY9M2bEebR"
      },
      "source": [
        "<div style=\"background-color: rgba(0,255,0,0.05) ; padding: 10px; border: 1px solid darkgreen;\">\n",
        "<b>Activity</b>: Rerun the code above. Find input values that execute each part (a.k.a., branch, section) of the if statement. In other words, find one input value that causes the program to output \"Claim your prize\". Then find a different input value that causes the program to output \"You guessed poorly\". Record your answer below in the text (Markdown) cell. Double-click on the cell to be able to edit the text, then press Shift+Enter.\n",
        "</div>"
      ]
    },
    {
      "cell_type": "markdown",
      "metadata": {
        "id": "qugfoO3lEebS"
      },
      "source": [
        "## 1f. Variables\n",
        "\n",
        "Information, or data, is stored in variables.  Common types of variables include *floating point numbers* (decimals), *integer numbers*, and *text* to name a few. For a complete list of the python data types, see https://docs.python.org/3.4/library/stdtypes.html"
      ]
    },
    {
      "cell_type": "markdown",
      "metadata": {
        "id": "rIVnm8YFzeqi"
      },
      "source": [
        "## Integers"
      ]
    },
    {
      "cell_type": "markdown",
      "metadata": {
        "id": "O_6Yrh0Czeqi"
      },
      "source": [
        "Integers are whole numbers, including the negatives.  They never have a fractional, or decimal, part and should only be used for data that is a count.\n",
        "\n",
        "To assign an integer to a variable use the equals sign."
      ]
    },
    {
      "cell_type": "code",
      "execution_count": null,
      "metadata": {
        "collapsed": true,
        "id": "w-eQk5ZPzeqj"
      },
      "outputs": [],
      "source": [
        "#assign the value 2 to x\n",
        "x = 2\n",
        "print(x*2.0)\n",
        "\n",
        "#check that x is an integer\n",
        "type(x)\n"
      ]
    },
    {
      "cell_type": "markdown",
      "metadata": {
        "id": "FAX3auI9zeqm"
      },
      "source": [
        "Integers are useful for things that can be counted: perhaps the number of times we execute a loop, the number of elements of a vector, or the number of students in a class."
      ]
    },
    {
      "cell_type": "markdown",
      "metadata": {
        "id": "QPFB4p7GEebS"
      },
      "source": [
        "<div style=\"background-color: rgba(0,255,0,0.05) ; padding: 10px; border: 1px solid darkgreen;\">\n",
        "<b>Activity</b>: Copy the code from above and modify to multiple x by <b>2</b> instead of <b>2.0</b>. What is the variable type now?\n",
        "</div>"
      ]
    },
    {
      "cell_type": "code",
      "execution_count": null,
      "metadata": {
        "collapsed": true,
        "id": "Bnj8VL4qEebS"
      },
      "outputs": [],
      "source": []
    },
    {
      "cell_type": "markdown",
      "metadata": {
        "id": "NFqkInihzeqm"
      },
      "source": [
        "## Floating Point Numbers"
      ]
    },
    {
      "cell_type": "markdown",
      "metadata": {
        "id": "ZUeFbQJgzeqn"
      },
      "source": [
        "Floating point numbers are numbers that do have a fractional part.  Most numbers in engineering calculations are floating point types."
      ]
    },
    {
      "cell_type": "code",
      "execution_count": null,
      "metadata": {
        "collapsed": true,
        "id": "sgBRyDoVzeqn"
      },
      "outputs": [],
      "source": [
        "#Now make some others floating point variables\n",
        "y = 4.2\n",
        "print(\"y =\",y)\n",
        "print(type(y))\n",
        "#note that exponentiation is **\n",
        "z = (x / y)**3\n",
        "print(\"(2 / 4.2)**3 =\",z)"
      ]
    },
    {
      "cell_type": "markdown",
      "metadata": {
        "id": "OrtK6tgtzeqp"
      },
      "source": [
        "The way that floating point numbers are represented on a computer has **only a finite precision**.  That means we cannot represent a number exactly in many cases. We'll see later an example of how floating point accuracy can make a difference in a calculation."
      ]
    },
    {
      "cell_type": "markdown",
      "metadata": {
        "id": "1ENzsX8cEebT"
      },
      "source": [
        "<div style=\"background-color: rgba(0,255,0,0.05) ; padding: 10px; border: 1px solid darkgreen;\">\n",
        "<b>Home Activity</b>: Add 1E-10 to 1E-20. Is the answer what you expect?\n",
        "</div>"
      ]
    },
    {
      "cell_type": "markdown",
      "metadata": {
        "id": "gZKIO4ATEebT"
      },
      "source": [
        "Hint: `1E-20` is shorthand for $1 \\times 10^{-20}$, which is sometimes called scientific notation."
      ]
    },
    {
      "cell_type": "code",
      "execution_count": null,
      "metadata": {
        "collapsed": true,
        "id": "z5aWCbSCEebT"
      },
      "outputs": [],
      "source": []
    },
    {
      "cell_type": "markdown",
      "metadata": {
        "id": "d4Tg8byszeqq"
      },
      "source": [
        "## 1g. Built-in Mathematical Functions"
      ]
    },
    {
      "cell_type": "markdown",
      "metadata": {
        "id": "FXefyDz8zeqq"
      },
      "source": [
        "There are almost every common mathematical function you might need for python already built in. To use them you have to import that math functions using the command <tt>import</tt>.  In the code below, I set it up so that to use a math function you use the syntax <tt>math.[function]</tt> where <tt>[function]</tt> is the name of the function you want to call.\n",
        "\n",
        "See https://docs.python.org/3.4/library/math.html for the complete list of built-in mathematical functions."
      ]
    },
    {
      "cell_type": "code",
      "execution_count": null,
      "metadata": {
        "collapsed": true,
        "id": "7xWUIbYYzeqr"
      },
      "outputs": [],
      "source": [
        "import math as m\n",
        "#take cosine of a number close to pi\n",
        "theta = 3.14159\n",
        "trig_variable = m.cos(theta)\n",
        "print(\"cos(\",theta,\") =\",trig_variable)\n",
        "\n",
        "#use the exponential to give me e\n",
        "e = m.exp(1)\n",
        "print(\"The base of the natural logarithm is\",e)\n",
        "\n",
        "#python has a built-in pi as well\n",
        "print(\"The value of pi is\",m.pi)"
      ]
    },
    {
      "cell_type": "markdown",
      "metadata": {
        "id": "gpL8u0DEzeqv"
      },
      "source": [
        "Notice how in the print statements, if I give it multiple arguments, it prints each with a space in between. The natural logarithm is just <tt>math.log</tt> and the base 10 logarithm is <tt>math.log10</tt>.\n",
        "\n"
      ]
    },
    {
      "cell_type": "code",
      "execution_count": null,
      "metadata": {
        "collapsed": true,
        "id": "Y1WnEyvbzeqw"
      },
      "outputs": [],
      "source": [
        "print(\"The natural log of 10 is\",m.log(10))\n",
        "print(\"The log base-10 of 10 is\",m.log10(10))"
      ]
    },
    {
      "cell_type": "markdown",
      "metadata": {
        "id": "qnSjPs42zeq0"
      },
      "source": [
        "There are two non-obvious mathematical operators, integer division: //, and the modulus (or remainder): %"
      ]
    },
    {
      "cell_type": "code",
      "execution_count": null,
      "metadata": {
        "collapsed": true,
        "id": "vBZGVZjczeq1"
      },
      "outputs": [],
      "source": [
        "# 7 / 3 is 2 remainder 1\n",
        "print(\"7 divided by 3 is\",7//3,\"remainder\",7%3)\n",
        "print(\"851 divided by 13 is\",851//13,\"remainder\",851%13)"
      ]
    },
    {
      "cell_type": "markdown",
      "metadata": {
        "id": "QvUdJ8CiEebU"
      },
      "source": [
        "<div style=\"background-color: rgba(0,255,0,0.05) ; padding: 10px; border: 1px solid darkgreen;\">\n",
        "<b>Activity</b>: Study and execute the code below. Then write a sentence to explain the different between integer and floating point division.\n",
        "</div>"
      ]
    },
    {
      "cell_type": "code",
      "execution_count": null,
      "metadata": {
        "collapsed": true,
        "id": "TQHpAl19EebU"
      },
      "outputs": [],
      "source": [
        "# integer division\n",
        "print(\"7 // 3 = \",7//3)\n",
        "\n",
        "# floating division\n",
        "print(\"7 / 3 = \",7/3)"
      ]
    },
    {
      "cell_type": "markdown",
      "metadata": {
        "id": "F6HVn8zMzeq4"
      },
      "source": [
        "Let's also look at how to generate a random number."
      ]
    },
    {
      "cell_type": "code",
      "execution_count": null,
      "metadata": {
        "collapsed": true,
        "id": "bHqSe6Dzzeq4"
      },
      "outputs": [],
      "source": [
        "import random\n",
        "print(\"A random number between 0 and 1: \",random.random())"
      ]
    },
    {
      "cell_type": "markdown",
      "metadata": {
        "id": "bcbiB18czeq_"
      },
      "source": [
        "## 1h. Strings and Overloading"
      ]
    },
    {
      "cell_type": "markdown",
      "metadata": {
        "id": "hCSujRdxzeq_"
      },
      "source": [
        "A string is a data type that is a collection of characters, and needs to be inside quotes:"
      ]
    },
    {
      "cell_type": "code",
      "execution_count": null,
      "metadata": {
        "colab": {
          "base_uri": "https://localhost:8080/"
        },
        "collapsed": true,
        "id": "P7oVSPD_zerB",
        "outputId": "65f883a8-4cfd-4542-d439-06d90355cbdd"
      },
      "outputs": [
        {
          "name": "stdout",
          "output_type": "stream",
          "text": [
            "Machine Learning is awesome!\n",
            "aString\n"
          ]
        }
      ],
      "source": [
        "#This is a string\n",
        "aString = \"Machine Learning is awesome!\"\n",
        "print(aString)\n",
        "print(\"aString\")"
      ]
    },
    {
      "cell_type": "markdown",
      "metadata": {
        "id": "Dek1OcFqzerE"
      },
      "source": [
        "Anything inside the quotes is taken literally by python. That is why the second print statement above just printed <tt>aString</tt>.\n",
        "\n",
        "You can also subset, that is get some of the characters in a string, using brackets. Putting a single number in a bracket gives you the character in that position. Note, python starts numbering at 0 so that 0 is the first character in a string."
      ]
    },
    {
      "cell_type": "code",
      "execution_count": null,
      "metadata": {
        "collapsed": true,
        "id": "iat7ga8PzerF"
      },
      "outputs": [],
      "source": [
        "aString[0]"
      ]
    },
    {
      "cell_type": "code",
      "execution_count": null,
      "metadata": {
        "collapsed": true,
        "id": "eWBsUIH5zerH"
      },
      "outputs": [],
      "source": [
        "aString[5]"
      ]
    },
    {
      "cell_type": "markdown",
      "metadata": {
        "id": "inEAz-oszerL"
      },
      "source": [
        "You can also get a range of characters in a string using the colon. The colon operator is funny in a way in that <tt>[a:b]</tt> says give me the elements in the string from position <tt>a</tt> to position <tt>b-1</tt>."
      ]
    },
    {
      "cell_type": "code",
      "execution_count": null,
      "metadata": {
        "colab": {
          "base_uri": "https://localhost:8080/",
          "height": 35
        },
        "collapsed": true,
        "id": "8vjosG98zerM",
        "outputId": "c65ee6a9-3e46-47cf-e849-fe9931f521ac"
      },
      "outputs": [
        {
          "data": {
            "application/vnd.google.colaboratory.intrinsic+json": {
              "type": "string"
            },
            "text/plain": [
              "'achin'"
            ]
          },
          "execution_count": 4,
          "metadata": {},
          "output_type": "execute_result"
        }
      ],
      "source": [
        "aString[1:6]"
      ]
    },
    {
      "cell_type": "markdown",
      "metadata": {
        "id": "6IMw9KkWzerO"
      },
      "source": [
        "Python defines its ranges this way so that if the string is of length <tt>N</tt>, <tt>[0:N]</tt> returns the whole string."
      ]
    },
    {
      "cell_type": "markdown",
      "metadata": {
        "id": "c_SpLPIUzerO"
      },
      "source": [
        "Negative subsets start at the end of the string (i.e., -1 is the last character of the string)."
      ]
    },
    {
      "cell_type": "code",
      "execution_count": null,
      "metadata": {
        "colab": {
          "base_uri": "https://localhost:8080/",
          "height": 35
        },
        "collapsed": true,
        "id": "JcSjb9v6zerP",
        "outputId": "b0b5b4b9-cd3f-4502-e099-485e9c3fbb18"
      },
      "outputs": [
        {
          "data": {
            "application/vnd.google.colaboratory.intrinsic+json": {
              "type": "string"
            },
            "text/plain": [
              "'!'"
            ]
          },
          "execution_count": 5,
          "metadata": {},
          "output_type": "execute_result"
        }
      ],
      "source": [
        "aString[-1]"
      ]
    },
    {
      "cell_type": "code",
      "execution_count": null,
      "metadata": {
        "colab": {
          "base_uri": "https://localhost:8080/",
          "height": 35
        },
        "collapsed": true,
        "id": "ZUQVEUxwzerT",
        "outputId": "96abaf9f-2f1a-4503-e4a2-070c7e084fd7"
      },
      "outputs": [
        {
          "data": {
            "application/vnd.google.colaboratory.intrinsic+json": {
              "type": "string"
            },
            "text/plain": [
              "'som'"
            ]
          },
          "execution_count": 6,
          "metadata": {},
          "output_type": "execute_result"
        }
      ],
      "source": [
        "aString[-5:-2]"
      ]
    },
    {
      "cell_type": "markdown",
      "metadata": {
        "id": "dTygXJwGEebY"
      },
      "source": [
        "<div style=\"background-color: rgba(0,255,0,0.05) ; padding: 10px; border: 1px solid darkgreen;\">\n",
        "    <b>Activity</b>: Print \"awesome\" by accessing elements of <tt>aString</tt>\n",
        "</div>"
      ]
    },
    {
      "cell_type": "code",
      "execution_count": null,
      "metadata": {
        "collapsed": true,
        "id": "i1g_ZdVTEebY"
      },
      "outputs": [],
      "source": []
    },
    {
      "cell_type": "markdown",
      "metadata": {
        "id": "TBZ2PLT8zerY"
      },
      "source": [
        "With characters (and strings) the + **operator is overloaded**.  What we mean by overloaded, is that it is defined so that the idea of what addition means is conferred to strings.  Therefore,"
      ]
    },
    {
      "cell_type": "code",
      "execution_count": null,
      "metadata": {
        "collapsed": true,
        "id": "_k7vk_eUzera"
      },
      "outputs": [],
      "source": [
        "'Negative Ghostrider: ' + 'the pattern is full'"
      ]
    },
    {
      "cell_type": "code",
      "execution_count": null,
      "metadata": {
        "collapsed": true,
        "id": "HWQtJ0bqzerj"
      },
      "outputs": [],
      "source": [
        "'a' + 'b' + 'c'"
      ]
    },
    {
      "cell_type": "markdown",
      "metadata": {
        "id": "4hjdeJ2Mzerm"
      },
      "source": [
        "The + operator **concatenates** (or smushes together) the strings/characters it operates on."
      ]
    },
    {
      "cell_type": "markdown",
      "metadata": {
        "id": "e2SuGaCuzerm"
      },
      "source": [
        "The multiplication operator is similarly overloaded, though it is not as general.  It is simple to think about 'The roof, ' * 3"
      ]
    },
    {
      "cell_type": "code",
      "execution_count": null,
      "metadata": {
        "collapsed": true,
        "id": "5DXb0H_Xzern"
      },
      "outputs": [],
      "source": [
        "'The roof, ' * 3"
      ]
    },
    {
      "cell_type": "markdown",
      "metadata": {
        "id": "dmCdj8opzerp"
      },
      "source": [
        "However, 'The roof, ' * 3.15 is not defined and will give an error:"
      ]
    },
    {
      "cell_type": "code",
      "execution_count": null,
      "metadata": {
        "collapsed": true,
        "id": "KwG_NR8Jzerp"
      },
      "outputs": [],
      "source": [
        "'The roof, ' * 3.15"
      ]
    },
    {
      "cell_type": "markdown",
      "metadata": {
        "id": "J-wsrWVOzers"
      },
      "source": [
        "The upshot is that only an integer times a character/string makes sense. The order of operations is respected"
      ]
    },
    {
      "cell_type": "code",
      "execution_count": null,
      "metadata": {
        "collapsed": true,
        "id": "X6av1942zers"
      },
      "outputs": [],
      "source": [
        "'The roof, ' * 3 + 'is on fire...'"
      ]
    },
    {
      "cell_type": "markdown",
      "metadata": {
        "id": "lCkaFKjTzert"
      },
      "source": [
        "Minus makes sense, but only sometimes, so it is not allowed."
      ]
    },
    {
      "cell_type": "code",
      "execution_count": null,
      "metadata": {
        "collapsed": true,
        "id": "eNATKHF9zeru"
      },
      "outputs": [],
      "source": [
        "'The roof' - 'oof'"
      ]
    },
    {
      "cell_type": "markdown",
      "metadata": {
        "id": "P8R5vnhkEebZ"
      },
      "source": [
        "<div style=\"background-color: rgba(0,255,0,0.05) ; padding: 10px; border: 1px solid darkgreen;\">\n",
        "    <b>Activity</b>: Create the string \"row row row your boat gently down the stream\" using string multiplication and concatenation.\n",
        "</div>"
      ]
    },
    {
      "cell_type": "code",
      "execution_count": null,
      "metadata": {
        "collapsed": true,
        "id": "5Djhyz7kEeba"
      },
      "outputs": [],
      "source": []
    },
    {
      "cell_type": "markdown",
      "metadata": {
        "id": "LCciHuDFzerw"
      },
      "source": [
        "## 1i. Branching (If statements)"
      ]
    },
    {
      "cell_type": "markdown",
      "metadata": {
        "id": "4uw2c8PDzerw"
      },
      "source": [
        "Sometimes you want to execute code differently based on the value of a certain variable.  This is most commonly done in if - else constructs.  Here's an example"
      ]
    },
    {
      "cell_type": "code",
      "execution_count": null,
      "metadata": {
        "collapsed": true,
        "id": "WFF0VKz5zerx"
      },
      "outputs": [],
      "source": [
        "weather = input(\"What was the weather today?\")\n",
        "grade = ''\n",
        "if (weather == 'sunny'):\n",
        "    grade = 'F+'\n",
        "elif (weather == 'rainy'):\n",
        "    grade = 'B+'\n",
        "else:\n",
        "    grade = 'A'\n",
        "print(grade)"
      ]
    },
    {
      "cell_type": "markdown",
      "metadata": {
        "id": "oL2sMGZpzery"
      },
      "source": [
        "What this codes says is that if the value of <tt>weather</tt> is \"sunny\", the grade will be \"F+\", else if (<tt>elif</tt> in python-speak) <tt>weather</tt> is \"rainy\" the grade will be \"B+\", and anything else will be a grade of \"A\".  \n",
        "\n"
      ]
    },
    {
      "cell_type": "markdown",
      "metadata": {
        "id": "Gxtc4qFHzery"
      },
      "source": [
        "It is important to remember that when you want to check equality between two things you need to use <tt>==</tt> and **not a single equals sign**.  A single equals sign is what you use when you want to assign something to a variable.\n",
        "\n",
        "<div style=\"background-color: rgba(0,255,0,0.05) ; padding: 10px; border: 1px solid darkgreen;\">\n",
        "<b>Activity</b>: Rerun the code above. Find input values that cause the program to output \"F+\", \"B+\", and \"A\".\n",
        "</div>"
      ]
    },
    {
      "cell_type": "code",
      "execution_count": null,
      "metadata": {
        "collapsed": true,
        "id": "k55fJzx5zerz"
      },
      "outputs": [],
      "source": [
        "import math\n",
        "pi_approx = 22/7\n",
        "if math.fabs(pi_approx - math.pi) < 1.0e-6:\n",
        "    print(\"Yes, that is a good approximation\")\n",
        "else:\n",
        "    print(\"No,\",pi_approx, \"is not a good approximation of\", math.pi,\".\")"
      ]
    },
    {
      "cell_type": "markdown",
      "metadata": {
        "id": "Jva9fasCEebb"
      },
      "source": [
        "<div style=\"background-color: rgba(0,0,255,0.05) ; padding: 10px; border: 1px solid darkblue;\">\n",
        "<b>Activity</b>: Create a small Python program that asks for the student's weighted final grade (input) and them prints the letter grade per the scale in the class syllabus (output).\n",
        "</div>"
      ]
    },
    {
      "cell_type": "code",
      "execution_count": null,
      "metadata": {
        "collapsed": true,
        "id": "eiOVrNbHEebb"
      },
      "outputs": [],
      "source": [
        "###BEGIN SOLUTION\n",
        "score = input(\"Score \") #Final grade\n",
        "grade = ''\n",
        "if (score >='90'):\n",
        "    grade = 'A'\n",
        "elif ('90'>score>='80'):\n",
        "    grade = 'B'\n",
        "elif ('80'>score>='70'):\n",
        "    grade = 'C'\n",
        "elif ('70'>score>='600'):\n",
        "    grade = 'D'\n",
        "else:\n",
        "    grade = 'F'\n",
        "print('Your final grade is',grade)\n",
        "###END SOLUTION"
      ]
    },
    {
      "cell_type": "markdown",
      "metadata": {
        "id": "vb1JfPK2zer0"
      },
      "source": [
        "Branching statements are most powerful when combined with iteration, as we will now explore."
      ]
    },
    {
      "cell_type": "markdown",
      "metadata": {
        "id": "dJMOlLGuzer0"
      },
      "source": [
        "## 1j. Iteration"
      ]
    },
    {
      "cell_type": "markdown",
      "metadata": {
        "id": "CJAYbp3hzer1"
      },
      "source": [
        "Iteration executes a piece of code repeatedly, based on some criteria. In this example we will try to find a good approximation to pi."
      ]
    },
    {
      "cell_type": "code",
      "execution_count": null,
      "metadata": {
        "collapsed": true,
        "id": "4kLz7P_pzer1"
      },
      "outputs": [],
      "source": [
        "#this code finds a decent approximation to pi\n",
        "import math\n",
        "converged = 0\n",
        "guess = 3.141\n",
        "iteration = 0\n",
        "eps = 1.0e-6 #this is my tolerance for approximating pi\n",
        "converged = math.fabs(guess - math.pi) < eps #0 if false, 1 if true\n",
        "while (converged == 0):\n",
        "    guess = guess + eps/2\n",
        "    converged = math.fabs(guess - math.pi) < eps\n",
        "    iteration += 1 #same as iteration = iteration + 1\n",
        "print(\"Our approximation of pi is\", guess)\n",
        "print(\"It took us\", iteration,\"guesses to approximate pi\")"
      ]
    },
    {
      "cell_type": "markdown",
      "metadata": {
        "id": "afmEiw8dzer3"
      },
      "source": [
        "In this code, as long as <tt>converged == 0</tt> the code in the while block (the indented code below <tt>while (converged == 0):</tt>) will execute over and over.  When the value of our guess is within $10^{-6}$ to $\\pi$ in absolute value, converged will become 1 and the while loop will stop at the bottom of the code block.\n",
        "\n",
        "I did something tricky, but useful in this example.  In python when a conditional expression like <tt>a > b</tt> is true it evaluates to an integer of 1, and evaluates to an integer of 0 when false.  We will make use of this trick later on and it is good to see it now to help you get accustomed to it."
      ]
    },
    {
      "cell_type": "markdown",
      "metadata": {
        "id": "x3Lnz0ZHEebc"
      },
      "source": [
        "<div style=\"background-color: rgba(0,255,0,0.05) ; padding: 10px; border: 1px solid darkgreen;\">\n",
        "<b>Activity</b>: Copy the pi estimation code to below. Then set the convergence tolerance to 1E-8. How many times more iterations does to take to acheive two addition digits of precision?\n",
        "</div>"
      ]
    },
    {
      "cell_type": "code",
      "execution_count": null,
      "metadata": {
        "collapsed": true,
        "id": "XBoLwRTGEebc"
      },
      "outputs": [],
      "source": [
        "# Copy code to here\n",
        "###BEGIN SOLUTION\n",
        "#this code finds a decent approximation to pi\n",
        "import math\n",
        "converged = 0\n",
        "guess = 3.141\n",
        "iteration = 0\n",
        "eps = 1.0e-8 #this is my tolerance for approximating pi\n",
        "converged = math.fabs(guess - math.pi) < eps #0 if false, 1 if true\n",
        "while (converged == 0):\n",
        "    guess = guess + eps/2\n",
        "    converged = math.fabs(guess - math.pi) < eps\n",
        "    iteration += 1 #same as iteration = iteration + 1\n",
        "print(\"Our approximation of pi is\", guess)\n",
        "print(\"It took us\", iteration,\"guesses to approximate pi\")\n",
        "###END SOLUTION"
      ]
    },
    {
      "cell_type": "markdown",
      "metadata": {
        "id": "WceN0FRHEebc"
      },
      "source": [
        "## 1k. For Loops"
      ]
    },
    {
      "cell_type": "markdown",
      "metadata": {
        "id": "K02t5ImxEebc"
      },
      "source": [
        "**While loops** are great and all we really need for iteration. But they are cumbersome if we want to execute a block of code a set number of times. We have to define a counting variable and increment it by hand:"
      ]
    },
    {
      "cell_type": "code",
      "execution_count": null,
      "metadata": {
        "collapsed": true,
        "id": "b2s_6EI8Eebc"
      },
      "outputs": [],
      "source": [
        "#Some code that counts to ten\n",
        "count = 1\n",
        "while (count <= 10):\n",
        "    print(count)\n",
        "    count=count+1 #we can also write  count += 1"
      ]
    },
    {
      "cell_type": "markdown",
      "metadata": {
        "id": "tU6ShPA5Eebd"
      },
      "source": [
        "The **for loop** is built for such a situation.\n",
        "\n",
        "We will typically specify `for` loops with the `range` function. Range takes 3 input parameters: `range(start, stop[, step])`.\n",
        "* start parameter: number, self explanatory.\n",
        "* stop parameter: the range function goes to this number before stopping.\n",
        "* step parameter: in brackets because it is optional. If you don't define it assumes you want to count by 1 (i.e., step by 1). m"
      ]
    },
    {
      "cell_type": "code",
      "execution_count": null,
      "metadata": {
        "collapsed": true,
        "id": "4k3LbqukEebd"
      },
      "outputs": [],
      "source": [
        "#the list command tells python to explicitly write out the range\n",
        "print(list(range(1,10)))"
      ]
    },
    {
      "cell_type": "markdown",
      "metadata": {
        "id": "8GA8UgKoEebd"
      },
      "source": [
        "Also, if you just give range one parameter, it treats that as stop and assumes you want to start at 0:"
      ]
    },
    {
      "cell_type": "code",
      "execution_count": null,
      "metadata": {
        "collapsed": true,
        "id": "ZaXIMSnyEebd"
      },
      "outputs": [],
      "source": [
        "#These should be the same\n",
        "print(list(range(0,10)))\n",
        "print(list(range(10)))"
      ]
    },
    {
      "cell_type": "code",
      "execution_count": null,
      "metadata": {
        "collapsed": true,
        "id": "2bFAGuz7Eebe"
      },
      "outputs": [],
      "source": [
        "#Here's something using the step\n",
        "print(list(range(0,10,2)))"
      ]
    },
    {
      "cell_type": "markdown",
      "metadata": {
        "id": "zpjEjKvAEebe"
      },
      "source": [
        "<div style=\"background-color: rgba(0,255,0,0.05) ; padding: 10px; border: 1px solid darkgreen;\">\n",
        "<b>Activity</b>: Print a list of odd numbers that starts at 1 and stops before reaching 9.\n",
        "</div>"
      ]
    },
    {
      "cell_type": "code",
      "execution_count": null,
      "metadata": {
        "collapsed": true,
        "id": "5iagqA0HEebe"
      },
      "outputs": [],
      "source": []
    },
    {
      "cell_type": "markdown",
      "metadata": {
        "id": "Xglu950xEebe"
      },
      "source": [
        "With the range command we can have a for loop assign a variable a value in the range, in order, each time the code block of the for loop executes:"
      ]
    },
    {
      "cell_type": "code",
      "execution_count": null,
      "metadata": {
        "collapsed": true,
        "id": "haThJ6NGEebe"
      },
      "outputs": [],
      "source": [
        "for i in range(10):\n",
        "    print(i+1)"
      ]
    },
    {
      "cell_type": "code",
      "execution_count": null,
      "metadata": {
        "collapsed": true,
        "id": "u4AGNDf0Eebe"
      },
      "outputs": [],
      "source": [
        "#for loop count from 10 to 0\n",
        "for i in range(10,-1,-1):\n",
        "    print(i)"
      ]
    },
    {
      "cell_type": "code",
      "execution_count": null,
      "metadata": {
        "collapsed": true,
        "id": "8HrI3bH_Eebe"
      },
      "outputs": [],
      "source": [
        "#for loop count from 0 to 10\n",
        "for i in range(11):\n",
        "    # but prints numbers from 10 to 0\n",
        "    print(10-i)"
      ]
    },
    {
      "cell_type": "markdown",
      "metadata": {
        "id": "sHdWXrt_Eebf"
      },
      "source": [
        "Let's say we want to add a number to itself 7 times. We could use a for loop:"
      ]
    },
    {
      "cell_type": "code",
      "execution_count": null,
      "metadata": {
        "collapsed": true,
        "id": "FJivqAV4Eebf"
      },
      "outputs": [],
      "source": [
        "# for loop version\n",
        "number = 10\n",
        "sum = 0\n",
        "for i in range(7):\n",
        "    sum += number\n",
        "print(sum)"
      ]
    },
    {
      "cell_type": "markdown",
      "metadata": {
        "id": "v7_Nx7-jEebf"
      },
      "source": [
        "<div style=\"background-color: rgba(0,255,0,0.05) ; padding: 10px; border: 1px solid darkgreen;\">\n",
        "<b>Activity</b>: Write a while loop that does the same thing: add a number (10) to itself 7 times.\n",
        "</div>"
      ]
    },
    {
      "cell_type": "code",
      "execution_count": null,
      "metadata": {
        "collapsed": true,
        "id": "KTZ6-byqEebf"
      },
      "outputs": [],
      "source": []
    },
    {
      "cell_type": "markdown",
      "metadata": {
        "id": "zj5sYxsYEebf"
      },
      "source": [
        "You can always write a while loop that does the same thing as a for loop. But often we prefer a for loop because the syntax is easier to write, understand, and debug."
      ]
    },
    {
      "cell_type": "markdown",
      "metadata": {
        "id": "uUcF_JUZEebi"
      },
      "source": [
        "## 1l. Lists"
      ]
    },
    {
      "cell_type": "markdown",
      "metadata": {
        "id": "ttPzkq2LEebi"
      },
      "source": [
        "You can also do other fun stuff with for loops.  For instance, you can have the control variable take on non-numeric things:"
      ]
    },
    {
      "cell_type": "code",
      "execution_count": null,
      "metadata": {
        "collapsed": true,
        "id": "5TG_9cAkEebi"
      },
      "outputs": [],
      "source": [
        "#silly hat code\n",
        "hats = [\"fedora\",\"trilby\",\"porkpie\",\"tam o'shanter\",\n",
        "        \"Phrygian cap\",\"Beefeaters' hat\",\"sombrero\"]\n",
        "days = [\"Monday\",\"Tuesday\",\"Wednesday\",\"Thursday\",\n",
        "        \"Friday\",\"Saturday\",\"Sunday\"]\n",
        "count = 0\n",
        "for today in hats:\n",
        "    print(\"It is\",days[count],\"and I will wear a\",today)\n",
        "    count += 1"
      ]
    },
    {
      "cell_type": "markdown",
      "metadata": {
        "id": "i5wYyksjEebj"
      },
      "source": [
        "Notice what else we did here: we defined a list called `days` that contained strings for the names of the days of the week.  Inside our `for` loop we had a numeric variable that kept track of what number the day of the week was (0 for Monday in this case).  Then when we access days[count] it returns the string in position count.\n",
        "\n",
        "We can go one step beyond and plan our wardrobe a month in advance using random numbers. The code below generates a random integer between 0 and 6:"
      ]
    },
    {
      "cell_type": "code",
      "execution_count": null,
      "metadata": {
        "collapsed": true,
        "id": "5TZsqAm1Eebj"
      },
      "outputs": [],
      "source": [
        "import random\n",
        "round(random.uniform(0,6))"
      ]
    },
    {
      "cell_type": "markdown",
      "metadata": {
        "id": "j8EbqdTKEebj"
      },
      "source": [
        "<div style=\"background-color: rgba(0,255,0,0.05) ; padding: 10px; border: 1px solid darkgreen;\">\n",
        "<b>Activity</b>: Modify the code below to loop over 30 days. For each day, randomly select which hat to wear.\n",
        "</div>"
      ]
    },
    {
      "cell_type": "code",
      "execution_count": null,
      "metadata": {
        "collapsed": true,
        "id": "LxdqeQDIEebj"
      },
      "outputs": [],
      "source": [
        "#silly hat code\n",
        "import random\n",
        "hats = [\"fedora\",\"trilby\",\"porkpie\",\"tam o'shanter\",\n",
        "        \"Phrygian cap\",\"Beefeaters' hat\",\"sombrero\"]\n",
        "days = [\"Monday\",\"Tuesday\",\"Wednesday\",\"Thursday\",\n",
        "        \"Friday\",\"Saturday\",\"Sunday\"]\n",
        "\n",
        "# loop over 30 days\n",
        "### BEGIN SOLUTION\n",
        "for count in range(30):\n",
        "### END SOLUTION\n",
        "\n",
        "    # randomly select a hat to wear\n",
        "    ### BEGIN SOLUTION\n",
        "    hat_choice = round(random.uniform(0,6))\n",
        "    ### END SOLUTION\n",
        "\n",
        "    # print which day of the week it is and the hat choice\n",
        "    ### BEGIN SOLUTION\n",
        "    print(\"It is\",days[count % 7],\n",
        "          \"and I will wear a\",hats[hat_choice])\n",
        "    ### END SOLUTION\n"
      ]
    },
    {
      "cell_type": "markdown",
      "metadata": {
        "id": "eocfC3N5Eebj"
      },
      "source": [
        "**Lists** are like vectors in MATLAB, except, as you can see above, we can store more than just numbers in them. We can also use a package `numpy` to represent vectors and matrices."
      ]
    },
    {
      "cell_type": "markdown",
      "metadata": {
        "id": "j_0UPS8pKXiG"
      },
      "source": [
        "## List Review"
      ]
    },
    {
      "cell_type": "markdown",
      "metadata": {
        "id": "fNhhAbUXKXiJ"
      },
      "source": [
        "Let's see some syntax for growing lists."
      ]
    },
    {
      "cell_type": "code",
      "execution_count": null,
      "metadata": {
        "collapsed": true,
        "id": "XgTImtPWKXiL"
      },
      "outputs": [],
      "source": [
        "# create a list with nothing\n",
        "\n",
        "students = []\n",
        "\n",
        "# add a student\n",
        "students.append(\"Joe Smith\")\n",
        "\n",
        "# add another student\n",
        "students.append(\"Jane Doe\")"
      ]
    },
    {
      "cell_type": "code",
      "execution_count": null,
      "metadata": {
        "id": "9tYxEGRSKXiN",
        "outputId": "fbf618ba-1cd3-4df3-e165-051d88b00603"
      },
      "outputs": [
        {
          "name": "stdout",
          "output_type": "stream",
          "text": [
            "['Joe Smith', 'Jane Doe']\n"
          ]
        }
      ],
      "source": [
        "print(students)"
      ]
    },
    {
      "cell_type": "markdown",
      "metadata": {
        "id": "JD7OLSqFKXiP"
      },
      "source": [
        "How to loop for the list? Let's review."
      ]
    },
    {
      "cell_type": "code",
      "execution_count": null,
      "metadata": {
        "id": "aInk3hrHKXiR",
        "outputId": "ea1ac54f-3079-4cde-a4e1-f1c992f40699"
      },
      "outputs": [
        {
          "name": "stdout",
          "output_type": "stream",
          "text": [
            "Joe Smith\n",
            "Jane Doe\n"
          ]
        }
      ],
      "source": [
        "# Approach 1\n",
        "for s in students:\n",
        "    print(s)"
      ]
    },
    {
      "cell_type": "code",
      "execution_count": null,
      "metadata": {
        "id": "hf8OQqWqKXiU",
        "outputId": "41d36124-523c-493d-841a-05b4b14177fa"
      },
      "outputs": [
        {
          "name": "stdout",
          "output_type": "stream",
          "text": [
            "0 :  Joe Smith\n",
            "1 :  Jane Doe\n"
          ]
        }
      ],
      "source": [
        "# Approach 2\n",
        "for i in range(len(students)):\n",
        "    print(i,\": \",students[i])"
      ]
    },
    {
      "cell_type": "markdown",
      "metadata": {
        "id": "TkHEY8gVKXiW"
      },
      "source": [
        "Different syntax. It is really convienent to access the index with `i` and the student with `s`."
      ]
    },
    {
      "cell_type": "code",
      "execution_count": null,
      "metadata": {
        "id": "devco8tqKXib",
        "outputId": "79ebeb46-7f3d-473f-b479-233996b098d4"
      },
      "outputs": [
        {
          "name": "stdout",
          "output_type": "stream",
          "text": [
            "0 :  Joe Smith\n",
            "1 :  Jane Doe\n"
          ]
        }
      ],
      "source": [
        "for i, s in enumerate(students):\n",
        "    print(i,\": \",s)"
      ]
    },
    {
      "cell_type": "markdown",
      "metadata": {
        "id": "T1u9rQUnKXic"
      },
      "source": [
        "Take away messages:\n",
        "1. It is easy to grow a list with `.append`.\n",
        "2. There are multiple ways to loop over a list."
      ]
    },
    {
      "cell_type": "markdown",
      "metadata": {
        "id": "Vvv-zUXfmUop"
      },
      "source": [
        "## 2a. Functions\n",
        "\n",
        "### 2a-i. Motivating Example"
      ]
    },
    {
      "cell_type": "markdown",
      "metadata": {
        "id": "x5araXX7mUoq"
      },
      "source": [
        "Why use functions? We want to write, debug, and test code **once** and then **reuse** as much as possible.\n",
        "\n",
        "Let's just consider a problem you would expect to see in math class:\n",
        "\n",
        "We want to solve the linear system,\n",
        "\n",
        "$$\\mathrm{Eqn.~1}:\\quad 4.5 x + 3 y = 10.5\\\\\\mathrm{Eqn.~2}:\\quad 1.5 x + 3 y = 7.5.$$\n",
        "\n",
        "One way to do this is using Python as calculator. In the comments below, we walk through the steps."
      ]
    },
    {
      "cell_type": "code",
      "execution_count": null,
      "metadata": {
        "colab": {
          "base_uri": "https://localhost:8080/",
          "height": 87
        },
        "id": "9F-6X4lhmUos",
        "outputId": "44077880-5b15-46b6-a4a3-9d43943c2c98"
      },
      "outputs": [
        {
          "name": "stdout",
          "output_type": "stream",
          "text": [
            "LHS_coefficient: -6\n",
            "RHS: -12.0\n"
          ]
        }
      ],
      "source": [
        "\"\"\"python code to solve\n",
        "4.5 x + 3 y = 10.5\n",
        "1.5 x + 3 y = 7.5\n",
        "by solving the second equation for y first,\n",
        "and then solving for x\"\"\"\n",
        "#step 1 solve for y, multiply equation 2 by -3,\n",
        "## and add to first equation\n",
        "LHS_coefficient = -3*3 + 3 #the coefficient for y\n",
        "RHS = -3*7.5 + 10.5 #the right-hand side\n",
        "\n",
        "print('LHS_coefficient:',LHS_coefficient)\n",
        "print('RHS:',RHS)"
      ]
    },
    {
      "cell_type": "markdown",
      "metadata": {
        "id": "aceY1itIKXih"
      },
      "source": [
        "Mathematically, we started by multiplying equation 2,\n",
        "\n",
        "$$1.5 x + 3 y = 7.5$$\n",
        "\n",
        "by -3,\n",
        "\n",
        "$$(-3) \\times 1.5 x + (-3) \\times 3 y = (-3) \\times 7.5$$\n",
        "\n",
        "\n",
        "and then added this scaled equation 2 to equation 1, giving:\n",
        "\n",
        "$$(4.5 - 3 \\times 1.5) x + (3 - 3 \\times 3) y = 10.5 - 3 \\times 7.5$$\n",
        "\n",
        "Notice that our choice of scaling equation 2 by -3 means that the coefficient for x becomes zero after addition addition. The coefficient for $y$ is `LHS_coefficient` is our code. `RHS` is the right hand side of the new equation.\n"
      ]
    },
    {
      "cell_type": "code",
      "execution_count": null,
      "metadata": {
        "id": "Kiv3zXh4KXih",
        "outputId": "07d6f09b-d6e1-4a7f-94d9-84742dcc89b2"
      },
      "outputs": [
        {
          "name": "stdout",
          "output_type": "stream",
          "text": [
            "The solution to:\n",
            "4.5 x + 3 y = 10.5\n",
            "1.5 x + 3 y = 7.5\n",
            " is x = 1.0 y= 2.0\n"
          ]
        }
      ],
      "source": [
        "#now divide right-hand side by left-hand side coefficient\n",
        "y = RHS / LHS_coefficient\n",
        "#plug y into first equation\n",
        "x = (10.5 - 3*y)/4.5\n",
        "#print the solution, note \\n produces a linebreak\n",
        "print(\"The solution to:\\n4.5 x + 3 y = 10.5\\n1.5 x + 3 y = 7.5\\n is x =\",\n",
        "      x,\"y=\",y)"
      ]
    },
    {
      "cell_type": "markdown",
      "metadata": {
        "id": "192rbx9dmUow"
      },
      "source": [
        "How to extend this code to another linear system?\n",
        "\n",
        "**Let's define a function** that will solve the system for (almost) any coefficients and right-hand side.\n",
        "\n",
        "I'll define such a function to solve $$a_1 x + b_1 y = c_1\\\\ a_2 x + b_2 y = c_2.$$"
      ]
    },
    {
      "cell_type": "markdown",
      "metadata": {
        "id": "a26Dim6zKXii",
        "nbgrader": {
          "grade": false,
          "locked": false,
          "solution": false
        }
      },
      "source": [
        "<div style=\"background-color: rgba(0,255,0,0.05) ; padding: 10px; border: 1px solid darkgreen;\">\n",
        "<b>Activity</b>: Write pseudocode to generalize the steps from the motivating example to solve the linear system with coefficients a1, a2, b1, b2, c1, and c2.\n",
        "</div>"
      ]
    },
    {
      "cell_type": "markdown",
      "metadata": {
        "id": "_ATfReK_KXii"
      },
      "source": [
        "Below is a function that solves (most) 2x2 linear systems. Take a few minutes to study the code below. Specifically:\n",
        "\n",
        "* Notice the function has seven inputs. The first six are the coefficients. The seventh, `LOUD`, is followed by `=False`. This sets the default value of `LOUD` to false.\n",
        "* The input `LOUD` toggles on/off a print statement.\n",
        "* This function has a long comment string at the top. It includes a brief description, then a list of inputs (arguments) and finally a list of outputs (returns). All of the functions you write in this class must be commented in the same style.\n"
      ]
    },
    {
      "cell_type": "code",
      "execution_count": null,
      "metadata": {
        "collapsed": true,
        "id": "iJy9onTMmUox"
      },
      "outputs": [],
      "source": [
        "def two_by_two_solver(a1,b1,c1,a2,b2,c2, LOUD=False):\n",
        "    \"\"\"Calculate the solution of the system\n",
        "    a1 x + b1 y = c1,\n",
        "    a2 x + b2 y = c2\n",
        "\n",
        "    Args:\n",
        "        a1: x coefficient in first equation (cannot be zero)\n",
        "        b1: y coefficient in first equation\n",
        "        c1: right-hand side in first equation\n",
        "        a2: x coefficient in second equation\n",
        "        b2: y coefficient in second equation\n",
        "        c2: right-hand side in second equation\n",
        "        LOUD: boolean that decides whether to print out the answer\n",
        "\n",
        "    Returns:\n",
        "        list containing the solution in the format [x,y]\n",
        "    \"\"\"\n",
        "    #step one, eliminate x from the second equation by\n",
        "    #multiplying first equation by -a2/a1\n",
        "    #and then adding it to second equation\n",
        "    new_b2 = b2 - a2/a1*b1\n",
        "    new_c2 = c2 - a2/a1*c1\n",
        "    #solve the new equation 2\n",
        "    y = new_c2/new_b2\n",
        "    #plug y into original equation 1\n",
        "    x = (c1-b1*y)/a1\n",
        "\n",
        "    if (LOUD):\n",
        "        print(\"The solution to:\\n\",a1,\"x +\",b1,\"y =\",c1,\n",
        "              \"\\n\",a2,\"x +\",b2,\"y =\",c2,\"\\n is x =\",x,\"y=\",y)\n",
        "    return [x,y]\n"
      ]
    },
    {
      "cell_type": "markdown",
      "metadata": {
        "id": "7g_AZDN5mUo0"
      },
      "source": [
        "We can call this function for the problem above by typing"
      ]
    },
    {
      "cell_type": "code",
      "execution_count": null,
      "metadata": {
        "colab": {
          "base_uri": "https://localhost:8080/",
          "height": 104
        },
        "id": "qGP8yIQ2mUo1",
        "outputId": "e3ee7b31-6d0c-4df2-f4d4-2cfdf7d8c13c"
      },
      "outputs": [
        {
          "name": "stdout",
          "output_type": "stream",
          "text": [
            "The solution to:\n",
            " 4.5 x + 3 y = 10.5 \n",
            " 1.5 x + 3 y = 7.5 \n",
            " is x = 1.0 y= 2.0\n"
          ]
        },
        {
          "data": {
            "text/plain": [
              "[1.0, 2.0]"
            ]
          },
          "execution_count": 9,
          "metadata": {},
          "output_type": "execute_result"
        }
      ],
      "source": [
        "two_by_two_solver(4.5,3,10.5,1.5,3,7.5,True)"
      ]
    },
    {
      "cell_type": "markdown",
      "metadata": {
        "id": "p564Yo-FmUo4"
      },
      "source": [
        "We can also solve other systems, including simple ones"
      ]
    },
    {
      "cell_type": "code",
      "execution_count": null,
      "metadata": {
        "colab": {
          "base_uri": "https://localhost:8080/",
          "height": 104
        },
        "id": "G1EZy58XmUo4",
        "outputId": "04ff9404-7000-4b22-922c-af04a38ce038"
      },
      "outputs": [
        {
          "name": "stdout",
          "output_type": "stream",
          "text": [
            "The solution to:\n",
            " 1 x + 0 y = 3 \n",
            " 0 x + 1 y = 2 \n",
            " is x = 3.0 y= 2.0\n"
          ]
        },
        {
          "data": {
            "text/plain": [
              "[3.0, 2.0]"
            ]
          },
          "execution_count": 10,
          "metadata": {},
          "output_type": "execute_result"
        }
      ],
      "source": [
        "two_by_two_solver(1,0,3,0,1,2,True)"
      ]
    },
    {
      "cell_type": "markdown",
      "metadata": {
        "id": "vL0v11TjmUo7"
      },
      "source": [
        "We can't solve systems where $a_1$ is zero because our function divides by $a_1$:"
      ]
    },
    {
      "cell_type": "code",
      "execution_count": null,
      "metadata": {
        "colab": {
          "base_uri": "https://localhost:8080/",
          "height": 287
        },
        "id": "AqY0_GTwmUo8",
        "outputId": "c599d0ef-92ea-4c93-efc3-f68bff7f0ce1"
      },
      "outputs": [
        {
          "ename": "ZeroDivisionError",
          "evalue": "division by zero",
          "output_type": "error",
          "traceback": [
            "\u001b[0;31m---------------------------------------------------------------------------\u001b[0m",
            "\u001b[0;31mZeroDivisionError\u001b[0m                         Traceback (most recent call last)",
            "\u001b[0;32m<ipython-input-11-5036cb57389a>\u001b[0m in \u001b[0;36m<module>\u001b[0;34m()\u001b[0m\n\u001b[0;32m----> 1\u001b[0;31m \u001b[0mtwo_by_two_solver\u001b[0m\u001b[0;34m(\u001b[0m\u001b[0;36m0\u001b[0m\u001b[0;34m,\u001b[0m\u001b[0;36m1\u001b[0m\u001b[0;34m,\u001b[0m\u001b[0;36m2\u001b[0m\u001b[0;34m,\u001b[0m\u001b[0;36m1\u001b[0m\u001b[0;34m,\u001b[0m\u001b[0;36m0\u001b[0m\u001b[0;34m,\u001b[0m\u001b[0;36m3\u001b[0m\u001b[0;34m,\u001b[0m\u001b[0;32mTrue\u001b[0m\u001b[0;34m)\u001b[0m\u001b[0;34m\u001b[0m\u001b[0m\n\u001b[0m",
            "\u001b[0;32m<ipython-input-8-bade12b85c5d>\u001b[0m in \u001b[0;36mtwo_by_two_solver\u001b[0;34m(a1, b1, c1, a2, b2, c2, LOUD)\u001b[0m\n\u001b[1;32m     19\u001b[0m     \u001b[0;31m#multiplying first equation by -a2/a1\u001b[0m\u001b[0;34m\u001b[0m\u001b[0;34m\u001b[0m\u001b[0m\n\u001b[1;32m     20\u001b[0m     \u001b[0;31m#and then adding it to second equation\u001b[0m\u001b[0;34m\u001b[0m\u001b[0;34m\u001b[0m\u001b[0m\n\u001b[0;32m---> 21\u001b[0;31m     \u001b[0mnew_b2\u001b[0m \u001b[0;34m=\u001b[0m \u001b[0mb2\u001b[0m \u001b[0;34m-\u001b[0m \u001b[0ma2\u001b[0m\u001b[0;34m/\u001b[0m\u001b[0ma1\u001b[0m\u001b[0;34m*\u001b[0m\u001b[0mb1\u001b[0m\u001b[0;34m\u001b[0m\u001b[0m\n\u001b[0m\u001b[1;32m     22\u001b[0m     \u001b[0mnew_c2\u001b[0m \u001b[0;34m=\u001b[0m \u001b[0mc2\u001b[0m \u001b[0;34m-\u001b[0m \u001b[0ma2\u001b[0m\u001b[0;34m/\u001b[0m\u001b[0ma1\u001b[0m\u001b[0;34m*\u001b[0m\u001b[0mc1\u001b[0m\u001b[0;34m\u001b[0m\u001b[0m\n\u001b[1;32m     23\u001b[0m     \u001b[0;31m#solve the new equation 2\u001b[0m\u001b[0;34m\u001b[0m\u001b[0;34m\u001b[0m\u001b[0m\n",
            "\u001b[0;31mZeroDivisionError\u001b[0m: division by zero"
          ]
        }
      ],
      "source": [
        "two_by_two_solver(0,1,2,1,0,3,True)"
      ]
    },
    {
      "cell_type": "markdown",
      "metadata": {
        "id": "FTXAc9FgmUo-"
      },
      "source": [
        "### 2a-ii. Calling functions"
      ]
    },
    {
      "cell_type": "markdown",
      "metadata": {
        "id": "vGq1S_t3mUo_"
      },
      "source": [
        "**Approach above: give inputs in order**\n",
        "\n",
        "We called the function <tt>two_by_two_solver</tt> by listing out the arguments in the order that it expects them <tt>a1, b1, c1, a2, b2, c2, LOUD</tt>.\n",
        "\n",
        "**Another option: use keywords**\n",
        "\n",
        "Python allows you to call them in any order, as long as you are explicit in what goes where."
      ]
    },
    {
      "cell_type": "code",
      "execution_count": null,
      "metadata": {
        "colab": {
          "base_uri": "https://localhost:8080/",
          "height": 104
        },
        "id": "qLckFvibmUo_",
        "outputId": "f64d230f-71a1-4e8b-fe67-8f60f7274e8b"
      },
      "outputs": [
        {
          "name": "stdout",
          "output_type": "stream",
          "text": [
            "The solution to:\n",
            " 4.5 x + 3 y = 10.5 \n",
            " 1.5 x + 3 y = 7.5 \n",
            " is x = 1.0 y= 2.0\n"
          ]
        },
        {
          "data": {
            "text/plain": [
              "[1.0, 2.0]"
            ]
          },
          "execution_count": 12,
          "metadata": {},
          "output_type": "execute_result"
        }
      ],
      "source": [
        "two_by_two_solver(a1 = 4.5, b1 = 3,\n",
        "                  a2 = 1.5, b2 = 3,\n",
        "                  c1 = 10.5, c2 = 7.5, LOUD = True)"
      ]
    },
    {
      "cell_type": "markdown",
      "metadata": {
        "id": "8noqot07mUpC"
      },
      "source": [
        "It is often a good idea to call a function explicitly (with keywords). That way if you mess up the order of the arguments, it does not matter.\n",
        "\n",
        "Notice that in the function definition, the argument <tt>LOUD</tt> has <tt>=False</tt> after it.  This indicates that if the function is called without a value for <tt>LOUD</tt>, it assumes the caller does not what the function to \"be loud\".\n",
        "\n",
        "In other words, <tt>False</tt> is the **default** for argument <tt>LOUD</tt>."
      ]
    },
    {
      "cell_type": "code",
      "execution_count": null,
      "metadata": {
        "colab": {
          "base_uri": "https://localhost:8080/",
          "height": 35
        },
        "id": "AozXfTp0mUpD",
        "outputId": "c3c9f186-1a67-49c0-c3b6-415c3b3a0f02"
      },
      "outputs": [
        {
          "data": {
            "text/plain": [
              "[1.0, 2.0]"
            ]
          },
          "execution_count": 13,
          "metadata": {},
          "output_type": "execute_result"
        }
      ],
      "source": [
        "two_by_two_solver(a1 = 4.5, b1 = 3, a2 = 1.5,\n",
        "                  b2 = 3, c1 = 10.5, c2 = 7.5)"
      ]
    },
    {
      "cell_type": "markdown",
      "metadata": {
        "id": "a2As_U8HmUpG"
      },
      "source": [
        "Notice that it did not print out its spiel about the system."
      ]
    },
    {
      "cell_type": "code",
      "execution_count": null,
      "metadata": {
        "colab": {
          "base_uri": "https://localhost:8080/",
          "height": 35
        },
        "id": "N4H8ulKOmUpG",
        "outputId": "3656a5b5-abc6-45e0-ae2d-a7411bb88a01"
      },
      "outputs": [
        {
          "data": {
            "text/plain": [
              "[3.0, -1.0]"
            ]
          },
          "execution_count": 14,
          "metadata": {},
          "output_type": "execute_result"
        }
      ],
      "source": [
        "two_by_two_solver(1,1,2,a2 = 1, c2 = 0, b2 = 3)"
      ]
    },
    {
      "cell_type": "markdown",
      "metadata": {
        "id": "U4M2x2kAmUpJ"
      },
      "source": [
        "### 2a-iii. Return Values"
      ]
    },
    {
      "cell_type": "markdown",
      "metadata": {
        "id": "t7t-NP3tmUpJ"
      },
      "source": [
        "At the end of the function we have a return statement.  This tells python what the function is returning to the caller.  In this case we return a list that has the solution for $x$ and $y$.  We can store this in a new variable, or do whatever we like with it."
      ]
    },
    {
      "cell_type": "code",
      "execution_count": null,
      "metadata": {
        "colab": {
          "base_uri": "https://localhost:8080/",
          "height": 35
        },
        "id": "qNiFzqD5mUpK",
        "outputId": "476db0b0-a9a3-46ae-8a23-be7e949d7858"
      },
      "outputs": [
        {
          "name": "stdout",
          "output_type": "stream",
          "text": [
            "The list [1.0, 2.0] contains 1.0 and 2.0\n"
          ]
        }
      ],
      "source": [
        "answer = two_by_two_solver(a1 = 4.5, b1 = 3, a2 = 1.5,\n",
        "                           b2 = 3, c1 = 10.5, c2 = 7.5)\n",
        "x = answer[0] #store in the variable x the first value in the list answer\n",
        "y = answer[1] #store in the variable y the first value in the list answer\n",
        "print(\"The list\",answer,\"contains\",x,\"and\",y)"
      ]
    },
    {
      "cell_type": "markdown",
      "metadata": {
        "id": "SzAAQApzKXiq"
      },
      "source": [
        "<div style=\"background-color: rgba(0,255,0,0.05) ; padding: 10px; border: 1px solid darkgreen;\">\n",
        "<b>Activity</b>: Solve the linear system given below and store the answers in `my_x` and `my_y`.\n",
        "</div>"
      ]
    },
    {
      "cell_type": "markdown",
      "metadata": {
        "id": "ld8NWBtJKXir"
      },
      "source": [
        "$$ 2 x -1 y = 3\\\\ -4 x + 3 y = 0.$$"
      ]
    },
    {
      "cell_type": "code",
      "execution_count": null,
      "metadata": {
        "id": "hve0e32sKXir",
        "outputId": "a7b6fd5d-2a44-4e37-9b56-641038566079"
      },
      "outputs": [
        {
          "name": "stdout",
          "output_type": "stream",
          "text": [
            "The solution to:\n",
            " 2 x + -1 y = 3 \n",
            " -4 x + 3 y = 0 \n",
            " is x = 4.5 y= 6.0\n"
          ]
        }
      ],
      "source": [
        "### BEGIN SOLUTION\n",
        "\n",
        "ans = two_by_two_solver(a1=2, b1=-1, c1=3, a2 = -4, b2 = 3, c2 = 0,LOUD=True)\n",
        "\n",
        "my_x = ans[0]\n",
        "my_y = ans[1]\n",
        "\n",
        "### END SOLUTION"
      ]
    },
    {
      "cell_type": "markdown",
      "metadata": {
        "id": "sFrdpv13mUpN"
      },
      "source": [
        "We can do even fancier things, if we are so bold"
      ]
    },
    {
      "cell_type": "code",
      "execution_count": null,
      "metadata": {
        "colab": {
          "base_uri": "https://localhost:8080/",
          "height": 52
        },
        "id": "CJnRIB0EmUpO",
        "outputId": "9052ec88-8026-4818-d91e-070aadb8ea84"
      },
      "outputs": [
        {
          "name": "stdout",
          "output_type": "stream",
          "text": [
            "x = 1.0\n",
            "x = 1.0 y = 2.0\n"
          ]
        }
      ],
      "source": [
        "#just get x\n",
        "x = two_by_two_solver(a1 = 4.5, b1 = 3, a2 = 1.5,\n",
        "                      b2 = 3, c1 = 10.5, c2 = 7.5)[0]\n",
        "print(\"x =\",x)\n",
        "\n",
        "#assign variables to the output on the fly\n",
        "x,y = two_by_two_solver(a1 = 4.5, b1 = 3, a2 = 1.5,\n",
        "                        b2 = 3, c1 = 10.5, c2 = 7.5)\n",
        "print(\"x =\",x,\"y =\",y)"
      ]
    },
    {
      "cell_type": "markdown",
      "metadata": {
        "id": "62Uy2NQAmUpS"
      },
      "source": [
        "These examples are more advanced and they are designed to show you some of the neat tricks you can do in python."
      ]
    },
    {
      "cell_type": "markdown",
      "metadata": {
        "id": "oI3rB4rLmUpT"
      },
      "source": [
        "### 2a-iv. Docstrings and Help"
      ]
    },
    {
      "cell_type": "markdown",
      "metadata": {
        "id": "W4ylc7JWmUpU"
      },
      "source": [
        "Our 2x2 solver code had a long, and pretty detailed comment at the beginning of it.  This is called a **docstring** and it is printed by a user by typing"
      ]
    },
    {
      "cell_type": "code",
      "execution_count": null,
      "metadata": {
        "colab": {
          "base_uri": "https://localhost:8080/",
          "height": 347
        },
        "id": "0xGhyjKCmUpW",
        "outputId": "8774e128-27fa-44e9-f197-aa2e1bf7305f"
      },
      "outputs": [
        {
          "name": "stdout",
          "output_type": "stream",
          "text": [
            "Help on function two_by_two_solver in module __main__:\n",
            "\n",
            "two_by_two_solver(a1, b1, c1, a2, b2, c2, LOUD=False)\n",
            "    Calculate the solution of the system \n",
            "    a1 x + b1 y = c1, \n",
            "    a2 x + b2 y = c2\n",
            "    \n",
            "    Args:\n",
            "        a1: x coefficient in first equation (cannot be zero)\n",
            "        b1: y coefficient in first equation\n",
            "        c1: right-hand side in first equation\n",
            "        a2: x coefficient in second equation \n",
            "        b2: y coefficient in second equation \n",
            "        c2: right-hand side in second equation\n",
            "        LOUD: boolean that decides whether to print out the answer\n",
            "        \n",
            "    Returns:\n",
            "        list containing the solution in the format [x,y]\n",
            "\n"
          ]
        }
      ],
      "source": [
        "help(two_by_two_solver)"
      ]
    },
    {
      "cell_type": "markdown",
      "metadata": {
        "id": "lAJ6D9_UmUpZ"
      },
      "source": [
        "The point of this long comment is to communicate to other people:\n",
        "1. The main idea behind the function.\n",
        "2. What the function expects from you. **Inputs.**\n",
        "3. What the function gives you. **Outputs.**  \n",
        "\n",
        "In this example we can see that we need to provide at least 6 numbers, and possibly an optional boolean.\n",
        "\n",
        "<b>It is good programming practice to include good docstrings.  </b>\n",
        "\n",
        "Let's look at the docstring for some members of the <tt>math</tt> module and the <tt>random</tt> module."
      ]
    },
    {
      "cell_type": "code",
      "execution_count": null,
      "metadata": {
        "colab": {
          "base_uri": "https://localhost:8080/",
          "height": 139
        },
        "id": "N-EncpsVmUpa",
        "outputId": "e329331e-658f-40f9-87ee-c68202fbb28e"
      },
      "outputs": [
        {
          "name": "stdout",
          "output_type": "stream",
          "text": [
            "Help on built-in function fabs in module math:\n",
            "\n",
            "fabs(...)\n",
            "    fabs(x)\n",
            "    \n",
            "    Return the absolute value of the float x.\n",
            "\n"
          ]
        }
      ],
      "source": [
        "import math\n",
        "help(math.fabs)"
      ]
    },
    {
      "cell_type": "code",
      "execution_count": null,
      "metadata": {
        "colab": {
          "base_uri": "https://localhost:8080/",
          "height": 104
        },
        "id": "-LMJYruXmUpc",
        "outputId": "37d7bf12-71ce-406d-d695-ce00462473c7"
      },
      "outputs": [
        {
          "name": "stdout",
          "output_type": "stream",
          "text": [
            "Help on method uniform in module random:\n",
            "\n",
            "uniform(a, b) method of random.Random instance\n",
            "    Get a random number in the range [a, b) or [a, b] depending on rounding.\n",
            "\n"
          ]
        }
      ],
      "source": [
        "import random\n",
        "help(random.uniform)"
      ]
    },
    {
      "cell_type": "markdown",
      "metadata": {
        "id": "AjG89EI9mUpe"
      },
      "source": [
        "We don't have the source code for these functions in front of us, but if we want to know how to call them (and we didn't want to Google® them), the docstrings tell us what to do.\n",
        "\n",
        "You may wonder why those docstrings are a bit different that the one I used.  The format for mine is derived from the <a, href=\"http://google-styleguide.googlecode.com/svn/trunk/pyguide.html#Comments\"> Google coding standards for python docstrings</a>."
      ]
    },
    {
      "cell_type": "code",
      "execution_count": null,
      "metadata": {
        "colab": {
          "base_uri": "https://localhost:8080/",
          "height": 87
        },
        "id": "JrJGqh2PmUpf",
        "outputId": "df4b7b99-0d26-44a6-dbc5-d00f8f0b2ada"
      },
      "outputs": [
        {
          "name": "stdout",
          "output_type": "stream",
          "text": [
            "Help on function nothing in module __main__:\n",
            "\n",
            "nothing()\n",
            "\n"
          ]
        }
      ],
      "source": [
        "def nothing():\n",
        "    #this function does nothing\n",
        "    #docstring?\n",
        "    return 0\n",
        "help(nothing)"
      ]
    },
    {
      "cell_type": "markdown",
      "metadata": {
        "id": "05U9SxiumUpi"
      },
      "source": [
        "## 2b. Scope"
      ]
    },
    {
      "cell_type": "markdown",
      "metadata": {
        "id": "VMozxvm3mUpi"
      },
      "source": [
        "When we call a function, it carves out in the computer's memory its own space. Variables that live in the special space, known as *local scope* are completely different than those in other parts of the program. Here's a simple, but illustrative example:"
      ]
    },
    {
      "cell_type": "markdown",
      "metadata": {
        "id": "PB5s-7nxKXiv"
      },
      "source": [
        "<div style=\"background-color: rgba(0,255,0,0.05) ; padding: 10px; border: 1px solid darkgreen;\">\n",
        "<b>Activity</b>: Before you run the code below, predict the output.\n",
        "</div>"
      ]
    },
    {
      "cell_type": "markdown",
      "metadata": {
        "id": "j44V_VNFKXiv"
      },
      "source": [
        "**Activity - Your Predictions**\n",
        "\n",
        "`x = `\n",
        "\n",
        "`new_x = `\n",
        "\n",
        "`y = `\n",
        "\n",
        "`new_y = `"
      ]
    },
    {
      "cell_type": "code",
      "execution_count": null,
      "metadata": {
        "colab": {
          "base_uri": "https://localhost:8080/"
        },
        "id": "6ib67kwkmUpk",
        "outputId": "6fd7564b-92df-40eb-b39e-e99adaec80fd"
      },
      "outputs": [
        {
          "name": "stdout",
          "output_type": "stream",
          "text": [
            "x = oui  \n",
            "new_x = oui oui oui \n",
            "y = no  \n",
            "new_y = no no no \n"
          ]
        }
      ],
      "source": [
        "def scope_demonstration(input_variable):\n",
        "    ''' A simple demonstration of scoping rules\n",
        "\n",
        "    Args:\n",
        "        input_variable: a string or number\n",
        "\n",
        "    Returns:\n",
        "        x: --REDACTED TO NOT GIVE AWAY THE ACTIVITY ANSWER --\n",
        "    '''\n",
        "    x = input_variable*3\n",
        "    return x\n",
        "\n",
        "#now call the function after defining some variables\n",
        "x = \"oui \"\n",
        "y = \"no \"\n",
        "\n",
        "new_x = scope_demonstration(x)\n",
        "new_y = scope_demonstration(y)\n",
        "print(\"x =\",x,\"\\nnew_x =\",new_x)\n",
        "print(\"y =\",y,\"\\nnew_y =\",new_y)"
      ]
    },
    {
      "cell_type": "markdown",
      "metadata": {
        "id": "koE8_zbcmUpm"
      },
      "source": [
        "When I call <tt>scope_demonstration</tt> it creates its own memory space and any variable I create in there is different than in the rest of the program, even if the variables have the same name.\n",
        "\n",
        "There are many subleties in scoping rules, but this example outlines just about everything that you'll need to know as a new programmer."
      ]
    },
    {
      "cell_type": "markdown",
      "metadata": {
        "id": "rxRevW9UKXiw"
      },
      "source": [
        "A variable declared at the top level Python file, i.e., outside a function, is in the global scope for that file. This is easiest to see in an example:"
      ]
    },
    {
      "cell_type": "code",
      "execution_count": null,
      "metadata": {
        "colab": {
          "base_uri": "https://localhost:8080/"
        },
        "id": "jSUdb0MeKXiw",
        "outputId": "933398da-60fd-46b3-80cd-fe73de7b601c"
      },
      "outputs": [
        {
          "name": "stdout",
          "output_type": "stream",
          "text": [
            "1\n"
          ]
        }
      ],
      "source": [
        "my_var = 1\n",
        "\n",
        "def print_my_var():\n",
        "    ''' Another scope demonstration\n",
        "\n",
        "    Args:\n",
        "        Nothing\n",
        "\n",
        "    Returns:\n",
        "        Nothing\n",
        "\n",
        "    Other:\n",
        "        prints `my_var`\n",
        "\n",
        "    '''\n",
        "    print(my_var)\n",
        "    return None\n",
        "\n",
        "print_my_var()"
      ]
    },
    {
      "cell_type": "markdown",
      "metadata": {
        "id": "X1V0f06vKXix"
      },
      "source": [
        "We were able to access `my_var` inside the function even though it was not an input to a function.\n",
        "\n",
        "The next natural guess is can we modify `my_var` with a function? Let's see."
      ]
    },
    {
      "cell_type": "code",
      "execution_count": null,
      "metadata": {
        "colab": {
          "base_uri": "https://localhost:8080/",
          "height": 339
        },
        "id": "pbDqbuN-KXix",
        "outputId": "76101831-53fc-4a84-9b09-2fc2d3720ca2"
      },
      "outputs": [
        {
          "ename": "UnboundLocalError",
          "evalue": "ignored",
          "output_type": "error",
          "traceback": [
            "\u001b[0;31m---------------------------------------------------------------------------\u001b[0m",
            "\u001b[0;31mUnboundLocalError\u001b[0m                         Traceback (most recent call last)",
            "\u001b[0;32m<ipython-input-3-62f36d02f2a0>\u001b[0m in \u001b[0;36m<module>\u001b[0;34m()\u001b[0m\n\u001b[1;32m     17\u001b[0m     \u001b[0;32mreturn\u001b[0m \u001b[0;32mNone\u001b[0m\u001b[0;34m\u001b[0m\u001b[0;34m\u001b[0m\u001b[0m\n\u001b[1;32m     18\u001b[0m \u001b[0;34m\u001b[0m\u001b[0m\n\u001b[0;32m---> 19\u001b[0;31m \u001b[0mchange_my_var\u001b[0m\u001b[0;34m(\u001b[0m\u001b[0;34m)\u001b[0m\u001b[0;34m\u001b[0m\u001b[0;34m\u001b[0m\u001b[0m\n\u001b[0m\u001b[1;32m     20\u001b[0m \u001b[0mprint\u001b[0m\u001b[0;34m(\u001b[0m\u001b[0;34m\"my_var =\"\u001b[0m\u001b[0;34m,\u001b[0m\u001b[0mmy_var\u001b[0m\u001b[0;34m,\u001b[0m\u001b[0;34m\" outside the function\"\u001b[0m\u001b[0;34m)\u001b[0m\u001b[0;34m\u001b[0m\u001b[0;34m\u001b[0m\u001b[0m\n",
            "\u001b[0;32m<ipython-input-3-62f36d02f2a0>\u001b[0m in \u001b[0;36mchange_my_var\u001b[0;34m()\u001b[0m\n\u001b[1;32m     12\u001b[0m     '''\n\u001b[1;32m     13\u001b[0m \u001b[0;34m\u001b[0m\u001b[0m\n\u001b[0;32m---> 14\u001b[0;31m     \u001b[0mmy_var\u001b[0m \u001b[0;34m=\u001b[0m \u001b[0;36m3\u001b[0m\u001b[0;34m*\u001b[0m\u001b[0mmy_var\u001b[0m \u001b[0;34m+\u001b[0m \u001b[0;36m2\u001b[0m\u001b[0;34m\u001b[0m\u001b[0;34m\u001b[0m\u001b[0m\n\u001b[0m\u001b[1;32m     15\u001b[0m     \u001b[0mprint\u001b[0m\u001b[0;34m(\u001b[0m\u001b[0;34m\"my_var = \"\u001b[0m\u001b[0;34m,\u001b[0m\u001b[0mmy_var\u001b[0m\u001b[0;34m,\u001b[0m\u001b[0;34m\" inside the function\"\u001b[0m\u001b[0;34m)\u001b[0m\u001b[0;34m\u001b[0m\u001b[0;34m\u001b[0m\u001b[0m\n\u001b[1;32m     16\u001b[0m \u001b[0;34m\u001b[0m\u001b[0m\n",
            "\u001b[0;31mUnboundLocalError\u001b[0m: local variable 'my_var' referenced before assignment"
          ]
        }
      ],
      "source": [
        "def change_my_var():\n",
        "    ''' A third scope demonstration\n",
        "\n",
        "    Args:\n",
        "        Nothing\n",
        "\n",
        "    Returns:\n",
        "        Nothing\n",
        "\n",
        "    Other:\n",
        "        Attempts to change `my_var, prints to screen\n",
        "    '''\n",
        "\n",
        "    my_var = 3*my_var + 2\n",
        "    print(\"my_var = \",my_var,\" inside the function\")\n",
        "\n",
        "    return None\n",
        "\n",
        "change_my_var()\n",
        "print(\"my_var =\",my_var,\" outside the function\")"
      ]
    },
    {
      "cell_type": "markdown",
      "metadata": {
        "id": "FRa2tB_iKXiy"
      },
      "source": [
        "We got an error message! In Python, we can only access `my_var` inside functions. We cannot change it inside functions. If we wanted to change my_var, we would need to do the following:"
      ]
    },
    {
      "cell_type": "code",
      "execution_count": null,
      "metadata": {
        "id": "x7vv8dZgKXiy"
      },
      "outputs": [],
      "source": [
        "def change_my_var2():\n",
        "    ''' A third scope demonstration\n",
        "\n",
        "    Args:\n",
        "        Nothing\n",
        "\n",
        "    Returns:\n",
        "        New value of my_var\n",
        "\n",
        "    '''\n",
        "\n",
        "    return 3*my_var + 2\n",
        "\n",
        "my_var = change_my_var2()\n",
        "print(\"Now my_var =\",my_var)"
      ]
    },
    {
      "cell_type": "markdown",
      "metadata": {
        "id": "iUZFuz85KXiy"
      },
      "source": [
        "<div style=\"background-color: rgba(0,0,255,0.05) ; padding: 10px; border: 1px solid darkblue;\">\n",
        "<b>Activity</b>: Take 30 seconds to predict the output of the code below without running it. Below are multiple choice answers.\n",
        "</div>"
      ]
    },
    {
      "cell_type": "code",
      "execution_count": null,
      "metadata": {
        "id": "BETqpKmKKXiy"
      },
      "outputs": [],
      "source": [
        "def my_func1(x,y):\n",
        "    ''' A simple function to demonstrate the nuances of scope\n",
        "\n",
        "    Arguments:\n",
        "        x: scalar real number\n",
        "        y: scalar real number\n",
        "\n",
        "    Returns:\n",
        "        z: scalar real number\n",
        "\n",
        "    '''\n",
        "    z = x + y\n",
        "    x = 3\n",
        "    y = z - x + 1\n",
        "    return z\n",
        "\n",
        "# Run the function\n",
        "x = 1\n",
        "y = 1\n",
        "z = my_func1(x,y)\n",
        "# Print values of x, y, and z to screen\n",
        "print(\"x =\",x,\"  y =\",y,\"  z =\",z)"
      ]
    },
    {
      "cell_type": "markdown",
      "metadata": {
        "id": "NbXj9UoSKXiz"
      },
      "source": [
        "**Class Activity multiple choice answers**:\n",
        "1. x=1, y=1, z=2\n",
        "2. x=1, y=1, z=3\n",
        "3. x=3, y=0, z=2\n",
        "4. x=3, y=0, x=3\n",
        "5. None of these"
      ]
    },
    {
      "cell_type": "code",
      "execution_count": null,
      "metadata": {
        "collapsed": true,
        "id": "KwjCBgX0KXiz"
      },
      "outputs": [],
      "source": [
        "### Create your answer here."
      ]
    },
    {
      "cell_type": "markdown",
      "metadata": {
        "id": "-3eYjGzVmUpn"
      },
      "source": [
        "## 2c. Recursion"
      ]
    },
    {
      "cell_type": "markdown",
      "metadata": {
        "id": "3krkHHQ5KXi0"
      },
      "source": [
        "Below are two functions that calculate factorial with and without recurision."
      ]
    },
    {
      "cell_type": "code",
      "execution_count": null,
      "metadata": {
        "colab": {
          "base_uri": "https://localhost:8080/",
          "height": 69
        },
        "id": "xPp7tbeZmUpp",
        "outputId": "90f914fb-2e29-4657-f752-3947d9054036"
      },
      "outputs": [
        {
          "name": "stdout",
          "output_type": "stream",
          "text": [
            "Enter an integer: 5\n",
            "5 ! = 120\n",
            "5 ! = 120\n"
          ]
        }
      ],
      "source": [
        "def factorial(n, prev=1):\n",
        "    if not((n==1) or (n==0)):\n",
        "        prev = factorial(n-1,prev)*n\n",
        "    return prev\n",
        "\n",
        "def factorial_no_recursion(n):\n",
        "    output = 1;\n",
        "    #can skip 1 because x*1 = 1\n",
        "    for i in range(2,n+1):\n",
        "        output = output*i\n",
        "    return output\n",
        "x = int(input(\"Enter an integer: \"))\n",
        "print(x,\"! =\",factorial(x))\n",
        "print(x,\"! =\",factorial_no_recursion(x))"
      ]
    },
    {
      "cell_type": "markdown",
      "metadata": {
        "id": "jNPXf9AmmUpr"
      },
      "source": [
        "Let's see which is faster. This will use some ipython magic commands for timing execution. We'll compute the factorials of 0 through 20, 100,000 times."
      ]
    },
    {
      "cell_type": "code",
      "execution_count": null,
      "metadata": {
        "colab": {
          "base_uri": "https://localhost:8080/",
          "height": 52
        },
        "id": "ZDJcHnxSmUps",
        "outputId": "fa9a9323-3e4a-40ba-b921-ac70399ccdc8"
      },
      "outputs": [
        {
          "name": "stdout",
          "output_type": "stream",
          "text": [
            "CPU times: user 3.97 s, sys: 0 ns, total: 3.97 s\n",
            "Wall time: 3.97 s\n"
          ]
        }
      ],
      "source": [
        "%%time\n",
        "for times in range(10**5):\n",
        "    for n in range(21):\n",
        "        factorial(n)"
      ]
    },
    {
      "cell_type": "code",
      "execution_count": null,
      "metadata": {
        "colab": {
          "base_uri": "https://localhost:8080/",
          "height": 52
        },
        "id": "JsIooy9SmUpu",
        "outputId": "73da1d63-8e06-4d80-bfab-6ff22054ebe4"
      },
      "outputs": [
        {
          "name": "stdout",
          "output_type": "stream",
          "text": [
            "CPU times: user 1.47 s, sys: 0 ns, total: 1.47 s\n",
            "Wall time: 1.47 s\n"
          ]
        }
      ],
      "source": [
        "%%time\n",
        "for times in range(10**5):\n",
        "    for n in range(21):\n",
        "        factorial_no_recursion(n)"
      ]
    },
    {
      "cell_type": "markdown",
      "metadata": {
        "id": "l6W2nscSmUpw"
      },
      "source": [
        "*Side-tangent*: wall versus CPU user versus CPU clock time:\n",
        "https://stackoverflow.com/questions/7335920/what-specifically-are-wall-clock-time-user-cpu-time-and-system-cpu-time-in-uni\n",
        "(Side-tangents will not appear in tests or assignments, but are given to satisfy your curiosity.)\n",
        "\n",
        "\n",
        "The no recursion version, while not as neat, is nearly 50% faster. It is also possible to have too many levels of recursion."
      ]
    },
    {
      "cell_type": "code",
      "execution_count": null,
      "metadata": {
        "colab": {
          "base_uri": "https://localhost:8080/",
          "height": 478
        },
        "id": "0EI-GBjNmUpx",
        "outputId": "c58e705f-fe78-4e1b-cffc-88449630a23a"
      },
      "outputs": [
        {
          "ename": "NameError",
          "evalue": "name 'factorial' is not defined",
          "output_type": "error",
          "traceback": [
            "\u001b[0;31m---------------------------------------------------------------------------\u001b[0m",
            "\u001b[0;31mNameError\u001b[0m                                 Traceback (most recent call last)",
            "\u001b[0;32m/var/folders/nj/dk1gj0wx7js4pk_4d5v_jyyh0000gp/T/ipykernel_58042/1845316585.py\u001b[0m in \u001b[0;36m<module>\u001b[0;34m\u001b[0m\n\u001b[1;32m      4\u001b[0m \u001b[0;31m#this won't work and prints ~1000 errors\u001b[0m\u001b[0;34m\u001b[0m\u001b[0;34m\u001b[0m\u001b[0;34m\u001b[0m\u001b[0m\n\u001b[1;32m      5\u001b[0m \u001b[0;31m#the errors are not repeated here\u001b[0m\u001b[0;34m\u001b[0m\u001b[0;34m\u001b[0m\u001b[0;34m\u001b[0m\u001b[0m\n\u001b[0;32m----> 6\u001b[0;31m \u001b[0mprint\u001b[0m\u001b[0;34m(\u001b[0m\u001b[0mx\u001b[0m\u001b[0;34m,\u001b[0m\u001b[0;34m\"! =\"\u001b[0m\u001b[0;34m,\u001b[0m\u001b[0mfactorial\u001b[0m\u001b[0;34m(\u001b[0m\u001b[0mx\u001b[0m\u001b[0;34m)\u001b[0m\u001b[0;34m)\u001b[0m\u001b[0;34m\u001b[0m\u001b[0;34m\u001b[0m\u001b[0m\n\u001b[0m",
            "\u001b[0;31mNameError\u001b[0m: name 'factorial' is not defined"
          ]
        }
      ],
      "source": [
        "import sys\n",
        "sys.setrecursionlimit(1000) # change this to answer the home activity question\n",
        "x = 1000\n",
        "#this won't work and prints ~1000 errors\n",
        "#the errors are not repeated here\n",
        "print(x,\"! =\",factorial(x))"
      ]
    },
    {
      "cell_type": "markdown",
      "metadata": {
        "id": "UBy3wBItKXi1"
      },
      "source": [
        "\n",
        "<b>Activity</b>: What is the smallest recursion limit for which <tt>factorial(1000)</tt> works?\n",
        "</div>"
      ]
    },
    {
      "cell_type": "code",
      "execution_count": null,
      "metadata": {
        "colab": {
          "base_uri": "https://localhost:8080/",
          "height": 55
        },
        "id": "QI4oXlKYmUp0",
        "outputId": "4131853e-c431-47de-f092-bd387e56958f"
      },
      "outputs": [
        {
          "name": "stdout",
          "output_type": "stream",
          "text": [
            "1000 ! = 402387260077093773543702433923003985719374864210714632543799910429938512398629020592044208486969404800479988610197196058631666872994808558901323829669944590997424504087073759918823627727188732519779505950995276120874975462497043601418278094646496291056393887437886487337119181045825783647849977012476632889835955735432513185323958463075557409114262417474349347553428646576611667797396668820291207379143853719588249808126867838374559731746136085379534524221586593201928090878297308431392844403281231558611036976801357304216168747609675871348312025478589320767169132448426236131412508780208000261683151027341827977704784635868170164365024153691398281264810213092761244896359928705114964975419909342221566832572080821333186116811553615836546984046708975602900950537616475847728421889679646244945160765353408198901385442487984959953319101723355556602139450399736280750137837615307127761926849034352625200015888535147331611702103968175921510907788019393178114194545257223865541461062892187960223838971476088506276862967146674697562911234082439208160153780889893964518263243671616762179168909779911903754031274622289988005195444414282012187361745992642956581746628302955570299024324153181617210465832036786906117260158783520751516284225540265170483304226143974286933061690897968482590125458327168226458066526769958652682272807075781391858178889652208164348344825993266043367660176999612831860788386150279465955131156552036093988180612138558600301435694527224206344631797460594682573103790084024432438465657245014402821885252470935190620929023136493273497565513958720559654228749774011413346962715422845862377387538230483865688976461927383814900140767310446640259899490222221765904339901886018566526485061799702356193897017860040811889729918311021171229845901641921068884387121855646124960798722908519296819372388642614839657382291123125024186649353143970137428531926649875337218940694281434118520158014123344828015051399694290153483077644569099073152433278288269864602789864321139083506217095002597389863554277196742822248757586765752344220207573630569498825087968928162753848863396909959826280956121450994871701244516461260379029309120889086942028510640182154399457156805941872748998094254742173582401063677404595741785160829230135358081840096996372524230560855903700624271243416909004153690105933983835777939410970027753472000000000000000000000000000000000000000000000000000000000000000000000000000000000000000000000000000000000000000000000000000000000000000000000000000000000000000000000000000000000000000000000000000000000000000000000000000000000000000000000000000000000\n"
          ]
        }
      ],
      "source": [
        "x = 1000\n",
        "#this works\n",
        "answer = factorial_no_recursion(x)\n",
        "print(x,\"! =\",answer)"
      ]
    },
    {
      "cell_type": "markdown",
      "metadata": {
        "id": "1OTTybGrmUp5"
      },
      "source": [
        "By the way, I'm surprised it is giving the correct <a href=\"http://justinwhite.com/big-calc/1000.html\">answer."
      ]
    },
    {
      "cell_type": "markdown",
      "metadata": {
        "id": "TyQ2GN3QmUp9"
      },
      "source": [
        "## 2d. Modules"
      ]
    },
    {
      "cell_type": "markdown",
      "metadata": {
        "id": "XkaByqoPmUp9"
      },
      "source": [
        "Sometimes we have to define many functions and don't want to have one giant source file (in fact this is good programming practice). I've created a file called <tt>sphere.py</tt> in the same directory as this notebook. This file defines two functions <tt>volume</tt> and <tt>surface_area</tt> that compute the volume and surface area of a sphere. Because the file is called <tt>sphere.py</tt> we can import those functions using <tt>import sphere</tt>.  The text of <tt>sphere.py</tt> is\n",
        "<code>\n",
        "def volume(radius):\n",
        "    \"\"\"compute volume of a sphere\n",
        "\n",
        "    Args:\n",
        "    radius: float giving the radius of the sphere\n",
        "\n",
        "    Returns:\n",
        "    volume of the sphere as a float\n",
        "    \"\"\"\n",
        "    return 4.0/3.0*math.pi*radius**3\n",
        "\n",
        "def surface_area(radius):\n",
        "    \"\"\"compute surface area of a sphere\n",
        "\n",
        "    Args:\n",
        "    radius: float giving the radius of the sphere\n",
        "\n",
        "    Returns:\n",
        "    surface area of the sphere as a float\n",
        "    \"\"\"\n",
        "    return 4.0*math.pi*radius**2\n",
        "</code>"
      ]
    },
    {
      "cell_type": "markdown",
      "metadata": {
        "id": "tlLecRQrmUp-"
      },
      "source": [
        "I can use the help function to tell me about the module:"
      ]
    },
    {
      "cell_type": "code",
      "execution_count": null,
      "metadata": {
        "collapsed": true,
        "id": "vLceeHInmUp-"
      },
      "outputs": [],
      "source": [
        "import sphere"
      ]
    },
    {
      "cell_type": "markdown",
      "metadata": {
        "id": "bHY2QBP-mUqE"
      },
      "source": [
        "Now that I have imported the module, we can can the ``help`` to see the docstring."
      ]
    },
    {
      "cell_type": "code",
      "execution_count": null,
      "metadata": {
        "colab": {
          "base_uri": "https://localhost:8080/",
          "height": 503
        },
        "id": "uwNBZ_qDw7dg",
        "outputId": "8bee4987-07da-4cec-f137-39160597e428"
      },
      "outputs": [
        {
          "name": "stdout",
          "output_type": "stream",
          "text": [
            "Help on module sphere:\n",
            "\n",
            "NAME\n",
            "    sphere\n",
            "\n",
            "FUNCTIONS\n",
            "    surface_area(radius)\n",
            "        compute surface area of a sphere\n",
            "        \n",
            "        Args:\n",
            "        radius: float giving the radius of the sphere\n",
            "        \n",
            "        Returns:\n",
            "        surface area of the sphere as a float\n",
            "    \n",
            "    volume(radius)\n",
            "        compute volume of a sphere\n",
            "        \n",
            "        Args:\n",
            "        radius: float giving the radius of the sphere\n",
            "        \n",
            "        Returns:\n",
            "        volume of the sphere as a float\n",
            "\n",
            "FILE\n",
            "    /mnt/data2/students/sub1/ddd_v1_t_wjKq_588328/work/asn333456_3/asn333457_1/work/sphere.py\n",
            "\n",
            "\n"
          ]
        }
      ],
      "source": [
        "help(sphere)"
      ]
    },
    {
      "cell_type": "code",
      "execution_count": null,
      "metadata": {
        "colab": {
          "base_uri": "https://localhost:8080/",
          "height": 357
        },
        "id": "yLMMJ1K2mUqE",
        "outputId": "71322f84-008e-4383-fc77-4475e096a453"
      },
      "outputs": [
        {
          "name": "stdout",
          "output_type": "stream",
          "text": [
            "The volume of a sphere of radius 1.0 cm is 4.1887902047863905 cm**3\n",
            "The surface area of a sphere of radius 1.0 cm is 12.566370614359172 cm**2\n"
          ]
        }
      ],
      "source": [
        "r = 1.0\n",
        "print(\"The volume of a sphere of radius\",r,\"cm is\",\n",
        "      sphere.volume(r),\"cm**3\")\n",
        "print(\"The surface area of a sphere of radius\",r,\"cm is\",\n",
        "      sphere.surface_area(r),\"cm**2\")"
      ]
    },
    {
      "cell_type": "markdown",
      "metadata": {
        "id": "dIlyNiOlmUqL"
      },
      "source": [
        "## 2e. Files"
      ]
    },
    {
      "cell_type": "markdown",
      "metadata": {
        "id": "AAXEv6KhmUqL"
      },
      "source": [
        "It is very easy to read in text files in python. The file <tt>MLMethods.txt</tt>, lists the names of a few different machine learning methods commonly used. It is in the Datasets folder on the course webpage."
      ]
    },
    {
      "cell_type": "markdown",
      "metadata": {
        "id": "SfdodJFxAMQk"
      },
      "source": [
        "In Python, we can read it in very simply:"
      ]
    },
    {
      "cell_type": "code",
      "execution_count": null,
      "metadata": {
        "colab": {
          "base_uri": "https://localhost:8080/"
        },
        "id": "ATuVx4zCmUqM",
        "outputId": "f2794ab7-73b7-41e6-af26-333484ac44fd"
      },
      "outputs": [
        {
          "name": "stdout",
          "output_type": "stream",
          "text": [
            "Feed Forward Neural Network\n",
            "Feed Forward Neural Network\n",
            "Feed Forward Neural Network\n",
            "\n",
            "Gaussian Process Regression\n",
            "Gaussian Process Regression\n",
            "Gaussian Process Regression\n",
            "\n",
            "Kernel Ridge Regression\n",
            "Kernel Ridge Regression\n",
            "Kernel Ridge Regression\n",
            "\n",
            "Lasso Regression\n",
            "Lasso Regression\n",
            "Lasso Regression\n",
            "\n",
            "Principle Component Analysis\n",
            "Principle Component Analysis\n",
            "Principle Component Analysis\n",
            "\n",
            "t-Stochastic Neighborhood Embedding\n",
            "t-Stochastic Neighborhood Embedding\n",
            "t-Stochastic Neighborhood Embedding\n",
            "\n",
            "Autoencoders\n",
            "Autoencoders\n",
            "Autoencoders\n",
            "\n",
            "Reinforcement Learning\n",
            "Reinforcement Learning\n",
            "Reinforcement Learning\n",
            "\n",
            "Generative Adversarial Networks\n",
            "Generative Adversarial Networks\n",
            "Generative Adversarial Networks\n",
            "\n"
          ]
        }
      ],
      "source": [
        "file = open('MLMethods.txt', 'r')\n",
        "#open MLMethods.txt for reading ('r')\n",
        "for line in file:\n",
        "    # Repeat the first 5 characters 3 times\n",
        "    print(line[:]*3)\n",
        "file.close()"
      ]
    },
    {
      "cell_type": "markdown",
      "metadata": {
        "id": "BAQsK1rmmUqQ"
      },
      "source": [
        "Notice how the for loop can iterate through each line of the file. You can also read a line at a time."
      ]
    },
    {
      "cell_type": "code",
      "execution_count": null,
      "metadata": {
        "colab": {
          "base_uri": "https://localhost:8080/"
        },
        "id": "f4YvuXmvmUqQ",
        "outputId": "f3670227-9a3c-46d1-880d-b94769d4cf1e"
      },
      "outputs": [
        {
          "name": "stdout",
          "output_type": "stream",
          "text": [
            "Feed Forward Neural Network\n",
            "\n",
            "Gaussian Process Regression\n",
            "\n"
          ]
        }
      ],
      "source": [
        "file = open('MLMethods.txt', 'r')\n",
        "#open MLMethods.txt for reading ('r')\n",
        "\n",
        "# Read the first line\n",
        "first_line = file.readline()\n",
        "\n",
        "# Read the second line\n",
        "second_line = file.readline()\n",
        "print(first_line)\n",
        "print(second_line)\n",
        "file.close()"
      ]
    },
    {
      "cell_type": "code",
      "execution_count": null,
      "metadata": {
        "colab": {
          "base_uri": "https://localhost:8080/",
          "height": 139
        },
        "id": "v8xsw-EWmUqR",
        "outputId": "cd8058ba-1d3d-4431-ae97-bc2f8d34715f"
      },
      "outputs": [
        {
          "name": "stdout",
          "output_type": "stream",
          "text": [
            "Help on built-in function readline:\n",
            "\n",
            "readline(size=-1, /) method of _io.TextIOWrapper instance\n",
            "    Read until newline or EOF.\n",
            "    \n",
            "    Returns an empty string if EOF is hit immediately.\n",
            "\n"
          ]
        }
      ],
      "source": [
        "help(file.readline)"
      ]
    },
    {
      "cell_type": "markdown",
      "metadata": {
        "id": "vMAp1wpDmUqS"
      },
      "source": [
        "You can also easily write to a file."
      ]
    },
    {
      "cell_type": "code",
      "execution_count": null,
      "metadata": {
        "colab": {
          "base_uri": "https://localhost:8080/"
        },
        "id": "s31YtusPmUqT",
        "outputId": "9823e859-3f59-413e-b7a3-fadfc039b503"
      },
      "outputs": [
        {
          "name": "stdout",
          "output_type": "stream",
          "text": [
            "fedora\n",
            "\n",
            "trilby\n",
            "\n",
            "porkpie\n",
            "\n",
            "tam o'shanter\n",
            "\n",
            "Phrygian cap\n",
            "\n",
            "Beefeaters' hat\n",
            "\n",
            "sombrero\n",
            "\n"
          ]
        }
      ],
      "source": [
        "writeFile = open(\"hats.txt\",\"w\")\n",
        "#open hats.txt to write (clobber if it exists)\n",
        "hats = [\"fedora\",\"trilby\",\"porkpie\",\n",
        "        \"tam o'shanter\",\"Phrygian cap\",\"Beefeaters' hat\",\"sombrero\"]\n",
        "for hat in hats:\n",
        "    writeFile.write(hat + \"\\n\") #add the endline\n",
        "writeFile.close()\n",
        "\n",
        "#now open file and print\n",
        "readFile = open(\"hats.txt\",\"r\")\n",
        "for line in readFile:\n",
        "    print(line)\n",
        "readFile.close()"
      ]
    },
    {
      "cell_type": "markdown",
      "metadata": {
        "id": "-zukY6sZKXi4"
      },
      "source": [
        "We can also use `enumerate` with a text file:"
      ]
    },
    {
      "cell_type": "code",
      "execution_count": null,
      "metadata": {
        "id": "38ZfcFeNKXi4",
        "outputId": "fc5bb203-33b5-4fba-8907-254c6ad0b504"
      },
      "outputs": [
        {
          "name": "stdout",
          "output_type": "stream",
          "text": [
            "Charles de Gaulle\n",
            "\n",
            "Georges Pompidou\n",
            "\n",
            "Valéry Giscard d'Estaing\n",
            "\n",
            "François Mitterrand\n",
            "\n",
            "Jacques Chirac\n",
            "\n",
            "Nicolas Sarkozy\n",
            "\n",
            "François Hollande\n",
            "\n",
            "Emmanuel Macron\n"
          ]
        }
      ],
      "source": [
        "import csv\n",
        "file = open('fifth_republic.txt', 'r')\n",
        "for i,row in enumerate(file):\n",
        "    print(row)"
      ]
    },
    {
      "cell_type": "code",
      "execution_count": null,
      "metadata": {
        "collapsed": true,
        "id": "bydExGuQKXi4"
      },
      "outputs": [],
      "source": []
    },
    {
      "cell_type": "markdown",
      "metadata": {
        "id": "y4DFCNB_cAZ5"
      },
      "source": [
        "##Loop practice and review"
      ]
    },
    {
      "cell_type": "markdown",
      "metadata": {
        "id": "I0lTlDydcAG3"
      },
      "source": [
        "<div style=\"background-color: rgba(0,255,0,0.05) ; padding: 10px; border: 1px solid darkgreen;\">\n",
        "<b>Activity</b>: Fix the three examples below to count from 1 to 10.\n",
        "</div>"
      ]
    },
    {
      "cell_type": "code",
      "execution_count": null,
      "metadata": {
        "colab": {
          "base_uri": "https://localhost:8080/",
          "height": 218
        },
        "id": "JGE7OieVaQZj",
        "outputId": "8dbc55fc-d6af-475b-dfa2-695acdfc89a4"
      },
      "outputs": [
        {
          "ename": "TypeError",
          "evalue": "ignored",
          "output_type": "error",
          "traceback": [
            "\u001b[0;31m---------------------------------------------------------------------------\u001b[0m",
            "\u001b[0;31mTypeError\u001b[0m                                 Traceback (most recent call last)",
            "\u001b[0;32m<ipython-input-7-ed5d61f5584e>\u001b[0m in \u001b[0;36m<module>\u001b[0;34m()\u001b[0m\n\u001b[1;32m      1\u001b[0m \u001b[0;31m## Attempt 1\u001b[0m\u001b[0;34m\u001b[0m\u001b[0;34m\u001b[0m\u001b[0;34m\u001b[0m\u001b[0m\n\u001b[1;32m      2\u001b[0m \u001b[0mN\u001b[0m \u001b[0;34m=\u001b[0m \u001b[0;34m[\u001b[0m\u001b[0;36m1\u001b[0m\u001b[0;34m,\u001b[0m \u001b[0;36m2\u001b[0m\u001b[0;34m,\u001b[0m \u001b[0;36m3\u001b[0m\u001b[0;34m,\u001b[0m \u001b[0;36m4\u001b[0m\u001b[0;34m,\u001b[0m \u001b[0;36m5\u001b[0m\u001b[0;34m,\u001b[0m \u001b[0;36m6\u001b[0m\u001b[0;34m,\u001b[0m \u001b[0;36m7\u001b[0m\u001b[0;34m,\u001b[0m \u001b[0;36m8\u001b[0m\u001b[0;34m,\u001b[0m \u001b[0;36m9\u001b[0m\u001b[0;34m,\u001b[0m \u001b[0;36m10\u001b[0m\u001b[0;34m]\u001b[0m\u001b[0;34m\u001b[0m\u001b[0;34m\u001b[0m\u001b[0m\n\u001b[0;32m----> 3\u001b[0;31m \u001b[0;32mfor\u001b[0m \u001b[0mi\u001b[0m \u001b[0;32min\u001b[0m \u001b[0mrange\u001b[0m\u001b[0;34m(\u001b[0m\u001b[0mN\u001b[0m\u001b[0;34m)\u001b[0m\u001b[0;34m:\u001b[0m\u001b[0;34m\u001b[0m\u001b[0;34m\u001b[0m\u001b[0m\n\u001b[0m\u001b[1;32m      4\u001b[0m     \u001b[0mprint\u001b[0m\u001b[0;34m(\u001b[0m\u001b[0mi\u001b[0m\u001b[0;34m)\u001b[0m\u001b[0;34m\u001b[0m\u001b[0;34m\u001b[0m\u001b[0m\n",
            "\u001b[0;31mTypeError\u001b[0m: 'list' object cannot be interpreted as an integer"
          ]
        }
      ],
      "source": [
        "## Attempt 1\n",
        "N = [1, 2, 3, 4, 5, 6, 7, 8, 9, 10]\n",
        "for i in range(N):\n",
        "    print(i)"
      ]
    },
    {
      "cell_type": "code",
      "execution_count": null,
      "metadata": {
        "colab": {
          "base_uri": "https://localhost:8080/",
          "height": 191
        },
        "id": "7n0I1lW0dGjb",
        "outputId": "2980e82b-0aa2-4587-a4ef-88e8faef47cc"
      },
      "outputs": [
        {
          "name": "stdout",
          "output_type": "stream",
          "text": [
            "2\n",
            "2\n",
            "2\n",
            "2\n",
            "2\n",
            "2\n",
            "2\n",
            "2\n",
            "2\n",
            "2\n"
          ]
        }
      ],
      "source": [
        "## Attempt 2\n",
        "for i in range(len(N)):\n",
        "    print(N[1])"
      ]
    },
    {
      "cell_type": "code",
      "execution_count": null,
      "metadata": {
        "colab": {
          "base_uri": "https://localhost:8080/",
          "height": 191
        },
        "id": "ClFp5KZmcwNL",
        "outputId": "5bb530ba-9db1-4f52-94fb-cc0e66a6d97d"
      },
      "outputs": [
        {
          "name": "stdout",
          "output_type": "stream",
          "text": [
            "1\n",
            "2\n",
            "3\n",
            "4\n",
            "5\n",
            "6\n",
            "7\n",
            "8\n",
            "9\n"
          ]
        }
      ],
      "source": [
        "## Attempt 3\n",
        "for i in range(1,10):\n",
        "    print(i)"
      ]
    },
    {
      "cell_type": "markdown",
      "metadata": {
        "id": "qUr_ziKTqnWL"
      },
      "source": [
        "## 3a. NumPy Arrays"
      ]
    },
    {
      "cell_type": "markdown",
      "metadata": {
        "id": "U7VGvVepqnWM"
      },
      "source": [
        "So far, we have discussed lists, which are containers that hold any type of Python object such as strings, floats, integers, other lists, etc.\n",
        "\n",
        "As scientists and engineers, we often want to store floating point numbers in vectors and matrices to perform linear algebra calculations. In this class, we will use **NumPy**. For a less engineering specific tutorial on NumPy, see https://docs.scipy.org/doc/numpy-1.15.0/user/quickstart.html\n",
        "\n",
        "The basic unit in numpy is a multi-dimensional array:\n",
        "* A one-dimensional (1-D) array is a **vector**\n",
        "* A 2-D array is a **matrix**\n",
        "* A 3-D array is a vector of matrices\n",
        "* etc"
      ]
    },
    {
      "cell_type": "markdown",
      "metadata": {
        "id": "MSqVloiqRTcf"
      },
      "source": [
        "### 3a-i. Getting Started"
      ]
    },
    {
      "cell_type": "markdown",
      "metadata": {
        "id": "rzR1dcxuRTcf"
      },
      "source": [
        "We'll start by loading the numpy module (a.k.a. library)."
      ]
    },
    {
      "cell_type": "code",
      "execution_count": null,
      "metadata": {
        "collapsed": true,
        "id": "VKv-dAG2RTcf"
      },
      "outputs": [],
      "source": [
        "# Import the numpy module (a.k.a library) and give it the \"nickname\" np\n",
        "# Warning: Do not modify this line. The autograde assumes numpy is loades as 'np'\n",
        "import numpy as np"
      ]
    },
    {
      "cell_type": "markdown",
      "metadata": {
        "id": "aeb7Rt3DRTcf"
      },
      "source": [
        "We can now write `np.` to call functions in the numpy library (a.k.a. module). You'll see we place a few standard import statements at the top of most notebooks in this class."
      ]
    },
    {
      "cell_type": "code",
      "execution_count": null,
      "metadata": {
        "colab": {
          "base_uri": "https://localhost:8080/",
          "height": 104
        },
        "id": "g9x9LjJ9qnWN",
        "outputId": "abef1bed-e788-44cf-c253-2e7c1dbd5be4"
      },
      "outputs": [
        {
          "name": "stdout",
          "output_type": "stream",
          "text": [
            "The vector [1 2 3 4]\n",
            "The matrix\n",
            " [[1 2 3]\n",
            " [4 5 6]\n",
            " [7 8 9]]\n"
          ]
        }
      ],
      "source": [
        "# Create a vector\n",
        "a_vector = np.array([1,2,3,4])\n",
        "\n",
        "# Create a matrix\n",
        "a_matrix = np.array([(1,2,3),(4,5,6),(7,8,9)])\n",
        "\n",
        "# Print to the screen\n",
        "print(\"The vector\",a_vector)\n",
        "print(\"The matrix\\n\",a_matrix)"
      ]
    },
    {
      "cell_type": "markdown",
      "metadata": {
        "id": "o0GjLpF5qnWR"
      },
      "source": [
        "Arrays have several **attributes** that you can use to find out information regarding the array you're working with."
      ]
    },
    {
      "cell_type": "code",
      "execution_count": null,
      "metadata": {
        "colab": {
          "base_uri": "https://localhost:8080/",
          "height": 52
        },
        "id": "qsg8MLrXqnWS",
        "outputId": "8f9f7c51-3907-4e7b-a0a7-7d34db98d936"
      },
      "outputs": [
        {
          "name": "stdout",
          "output_type": "stream",
          "text": [
            "The shape of a_vector is  (4,)\n",
            "The shape of a_matrix is  (3, 3)\n"
          ]
        }
      ],
      "source": [
        "#shape tells you the shape\n",
        "print(\"The shape of a_vector is \", a_vector.shape)\n",
        "print(\"The shape of a_matrix is \", a_matrix.shape)"
      ]
    },
    {
      "cell_type": "code",
      "execution_count": null,
      "metadata": {
        "colab": {
          "base_uri": "https://localhost:8080/",
          "height": 52
        },
        "id": "FJPmLTRgqnWU",
        "outputId": "c6e859e6-4fc4-4c9d-de50-ff83e97835b0"
      },
      "outputs": [
        {
          "name": "stdout",
          "output_type": "stream",
          "text": [
            "The dimension of a_vector is  1\n",
            "The dimension of a_matrix is  2\n"
          ]
        }
      ],
      "source": [
        "#ndim tells you the dimensionality of an array\n",
        "print(\"The dimension of a_vector is \", a_vector.ndim)\n",
        "print(\"The dimension of a_matrix is \", a_matrix.ndim)"
      ]
    },
    {
      "cell_type": "code",
      "execution_count": null,
      "metadata": {
        "colab": {
          "base_uri": "https://localhost:8080/",
          "height": 52
        },
        "id": "rOL818DSqnWX",
        "outputId": "5bec0c0d-e27a-4ba8-a20c-0ce9146bf8fc"
      },
      "outputs": [
        {
          "name": "stdout",
          "output_type": "stream",
          "text": [
            "The size of a_vector is  4 =  4\n",
            "The size of a_matrix is  9 = 3 * 3\n"
          ]
        }
      ],
      "source": [
        "#size is the total number of elements =\n",
        "#the product of the number of elements in each dimension\n",
        "print(\"The size of a_vector is \", a_vector.size,\"= \",\n",
        "      a_vector.shape[0])\n",
        "print(\"The size of a_matrix is \", a_matrix.size,\"=\",\n",
        "      a_matrix.shape[0],\"*\",a_matrix.shape[1])"
      ]
    },
    {
      "cell_type": "markdown",
      "metadata": {
        "id": "_apzx-9wRTcg"
      },
      "source": [
        "Notice that `a_matrix.shape` is a list. We can access the number of rows with `a_matrix.shape[0]` and the number of columns with `a_matrix.shape[1]`."
      ]
    },
    {
      "cell_type": "markdown",
      "metadata": {
        "id": "nc2Hqa7HRTch"
      },
      "source": [
        "<div style=\"background-color: rgba(0,255,0,0.05) ; padding: 10px; border: 1px solid darkgreen;\">\n",
        "<b>Activity</b>: Create the array shown below and store it in the variable <tt>my_array</tt>.\n",
        "</div>"
      ]
    },
    {
      "cell_type": "markdown",
      "metadata": {
        "id": "BKCngWegRTch"
      },
      "source": [
        "$$ A = \\begin{bmatrix} 1 & 2 \\\\ 3 & 1 \\\\ 9 & 2 \\end{bmatrix} $$"
      ]
    },
    {
      "cell_type": "code",
      "execution_count": null,
      "metadata": {
        "id": "1FecUaGFRTch",
        "outputId": "6f4fcfc2-fbce-46e7-e4de-38aee439cb20"
      },
      "outputs": [
        {
          "name": "stdout",
          "output_type": "stream",
          "text": [
            "[[1 2]\n",
            " [3 1]\n",
            " [9 2]]\n"
          ]
        }
      ],
      "source": [
        "### BEGIN SOLUTION\n",
        "my_array = np.array([[1,2],[3,1],[9,2]])\n",
        "print(my_array)\n",
        "### END SOLUTION"
      ]
    },
    {
      "cell_type": "markdown",
      "metadata": {
        "id": "EWCLhRl2RTch"
      },
      "source": [
        "You can also re-size an array after you create it:"
      ]
    },
    {
      "cell_type": "code",
      "execution_count": null,
      "metadata": {
        "colab": {
          "base_uri": "https://localhost:8080/",
          "height": 121
        },
        "id": "KsU3Wdd3qnWZ",
        "outputId": "ebc21e24-ec8e-4b86-b04f-78a751df48ca"
      },
      "outputs": [
        {
          "name": "stdout",
          "output_type": "stream",
          "text": [
            "A is now a vector [2 4 6 8] \n",
            "\n",
            "A is now a matrix\n",
            " [[2 4]\n",
            " [6 8]]\n",
            "\n",
            "Now let's shape A back to a vector\n",
            "[2 4 6 8]\n"
          ]
        }
      ],
      "source": [
        "A = np.array([2,4,6,8])\n",
        "print(\"A is now a vector\",A,\"\\n\")\n",
        "A = A.reshape(2,2)\n",
        "print(\"A is now a matrix\\n\",A)\n",
        "print(\"\\nNow let's shape A back to a vector\")\n",
        "print(A.reshape(4))"
      ]
    },
    {
      "cell_type": "markdown",
      "metadata": {
        "id": "8WFf08sERTci"
      },
      "source": [
        "Notice how I needed to assign ``A`` with the reshaped array.  We'll talk more about this later.\n",
        "\n",
        "We can resize `my_array` by stacking the 1st row followed by the 2nd row followed by the 3rd row:"
      ]
    },
    {
      "cell_type": "code",
      "execution_count": null,
      "metadata": {
        "id": "oURBnuG7RTci",
        "outputId": "e9a9fdae-7ff8-4fe2-b21e-449bf2b44e79"
      },
      "outputs": [
        {
          "name": "stdout",
          "output_type": "stream",
          "text": [
            "Before:\n",
            "[[1 2]\n",
            " [3 1]\n",
            " [9 2]]\n",
            "\n",
            "After stacking:\n",
            "[1 2 3 1 9 2]\n"
          ]
        }
      ],
      "source": [
        "print(\"Before:\")\n",
        "print(my_array)\n",
        "\n",
        "print(\"\\nAfter stacking:\")\n",
        "print(my_array.reshape(6))"
      ]
    },
    {
      "cell_type": "markdown",
      "metadata": {
        "id": "3ZfMMdG4RTcj"
      },
      "source": [
        "We can resize `my_array` by stacking the 2nd column under the first column."
      ]
    },
    {
      "cell_type": "code",
      "execution_count": null,
      "metadata": {
        "id": "UWNlSiiyRTcj",
        "outputId": "635f59e8-4a35-4a17-8936-07cdec8a9f40"
      },
      "outputs": [
        {
          "data": {
            "text/plain": [
              "array([1, 3, 9, 2, 1, 2])"
            ]
          },
          "execution_count": 13,
          "metadata": {},
          "output_type": "execute_result"
        }
      ],
      "source": [
        "my_array.reshape(6,order='F')"
      ]
    },
    {
      "cell_type": "markdown",
      "metadata": {
        "id": "PISGBI1fRTcj"
      },
      "source": [
        "I want to highlight two things in the above example:\n",
        "1. NumPy does not distinguish between a row vector and a column vector.\n",
        "2. Specifying `order='F'` stacks by columns, which seems strange at first glance.\n",
        "\n",
        "Regarding 2., a quick check of the documentation, https://docs.scipy.org/doc/numpy/reference/generated/numpy.reshape.html, reveals that `order='C'` is the default. Moreover, `'C'` if shorthand for C-style stacking and `'F'` if short for Fortan-style stacking. C and Fortran are two mature (read \"old\") and popular programming languages for scientific computing. They use different conventions for storing arrays in memory, which means different stacking styles. The main take away is, *when in doubt, peek at the documentation*."
      ]
    },
    {
      "cell_type": "markdown",
      "metadata": {
        "id": "BZUyHQ_ZqnWb"
      },
      "source": [
        "### 3a-ii. Creating Arrays in Neat Ways"
      ]
    },
    {
      "cell_type": "markdown",
      "metadata": {
        "id": "oLrSf-Q5qnWc"
      },
      "source": [
        "The ``arange`` is a Numpy variant of the ``range`` we saw earlier."
      ]
    },
    {
      "cell_type": "code",
      "execution_count": null,
      "metadata": {
        "colab": {
          "base_uri": "https://localhost:8080/",
          "height": 87
        },
        "id": "2mU81aSgqnWd",
        "outputId": "f4b57ea1-339e-4ac1-d1ff-4be2caecd595"
      },
      "outputs": [
        {
          "name": "stdout",
          "output_type": "stream",
          "text": [
            "[0.  0.1 0.2 0.3 0.4 0.5 0.6 0.7 0.8 0.9 1.  1.1 1.2 1.3 1.4 1.5 1.6 1.7\n",
            " 1.8 1.9 2.  2.1 2.2 2.3 2.4 2.5 2.6 2.7 2.8 2.9 3.  3.1 3.2 3.3 3.4 3.5\n",
            " 3.6 3.7 3.8 3.9 4.  4.1 4.2 4.3 4.4 4.5 4.6 4.7 4.8 4.9 5.  5.1 5.2 5.3\n",
            " 5.4 5.5 5.6 5.7 5.8 5.9 6.  6.1 6.2]\n"
          ]
        }
      ],
      "source": [
        "#let's make a vector from 0 to 2*pi in intervals of 0.1\n",
        "dx = 0.1\n",
        "X = np.arange(0,2*np.pi,dx)\n",
        "print(X)"
      ]
    },
    {
      "cell_type": "markdown",
      "metadata": {
        "id": "xTOovzdzqnWh"
      },
      "source": [
        "Typically, however, the ``linspace`` function is actually what you want."
      ]
    },
    {
      "cell_type": "code",
      "execution_count": null,
      "metadata": {
        "colab": {
          "base_uri": "https://localhost:8080/",
          "height": 208
        },
        "id": "NFgaVYPsqnWh",
        "outputId": "c6371ac5-9c83-4ebb-8743-f3154faa39df"
      },
      "outputs": [
        {
          "name": "stdout",
          "output_type": "stream",
          "text": [
            "[0.         0.10300304 0.20600608 0.30900911 0.41201215 0.51501519\n",
            " 0.61801823 0.72102126 0.8240243  0.92702734 1.03003038 1.13303342\n",
            " 1.23603645 1.33903949 1.44204253 1.54504557 1.64804861 1.75105164\n",
            " 1.85405468 1.95705772 2.06006076 2.16306379 2.26606683 2.36906987\n",
            " 2.47207291 2.57507595 2.67807898 2.78108202 2.88408506 2.9870881\n",
            " 3.09009113 3.19309417 3.29609721 3.39910025 3.50210329 3.60510632\n",
            " 3.70810936 3.8111124  3.91411544 4.01711848 4.12012151 4.22312455\n",
            " 4.32612759 4.42913063 4.53213366 4.6351367  4.73813974 4.84114278\n",
            " 4.94414582 5.04714885 5.15015189 5.25315493 5.35615797 5.459161\n",
            " 5.56216404 5.66516708 5.76817012 5.87117316 5.97417619 6.07717923\n",
            " 6.18018227 6.28318531]\n"
          ]
        }
      ],
      "source": [
        "X = np.linspace(start = 0, stop = 2*np.pi, num = 62)\n",
        "print(X)"
      ]
    },
    {
      "cell_type": "markdown",
      "metadata": {
        "id": "T9njl1VSqnWk"
      },
      "source": [
        "Notice how it starts and ends exactly where I told it to."
      ]
    },
    {
      "cell_type": "markdown",
      "metadata": {
        "id": "KsEL6BgZqnWk"
      },
      "source": [
        "If you want an array of zeros or ones, NumPy has a function for you."
      ]
    },
    {
      "cell_type": "code",
      "execution_count": null,
      "metadata": {
        "colab": {
          "base_uri": "https://localhost:8080/",
          "height": 121
        },
        "id": "V6wYkOtsqnWl",
        "outputId": "696adbbf-56da-4e62-d7c5-85aa1015978a"
      },
      "outputs": [
        {
          "name": "stdout",
          "output_type": "stream",
          "text": [
            "The zero vector: [0. 0. 0. 0. 0. 0. 0. 0. 0. 0.]\n",
            "The zero matrix\n",
            " [[0. 0. 0. 0.]\n",
            " [0. 0. 0. 0.]\n",
            " [0. 0. 0. 0.]\n",
            " [0. 0. 0. 0.]]\n"
          ]
        }
      ],
      "source": [
        "zero_vector = np.zeros(10) #vector of length 10\n",
        "zero_matrix = np.zeros((4,4)) #4 by 4 matrix\n",
        "print(\"The zero vector:\",zero_vector)\n",
        "print(\"The zero matrix\\n\",zero_matrix)"
      ]
    },
    {
      "cell_type": "code",
      "execution_count": null,
      "metadata": {
        "colab": {
          "base_uri": "https://localhost:8080/",
          "height": 121
        },
        "id": "qCuLqbNdqnWn",
        "outputId": "20ecf097-ed49-4f6c-93bd-333a40847912"
      },
      "outputs": [
        {
          "name": "stdout",
          "output_type": "stream",
          "text": [
            "The ones vector: [1. 1. 1. 1. 1. 1. 1. 1. 1. 1.]\n",
            "The ones matrix\n",
            " [[1. 1. 1. 1.]\n",
            " [1. 1. 1. 1.]\n",
            " [1. 1. 1. 1.]\n",
            " [1. 1. 1. 1.]]\n"
          ]
        }
      ],
      "source": [
        "ones_vector = np.ones(10) #vector of length 10\n",
        "ones_matrix = np.ones((4,4)) #4 by 4 matrix\n",
        "print(\"The ones vector:\",ones_vector)\n",
        "print(\"The ones matrix\\n\",ones_matrix)"
      ]
    },
    {
      "cell_type": "markdown",
      "metadata": {
        "id": "kkKNr6isRTcl"
      },
      "source": [
        "<div style=\"background-color: rgba(0,255,0,0.05) ; padding: 10px; border: 1px solid darkgreen;\">\n",
        "<b>Activity</b>: Create a 6 by 5 matrix of zeros and store in variable <tt>zeros65</tt>\n",
        "</div>"
      ]
    },
    {
      "cell_type": "code",
      "execution_count": null,
      "metadata": {
        "collapsed": true,
        "id": "NDy9k9WTRTcl"
      },
      "outputs": [],
      "source": [
        "### BEGIN SOLUTION\n",
        "zeros65 = np.zeros((6,5))\n",
        "### END SOLUTION"
      ]
    },
    {
      "cell_type": "markdown",
      "metadata": {
        "id": "hqKBQjH9qnWp"
      },
      "source": [
        "You can also create an array with random entries between 0 and 1:"
      ]
    },
    {
      "cell_type": "code",
      "execution_count": null,
      "metadata": {
        "colab": {
          "base_uri": "https://localhost:8080/",
          "height": 208
        },
        "id": "KcQnY8S_qnWq",
        "outputId": "e8e01911-c62d-4bf8-b654-ff38e834d7f9"
      },
      "outputs": [
        {
          "name": "stdout",
          "output_type": "stream",
          "text": [
            "Here's a random 2 x 3 matrix\n",
            " [[0.49191295 0.73946524 0.46619675]\n",
            " [0.66810352 0.58899305 0.47753335]]\n",
            "\n",
            "Another example\n",
            "[[ 5.06876002 -2.46001143  0.69689121]\n",
            " [-4.00247608 -4.32306291 -1.71052958]\n",
            " [-0.70491519  1.26709111  2.13035341]]\n",
            "\n",
            "A third example\n",
            "[3 1 4 1 1 5 5 1 1 3]\n"
          ]
        }
      ],
      "source": [
        "random_matrix = np.random.rand(2,3) #random 2 x 3 matrix\n",
        "print(\"Here's a random 2 x 3 matrix\\n\",random_matrix)\n",
        "\n",
        "print(\"\\nAnother example\")\n",
        "\n",
        "#make a random array between two numbers\n",
        "print(np.random.uniform(low=-5,high=6,size=(3,3)))\n",
        "\n",
        "#make random integers\n",
        "\n",
        "print(\"\\nA third example\")\n",
        "print(np.random.randint(low=1,high=6,size=10))"
      ]
    },
    {
      "cell_type": "markdown",
      "metadata": {
        "id": "jUy0074FqnWt"
      },
      "source": [
        "Finally, you may want to create an **identity matrix**:"
      ]
    },
    {
      "cell_type": "code",
      "execution_count": null,
      "metadata": {
        "colab": {
          "base_uri": "https://localhost:8080/",
          "height": 69
        },
        "id": "KV_RJJ51qnWt",
        "outputId": "3324d107-50ce-4757-df80-fdb72b73d49b"
      },
      "outputs": [
        {
          "name": "stdout",
          "output_type": "stream",
          "text": [
            "[[1. 0. 0.]\n",
            " [0. 1. 0.]\n",
            " [0. 0. 1.]]\n"
          ]
        }
      ],
      "source": [
        "#3 x 3 identity matrix\n",
        "identity33 = np.identity(3)\n",
        "print(identity33)"
      ]
    },
    {
      "cell_type": "markdown",
      "metadata": {
        "id": "V36GZ5gWRTcn"
      },
      "source": [
        "<div style=\"background-color: rgba(0,255,0,0.05) ; padding: 10px; border: 1px solid darkgreen;\">\n",
        "<b>Activity</b>: Read the documentation for <tt>vstack</tt> and <tt>hstack</tt>. Then create the following array in Python and store it in variable <tt>M</tt>. Hint: How can you use <tt>vstack</tt>, <tt>identity</tt>, and <tt>zeros</tt> together?\n",
        "</div>"
      ]
    },
    {
      "cell_type": "markdown",
      "metadata": {
        "id": "k7jcO-jYRTcn"
      },
      "source": [
        "https://docs.scipy.org/doc/numpy/reference/generated/numpy.vstack.html\n",
        "\n",
        "https://docs.scipy.org/doc/numpy/reference/generated/numpy.hstack.html\n",
        "\n",
        "$$ M = \\begin{bmatrix} 1 & 0 & 0 \\\\ 0 & 1 & 0 \\\\ 0 & 0 & 1 \\\\ 0 & 0 & 0 \\end{bmatrix}$$"
      ]
    },
    {
      "cell_type": "code",
      "execution_count": null,
      "metadata": {
        "id": "S_sMsB78RTcn",
        "outputId": "f6eb9fb1-46ad-4254-b9ce-6ece39efcb09"
      },
      "outputs": [
        {
          "name": "stdout",
          "output_type": "stream",
          "text": [
            "[[1. 0. 0.]\n",
            " [0. 1. 0.]\n",
            " [0. 0. 1.]\n",
            " [0. 0. 0.]]\n"
          ]
        }
      ],
      "source": [
        "### BEGIN SOLUTION\n",
        "M = np.vstack([np.identity(3), np.zeros(3)])\n",
        "print(M)\n",
        "### END SOLUTION"
      ]
    },
    {
      "cell_type": "markdown",
      "metadata": {
        "id": "xCRFBLk3qnWw"
      },
      "source": [
        "### 3a-iii. Operations on Arrays"
      ]
    },
    {
      "cell_type": "markdown",
      "metadata": {
        "id": "GraFJMdEqnWx"
      },
      "source": [
        "NumPy also defines arithmetic operations mostly in the way that you would expect."
      ]
    },
    {
      "cell_type": "code",
      "execution_count": null,
      "metadata": {
        "colab": {
          "base_uri": "https://localhost:8080/",
          "height": 52
        },
        "id": "2g3FZI5YqnWy",
        "outputId": "0209954a-a50d-4fbc-bd06-70a3d698052d"
      },
      "outputs": [
        {
          "name": "stdout",
          "output_type": "stream",
          "text": [
            "[1. 1. 1.] + [2. 2. 2.] = [3. 3. 3.]\n",
            "[1. 1. 1.] - [2. 2. 2.] = [-1. -1. -1.]\n"
          ]
        }
      ],
      "source": [
        "#vector addition\n",
        "x = np.ones(3) #3-vector of ones\n",
        "y = 3*np.ones(3)-1 #3-vector of 2's\n",
        "print(x,\"+\",y,\"=\",x+y)\n",
        "print(x,\"-\",y,\"=\",x-y)"
      ]
    },
    {
      "cell_type": "markdown",
      "metadata": {
        "id": "n29Tiqq_qnW1"
      },
      "source": [
        "Multiplication and division are **element-wise**, which may not be what you expect, but it is helpful."
      ]
    },
    {
      "cell_type": "code",
      "execution_count": null,
      "metadata": {
        "colab": {
          "base_uri": "https://localhost:8080/",
          "height": 35
        },
        "id": "hZbLj-Dpew9y",
        "outputId": "7245a56f-aec8-409e-a827-980b7c6b9097"
      },
      "outputs": [
        {
          "data": {
            "text/plain": [
              "array([1., 1., 1.])"
            ]
          },
          "execution_count": 25,
          "metadata": {},
          "output_type": "execute_result"
        }
      ],
      "source": [
        "x"
      ]
    },
    {
      "cell_type": "code",
      "execution_count": null,
      "metadata": {
        "colab": {
          "base_uri": "https://localhost:8080/",
          "height": 52
        },
        "id": "OH1vp8BGqnW1",
        "outputId": "b2059c9b-1bae-4f76-a5ac-8754b686f6f9"
      },
      "outputs": [
        {
          "name": "stdout",
          "output_type": "stream",
          "text": [
            "[1. 1. 1.] * [1. 2. 3.] = [1. 2. 3.]\n",
            "[1. 1. 1.] / [1. 2. 3.] = [1.         0.5        0.33333333]\n"
          ]
        }
      ],
      "source": [
        "y = np.array([1.0,2.0,3.0])\n",
        "print(x,\"*\",y,\"=\",x*y)\n",
        "print(x,\"/\",y,\"=\",x/y)"
      ]
    },
    {
      "cell_type": "markdown",
      "metadata": {
        "id": "w_yJLYUBqnW3"
      },
      "source": [
        "If you want the dot product, you have to use the ``dot`` function:"
      ]
    },
    {
      "cell_type": "code",
      "execution_count": null,
      "metadata": {
        "colab": {
          "base_uri": "https://localhost:8080/",
          "height": 35
        },
        "id": "9-RhhCHiqnW4",
        "outputId": "79f0a300-5f36-461b-dbfd-e6c576d1f641"
      },
      "outputs": [
        {
          "name": "stdout",
          "output_type": "stream",
          "text": [
            "[1. 1. 1.] . [1. 2. 3.] = 6.0\n"
          ]
        }
      ],
      "source": [
        "print(x,\".\",y,\"=\",np.dot(x,y))"
      ]
    },
    {
      "cell_type": "markdown",
      "metadata": {
        "id": "klxdPqmDqnW6"
      },
      "source": [
        "<div style=\"background-color: rgba(0,255,0,0.05) ; padding: 10px; border: 1px solid darkgreen;\">\n",
        "<b>Activity</b>: Predict what will happen when you run the code below.\n",
        "</div>"
      ]
    },
    {
      "cell_type": "code",
      "execution_count": null,
      "metadata": {
        "colab": {
          "base_uri": "https://localhost:8080/",
          "height": 201
        },
        "id": "aoX1sCuyqnW7",
        "outputId": "7ec967d8-8a37-4871-fd05-95bb8d61a90b"
      },
      "outputs": [
        {
          "ename": "ValueError",
          "evalue": "operands could not be broadcast together with shapes (3,) (4,) ",
          "output_type": "error",
          "traceback": [
            "\u001b[0;31m---------------------------------------------------------------------------\u001b[0m",
            "\u001b[0;31mValueError\u001b[0m                                Traceback (most recent call last)",
            "\u001b[0;32m<ipython-input-28-178b01ba410c>\u001b[0m in \u001b[0;36m<module>\u001b[0;34m()\u001b[0m\n\u001b[1;32m      1\u001b[0m \u001b[0mx\u001b[0m \u001b[0;34m=\u001b[0m \u001b[0mnp\u001b[0m\u001b[0;34m.\u001b[0m\u001b[0marray\u001b[0m\u001b[0;34m(\u001b[0m\u001b[0;34m[\u001b[0m\u001b[0;36m1\u001b[0m\u001b[0;34m,\u001b[0m\u001b[0;36m2.5\u001b[0m\u001b[0;34m,\u001b[0m\u001b[0;36m5\u001b[0m\u001b[0;34m]\u001b[0m\u001b[0;34m)\u001b[0m\u001b[0;34m\u001b[0m\u001b[0m\n\u001b[1;32m      2\u001b[0m \u001b[0my\u001b[0m \u001b[0;34m=\u001b[0m \u001b[0mnp\u001b[0m\u001b[0;34m.\u001b[0m\u001b[0marray\u001b[0m\u001b[0;34m(\u001b[0m\u001b[0;34m[\u001b[0m\u001b[0;36m4\u001b[0m\u001b[0;34m,\u001b[0m\u001b[0;36m6\u001b[0m\u001b[0;34m,\u001b[0m\u001b[0;36m7\u001b[0m\u001b[0;34m,\u001b[0m\u001b[0;36m9.0\u001b[0m\u001b[0;34m]\u001b[0m\u001b[0;34m)\u001b[0m\u001b[0;34m\u001b[0m\u001b[0m\n\u001b[0;32m----> 3\u001b[0;31m \u001b[0mprint\u001b[0m\u001b[0;34m(\u001b[0m\u001b[0mx\u001b[0m\u001b[0;34m+\u001b[0m\u001b[0my\u001b[0m\u001b[0;34m)\u001b[0m\u001b[0;34m\u001b[0m\u001b[0m\n\u001b[0m",
            "\u001b[0;31mValueError\u001b[0m: operands could not be broadcast together with shapes (3,) (4,) "
          ]
        }
      ],
      "source": [
        "x = np.array([1,2.5,5])\n",
        "y = np.array([4,6,7,9.0])\n",
        "print(x+y)"
      ]
    },
    {
      "cell_type": "markdown",
      "metadata": {
        "id": "1HXrgdw0qnW9"
      },
      "source": [
        "Matrices work about the same way."
      ]
    },
    {
      "cell_type": "code",
      "execution_count": null,
      "metadata": {
        "colab": {
          "base_uri": "https://localhost:8080/",
          "height": 225
        },
        "id": "JOI-vxI-qnW9",
        "outputId": "1bba5ef2-a954-4aea-fcbd-30bd44ac0c44"
      },
      "outputs": [
        {
          "name": "stdout",
          "output_type": "stream",
          "text": [
            "The sum of\n",
            " [[1. 0. 0.]\n",
            " [0. 1. 0.]\n",
            " [0. 0. 1.]] \n",
            "and\n",
            " [[1 2 3]\n",
            " [1 2 3]\n",
            " [1 2 3]] \n",
            "is\n",
            " [[2. 2. 3.]\n",
            " [1. 3. 3.]\n",
            " [1. 2. 4.]]\n"
          ]
        }
      ],
      "source": [
        "silly_matrix = np.array([(1,2,3),(1,2,3),(1,2,3)])\n",
        "print(\"The sum of\\n\",identity33,\"\\nand\\n\",\n",
        "      silly_matrix,\"\\nis\\n\",identity33+silly_matrix)"
      ]
    },
    {
      "cell_type": "markdown",
      "metadata": {
        "id": "Ah5uzq2rqnXA"
      },
      "source": [
        "Multiplication and division are **element-wise**:"
      ]
    },
    {
      "cell_type": "code",
      "execution_count": null,
      "metadata": {
        "colab": {
          "base_uri": "https://localhost:8080/",
          "height": 69
        },
        "id": "nBn4HpXfqnXA",
        "outputId": "2c8f437b-4987-46c3-9a7f-2fecbd950051"
      },
      "outputs": [
        {
          "data": {
            "text/plain": [
              "array([[1., 0., 0.],\n",
              "       [0., 2., 0.],\n",
              "       [0., 0., 3.]])"
            ]
          },
          "execution_count": 32,
          "metadata": {},
          "output_type": "execute_result"
        }
      ],
      "source": [
        "identity33 * silly_matrix"
      ]
    },
    {
      "cell_type": "code",
      "execution_count": null,
      "metadata": {
        "colab": {
          "base_uri": "https://localhost:8080/",
          "height": 69
        },
        "id": "wHqQo7swqnXD",
        "outputId": "686b0f0b-69fa-41d2-9ae3-ce9e27b3d2a6"
      },
      "outputs": [
        {
          "data": {
            "text/plain": [
              "array([[1.        , 0.        , 0.        ],\n",
              "       [0.        , 0.5       , 0.        ],\n",
              "       [0.        , 0.        , 0.33333333]])"
            ]
          },
          "execution_count": 33,
          "metadata": {},
          "output_type": "execute_result"
        }
      ],
      "source": [
        "identity33 / silly_matrix"
      ]
    },
    {
      "cell_type": "markdown",
      "metadata": {
        "id": "gcY69xxHqnXF"
      },
      "source": [
        "The ``dot`` function will give you the **matrix product**:"
      ]
    },
    {
      "cell_type": "code",
      "execution_count": null,
      "metadata": {
        "colab": {
          "base_uri": "https://localhost:8080/",
          "height": 225
        },
        "id": "HBtGWBd7qnXG",
        "outputId": "e56e89a6-1202-4a1e-e04a-96544da9aba8"
      },
      "outputs": [
        {
          "name": "stdout",
          "output_type": "stream",
          "text": [
            "The matrix product of\n",
            " [[1. 0. 0.]\n",
            " [0. 1. 0.]\n",
            " [0. 0. 1.]] \n",
            "and\n",
            " [[1 2 3]\n",
            " [1 2 3]\n",
            " [1 2 3]] \n",
            "is\n",
            " [[1. 2. 3.]\n",
            " [1. 2. 3.]\n",
            " [1. 2. 3.]]\n"
          ]
        }
      ],
      "source": [
        "print(\"The matrix product of\\n\",identity33,\n",
        "      \"\\nand\\n\",silly_matrix,\"\\nis\\n\",np.dot(identity33,silly_matrix))"
      ]
    },
    {
      "cell_type": "code",
      "execution_count": null,
      "metadata": {
        "colab": {
          "base_uri": "https://localhost:8080/",
          "height": 87
        },
        "id": "ZHBFcLjLqnXI",
        "outputId": "19b1e457-4163-4ad4-8a37-19f17cbf240d"
      },
      "outputs": [
        {
          "name": "stdout",
          "output_type": "stream",
          "text": [
            "[[1 2 3]\n",
            " [1 2 3]\n",
            " [1 2 3]] times [1. 2. 3.] is\n",
            "[14. 14. 14.]\n"
          ]
        }
      ],
      "source": [
        "#matrix times a vector\n",
        "y = np.array([1.0,2.0,3.0])\n",
        "print(silly_matrix,\"times\", y, \"is\")\n",
        "print(np.dot(silly_matrix,y))"
      ]
    },
    {
      "cell_type": "markdown",
      "metadata": {
        "id": "wy3cqp4HRTc0"
      },
      "source": [
        "Writing `np.dot` can get tedious. You can also use the `@` symbol for matrix multiplication:"
      ]
    },
    {
      "cell_type": "code",
      "execution_count": null,
      "metadata": {
        "id": "3eewgFf_RTc0",
        "outputId": "c77714bd-4b9c-4617-c550-e3d56b51b981"
      },
      "outputs": [
        {
          "name": "stdout",
          "output_type": "stream",
          "text": [
            "[14. 14. 14.]\n"
          ]
        }
      ],
      "source": [
        "print(silly_matrix @ y)"
      ]
    },
    {
      "cell_type": "markdown",
      "metadata": {
        "id": "0b7S8aRkqnXL"
      },
      "source": [
        "### 3a-iv. Universal Functions"
      ]
    },
    {
      "cell_type": "markdown",
      "metadata": {
        "id": "Bf4iXE3aqnXL"
      },
      "source": [
        "NumPy also provides universal functions that operate on each element of an array.  Common mathematical functions are defined in this way."
      ]
    },
    {
      "cell_type": "code",
      "execution_count": null,
      "metadata": {
        "colab": {
          "base_uri": "https://localhost:8080/",
          "height": 520
        },
        "id": "hp-q82PDqnXM",
        "outputId": "75fd0030-641b-4d14-e0c1-4b93e8df3bf3"
      },
      "outputs": [
        {
          "name": "stdout",
          "output_type": "stream",
          "text": [
            "[0.         0.10300304 0.20600608 0.30900911 0.41201215 0.51501519\n",
            " 0.61801823 0.72102126 0.8240243  0.92702734 1.03003038 1.13303342\n",
            " 1.23603645 1.33903949 1.44204253 1.54504557 1.64804861 1.75105164\n",
            " 1.85405468 1.95705772 2.06006076 2.16306379 2.26606683 2.36906987\n",
            " 2.47207291 2.57507595 2.67807898 2.78108202 2.88408506 2.9870881\n",
            " 3.09009113 3.19309417 3.29609721 3.39910025 3.50210329 3.60510632\n",
            " 3.70810936 3.8111124  3.91411544 4.01711848 4.12012151 4.22312455\n",
            " 4.32612759 4.42913063 4.53213366 4.6351367  4.73813974 4.84114278\n",
            " 4.94414582 5.04714885 5.15015189 5.25315493 5.35615797 5.459161\n",
            " 5.56216404 5.66516708 5.76817012 5.87117316 5.97417619 6.07717923\n",
            " 6.18018227 6.28318531]\n",
            "\n",
            "\n",
            "[ 0.00000000e+00  1.02820997e-01  2.04552066e-01  3.04114832e-01\n",
            "  4.00453906e-01  4.92548068e-01  5.79421098e-01  6.60152121e-01\n",
            "  7.33885366e-01  7.99839245e-01  8.57314628e-01  9.05702263e-01\n",
            "  9.44489229e-01  9.73264374e-01  9.91722674e-01  9.99668468e-01\n",
            "  9.97017526e-01  9.83797952e-01  9.60149874e-01  9.26323968e-01\n",
            "  8.82678798e-01  8.29677014e-01  7.67880446e-01  6.97944155e-01\n",
            "  6.20609482e-01  5.36696194e-01  4.47093793e-01  3.52752087e-01\n",
            "  2.54671120e-01  1.53890577e-01  5.14787548e-02 -5.14787548e-02\n",
            " -1.53890577e-01 -2.54671120e-01 -3.52752087e-01 -4.47093793e-01\n",
            " -5.36696194e-01 -6.20609482e-01 -6.97944155e-01 -7.67880446e-01\n",
            " -8.29677014e-01 -8.82678798e-01 -9.26323968e-01 -9.60149874e-01\n",
            " -9.83797952e-01 -9.97017526e-01 -9.99668468e-01 -9.91722674e-01\n",
            " -9.73264374e-01 -9.44489229e-01 -9.05702263e-01 -8.57314628e-01\n",
            " -7.99839245e-01 -7.33885366e-01 -6.60152121e-01 -5.79421098e-01\n",
            " -4.92548068e-01 -4.00453906e-01 -3.04114832e-01 -2.04552066e-01\n",
            " -1.02820997e-01 -2.44929360e-16]\n"
          ]
        }
      ],
      "source": [
        "#recall we defined X as a linspace from 0 to 2pi\n",
        "print(X)\n",
        "\n",
        "# Print an empty line\n",
        "print(\"\\n\")\n",
        "\n",
        "#taking the sin(X) should be one whole sine wave\n",
        "print(np.sin(X))"
      ]
    },
    {
      "cell_type": "code",
      "execution_count": null,
      "metadata": {
        "colab": {
          "base_uri": "https://localhost:8080/",
          "height": 265
        },
        "id": "GDq7eQ_7qnXR",
        "outputId": "e52e1404-5f60-448d-aae1-07b334dab3aa"
      },
      "outputs": [
        {
          "data": {
            "image/png": "[encoded data removed]",
            "text/plain": [
              "<Figure size 432x288 with 1 Axes>"
            ]
          },
          "metadata": {},
          "output_type": "display_data"
        }
      ],
      "source": [
        "import matplotlib.pyplot as plt\n",
        "\n",
        "#the next line is only needed in iPython notebooks\n",
        "%matplotlib inline\n",
        "\n",
        "# Create a plot. We'll learn more about this below\n",
        "plt.plot(X,np.sin(X));\n",
        "plt.axis([0,2*np.pi,-1.05,1.05])\n",
        "plt.show()"
      ]
    },
    {
      "cell_type": "markdown",
      "metadata": {
        "id": "0VlrFLyORTc1"
      },
      "source": [
        "<b>Activity</b>: Copy the code from above to below. Then modify to plot cosine instead of sine.\n",
        "</div>"
      ]
    },
    {
      "cell_type": "code",
      "execution_count": null,
      "metadata": {
        "id": "9P9qtqBgRTc2",
        "outputId": "3e10ed37-a566-48ab-f856-ca5bc182613a"
      },
      "outputs": [
        {
          "data": {
            "image/png": "[encoded data removed]",
            "text/plain": [
              "<Figure size 432x288 with 1 Axes>"
            ]
          },
          "metadata": {},
          "output_type": "display_data"
        }
      ],
      "source": [
        "import matplotlib.pyplot as plt\n",
        "\n",
        "#the next line is only needed in iPython notebooks\n",
        "%matplotlib inline\n",
        "### BEGIN SOLUTION\n",
        "# Create a plot. We'll learn more about this below\n",
        "plt.plot(X,np.cos(X));\n",
        "plt.axis([0,2*np.pi,-1.05,1.05])\n",
        "plt.show()\n",
        "### END SOLUTION"
      ]
    },
    {
      "cell_type": "markdown",
      "metadata": {
        "id": "hVTWyRgyqnXT"
      },
      "source": [
        "### 3a-v. Copying Arrays"
      ]
    },
    {
      "cell_type": "markdown",
      "metadata": {
        "id": "8YOPAODoqnXU"
      },
      "source": [
        "When you assign a new variable name to an existing array, it is the same as giving two names for the object."
      ]
    },
    {
      "cell_type": "code",
      "execution_count": null,
      "metadata": {
        "colab": {
          "base_uri": "https://localhost:8080/",
          "height": 69
        },
        "id": "_VLZmvJ1qnXU",
        "outputId": "32ade637-630b-4228-dfa3-a7e52a7e7070"
      },
      "outputs": [
        {
          "name": "stdout",
          "output_type": "stream",
          "text": [
            "[1. 2. 3. 4. 5. 6.]\n",
            "The value of array a is [1.   2.   2.56 4.   5.   6.  ]\n",
            "The value of array b is [1.   2.   2.56 4.   5.   6.  ]\n"
          ]
        }
      ],
      "source": [
        "a = np.array([1.0,2,3,4,5,6])\n",
        "print(a)\n",
        "b = a # this will make a and b different names for the same array\n",
        "b[2] = 2.56 #change b at position 2, also changes a\n",
        "print(\"The value of array a is\",a)\n",
        "print(\"The value of array b is\",b)"
      ]
    },
    {
      "cell_type": "markdown",
      "metadata": {
        "id": "XYqm-VtwqnXW"
      },
      "source": [
        "**Warning to MATLAB users:** MATLAB would not change `a` with the assignment `b[2] = 2.56`. Python and MATLAB behave differently in this respect."
      ]
    },
    {
      "cell_type": "markdown",
      "metadata": {
        "id": "Kc0trDOTqnXW"
      },
      "source": [
        "When you pass an array to a function, the **function does not copy the array**, it just assigns that array another name as in the previous example."
      ]
    },
    {
      "cell_type": "code",
      "execution_count": null,
      "metadata": {
        "colab": {
          "base_uri": "https://localhost:8080/",
          "height": 52
        },
        "id": "pRQtdHjVgt-y",
        "outputId": "77740348-970f-40de-9314-d622186b66c9"
      },
      "outputs": [
        {
          "name": "stdout",
          "output_type": "stream",
          "text": [
            "['apples', 'grapes']\n",
            "['apples', 'grapes']\n"
          ]
        }
      ],
      "source": [
        "a1 = [\"apples\",\"oranges\"]\n",
        "b1 = a1\n",
        "b1[1] = \"grapes\"\n",
        "print(a1)\n",
        "print(b1)"
      ]
    },
    {
      "cell_type": "code",
      "execution_count": null,
      "metadata": {
        "colab": {
          "base_uri": "https://localhost:8080/",
          "height": 52
        },
        "id": "adRTQkiYqnXX",
        "outputId": "42e7a8eb-0120-4bcc-c0e5-edf1e99207a4"
      },
      "outputs": [
        {
          "name": "stdout",
          "output_type": "stream",
          "text": [
            "Before the function a = [1. 2. 3. 4. 5. 6.]\n",
            "After the function a = [-1.e+06  2.e+00  3.e+00  4.e+00  5.e+00  6.e+00]\n"
          ]
        }
      ],
      "source": [
        "def devious_function(func_array):\n",
        "    func_array[0] = -1.0e6 #changes the value of array passed in\n",
        "\n",
        "a = np.array([1.0,2,3,4,5,6])\n",
        "print(\"Before the function a =\",a)\n",
        "devious_function(a)\n",
        "print(\"After the function a =\",a)"
      ]
    },
    {
      "cell_type": "code",
      "execution_count": null,
      "metadata": {
        "id": "MiRZy2-JqnXY",
        "outputId": "16b074ce-eefb-41bb-df0c-37e3934fdf25"
      },
      "outputs": [
        {
          "name": "stdout",
          "output_type": "stream",
          "text": [
            "Before the function a = 1\n",
            "After the function a = 1\n"
          ]
        }
      ],
      "source": [
        "def less_devious_function(func_float):\n",
        "    func_float = 9.9 #changes local copy of func_float\n",
        "a = 1\n",
        "print(\"Before the function a =\",a)\n",
        "less_devious_function(a)\n",
        "print(\"After the function a =\",a)"
      ]
    },
    {
      "cell_type": "markdown",
      "metadata": {
        "id": "UN4PzE8SqnXb"
      },
      "source": [
        "This is different than what we saw previously for passing floats, integers, booleans, and strings to functions.\n",
        "\n",
        "*Why would Python do this, besides to just confuse me!?!* you ask.\n",
        "\n",
        "Imagine a NumPy array has millions of elements. It is best for efficient memory usage if functions do not make multiple copies of millions of elements.\n",
        "\n",
        "**Summary:**\n",
        "* Floats, integers, booleans, strings: You do NOT need to worry about `.copy()`. These are called primitive types in Python.\n",
        "* Lists, arrays, dictionaries, and anything else. You need to worry about `.copy()`."
      ]
    },
    {
      "cell_type": "markdown",
      "metadata": {
        "id": "y6rzcT2JqnXb"
      },
      "source": [
        "To make a real copy of the entire elements of an array you need to use the ``copy`` function on the array."
      ]
    },
    {
      "cell_type": "code",
      "execution_count": null,
      "metadata": {
        "colab": {
          "base_uri": "https://localhost:8080/",
          "height": 104
        },
        "id": "tpYzdb_lqnXb",
        "outputId": "5d41357c-4a5e-4bd7-8d36-1648d21c38fe"
      },
      "outputs": [
        {
          "name": "stdout",
          "output_type": "stream",
          "text": [
            "[1. 2. 3. 4. 5. 6.]\n",
            "\n",
            "The value of array a is [1. 2. 3. 4. 5. 6.]\n",
            "\n",
            "The value of array b is [1.   2.   2.56 4.   5.   6.  ]\n"
          ]
        }
      ],
      "source": [
        "a = np.array([1.0,2,3,4,5,6])\n",
        "print(a)\n",
        "#this will make a and b different copies for the same array\n",
        "b = a.copy()\n",
        "b[2] = 2.56 #change b at position 2, will not change a\n",
        "print(\"\\nThe value of array a is\",a)\n",
        "print(\"\\nThe value of array b is\",b)"
      ]
    },
    {
      "cell_type": "markdown",
      "metadata": {
        "id": "9CTmfuN6qnXe"
      },
      "source": [
        "### 3a-vi. Indexing, Slicing, and Iterating"
      ]
    },
    {
      "cell_type": "markdown",
      "metadata": {
        "id": "ipsRPDgVqnXf"
      },
      "source": [
        "Oftentimes we'll want to access more than one element of an array at a time.  We can do this by slicing."
      ]
    },
    {
      "cell_type": "code",
      "execution_count": null,
      "metadata": {
        "colab": {
          "base_uri": "https://localhost:8080/",
          "height": 277
        },
        "id": "bV5MJRapqnXf",
        "outputId": "bb7d1d87-8d5b-4812-a8a1-fd796f349188"
      },
      "outputs": [
        {
          "name": "stdout",
          "output_type": "stream",
          "text": [
            "The vector [1 2 3 4]\n",
            "\n",
            "The matrix\n",
            " [[1 2 3]\n",
            " [4 5 6]\n",
            " [7 8 9]]\n",
            "\n",
            "a_vector[:] = [1 2 3 4]\n",
            "\n",
            "a_vector[1:3] = [2 3]\n",
            "\n",
            "For a matrix, we can slice in each dimension\n",
            "a_matrix[0,:] = [1 2 3]\n",
            "a_matrix[0,1:3] = [2 3]\n",
            "a_matrix[:,2] = [3 6 9]\n"
          ]
        }
      ],
      "source": [
        "#bring these guys back\n",
        "import numpy as np\n",
        "a_vector = np.array([1,2,3,4])\n",
        "a_matrix = np.array([(1,2,3),(4,5,6),(7,8,9)])\n",
        "print(\"The vector\",a_vector)\n",
        "print(\"\\nThe matrix\\n\",a_matrix)\n",
        "print(\"\\na_vector[:] =\",a_vector[:]) #single colon gives everything\n",
        "print(\"\\na_vector[1:3] =\",a_vector[1:3]) #print out position 1 to position 2 (same as for lists)\n",
        "print(\"\\nFor a matrix, we can slice in each dimension\")\n",
        "print(\"a_matrix[0,:] =\",a_matrix[0,:]) #every column in row 0\n",
        "print(\"a_matrix[0,1:3] =\",a_matrix[0,1:3]) #columns 1 and 2 in row 0\n",
        "print(\"a_matrix[:,2] =\",a_matrix[:,2]) #every row in column 2"
      ]
    },
    {
      "cell_type": "markdown",
      "metadata": {
        "id": "6XNsdzrnqnXj"
      },
      "source": [
        "Iteration over a matrix will give you everything in a row:"
      ]
    },
    {
      "cell_type": "code",
      "execution_count": null,
      "metadata": {
        "colab": {
          "base_uri": "https://localhost:8080/",
          "height": 121
        },
        "id": "ruKP_2PWqnXj",
        "outputId": "917eda72-953a-46d0-dc27-a6123fece628"
      },
      "outputs": [
        {
          "name": "stdout",
          "output_type": "stream",
          "text": [
            "Row 0 of a_matrix is [1 2 3]\n",
            "Row 1 of a_matrix is [4 5 6]\n",
            "Row 2 of a_matrix is [7 8 9]\n",
            "Column 3 of a_matrix is [1 4 7]\n",
            "Column 4 of a_matrix is [2 5 8]\n",
            "Column 5 of a_matrix is [3 6 9]\n"
          ]
        }
      ],
      "source": [
        "a_matrix = np.array([(1,2,3),(4,5,6),(7,8,9)])\n",
        "count = 0\n",
        "for i in a_matrix:\n",
        "    print(\"Row\",count,\"of a_matrix is\",i)\n",
        "    count += 1\n",
        "\n",
        "\n",
        "for column in a_matrix.transpose():\n",
        "    print(\"Column\",count,\"of a_matrix is\",column)\n",
        "    count += 1"
      ]
    },
    {
      "cell_type": "markdown",
      "metadata": {
        "id": "jcCJ-VVIqnXn"
      },
      "source": [
        "To iterate over every element in the matrix you'll need two for loops:"
      ]
    },
    {
      "cell_type": "code",
      "execution_count": null,
      "metadata": {
        "colab": {
          "base_uri": "https://localhost:8080/",
          "height": 173
        },
        "id": "ttUGTWlUqnXn",
        "outputId": "60958d47-d409-4f7d-fc7b-74af51dae59c"
      },
      "outputs": [
        {
          "name": "stdout",
          "output_type": "stream",
          "text": [
            "Row 0 Column 0 of a_matrix is 1\n",
            "Row 0 Column 1 of a_matrix is 2\n",
            "Row 0 Column 2 of a_matrix is 3\n",
            "Row 1 Column 0 of a_matrix is 4\n",
            "Row 1 Column 1 of a_matrix is 5\n",
            "Row 1 Column 2 of a_matrix is 6\n",
            "Row 2 Column 0 of a_matrix is 7\n",
            "Row 2 Column 1 of a_matrix is 8\n",
            "Row 2 Column 2 of a_matrix is 9\n"
          ]
        }
      ],
      "source": [
        "a_matrix = np.array([(1,2,3),(4,5,6),(7,8,9)])\n",
        "row_count = 0\n",
        "col_count = 0\n",
        "for row in a_matrix:\n",
        "    col_count = 0\n",
        "    for col in row:\n",
        "        print(\"Row\",row_count,\"Column\",col_count,\"of a_matrix is\",col)\n",
        "        col_count += 1\n",
        "    row_count += 1"
      ]
    },
    {
      "cell_type": "markdown",
      "metadata": {
        "id": "tEPnLGpXRTc9"
      },
      "source": [
        "<div style=\"background-color: rgba(0,255,0,0.05) ; padding: 10px; border: 1px solid darkgreen;\">\n",
        "<b>Home Activity</b>: Using a single for loop, print the diagonal elements of matrix <tt>A</tt>. Store the diagonal elements in the list <tt>diagonal</tt>.\n",
        "</div>"
      ]
    },
    {
      "cell_type": "markdown",
      "metadata": {
        "id": "3XxGcYntRTc9"
      },
      "source": [
        "Tip: Let `diagonal` be a Python list. Remember that `diagonal.append(1.0)` will add `1.0` to the list `diagonal`."
      ]
    },
    {
      "cell_type": "code",
      "execution_count": null,
      "metadata": {
        "colab": {
          "base_uri": "https://localhost:8080/",
          "height": 225
        },
        "id": "6gNN-VfHqnXs",
        "outputId": "ba2b6582-66d2-4e43-d880-e4f9485aee53"
      },
      "outputs": [
        {
          "name": "stdout",
          "output_type": "stream",
          "text": [
            "A =\n",
            " [[0.74203013 0.27355966 0.93590693]\n",
            " [0.20424913 0.29898373 0.6486975 ]\n",
            " [0.06453596 0.85997987 0.74742052]]\n",
            "\n",
            "The diagonal elements of A\n",
            "0.7420301291753472\n",
            "0.29898372964132014\n",
            "0.7474205244335123\n"
          ]
        }
      ],
      "source": [
        "N = 3\n",
        "A = np.random.rand(N,N)\n",
        "print(\"A =\\n\",A)\n",
        "\n",
        "# create any empty list\n",
        "diagonal = []\n",
        "\n",
        "#print the diagonal of the matrix using a single for loop\n",
        "print(\"\\nThe diagonal elements of A\")\n",
        "\n",
        "### BEGIN SOLUTION\n",
        "for i in range(N):\n",
        "    diagonal.append(A[i,i])\n",
        "    print(A[i,i])\n",
        "### END SOLUTION"
      ]
    },
    {
      "cell_type": "markdown",
      "metadata": {
        "id": "_TDin0EXRTc-"
      },
      "source": [
        "NumPy also has a built-in function to extract the diagonal of a matrix."
      ]
    },
    {
      "cell_type": "code",
      "execution_count": null,
      "metadata": {
        "id": "eDEnRogxRTc-",
        "outputId": "225ff8e7-8c4d-41f0-a5c0-b249cf45482e"
      },
      "outputs": [
        {
          "name": "stdout",
          "output_type": "stream",
          "text": [
            "\n",
            "The diagonal of A as a vector\n",
            "[0.74203013 0.29898373 0.74742052]\n"
          ]
        }
      ],
      "source": [
        "print(\"\\nThe diagonal of A as a vector\")\n",
        "print(np.diag(A))"
      ]
    },
    {
      "cell_type": "markdown",
      "metadata": {
        "id": "kHsSx8OcqnXt"
      },
      "source": [
        "### 3a-viI. Complex Numbers\n",
        "Numpy can handle complex numbers, but you need to tell it that you have complex numbers by adding a parameter to the function that creates your array (or matrix, or vector, etc.)."
      ]
    },
    {
      "cell_type": "code",
      "execution_count": null,
      "metadata": {
        "colab": {
          "base_uri": "https://localhost:8080/",
          "height": 35
        },
        "id": "5vaw55JSqnXu",
        "outputId": "ffd91e02-0a23-4e9a-a555-a451f0e99013"
      },
      "outputs": [
        {
          "name": "stdout",
          "output_type": "stream",
          "text": [
            "[0.+0.j 0.+0.j 0.+0.j 0.+0.j 0.+0.j]\n"
          ]
        }
      ],
      "source": [
        "cArray = np.zeros(5, dtype=\"complex\")\n",
        "print(cArray)"
      ]
    },
    {
      "cell_type": "markdown",
      "metadata": {
        "id": "xh3Jl6uFqnXx"
      },
      "source": [
        "``dtype`` tells NumPy that the array will hold complex numbers. It is not needed if it is obvious you are using complex numbers."
      ]
    },
    {
      "cell_type": "code",
      "execution_count": null,
      "metadata": {
        "colab": {
          "base_uri": "https://localhost:8080/",
          "height": 35
        },
        "id": "3YTzrxVzqnXz",
        "outputId": "b003e7c0-3579-4c81-c5db-de1101498904"
      },
      "outputs": [
        {
          "name": "stdout",
          "output_type": "stream",
          "text": [
            "[ 1.+1.j -1.+0.j]\n"
          ]
        }
      ],
      "source": [
        "cArray2 = np.array([1+1j,-1])\n",
        "print(cArray2)"
      ]
    },
    {
      "cell_type": "markdown",
      "metadata": {
        "id": "lNS4UlAiqnX0"
      },
      "source": [
        "You must be careful when you manipulate an array of floats into complex numbers, say by taking the square root"
      ]
    },
    {
      "cell_type": "code",
      "execution_count": null,
      "metadata": {
        "colab": {
          "base_uri": "https://localhost:8080/",
          "height": 87
        },
        "id": "MOpCrH2HqnX1",
        "outputId": "f2bf566d-ef73-4461-e93b-0fd614fad7b7"
      },
      "outputs": [
        {
          "name": "stdout",
          "output_type": "stream",
          "text": [
            "Wrong way gives [nan  1.]\n"
          ]
        },
        {
          "name": "stderr",
          "output_type": "stream",
          "text": [
            "/usr/local/lib/python3.6/site-packages/ipykernel_launcher.py:2: RuntimeWarning: invalid value encountered in sqrt\n",
            "  \n"
          ]
        }
      ],
      "source": [
        "fArray = np.array([-1,1])\n",
        "print(\"Wrong way gives\", np.sqrt(fArray))"
      ]
    },
    {
      "cell_type": "code",
      "execution_count": null,
      "metadata": {
        "id": "uR_52DW3RTc_",
        "outputId": "dd4d92e8-5c92-4c30-8d01-99857be6116c"
      },
      "outputs": [
        {
          "name": "stdout",
          "output_type": "stream",
          "text": [
            "Right way gives [0.+1.j 1.+0.j]\n"
          ]
        }
      ],
      "source": [
        "print(\"Right way gives\", np.sqrt(fArray, dtype=\"complex\"))"
      ]
    },
    {
      "cell_type": "markdown",
      "metadata": {
        "id": "hIS0pUx9qnX3"
      },
      "source": [
        "### 3a-viii. Integrating Everything Together"
      ]
    },
    {
      "cell_type": "markdown",
      "metadata": {
        "id": "pRa5PXHYRTdA"
      },
      "source": [
        "\n",
        "<b>Activity</b>: Create a Python function that does the following:\n",
        "</div>"
      ]
    },
    {
      "cell_type": "markdown",
      "metadata": {
        "id": "BjD4PAUgRTdB"
      },
      "source": [
        "* Takes the size of a matrix, $N$, as the input. Rounds to an integer.\n",
        "* If $N < 1$, prints a warning message and returns nothing. Otherwise, continues.\n",
        "* Generates a matrix of size $N \\times N$ filled with random floating point numbers from -5 to 5\n",
        "* Print the matrix to the screen\n",
        "* Returns a vector that is the sum of the columns of the matrix"
      ]
    },
    {
      "cell_type": "code",
      "execution_count": null,
      "metadata": {
        "id": "QbMS2I6kqnX5",
        "outputId": "39e2f8ea-f17d-4d53-cd43-9b68bb2144b2"
      },
      "outputs": [
        {
          "name": "stdout",
          "output_type": "stream",
          "text": [
            "Matrix A [[-4.91395176  0.23353137  1.03770316]\n",
            " [ 2.37181207  3.10191045  1.59931506]\n",
            " [-2.75409552  2.24653308 -2.38814376]]\n",
            "The sum of the columns is:  [-5.296235208523667, 5.581974897553363, 0.24887446078254838]\n"
          ]
        }
      ],
      "source": [
        "def np_activity(N):\n",
        "    '''Generates a random N x N matrix, prints to screen,\n",
        "    and returns a vector that is the sum of the columns.\n",
        "\n",
        "    Arguments:\n",
        "        YOU NEED TO FILL THIS IN\n",
        "\n",
        "    Returns:\n",
        "        YOU NEED TO FILL THIS IN\n",
        "    '''\n",
        "    ### BEGIN SOLUTION\n",
        "    N = int(np.round(N)) #rounds to an integer\n",
        "\n",
        "    #limits of the interval (-5,5)\n",
        "    a = -5\n",
        "    b = 5\n",
        "    if N < 1: #print Warning and return nothing if N < 1\n",
        "        print (\"Warning: N < 1\")\n",
        "        return\n",
        "    else:\n",
        "        A = (b - a) * np.random.rand(N,N) + a\n",
        "        print (\"Matrix A\", A)\n",
        "        col_sum = []#Create empty array\n",
        "        for i in A.transpose():#loop over columns\n",
        "            col_sum.append(np.sum(i)) #append to emp\n",
        "        return col_sum\n",
        "\n",
        "\n",
        "output = np_activity(3)\n",
        "\n",
        "print(\"The sum of the columns is: \", output)\n",
        "### END SOLUTION"
      ]
    },
    {
      "cell_type": "markdown",
      "metadata": {
        "id": "esDQO0J4qnX7"
      },
      "source": [
        "## 3b. Matplotlib Basics"
      ]
    },
    {
      "cell_type": "markdown",
      "metadata": {
        "id": "2Qts69sjqnX8"
      },
      "source": [
        "Matplotlib is a simple plotting tool that allows you to plot the arrays from NumPy. We already saw an example above.  Matplotlib is designed to be intuitive, easy to use, and mimic MATLAB syntax.\n",
        "\n",
        "As an example, let's plot the cardinal sine function: $$\\mathrm{sinc}(x) = \\frac{\\sin(x)}{x}$$"
      ]
    },
    {
      "cell_type": "code",
      "execution_count": null,
      "metadata": {
        "colab": {
          "base_uri": "https://localhost:8080/",
          "height": 294
        },
        "id": "_l35x8ggqnX8",
        "outputId": "64af8290-1800-4439-b8dd-9a1a893cca55"
      },
      "outputs": [
        {
          "data": {
            "image/png": "[encoded data removed]",
            "text/plain": [
              "<Figure size 432x288 with 1 Axes>"
            ]
          },
          "metadata": {},
          "output_type": "display_data"
        }
      ],
      "source": [
        "import matplotlib.pyplot as plt\n",
        "%matplotlib inline\n",
        "import numpy as np\n",
        "#make a simple plot\n",
        "x = np.linspace(-100,100,1000)\n",
        "y = np.sin(x)/x\n",
        "#plot x versus y\n",
        "plt.plot(x,y)\n",
        "#label the y axis\n",
        "plt.ylabel(\"sinc(x) [arb. units]\");\n",
        "#label the x axis\n",
        "plt.xlabel(\"x [cm]\")\n",
        "#give the plot a title\n",
        "plt.title(\"Line plot of the sinc function\")\n",
        "#show the plot\n",
        "plt.axis([-100,100,-.4,1.05])\n",
        "\n",
        "# Save the figure to our Google Drive folder Colab-20258\n",
        "plt.savefig(\"figure.pdf\")\n",
        "plt.show()"
      ]
    },
    {
      "cell_type": "markdown",
      "metadata": {
        "id": "4VYY9B_AqnX-"
      },
      "source": [
        "Notice how I labeled each axis and even gave the plot a title.  I also included the units for each axis.  <b>You should always do this in your work.</b> Label-less plots are meaningless."
      ]
    },
    {
      "cell_type": "markdown",
      "metadata": {
        "id": "Ck5L2vnuqnX-"
      },
      "source": [
        "### 3b-i. Customizing Plots\n",
        "\n",
        "You can also change the plot type.\n"
      ]
    },
    {
      "cell_type": "code",
      "execution_count": null,
      "metadata": {
        "colab": {
          "base_uri": "https://localhost:8080/",
          "height": 665
        },
        "id": "wo_szxVhqnX-",
        "outputId": "a47b97ed-b2b2-44c8-d74e-cfc7215180c6"
      },
      "outputs": [
        {
          "data": {
            "image/png": "[encoded data removed]",
            "text/plain": [
              "<Figure size 800x600 with 1 Axes>"
            ]
          },
          "metadata": {},
          "output_type": "display_data"
        }
      ],
      "source": [
        "x = np.linspace(-3,3,100)\n",
        "y = np.exp(-x**2)\n",
        "fig = plt.figure(figsize=(4,3), dpi=200)\n",
        "plt.plot(x,y,\"ro\"); #red dots on the plot\n",
        "plt.ylabel(\"$e^{-x^2}$ [arb. units]\");\n",
        "plt.xlabel(\"x [cm]\")\n",
        "plt.title(\"Plot of $e^{-x^2}$\")\n",
        "plt.axis([-3,3,0,1.05])\n",
        "plt.show()"
      ]
    },
    {
      "cell_type": "code",
      "execution_count": null,
      "metadata": {
        "colab": {
          "base_uri": "https://localhost:8080/",
          "height": 665
        },
        "id": "GyQdPG_uqnYA",
        "outputId": "5c8a653a-a27f-4206-d6d9-69e62fff641d"
      },
      "outputs": [
        {
          "data": {
            "image/png": "[encoded data removed]",
            "text/plain": [
              "<Figure size 800x600 with 1 Axes>"
            ]
          },
          "metadata": {},
          "output_type": "display_data"
        }
      ],
      "source": [
        "x = np.linspace(-3,3,100)\n",
        "y = np.exp(-x**2)\n",
        "fig = plt.figure(figsize=(4,3), dpi=200)\n",
        "plt.plot(x,y,\"ko-\"); #black dots and a line on the plot\n",
        "plt.ylabel(\"$e^{-x^2}$ [arb. units]\");\n",
        "plt.xlabel(\"x [cm]\")\n",
        "plt.title(\"Plot of $e^{-x^2}$\")\n",
        "plt.axis([-3,3,0,1.05])\n",
        "plt.show()"
      ]
    },
    {
      "cell_type": "markdown",
      "metadata": {
        "id": "h1bSX9ibqnYB"
      },
      "source": [
        "There are many options you can adjust for the plot.  For a full list, see http://matplotlib.org/users/pyplot_tutorial.html\n",
        "\n",
        "Here are some more examples. One of the things you'll notice is that in matplotlib you can include LaTeX mathematics in your labels by enclosing it in dollar signs.  In LaTeX to use Greek letters you use a backslash before the name of the letter, and other usually obvious characters.  To find out how to do anything with LaTeX, just Google it."
      ]
    },
    {
      "cell_type": "code",
      "execution_count": null,
      "metadata": {
        "id": "EfqYAOPOqnYC",
        "outputId": "20d229bb-3ddb-4b36-d2a6-984b7acf77a9"
      },
      "outputs": [
        {
          "data": {
            "image/png": "[encoded data removed]",
            "text/plain": [
              "<Figure size 800x600 with 1 Axes>"
            ]
          },
          "metadata": {},
          "output_type": "display_data"
        }
      ],
      "source": [
        "x = np.linspace(-3,3,100)\n",
        "y = np.exp(-x**2)\n",
        "fig = plt.figure(figsize=(4,3), dpi=200)\n",
        "plt.plot(x,y,marker=\"*\", linewidth=0);\n",
        "plt.ylabel(\"$e^{-x^2}$ [arb. units]\");\n",
        "plt.xlabel(\"x (cm)\")\n",
        "plt.title(\"Plot of $e^{-x^2}$\")\n",
        "plt.axis([-3,3,0,1.05])\n",
        "plt.show()"
      ]
    },
    {
      "cell_type": "code",
      "execution_count": null,
      "metadata": {
        "id": "E801LxEIqnYE",
        "outputId": "9c4d2b3a-ae9b-4766-81fa-d44c90657868"
      },
      "outputs": [
        {
          "data": {
            "image/png": "[encoded data removed]",
            "text/plain": [
              "<Figure size 800x600 with 1 Axes>"
            ]
          },
          "metadata": {},
          "output_type": "display_data"
        }
      ],
      "source": [
        "x = np.linspace(-3,3,100)\n",
        "y = np.exp(-x**2)\n",
        "fig = plt.figure(figsize=(4,3), dpi=200)\n",
        "plt.plot(x,y,marker=\"\",linewidth=4,color=\"maroon\");\n",
        "plt.ylabel(\"$e^{-x^2}$ [arb. units]\");\n",
        "plt.xlabel(\"x [cm]\")\n",
        "plt.title(\"Plot of $e^{-x^2}$\")\n",
        "plt.axis([-3,3,0,1.05])\n",
        "plt.show()"
      ]
    },
    {
      "cell_type": "markdown",
      "metadata": {
        "id": "ucI1zoFTqnYH"
      },
      "source": [
        "### 3b-ii. Plotting multiple lines"
      ]
    },
    {
      "cell_type": "markdown",
      "metadata": {
        "id": "ZiTCzHpoqnYH"
      },
      "source": [
        "You can also plot multiple lines on a plot. If you include the a label for each plot, invoking the legend command, which puts the legend on the plot."
      ]
    },
    {
      "cell_type": "code",
      "execution_count": null,
      "metadata": {
        "colab": {
          "base_uri": "https://localhost:8080/",
          "height": 299
        },
        "id": "-GcM4UloqnYH",
        "outputId": "da4487f9-8a69-4404-c1c7-1e51a4144c19"
      },
      "outputs": [
        {
          "data": {
            "image/png": "[encoded data removed]",
            "text/plain": [
              "<Figure size 432x288 with 1 Axes>"
            ]
          },
          "metadata": {},
          "output_type": "display_data"
        }
      ],
      "source": [
        "x = np.linspace(-3,3,100)\n",
        "\n",
        "# Line 0\n",
        "y = np.exp(-x**2)\n",
        "plt.plot(x,y,marker=\"\", color=\"r\",\n",
        "         linestyle=\"--\", label=\"$\\sigma^2 = 1$\");\n",
        "\n",
        "# Line 1\n",
        "y1 = np.exp(-x**2/2)\n",
        "plt.plot(x,y1,color=\"blue\",\n",
        "         label=\"$\\sigma^2 = 2$\")\n",
        "\n",
        "# Line 2\n",
        "y2 = np.exp(-x**2/4)\n",
        "plt.plot(x,y2,color=\"black\",\n",
        "         marker = \"+\", label=\"$\\sigma^2 = 4$\")\n",
        "\n",
        "# Add labels, title, legend, etc.\n",
        "plt.ylabel(\"$e^{-x^2/\\sigma^2}$ (arb units)\");\n",
        "plt.xlabel(\"x (cm)\")\n",
        "plt.title(\"Plot of $e^{-x^2/\\sigma^2}$\")\n",
        "plt.legend(loc=\"best\")\n",
        "plt.axis([-3,3,0,1.05])\n",
        "plt.show()"
      ]
    },
    {
      "cell_type": "markdown",
      "metadata": {
        "id": "MPq9_MVjqnYJ"
      },
      "source": [
        "Fancier plots are also possible.  We'll introduce whatever you need as we go.\n",
        "\n",
        "If you ever want to do something fancy in MatPlotLib, try starting with one of these examples: https://matplotlib.org/tutorials/index.html"
      ]
    },
    {
      "cell_type": "markdown",
      "metadata": {
        "id": "C93F8xQHRTdE"
      },
      "source": [
        "<div style=\"background-color: rgba(0,0,255,0.05) ; padding: 10px; border: 1px solid darkblue;\">\n",
        "<b>Class Activity</b>: Create a plot that compares sine and cosine from -2 &pi; to 2 &pi; with the following formating rules:\n",
        "</div>"
      ]
    },
    {
      "cell_type": "markdown",
      "metadata": {
        "id": "8K3wJ5bZRTdE"
      },
      "source": [
        "* Dashed red line for sine.\n",
        "* Solid blue line for cosine.\n",
        "* Legend located in the lower left corner.\n",
        "* Label the axes with $x$ and $f(x)$\n",
        "* Add grid lines."
      ]
    },
    {
      "cell_type": "code",
      "execution_count": null,
      "metadata": {
        "id": "TXjY-M1bRTdE",
        "outputId": "accea913-000b-46b0-84b8-7b3a7c4d4c22"
      },
      "outputs": [
        {
          "data": {
            "image/png": "[encoded data removed]",
            "text/plain": [
              "<Figure size 432x288 with 1 Axes>"
            ]
          },
          "metadata": {},
          "output_type": "display_data"
        }
      ],
      "source": [
        "### BEGIN SOLUTION\n",
        "x = np.linspace(-2*np.pi,2*np.pi,100)\n",
        "\n",
        "plt.plot(x, np.sin(x),color=\"red\",linestyle=\"--\",label=\"sine\")\n",
        "plt.plot(x, np.cos(x),color=\"blue\",linestyle=\"-\",label=\"cosine\")\n",
        "plt.xlabel(\"$x$\")\n",
        "plt.ylabel(\"$f(x)$\")\n",
        "plt.grid(1)\n",
        "plt.legend(loc=\"lower left\")\n",
        "plt.show()\n",
        "### END SOLUTION"
      ]
    },
    {
      "cell_type": "markdown",
      "metadata": {
        "id": "DDov8J6SBPoQ"
      },
      "source": [
        "## 4a. Dictionaries"
      ]
    },
    {
      "cell_type": "markdown",
      "metadata": {
        "id": "i1H8kfkjBPoQ"
      },
      "source": [
        "So far, we have used lists to store a sequence of numbers or more generally Python objects. Similarly, NumPy arrays are special lists that facilitate linear algebra calculations. Both lists and NumPy arranges access elements by position and have an inherent ordering.\n",
        "\n",
        "A dictionary is a set of **key** : **value** pairs. You can think of a dictionary as a fancy list that instead of accessing via the position, you access using a key."
      ]
    },
    {
      "cell_type": "code",
      "execution_count": null,
      "metadata": {
        "colab": {
          "base_uri": "https://localhost:8080/",
          "height": 68
        },
        "id": "FETcpggzBPoS",
        "outputId": "3166ab17-8199-4bbf-bd07-fc1e57b607e1"
      },
      "outputs": [
        {
          "name": "stdout",
          "output_type": "stream",
          "text": [
            "Key M gives Monday\n",
            "Key R gives Thursday\n"
          ]
        }
      ],
      "source": [
        "#simple dictionary\n",
        "days_of_week = {\"M\":\"Monday\", \"T\":\"Tuesday\",\n",
        "                \"W\":\"Wednesday\", \"R\":\"Thursday\",\n",
        "                \"F\":\"Friday\", \"S\":\"Saturday\",\n",
        "                \"U\":\"Sunday\"}\n",
        "\n",
        "print(\"Key M gives\", days_of_week[\"M\"])\n",
        "print(\"Key R gives\", days_of_week[\"R\"])"
      ]
    },
    {
      "cell_type": "markdown",
      "metadata": {
        "id": "-TJgNWesheYT"
      },
      "source": [
        "<div style=\"background-color: rgba(0,255,0,0.05) ; padding: 10px; border: 1px solid darkgreen;\">\n",
        "<b>Home Activity</b>: Store the value for key <tt>F</tt> in the variable <tt>answer</tt>.\n",
        "</div>"
      ]
    },
    {
      "cell_type": "code",
      "execution_count": null,
      "metadata": {
        "collapsed": true,
        "id": "IlN3oqB6heYV"
      },
      "outputs": [],
      "source": [
        "### BEGIN SOLUTION\n",
        "answer = days_of_week[\"F\"]\n",
        "### END SOLUTION"
      ]
    },
    {
      "cell_type": "markdown",
      "metadata": {
        "id": "8xEbYAZMheYZ"
      },
      "source": [
        "Calling `days_of_week.keys()` returns a special list of the keys of the dictionary."
      ]
    },
    {
      "cell_type": "code",
      "execution_count": null,
      "metadata": {
        "id": "5-21myhUheYa",
        "outputId": "d55eadac-bd66-4a10-8180-ac9cce531eb6"
      },
      "outputs": [
        {
          "name": "stdout",
          "output_type": "stream",
          "text": [
            "dict_keys(['M', 'T', 'W', 'R', 'F', 'S', 'U'])\n"
          ]
        }
      ],
      "source": [
        "print(days_of_week.keys())"
      ]
    },
    {
      "cell_type": "markdown",
      "metadata": {
        "id": "QOlWCOlUheYb"
      },
      "source": [
        "We can also check if `G` is a valid key for the dictionary."
      ]
    },
    {
      "cell_type": "code",
      "execution_count": null,
      "metadata": {
        "colab": {
          "base_uri": "https://localhost:8080/",
          "height": 34
        },
        "id": "L3XwquXiJSoR",
        "outputId": "a21361f0-ee5f-493e-864a-4dcdb09626d5"
      },
      "outputs": [
        {
          "name": "stdout",
          "output_type": "stream",
          "text": [
            "False\n"
          ]
        }
      ],
      "source": [
        "print(\"G\" in days_of_week.keys()) #is G a key in days_of_week?"
      ]
    },
    {
      "cell_type": "markdown",
      "metadata": {
        "id": "96n_rpOhBPoX"
      },
      "source": [
        "**Main idea:** With dictionaries, we access elements using the **key**. In contrast, we access elements of strings, lists, and Numpy arrays using the position."
      ]
    },
    {
      "cell_type": "markdown",
      "metadata": {
        "id": "OmEBzfiqheYd"
      },
      "source": [
        "### 4a-i. Example: Shopping List"
      ]
    },
    {
      "cell_type": "markdown",
      "metadata": {
        "id": "mzWsFUcjheYd"
      },
      "source": [
        "\n",
        "<b>Activity</b>: Create a dictionary to store the following shopping list. The keys should be the item names (and units if applicable) and the elements should be the quantity of the items. Store in variable shopping_list\n",
        "</div>"
      ]
    },
    {
      "cell_type": "markdown",
      "metadata": {
        "id": "IoYN17ALheYd"
      },
      "source": [
        "* 1.5 bananas (pounds)\n",
        "* 3 cans of soup\n",
        "* 6 apples\n",
        "* 2.3 pork tenderloin (pounds)"
      ]
    },
    {
      "cell_type": "code",
      "execution_count": null,
      "metadata": {
        "id": "RYZonZNwheYe",
        "outputId": "8843f613-0959-46e1-b87c-ebc15d7eb891"
      },
      "outputs": [
        {
          "name": "stdout",
          "output_type": "stream",
          "text": [
            "{'bananas (pounds)': 1.5, 'cans of soup': 3, 'apples': 6, 'pork tenderloin (pounds)': 2.3}\n"
          ]
        }
      ],
      "source": [
        "### BEGIN SOLUTION\n",
        "shopping_list = {\"bananas (pounds)\":1.5, \"cans of soup\":3, \"apples\":6, \"pork tenderloin (pounds)\":2.3}\n",
        "print(shopping_list)\n",
        "### END SOLUTION"
      ]
    },
    {
      "cell_type": "markdown",
      "metadata": {
        "id": "EjPprXYjBPog"
      },
      "source": [
        "### 4a-iii. Dictionary of Dictionaries"
      ]
    },
    {
      "cell_type": "markdown",
      "metadata": {
        "id": "-JU8YeC6BPog"
      },
      "source": [
        "We can make dictionaries even more powerful if we make a dictionary of dictionaries.\n",
        "\n",
        "**Top Level**. Day of the week.\n",
        "* Key: symbol \"M\", \"T\", etc.\n",
        "* Value: Another dictionary!\n",
        "\n",
        "**Second Level**. Data for each day.\n",
        "* Keys: \"name\", \"weekday\", \"weekend\"\n",
        "* Values: string, boolean (True or False), boolean"
      ]
    },
    {
      "cell_type": "code",
      "execution_count": null,
      "metadata": {
        "colab": {
          "base_uri": "https://localhost:8080/",
          "height": 171
        },
        "id": "z5AF0lF3BPoh",
        "outputId": "8fa1fa66-62a7-4769-e455-b58f93e23ef4"
      },
      "outputs": [
        {
          "name": "stdout",
          "output_type": "stream",
          "text": [
            "The days that are weekdays are\n",
            "Monday is a weekday.\n",
            "Tuesday is a weekday.\n",
            "Wednesday is a weekday.\n",
            "Thursday is a weekday.\n",
            "Friday is a weekday.\n",
            "The days that are weekend days are\n",
            "Saturday is a weekend, whoop.\n",
            "Sunday is a weekend, whoop.\n"
          ]
        }
      ],
      "source": [
        "#simple dictionary of dictionaries\n",
        "days_of_week = {\"M\":{\"name\":\"Monday\",\"weekday\":True,\"weekend\":False},\n",
        "                \"T\":{\"name\":\"Tuesday\",\"weekday\":True,\"weekend\":False},\n",
        "                \"W\":{\"name\":\"Wednesday\",\"weekday\":True,\"weekend\":False},\n",
        "                \"R\":{\"name\":\"Thursday\",\"weekday\":True,\"weekend\":False},\n",
        "                \"F\":{\"name\":\"Friday\",\"weekday\":True,\"weekend\":False},\n",
        "                \"S\":{\"name\":\"Saturday\",\"weekday\":False,\"weekend\":True},\n",
        "                \"U\":{\"name\":\"Sunday\",\"weekday\":False,\"weekend\":True}}\n",
        "\n",
        "print(\"The days that are weekdays are\")\n",
        "for day in days_of_week: #for loop over dictionary, loops over keys\n",
        "    if days_of_week[day][\"weekday\"] == True:\n",
        "        print(days_of_week[day][\"name\"],\"is a weekday.\")\n",
        "\n",
        "print(\"The days that are weekend days are\")\n",
        "for day in days_of_week: #for loop over dictionary, loops over keys\n",
        "    if days_of_week[day][\"weekend\"] == True:\n",
        "        print(days_of_week[day][\"name\"],\"is a weekend, whoop.\")"
      ]
    },
    {
      "cell_type": "markdown",
      "metadata": {
        "id": "3Nyl33fDBPoj"
      },
      "source": [
        "Notice that when you loop over a dictionary in a for loop, the loop variable will get each of the keys of the dictionary."
      ]
    },
    {
      "cell_type": "markdown",
      "metadata": {
        "id": "JKLdQ1x6BPom"
      },
      "source": [
        "The dictionary has been modified to include the day name in Spanish."
      ]
    },
    {
      "cell_type": "code",
      "execution_count": null,
      "metadata": {
        "collapsed": true,
        "id": "KAbje-BHBPom"
      },
      "outputs": [],
      "source": [
        "#more complicated dictionary of dictionaries\n",
        "days_of_week2 = {\"M\":{\"name\":\"Monday\",\"weekday\":True,\"Spanish\":\"Lunes\"},\n",
        "                \"T\":{\"name\":\"Tuesday\",\"weekday\":True,\"Spanish\":\"Martes\"},\n",
        "                \"W\":{\"name\":\"Wednesday\",\"weekday\":True,\"Spanish\":\"Miércoles\"},\n",
        "                \"R\":{\"name\":\"Thursday\",\"weekday\":True,\"Spanish\":\"Jueves\"},\n",
        "                \"F\":{\"name\":\"Friday\",\"weekday\":True,\"Spanish\":\"Viernes\"},\n",
        "                \"S\":{\"name\":\"Saturday\",\"weekday\":False,\"Spanish\":\"Sábado\"},\n",
        "                \"U\":{\"name\":\"Sunday\",\"weekday\":False,\"Spanish\":\"Domingo\"}}"
      ]
    },
    {
      "cell_type": "markdown",
      "metadata": {
        "id": "1XsWs5jnheYj"
      },
      "source": [
        "\n",
        "<b>Activity</b>: Write pseudocode to loop over the days of the week. Print off the day name in Spanish and whether it is a weekend or weekday. Implement your pseudocode in Python.\n",
        "</div>"
      ]
    },
    {
      "cell_type": "code",
      "execution_count": null,
      "metadata": {
        "id": "XG3fhw1DheYk",
        "outputId": "3f0c9bdc-85ae-4e29-f34c-746ff9a9fa3b"
      },
      "outputs": [
        {
          "name": "stdout",
          "output_type": "stream",
          "text": [
            "Monday is a weekday and in Spanish it is Lunes\n",
            "Tuesday is a weekday and in Spanish it is Martes\n",
            "Wednesday is a weekday and in Spanish it is Miércoles\n",
            "Thursday is a weekday and in Spanish it is Jueves\n",
            "Friday is a weekday and in Spanish it is Viernes\n",
            "Saturday is a weekend and in Spanish it is Sábado\n",
            "Sunday is a weekend and in Spanish it is Domingo\n"
          ]
        }
      ],
      "source": [
        "### BEGIN SOLUTION\n",
        "for day in days_of_week2:\n",
        "    if days_of_week2[day][\"weekday\"] == True:\n",
        "        print(days_of_week2[day][\"name\"], \"is a weekday and in Spanish it is\", days_of_week2[day][\"Spanish\"])\n",
        "    else:\n",
        "        print(days_of_week2[day][\"name\"], \"is a weekend and in Spanish it is\", days_of_week2[day][\"Spanish\"])\n",
        "### END SOLUTION"
      ]
    },
    {
      "cell_type": "markdown",
      "metadata": {
        "id": "am_-pu3qBPou"
      },
      "source": [
        "## 4b. Functions passed to Functions"
      ]
    },
    {
      "cell_type": "markdown",
      "metadata": {
        "id": "gVe9nFhCheYl"
      },
      "source": [
        "Functions can also use other functions. In the example below, the function my_g takes my_f as an input. Try and predict its output before you run the cell.\n",
        "\n",
        "$$g(x) = f(x)^2 + 1$$"
      ]
    },
    {
      "cell_type": "code",
      "execution_count": null,
      "metadata": {
        "id": "sIk3nWdJheYm",
        "outputId": "ed766c4e-3521-439b-f8b7-89893652a1e1"
      },
      "outputs": [
        {
          "name": "stdout",
          "output_type": "stream",
          "text": [
            "101.0\n"
          ]
        }
      ],
      "source": [
        "def my_f(x):\n",
        "    return (x/3)*5\n",
        "\n",
        "def my_g(f,x):\n",
        "    return f(x)**2+1\n",
        "\n",
        "print (my_g(my_f,6))"
      ]
    },
    {
      "cell_type": "markdown",
      "metadata": {
        "id": "djEUym1CBPo1"
      },
      "source": [
        "### 4b-i. Motivating Example: Midpoint Integration"
      ]
    },
    {
      "cell_type": "markdown",
      "metadata": {
        "id": "KLzhDxTqBPo2"
      },
      "source": [
        "Recall the Midpoint formula for approximating an integral.\n",
        "\n",
        "With only one element:\n",
        "\n",
        "$$\\int_{a}^{b} f(x) dx \\approx f\\left(\\frac{a + b}{2}\\right) (b - a)$$\n",
        "\n",
        "With $N$ elements:\n",
        "\n",
        "$$\\int_{a}^{b} f(x) dx \\approx \\Delta x \\sum_{i=0}^{N-1} f(m_i) ~~,$$\n",
        "\n",
        "where $$\\Delta x = \\frac{b - a}{N} ~~,$$ and $$m_i = i \\cdot \\Delta x +\\frac{\\Delta x}{2} + a ~~.$$"
      ]
    },
    {
      "cell_type": "markdown",
      "metadata": {
        "id": "qCTvbbeBBPo3"
      },
      "source": [
        "We want to integrate an **arbitrary function** using the midpoint rule.  To do this, we need to evaluate the function at several values to calculate the midpoint sum.\n",
        "\n",
        "In the following Python code, argument ``f`` is a **function** with a scalar input and scalar output.\n"
      ]
    },
    {
      "cell_type": "code",
      "execution_count": null,
      "metadata": {
        "colab": {
          "base_uri": "https://localhost:8080/",
          "height": 238
        },
        "id": "qRpk6buBBPo4",
        "outputId": "e9b3a315-28ad-4385-9b82-d9149d9f4764"
      },
      "outputs": [
        {
          "name": "stdout",
          "output_type": "stream",
          "text": [
            "Help on function midpoint_rule in module __main__:\n",
            "\n",
            "midpoint_rule(f, a, b, num_intervals)\n",
            "    integrate function f using the midpoint rule\n",
            "    \n",
            "    Args:\n",
            "        f: function to be integrated, it must take one argument\n",
            "        a: lower bound of integral range\n",
            "        b: upper bound of integral range\n",
            "        num_intervals: the number of intervals to break [a,b] into\n",
            "    Returns:\n",
            "        estimate of the integral\n",
            "\n"
          ]
        }
      ],
      "source": [
        "def midpoint_rule(f,a,b,num_intervals):\n",
        "    \"\"\"integrate function f using the midpoint rule\n",
        "\n",
        "    Args:\n",
        "        f: function to be integrated, it must take one argument\n",
        "        a: lower bound of integral range\n",
        "        b: upper bound of integral range\n",
        "        num_intervals: the number of intervals to break [a,b] into\n",
        "    Returns:\n",
        "        estimate of the integral\n",
        "    \"\"\"\n",
        "    L = (b-a) #how big is the range\n",
        "    dx = L/num_intervals #how big is each interval\n",
        "    #midpoints are a+dx/2, a+3dx/2, ..., b-dx/2\n",
        "    midpoints = np.arange(num_intervals)*dx+0.5*dx+a\n",
        "    integral = 0\n",
        "    for point in midpoints:\n",
        "        integral += f(point)\n",
        "    return integral*dx\n",
        "\n",
        "help(midpoint_rule)"
      ]
    },
    {
      "cell_type": "code",
      "execution_count": null,
      "metadata": {
        "colab": {
          "base_uri": "https://localhost:8080/",
          "height": 34
        },
        "id": "FqzOO4bwPpW0",
        "outputId": "262bdf4f-7109-4599-f814-b20eb9384d10"
      },
      "outputs": [
        {
          "name": "stdout",
          "output_type": "stream",
          "text": [
            "[ 1.5  2.5  3.5  4.5  5.5  6.5  7.5  8.5  9.5 10.5]\n"
          ]
        }
      ],
      "source": [
        "import numpy as np\n",
        "a = 1.0\n",
        "dx = 1.0\n",
        "midpoints = np.arange(10)*dx+0.5*dx+a\n",
        "\n",
        "print(midpoints)"
      ]
    },
    {
      "cell_type": "markdown",
      "metadata": {
        "id": "djdVleBxBPo6"
      },
      "source": [
        "Thus ``midpoint_rule`` is a function that takes another function, ``f``, as an argument (input)."
      ]
    },
    {
      "cell_type": "markdown",
      "metadata": {
        "id": "4ISlt7bMBPo7"
      },
      "source": [
        "Now we will approximate:\n",
        "\n",
        "$$\\int_0^\\pi \\sin x ~ dx$$\n",
        "\n",
        "using $N=10$ and the midpoint rule. The analytic solution (correct answer) is 2."
      ]
    },
    {
      "cell_type": "code",
      "execution_count": null,
      "metadata": {
        "colab": {
          "base_uri": "https://localhost:8080/",
          "height": 34
        },
        "id": "w_ncqQsGBPo8",
        "outputId": "7b778762-97c3-4b27-fb50-5de7c2862671"
      },
      "outputs": [
        {
          "name": "stdout",
          "output_type": "stream",
          "text": [
            "2.0082484079079745\n"
          ]
        }
      ],
      "source": [
        "print(midpoint_rule(np.sin,0,np.pi,10))"
      ]
    },
    {
      "cell_type": "markdown",
      "metadata": {
        "id": "1O-jOmJJheYo"
      },
      "source": [
        "\n",
        "<b>Activity</b>: Approximate the integral below using the midpoint formula with 5 intervals. Store your answer in <tt>approx_integral</tt>.\n",
        "</div>"
      ]
    },
    {
      "cell_type": "markdown",
      "metadata": {
        "id": "DcZJt4OfheYo"
      },
      "source": [
        "$$\\int_\\pi^{2 \\pi} x \\cos x ~ dx$$"
      ]
    },
    {
      "cell_type": "code",
      "execution_count": null,
      "metadata": {
        "id": "mmUuFL6OheYo",
        "outputId": "08cab365-d5b7-48da-a249-d6e05880b6ad"
      },
      "outputs": [
        {
          "name": "stdout",
          "output_type": "stream",
          "text": [
            "1.9659448856595125\n"
          ]
        }
      ],
      "source": [
        "### BEGIN SOLUTION\n",
        "def my_f(x):\n",
        "    return np.cos(x) * x\n",
        "\n",
        "approx_integral = midpoint_rule(my_f,np.pi,2*np.pi,5)\n",
        "print(approx_integral)\n",
        "### END SOLUTION"
      ]
    },
    {
      "cell_type": "markdown",
      "metadata": {
        "id": "n8U3RtCSBPpC"
      },
      "source": [
        "### 4b-ii. Convergence Analysis"
      ]
    },
    {
      "cell_type": "markdown",
      "metadata": {
        "id": "hSb3-HOVBPpD"
      },
      "source": [
        "*At what rate does an approximation converge to the true solution?* is a central question in numerical analysis.\n",
        "\n",
        "Let's characterize the convergence of the midpoint approximation for this particular integral."
      ]
    },
    {
      "cell_type": "code",
      "execution_count": null,
      "metadata": {
        "colab": {
          "base_uri": "https://localhost:8080/",
          "height": 476
        },
        "id": "U4oNbelmBPpF",
        "outputId": "c36091fa-52e7-4e5a-b9e4-787198d81d43"
      },
      "outputs": [
        {
          "name": "stdout",
          "output_type": "stream",
          "text": [
            "We will consider the following values of N:\n",
            "[       1       10      100     1000    10000   100000  1000000 10000000]\n",
            " \n",
            "Considering N = 1\n",
            "Considering N = 10\n",
            "Considering N = 100\n",
            "Considering N = 1000\n",
            "Considering N = 10000\n",
            "Considering N = 100000\n",
            "Considering N = 1000000\n",
            "Considering N = 10000000\n"
          ]
        },
        {
          "data": {
            "image/png": "[encoded data removed]",
            "text/plain": [
              "<Figure size 432x288 with 1 Axes>"
            ]
          },
          "metadata": {},
          "output_type": "display_data"
        }
      ],
      "source": [
        "import math\n",
        "import numpy as np\n",
        "import matplotlib.pyplot as plt\n",
        "%matplotlib inline\n",
        "\n",
        "# Define values of N to consider\n",
        "num_intervals = 8 #number of interval sizes\n",
        "intervals = 10**np.arange(num_intervals) #run several different intervals\n",
        "print(\"We will consider the following values of N:\")\n",
        "print(intervals)\n",
        "print(\" \")\n",
        "\n",
        "\n",
        "# Allocate an array to store result\n",
        "integral_error = np.zeros(num_intervals)\n",
        "\n",
        "# Define integration limits\n",
        "a = 0\n",
        "b = np.pi\n",
        "\n",
        "# Loop over different values of N\n",
        "count = 0\n",
        "for interval in intervals:\n",
        "    print(\"Considering N =\",interval)\n",
        "    integral_error[count] = np.fabs(2 - midpoint_rule(np.sin,a,b,interval))\n",
        "    count += 1\n",
        "\n",
        "# Create figure\n",
        "fig = plt.figure()\n",
        "ax = fig.add_subplot(111)\n",
        "import matplotlib.ticker as mtick\n",
        "plt.loglog(intervals,integral_error,marker=\"o\",markersize = 10,linewidth=2);\n",
        "plt.xlabel(\"# of intervals\")\n",
        "plt.ylabel(\"Error in midpoint rule\")\n",
        "plt.axis([1,1.5e7,1.0e-13,10])\n",
        "plt.show()"
      ]
    },
    {
      "cell_type": "markdown",
      "metadata": {
        "id": "rwUD5WPXheYp"
      },
      "source": [
        "\n",
        "<b>Activity</b>: Copy the code from above to below. Adapt it to analyze the integral from the previous home activity.\n",
        "</div>"
      ]
    },
    {
      "cell_type": "code",
      "execution_count": null,
      "metadata": {
        "id": "jfrjMrYsheYq",
        "outputId": "18c784e9-3ac6-4b1a-d6c2-5100b5e81130"
      },
      "outputs": [
        {
          "name": "stdout",
          "output_type": "stream",
          "text": [
            "We will consider the following values of N:\n",
            "[       1       10      100     1000    10000   100000  1000000 10000000]\n",
            " \n",
            "Considering N = 1\n",
            "Considering N = 10\n",
            "Considering N = 100\n",
            "Considering N = 1000\n",
            "Considering N = 10000\n",
            "Considering N = 100000\n",
            "Considering N = 1000000\n",
            "Considering N = 10000000\n"
          ]
        },
        {
          "data": {
            "image/png": "[encoded data removed]",
            "text/plain": [
              "<Figure size 432x288 with 1 Axes>"
            ]
          },
          "metadata": {},
          "output_type": "display_data"
        }
      ],
      "source": [
        "### BEGIN SOLUTION\n",
        "import math\n",
        "import numpy as np\n",
        "import matplotlib.pyplot as plt\n",
        "%matplotlib inline\n",
        "\n",
        "# Define values of N to consider\n",
        "num_intervals = 8 #number of interval sizes\n",
        "intervals = 10**np.arange(num_intervals) #run several different intervals\n",
        "print(\"We will consider the following values of N:\")\n",
        "print(intervals)\n",
        "print(\" \")\n",
        "\n",
        "\n",
        "# Allocate an array to store result\n",
        "integral_error = np.zeros(num_intervals)\n",
        "\n",
        "# Define integration limits\n",
        "a = np.pi\n",
        "b = 2*np.pi\n",
        "\n",
        "# Loop over different values of N\n",
        "count = 0\n",
        "for interval in intervals:\n",
        "    print(\"Considering N =\",interval)\n",
        "    integral_error[count] = np.fabs(2 - midpoint_rule(my_f,a,b,interval))\n",
        "    count += 1\n",
        "\n",
        "# Create figure\n",
        "fig = plt.figure()\n",
        "ax = fig.add_subplot(111)\n",
        "import matplotlib.ticker as mtick\n",
        "plt.loglog(intervals,integral_error,marker=\"o\",markersize = 10,linewidth=2);\n",
        "plt.xlabel(\"# of intervals\")\n",
        "plt.ylabel(\"Error in midpoint rule\")\n",
        "plt.axis([1,1.5e7,1.0e-13,10])\n",
        "plt.show()\n",
        "\n",
        "### END SOLUTION\n",
        "\n"
      ]
    },
    {
      "cell_type": "markdown",
      "metadata": {
        "id": "zObV_fyXheYq"
      },
      "source": [
        "<div style=\"background-color: rgba(0,0,255,0.05) ; padding: 10px; border: 1px solid darkblue;\">\n",
        "<b>Class Activity</b>: Approximate the exponential integration function below using the midpoint formula.\n",
        "</div>"
      ]
    },
    {
      "cell_type": "markdown",
      "metadata": {
        "id": "LwNkfr_RBPpI"
      },
      "source": [
        "Approximate the exponential integral function:\n",
        "$$E_n(x) = \\int\\limits_1^\\infty \\frac{e^{-xt}}{t^n} ~ \\!dt ~.$$\n",
        "\n",
        "Use $N = 10^6$ element, $x=1$, $n=1$, and an upper bound of 10,000 (instead of infinity)."
      ]
    },
    {
      "cell_type": "code",
      "execution_count": null,
      "metadata": {
        "id": "Rh25d-waBPpI",
        "outputId": "52f83ee7-4057-43a1-a2cc-3f4014aef614"
      },
      "outputs": [
        {
          "name": "stdout",
          "output_type": "stream",
          "text": [
            "0.21938086941811155\n"
          ]
        }
      ],
      "source": [
        "def exp_int_argument(t,n=1,x=1):\n",
        "    ''' Exponential function integrand\n",
        "\n",
        "    Arguments:\n",
        "        t: scalar\n",
        "        n: scalar, default is n=1\n",
        "        x: scalar, default is x=1\n",
        "\n",
        "    Returns:\n",
        "        f: value of integrand at t,n,x\n",
        "    '''\n",
        "\n",
        "    ###BEGIN SOLUTION\n",
        "    f = np.exp(-x*t)/t**n\n",
        "    return f\n",
        "\n",
        "approx_exp_integral = midpoint_rule(exp_int_argument, 1, 10000, 10**6)\n",
        "print(approx_exp_integral)\n",
        "###END SOLUTION\n"
      ]
    },
    {
      "cell_type": "markdown",
      "metadata": {
        "id": "6o98IID9BPpM"
      },
      "source": [
        "The exact answer is 0.2193839343."
      ]
    },
    {
      "cell_type": "markdown",
      "metadata": {
        "id": "T3BIXk9TBPpN"
      },
      "source": [
        "### 4b-iii. A Fancier Integration Function"
      ]
    },
    {
      "cell_type": "markdown",
      "metadata": {
        "id": "NSQxKRCIBPpO"
      },
      "source": [
        "Using matplotlib we can make an even fancier integration function"
      ]
    },
    {
      "cell_type": "code",
      "execution_count": null,
      "metadata": {
        "colab": {
          "base_uri": "https://localhost:8080/",
          "height": 311
        },
        "id": "FGElfOANBPpO",
        "outputId": "dfbcf55f-21ce-4289-c648-5c9e86ffe4b3"
      },
      "outputs": [
        {
          "data": {
            "text/plain": [
              "-3.487868498008632e-16"
            ]
          },
          "execution_count": 23,
          "metadata": {},
          "output_type": "execute_result"
        },
        {
          "data": {
            "image/png": "[encoded data removed]",
            "text/plain": [
              "<Figure size 432x288 with 1 Axes>"
            ]
          },
          "metadata": {},
          "output_type": "display_data"
        }
      ],
      "source": [
        "import numpy as np\n",
        "import matplotlib.pyplot as plt\n",
        "%matplotlib inline\n",
        "\n",
        "def midpoint_rule_graphical(f,a,b,num_intervals,filename):\n",
        "    \"\"\"integrate function f using the midpoint rule\n",
        "\n",
        "    Args:\n",
        "        f: function to be integrated, it must take one argument\n",
        "        a: lower bound of integral range\n",
        "        b: upper bound of integral range\n",
        "        num_intervals: the number of intervals to break [a,b] into\n",
        "    Returns:\n",
        "        estimate of the integral\n",
        "    Side Effect:\n",
        "        Plots intervals and areas of midpoint rule\n",
        "    \"\"\"\n",
        "    # Create plot\n",
        "    ax = plt.subplot(111)\n",
        "\n",
        "    # Setup, similar to previous midpoint_rule function\n",
        "    L = (b-a) #how big is the range\n",
        "    dx = L/num_intervals #how big is each interval\n",
        "    midpoints = np.arange(num_intervals)*dx+0.5*dx+a\n",
        "    x = midpoints\n",
        "    #y = np.zeros(num_intervals)\n",
        "    integral = 0\n",
        "    count = 0\n",
        "\n",
        "    # Loop over points\n",
        "    for point in midpoints:\n",
        "        # Evaluate function f\n",
        "        #y[count] = f(point)\n",
        "\n",
        "        # Calculate integral\n",
        "        integral = integral + f(point)\n",
        "\n",
        "        # Calculate verticies for plots\n",
        "        verts = [(point-dx/2,0)] + [(point-dx/2,f(point))]\n",
        "        verts += [(point+dx/2,f(point))] + [(point+dx/2,0)]\n",
        "\n",
        "        # Draw rectangles\n",
        "        poly = plt.Polygon(verts, facecolor='0.8', edgecolor='k')\n",
        "        ax.add_patch(poly)\n",
        "\n",
        "        # Incrememnt counter\n",
        "        count += 1\n",
        "    # y = f(x)\n",
        "\n",
        "    # Draw smooth line for f\n",
        "    smooth_x = np.linspace(a,b,10000)\n",
        "    smooth_y = f(smooth_x)\n",
        "    plt.plot(smooth_x, smooth_y, linewidth=1)\n",
        "\n",
        "    # Add labels and title\n",
        "    plt.xlabel(\"x\")\n",
        "    plt.ylabel(\"f(x)\")\n",
        "    plt.title(\"Integral Estimate is \" + str(integral*dx))\n",
        "\n",
        "    # Save figure\n",
        "    plt.savefig(filename)\n",
        "\n",
        "    # Return approximation for integral\n",
        "    return integral*dx\n",
        "\n",
        "# Call function\n",
        "midpoint_rule_graphical(np.sin,0,2*np.pi,4,'C4_fig7.pdf')"
      ]
    },
    {
      "cell_type": "markdown",
      "metadata": {
        "id": "CAMl3sgqBPpS"
      },
      "source": [
        "\n",
        "<b>Activity</b>: Also apply to the previous example.\n",
        "</div>"
      ]
    },
    {
      "cell_type": "code",
      "execution_count": null,
      "metadata": {
        "colab": {
          "base_uri": "https://localhost:8080/",
          "height": 328
        },
        "id": "D_Veez_IBPpU",
        "outputId": "45a55754-914f-406a-c15a-869d470f87c5"
      },
      "outputs": [
        {
          "name": "stdout",
          "output_type": "stream",
          "text": [
            "Answer is 0.2193839343\n",
            "Our appoximation with upper bound 5 and 100 points is 0.21818671430783745\n"
          ]
        },
        {
          "data": {
            "image/png": "[encoded data removed]",
            "text/plain": [
              "<Figure size 432x288 with 1 Axes>"
            ]
          },
          "metadata": {},
          "output_type": "display_data"
        }
      ],
      "source": [
        "num_points = 100\n",
        "upper_bound = 5\n",
        "print(\"Answer is 0.2193839343\")\n",
        "### BEGIN SOLUTION\n",
        "\n",
        "print(\"Our appoximation with upper bound\",upper_bound,\"and\",num_points,\"points is\"\n",
        "      ,midpoint_rule_graphical(exp_int_argument,1,upper_bound,num_points,'C4_fig8.pdf'))\n",
        "\n",
        "### END SOLUTION"
      ]
    },
    {
      "cell_type": "markdown",
      "metadata": {
        "id": "DXv_A6SaBPpY"
      },
      "source": [
        "## 4c. Lambda Functions"
      ]
    },
    {
      "cell_type": "markdown",
      "metadata": {
        "id": "m_x53t6pBPpa"
      },
      "source": [
        "Python also allows you to define a **lambda function**, which is basically a one line function without the whole <tt>def</tt> business. Here's an example where the lambda function is a line."
      ]
    },
    {
      "cell_type": "code",
      "execution_count": null,
      "metadata": {
        "collapsed": true,
        "id": "212t9-TMvg8x"
      },
      "outputs": [],
      "source": [
        "# `Normal` function definition\n",
        "def simple_line(x):\n",
        "    '''Fill me in!!!\n",
        "\n",
        "    '''\n",
        "    return 2.0*x + 1.0"
      ]
    },
    {
      "cell_type": "code",
      "execution_count": null,
      "metadata": {
        "colab": {
          "base_uri": "https://localhost:8080/",
          "height": 330
        },
        "id": "Hm2e0UT1BPpa",
        "outputId": "f16b643c-3f17-40ba-a5b8-aba8128caaf4"
      },
      "outputs": [
        {
          "name": "stdout",
          "output_type": "stream",
          "text": [
            "The line at x = 0 is 1.0\n",
            "The line at x = 1 is 3.0\n",
            "The line at x = 2 is 5.0\n"
          ]
        },
        {
          "data": {
            "image/png": "[encoded data removed]",
            "text/plain": [
              "<Figure size 432x288 with 1 Axes>"
            ]
          },
          "metadata": {},
          "output_type": "display_data"
        }
      ],
      "source": [
        "# define the function `simple_line` with a single line of code\n",
        "simple_line = lambda x: 2.0*x + 1.0\n",
        "\n",
        "# Evaluate function at three values of x\n",
        "print(\"The line at x = 0 is\", simple_line(0))\n",
        "print(\"The line at x = 1 is\", simple_line(1))\n",
        "print(\"The line at x = 2 is\", simple_line(2))\n",
        "\n",
        "# Evaluate function at many values of f\n",
        "x = np.linspace(0,6,50)\n",
        "y = simple_line(x)\n",
        "\n",
        "# Make plot\n",
        "plt.plot(x,y)\n",
        "plt.ylabel(\"y\")\n",
        "plt.xlabel(\"x\")\n",
        "plt.show()"
      ]
    },
    {
      "cell_type": "markdown",
      "metadata": {
        "id": "6tv08uh5BPpc"
      },
      "source": [
        "Lambda functions in Python are analogous to **anonymous functions in MATLAB**."
      ]
    },
    {
      "cell_type": "markdown",
      "metadata": {
        "id": "Y2RFf5GXheYs"
      },
      "source": [
        "\n",
        "<b>Activity</b>: Predict the output of the code below before you run it.\n",
        "</div>"
      ]
    },
    {
      "cell_type": "code",
      "execution_count": null,
      "metadata": {
        "id": "gMitKikMheYt",
        "outputId": "bda9d613-7175-43fb-ace1-4cda52607d07"
      },
      "outputs": [
        {
          "name": "stdout",
          "output_type": "stream",
          "text": [
            "4\n",
            "6\n"
          ]
        }
      ],
      "source": [
        "func_1 = (lambda x: x + x)(2)\n",
        "func_2 = lambda x, y:x+y\n",
        "\n",
        "print (func_1)\n",
        "print (func_2(1,5))"
      ]
    },
    {
      "cell_type": "markdown",
      "metadata": {
        "id": "zieTtP4jBPpd"
      },
      "source": [
        "### 4c-i. Example: Lambda Functions and Midpoint Integration"
      ]
    },
    {
      "cell_type": "markdown",
      "metadata": {
        "id": "7-jcDaZkBPpf"
      },
      "source": [
        "We can use lambda functions in our midpoint integration routine as well. Here we define a Gaussian as the integrand:\n",
        "\n",
        "$$\\int_{-\\infty}^{\\infty} \\frac{e^{-x^2}}{\\sqrt{\\pi}} dx$$\n",
        "\n",
        "The analytic answer to the integral is 1."
      ]
    },
    {
      "cell_type": "code",
      "execution_count": null,
      "metadata": {
        "colab": {
          "base_uri": "https://localhost:8080/",
          "height": 311
        },
        "id": "_YyUguPSBPpf",
        "outputId": "793be183-d569-4f94-ec62-c6f40242d5f2"
      },
      "outputs": [
        {
          "data": {
            "text/plain": [
              "0.999980808068639"
            ]
          },
          "execution_count": 28,
          "metadata": {},
          "output_type": "execute_result"
        },
        {
          "data": {
            "image/png": "[encoded data removed]",
            "text/plain": [
              "<Figure size 432x288 with 1 Axes>"
            ]
          },
          "metadata": {},
          "output_type": "display_data"
        }
      ],
      "source": [
        "# Define lambda function\n",
        "gaussian = lambda x: np.exp(-x**2)/np.sqrt(np.pi) #function to compute gaussian\n",
        "\n",
        "# Approximate integral using lambda function\n",
        "midpoint_rule_graphical(gaussian,-3,3,20,'C4-with-lambda-func.pdf')"
      ]
    },
    {
      "cell_type": "code",
      "execution_count": null,
      "metadata": {
        "colab": {
          "base_uri": "https://localhost:8080/",
          "height": 311
        },
        "id": "LnGbIlfkwZUL",
        "outputId": "2fec5b6f-8b30-402c-af5c-410b37a589b7"
      },
      "outputs": [
        {
          "data": {
            "text/plain": [
              "0.999980808068639"
            ]
          },
          "execution_count": 29,
          "metadata": {},
          "output_type": "execute_result"
        },
        {
          "data": {
            "image/png": "[encoded data removed]",
            "text/plain": [
              "<Figure size 432x288 with 1 Axes>"
            ]
          },
          "metadata": {},
          "output_type": "display_data"
        }
      ],
      "source": [
        "# Approximate integral with more manual approach\n",
        "midpoint_rule_graphical(lambda x: np.exp(-x**2)/np.sqrt(np.pi),-3,3,20,'C4-without-lambda-func.pdf')"
      ]
    },
    {
      "cell_type": "markdown",
      "metadata": {
        "id": "Y9PVWLpYBPpj"
      },
      "source": [
        "### 4c-ii. Extension to Two Dimensional Functions\n",
        "\n",
        "We will revisit numeric integration at the end of the semester. We can use two lambda functions to extend the midpoint rule to integrate two dimensional functions, such as\n",
        "\n",
        "$$\\int_{0}^{\\pi} \\int_{0}^{\\pi} \\sin(x) \\sin(y) dx dy ~~.$$"
      ]
    },
    {
      "cell_type": "markdown",
      "metadata": {
        "id": "YW7JtxgxheYv"
      },
      "source": [
        "\n",
        "<b>Activity</b>: Spend 5-10 minutes brainstorming how to approximate a 2 dimensional integral by calling the <tt>midpoint_rule</tt> function twice (nested).\n",
        "</div>"
      ]
    },
    {
      "cell_type": "code",
      "execution_count": null,
      "metadata": {
        "colab": {
          "base_uri": "https://localhost:8080/",
          "height": 34
        },
        "id": "PLRD7uJABPpl",
        "outputId": "55f1df03-af4b-4a6a-a45a-e172728d849c"
      },
      "outputs": [
        {
          "name": "stdout",
          "output_type": "stream",
          "text": [
            "Estimate of the integral of sin(x)sin(y), over [0,pi] x [0,pi] is 4.000003289869757\n"
          ]
        }
      ],
      "source": [
        "def midpoint_2D(f,ax,bx,ay,by,num_intervals_x,num_intervals_y):\n",
        "    \"\"\"Midpoint rule extended to 2D functions\n",
        "\n",
        "    Arguments:\n",
        "        f: function to be integrated. Takes two scalar inputs (x,y) and returns a scalar.\n",
        "        ax: lower bound for dimension 1\n",
        "        bx: upper bound for dimension 1\n",
        "        ay: lower bound for dimension 2\n",
        "        by: upper bound for dimension 2\n",
        "        num_intervals_x: number of intervals for dimension 1\n",
        "        num_intervals_y: number of intervals for dimension 2\n",
        "\n",
        "    Returns:\n",
        "        approximation to integral (scalar)\n",
        "\n",
        "    \"\"\"\n",
        "\n",
        "    # For a given y, calculate the integral in dimension 1 (from ax to bx) using midpoint rule\n",
        "    integral_over_x = lambda y: midpoint_rule(lambda x: f(x,y),ax,bx,num_intervals_x)\n",
        "\n",
        "    # Apply midpoint rule to dimension 2\n",
        "    return midpoint_rule(integral_over_x,ay,by,num_intervals_y)\n",
        "\n",
        "#\n",
        "sin2 = lambda x,y:np.sin(x)*np.sin(y)\n",
        "print(\"Estimate of the integral of sin(x)sin(y), over [0,pi] x [0,pi] is\",\n",
        "      midpoint_2D(sin2,0,np.pi,0,np.pi,1000,1000))"
      ]
    },
    {
      "cell_type": "markdown",
      "metadata": {
        "id": "NYDCkKKkBPpn"
      },
      "source": [
        "This code snippet defines one lambda function that takes care of the x argument to f, and another that defines the integral over x for a given y, this second function is passed to the midpoint rule.\n",
        "\n",
        "The way that this works is that when the second midpoint rule evaluates <tt>integral_over_x</tt> at a certain point in y, it evaluates the integral over all x at that point."
      ]
    }
  ],
  "metadata": {
    "celltoolbar": "Create Assignment",
    "colab": {
      "collapsed_sections": [
        "qugfoO3lEebS"
      ],
      "provenance": []
    },
    "kernelspec": {
      "display_name": "Python 3 (ipykernel)",
      "language": "python",
      "name": "python3"
    },
    "language_info": {
      "codemirror_mode": {
        "name": "ipython",
        "version": 3
      },
      "file_extension": ".py",
      "mimetype": "text/x-python",
      "name": "python",
      "nbconvert_exporter": "python",
      "pygments_lexer": "ipython3",
      "version": "3.8.3"
    }
  },
  "nbformat": 4,
  "nbformat_minor": 0
}
