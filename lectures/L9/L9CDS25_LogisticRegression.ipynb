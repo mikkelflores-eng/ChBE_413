{
 "cells": [
  {
   "cell_type": "markdown",
   "id": "7gpM_0jgh6bO",
   "metadata": {
    "id": "7gpM_0jgh6bO"
   },
   "source": [
    "## CHEM452 - Logistic Regression"
   ]
  },
  {
   "cell_type": "markdown",
   "id": "SBBuVRC8VMVN",
   "metadata": {
    "id": "SBBuVRC8VMVN"
   },
   "source": [
    "Ok, let's load in the bace.csv dataset.\n",
    "\n",
    "The BACE dataset provides quantitative IC50 and qualitative (binary label)\n",
    "  binding results for a set of inhibitors of human beta-secretase 1 (BACE-1).\n",
    "  All data are experimental values reported in scientific literature over the\n",
    "  past decade, some with detailed crystal structures available. A collection\n",
    "  of 1522 compounds is provided, along with the regression labels of IC50.\n",
    "  Scaffold splitting is recommended for this dataset.\n",
    "  The raw data csv file contains columns below:\n",
    "  - \"mol\" - SMILES representation of the molecular structure\n",
    "  - \"pIC50\" - Negative log of the IC50 binding affinity\n",
    "  - \"class\" - Binary labels for inhibitor\n",
    "\n",
    "  https://github.com/deepchem/deepchem/blob/master/deepchem/molnet/load_function/bace_datasets.py"
   ]
  },
  {
   "cell_type": "code",
   "execution_count": null,
   "id": "de947e2a",
   "metadata": {
    "colab": {
     "base_uri": "https://localhost:8080/",
     "height": 508
    },
    "executionInfo": {
     "elapsed": 3764,
     "status": "ok",
     "timestamp": 1662759873450,
     "user": {
      "displayName": "Nicholas Jackson",
      "userId": "01670215121017026455"
     },
     "user_tz": 300
    },
    "id": "de947e2a",
    "outputId": "4f639256-0734-4688-cea9-405d37ec56eb"
   },
   "outputs": [
    {
     "name": "stdout",
     "output_type": "stream",
     "text": [
      "Looking in indexes: https://pypi.org/simple, https://us-python.pkg.dev/colab-wheels/public/simple/\n",
      "Requirement already satisfied: rdkit-pypi in /usr/local/lib/python3.7/dist-packages (2022.3.5)\n",
      "Requirement already satisfied: Pillow in /usr/local/lib/python3.7/dist-packages (from rdkit-pypi) (7.1.2)\n",
      "Requirement already satisfied: numpy in /usr/local/lib/python3.7/dist-packages (from rdkit-pypi) (1.21.6)\n"
     ]
    },
    {
     "data": {
      "text/html": [
       "\n",
       "  <div id=\"df-e60869f3-81b4-48e6-8e56-4ffd6a511012\">\n",
       "    <div class=\"colab-df-container\">\n",
       "      <div>\n",
       "<style scoped>\n",
       "    .dataframe tbody tr th:only-of-type {\n",
       "        vertical-align: middle;\n",
       "    }\n",
       "\n",
       "    .dataframe tbody tr th {\n",
       "        vertical-align: top;\n",
       "    }\n",
       "\n",
       "    .dataframe thead th {\n",
       "        text-align: right;\n",
       "    }\n",
       "</style>\n",
       "<table border=\"1\" class=\"dataframe\">\n",
       "  <thead>\n",
       "    <tr style=\"text-align: right;\">\n",
       "      <th></th>\n",
       "      <th>mol</th>\n",
       "      <th>CID</th>\n",
       "      <th>Class</th>\n",
       "      <th>Model</th>\n",
       "      <th>pIC50</th>\n",
       "      <th>MW</th>\n",
       "      <th>AlogP</th>\n",
       "      <th>HBA</th>\n",
       "      <th>HBD</th>\n",
       "      <th>RB</th>\n",
       "      <th>...</th>\n",
       "      <th>PEOE6 (PEOE6)</th>\n",
       "      <th>PEOE7 (PEOE7)</th>\n",
       "      <th>PEOE8 (PEOE8)</th>\n",
       "      <th>PEOE9 (PEOE9)</th>\n",
       "      <th>PEOE10 (PEOE10)</th>\n",
       "      <th>PEOE11 (PEOE11)</th>\n",
       "      <th>PEOE12 (PEOE12)</th>\n",
       "      <th>PEOE13 (PEOE13)</th>\n",
       "      <th>PEOE14 (PEOE14)</th>\n",
       "      <th>canvasUID</th>\n",
       "    </tr>\n",
       "  </thead>\n",
       "  <tbody>\n",
       "    <tr>\n",
       "      <th>0</th>\n",
       "      <td>O1CC[C@@H](NC(=O)[C@@H](Cc2cc3cc(ccc3nc2N)-c2c...</td>\n",
       "      <td>BACE_1</td>\n",
       "      <td>1</td>\n",
       "      <td>Train</td>\n",
       "      <td>9.154901</td>\n",
       "      <td>431.56979</td>\n",
       "      <td>4.4014</td>\n",
       "      <td>3</td>\n",
       "      <td>2</td>\n",
       "      <td>5</td>\n",
       "      <td>...</td>\n",
       "      <td>53.205711</td>\n",
       "      <td>78.640335</td>\n",
       "      <td>226.85541</td>\n",
       "      <td>107.43491</td>\n",
       "      <td>37.133846</td>\n",
       "      <td>0.000000</td>\n",
       "      <td>7.980170</td>\n",
       "      <td>0.0</td>\n",
       "      <td>0.000000</td>\n",
       "      <td>1</td>\n",
       "    </tr>\n",
       "    <tr>\n",
       "      <th>1</th>\n",
       "      <td>Fc1cc(cc(F)c1)C[C@H](NC(=O)[C@@H](N1CC[C@](NC(...</td>\n",
       "      <td>BACE_2</td>\n",
       "      <td>1</td>\n",
       "      <td>Train</td>\n",
       "      <td>8.853872</td>\n",
       "      <td>657.81073</td>\n",
       "      <td>2.6412</td>\n",
       "      <td>5</td>\n",
       "      <td>4</td>\n",
       "      <td>16</td>\n",
       "      <td>...</td>\n",
       "      <td>73.817162</td>\n",
       "      <td>47.171600</td>\n",
       "      <td>365.67694</td>\n",
       "      <td>174.07675</td>\n",
       "      <td>34.923889</td>\n",
       "      <td>7.980170</td>\n",
       "      <td>24.148668</td>\n",
       "      <td>0.0</td>\n",
       "      <td>24.663788</td>\n",
       "      <td>2</td>\n",
       "    </tr>\n",
       "    <tr>\n",
       "      <th>2</th>\n",
       "      <td>S1(=O)(=O)N(c2cc(cc3c2n(cc3CC)CC1)C(=O)N[C@H](...</td>\n",
       "      <td>BACE_3</td>\n",
       "      <td>1</td>\n",
       "      <td>Train</td>\n",
       "      <td>8.698970</td>\n",
       "      <td>591.74091</td>\n",
       "      <td>2.5499</td>\n",
       "      <td>4</td>\n",
       "      <td>3</td>\n",
       "      <td>11</td>\n",
       "      <td>...</td>\n",
       "      <td>70.365707</td>\n",
       "      <td>47.941147</td>\n",
       "      <td>192.40652</td>\n",
       "      <td>255.75255</td>\n",
       "      <td>23.654478</td>\n",
       "      <td>0.230159</td>\n",
       "      <td>15.879790</td>\n",
       "      <td>0.0</td>\n",
       "      <td>24.663788</td>\n",
       "      <td>3</td>\n",
       "    </tr>\n",
       "    <tr>\n",
       "      <th>3</th>\n",
       "      <td>S1(=O)(=O)C[C@@H](Cc2cc(O[C@H](COCC)C(F)(F)F)c...</td>\n",
       "      <td>BACE_4</td>\n",
       "      <td>1</td>\n",
       "      <td>Train</td>\n",
       "      <td>8.698970</td>\n",
       "      <td>591.67828</td>\n",
       "      <td>3.1680</td>\n",
       "      <td>4</td>\n",
       "      <td>3</td>\n",
       "      <td>12</td>\n",
       "      <td>...</td>\n",
       "      <td>56.657166</td>\n",
       "      <td>37.954151</td>\n",
       "      <td>194.35304</td>\n",
       "      <td>202.76335</td>\n",
       "      <td>36.498634</td>\n",
       "      <td>0.980913</td>\n",
       "      <td>8.188327</td>\n",
       "      <td>0.0</td>\n",
       "      <td>26.385181</td>\n",
       "      <td>4</td>\n",
       "    </tr>\n",
       "    <tr>\n",
       "      <th>4</th>\n",
       "      <td>S1(=O)(=O)N(c2cc(cc3c2n(cc3CC)CC1)C(=O)N[C@H](...</td>\n",
       "      <td>BACE_5</td>\n",
       "      <td>1</td>\n",
       "      <td>Train</td>\n",
       "      <td>8.698970</td>\n",
       "      <td>629.71283</td>\n",
       "      <td>3.5086</td>\n",
       "      <td>3</td>\n",
       "      <td>3</td>\n",
       "      <td>11</td>\n",
       "      <td>...</td>\n",
       "      <td>78.945702</td>\n",
       "      <td>39.361153</td>\n",
       "      <td>179.71288</td>\n",
       "      <td>220.46130</td>\n",
       "      <td>23.654478</td>\n",
       "      <td>0.230159</td>\n",
       "      <td>15.879790</td>\n",
       "      <td>0.0</td>\n",
       "      <td>26.100143</td>\n",
       "      <td>5</td>\n",
       "    </tr>\n",
       "  </tbody>\n",
       "</table>\n",
       "<p>5 rows × 595 columns</p>\n",
       "</div>\n",
       "      <button class=\"colab-df-convert\" onclick=\"convertToInteractive('df-e60869f3-81b4-48e6-8e56-4ffd6a511012')\"\n",
       "              title=\"Convert this dataframe to an interactive table.\"\n",
       "              style=\"display:none;\">\n",
       "        \n",
       "  <svg xmlns=\"http://www.w3.org/2000/svg\" height=\"24px\"viewBox=\"0 0 24 24\"\n",
       "       width=\"24px\">\n",
       "    <path d=\"M0 0h24v24H0V0z\" fill=\"none\"/>\n",
       "    <path d=\"M18.56 5.44l.94 2.06.94-2.06 2.06-.94-2.06-.94-.94-2.06-.94 2.06-2.06.94zm-11 1L8.5 8.5l.94-2.06 2.06-.94-2.06-.94L8.5 2.5l-.94 2.06-2.06.94zm10 10l.94 2.06.94-2.06 2.06-.94-2.06-.94-.94-2.06-.94 2.06-2.06.94z\"/><path d=\"M17.41 7.96l-1.37-1.37c-.4-.4-.92-.59-1.43-.59-.52 0-1.04.2-1.43.59L10.3 9.45l-7.72 7.72c-.78.78-.78 2.05 0 2.83L4 21.41c.39.39.9.59 1.41.59.51 0 1.02-.2 1.41-.59l7.78-7.78 2.81-2.81c.8-.78.8-2.07 0-2.86zM5.41 20L4 18.59l7.72-7.72 1.47 1.35L5.41 20z\"/>\n",
       "  </svg>\n",
       "      </button>\n",
       "      \n",
       "  <style>\n",
       "    .colab-df-container {\n",
       "      display:flex;\n",
       "      flex-wrap:wrap;\n",
       "      gap: 12px;\n",
       "    }\n",
       "\n",
       "    .colab-df-convert {\n",
       "      background-color: #E8F0FE;\n",
       "      border: none;\n",
       "      border-radius: 50%;\n",
       "      cursor: pointer;\n",
       "      display: none;\n",
       "      fill: #1967D2;\n",
       "      height: 32px;\n",
       "      padding: 0 0 0 0;\n",
       "      width: 32px;\n",
       "    }\n",
       "\n",
       "    .colab-df-convert:hover {\n",
       "      background-color: #E2EBFA;\n",
       "      box-shadow: 0px 1px 2px rgba(60, 64, 67, 0.3), 0px 1px 3px 1px rgba(60, 64, 67, 0.15);\n",
       "      fill: #174EA6;\n",
       "    }\n",
       "\n",
       "    [theme=dark] .colab-df-convert {\n",
       "      background-color: #3B4455;\n",
       "      fill: #D2E3FC;\n",
       "    }\n",
       "\n",
       "    [theme=dark] .colab-df-convert:hover {\n",
       "      background-color: #434B5C;\n",
       "      box-shadow: 0px 1px 3px 1px rgba(0, 0, 0, 0.15);\n",
       "      filter: drop-shadow(0px 1px 2px rgba(0, 0, 0, 0.3));\n",
       "      fill: #FFFFFF;\n",
       "    }\n",
       "  </style>\n",
       "\n",
       "      <script>\n",
       "        const buttonEl =\n",
       "          document.querySelector('#df-e60869f3-81b4-48e6-8e56-4ffd6a511012 button.colab-df-convert');\n",
       "        buttonEl.style.display =\n",
       "          google.colab.kernel.accessAllowed ? 'block' : 'none';\n",
       "\n",
       "        async function convertToInteractive(key) {\n",
       "          const element = document.querySelector('#df-e60869f3-81b4-48e6-8e56-4ffd6a511012');\n",
       "          const dataTable =\n",
       "            await google.colab.kernel.invokeFunction('convertToInteractive',\n",
       "                                                     [key], {});\n",
       "          if (!dataTable) return;\n",
       "\n",
       "          const docLinkHtml = 'Like what you see? Visit the ' +\n",
       "            '<a target=\"_blank\" href=https://colab.research.google.com/notebooks/data_table.ipynb>data table notebook</a>'\n",
       "            + ' to learn more about interactive tables.';\n",
       "          element.innerHTML = '';\n",
       "          dataTable['output_type'] = 'display_data';\n",
       "          await google.colab.output.renderOutput(dataTable, element);\n",
       "          const docLink = document.createElement('div');\n",
       "          docLink.innerHTML = docLinkHtml;\n",
       "          element.appendChild(docLink);\n",
       "        }\n",
       "      </script>\n",
       "    </div>\n",
       "  </div>\n",
       "  "
      ],
      "text/plain": [
       "                                                 mol     CID  Class  Model  \\\n",
       "0  O1CC[C@@H](NC(=O)[C@@H](Cc2cc3cc(ccc3nc2N)-c2c...  BACE_1      1  Train   \n",
       "1  Fc1cc(cc(F)c1)C[C@H](NC(=O)[C@@H](N1CC[C@](NC(...  BACE_2      1  Train   \n",
       "2  S1(=O)(=O)N(c2cc(cc3c2n(cc3CC)CC1)C(=O)N[C@H](...  BACE_3      1  Train   \n",
       "3  S1(=O)(=O)C[C@@H](Cc2cc(O[C@H](COCC)C(F)(F)F)c...  BACE_4      1  Train   \n",
       "4  S1(=O)(=O)N(c2cc(cc3c2n(cc3CC)CC1)C(=O)N[C@H](...  BACE_5      1  Train   \n",
       "\n",
       "      pIC50         MW   AlogP  HBA  HBD  RB  ...  PEOE6 (PEOE6)  \\\n",
       "0  9.154901  431.56979  4.4014    3    2   5  ...      53.205711   \n",
       "1  8.853872  657.81073  2.6412    5    4  16  ...      73.817162   \n",
       "2  8.698970  591.74091  2.5499    4    3  11  ...      70.365707   \n",
       "3  8.698970  591.67828  3.1680    4    3  12  ...      56.657166   \n",
       "4  8.698970  629.71283  3.5086    3    3  11  ...      78.945702   \n",
       "\n",
       "   PEOE7 (PEOE7)  PEOE8 (PEOE8)  PEOE9 (PEOE9)  PEOE10 (PEOE10)  \\\n",
       "0      78.640335      226.85541      107.43491        37.133846   \n",
       "1      47.171600      365.67694      174.07675        34.923889   \n",
       "2      47.941147      192.40652      255.75255        23.654478   \n",
       "3      37.954151      194.35304      202.76335        36.498634   \n",
       "4      39.361153      179.71288      220.46130        23.654478   \n",
       "\n",
       "   PEOE11 (PEOE11)  PEOE12 (PEOE12)  PEOE13 (PEOE13)  PEOE14 (PEOE14)  \\\n",
       "0         0.000000         7.980170              0.0         0.000000   \n",
       "1         7.980170        24.148668              0.0        24.663788   \n",
       "2         0.230159        15.879790              0.0        24.663788   \n",
       "3         0.980913         8.188327              0.0        26.385181   \n",
       "4         0.230159        15.879790              0.0        26.100143   \n",
       "\n",
       "   canvasUID  \n",
       "0          1  \n",
       "1          2  \n",
       "2          3  \n",
       "3          4  \n",
       "4          5  \n",
       "\n",
       "[5 rows x 595 columns]"
      ]
     },
     "execution_count": 40,
     "metadata": {},
     "output_type": "execute_result"
    }
   ],
   "source": [
    "import numpy as np\n",
    "import pandas as pd\n",
    "import matplotlib.pyplot as plt\n",
    "!pip install rdkit-pypi\n",
    "import rdkit\n",
    "from rdkit import Chem\n",
    "from rdkit.Chem import AllChem\n",
    "from sklearn.model_selection import train_test_split\n",
    "from sklearn.linear_model import LogisticRegression\n",
    "\n",
    "df = pd.read_csv(\"bace.csv\")\n",
    "df.head()"
   ]
  },
  {
   "cell_type": "markdown",
   "id": "Wpt1aaF5MkLD",
   "metadata": {
    "id": "Wpt1aaF5MkLD"
   },
   "source": [
    "Ok, now we are going to use Morgan Fingerprints as our featurization. These can be a little cumbersome to generate, so I provide the relevant code here to make the feature vector."
   ]
  },
  {
   "cell_type": "code",
   "execution_count": null,
   "id": "4b9fdf7e",
   "metadata": {
    "id": "4b9fdf7e"
   },
   "outputs": [],
   "source": [
    "mols = [Chem.MolFromSmiles(smiles) for smiles in df['mol']]\n",
    "from rdkit import DataStructs\n",
    "radius = 3\n",
    "nBits = 1024\n",
    "info = {}\n",
    "fps = [AllChem.GetMorganFingerprintAsBitVect(mol, radius=radius, nBits=nBits, bitInfo=info) for mol in mols]\n",
    "X = []\n",
    "for fp_object in fps:\n",
    "  fp_vect = np.zeros((1,), dtype=float)\n",
    "  DataStructs.ConvertToNumpyArray(fp_object, fp_vect)\n",
    "  X.append(fp_vect)\n",
    "y = df.Class\n"
   ]
  },
  {
   "cell_type": "markdown",
   "id": "a884ba48",
   "metadata": {
    "id": "a884ba48"
   },
   "source": [
    "Next, let's split our data into training and test sets"
   ]
  },
  {
   "cell_type": "code",
   "execution_count": null,
   "id": "bc8d4132",
   "metadata": {
    "id": "bc8d4132"
   },
   "outputs": [],
   "source": [
    "X_train,X_test,y_train,y_test=train_test_split(X,y,test_size=0.25,random_state=0)"
   ]
  },
  {
   "cell_type": "markdown",
   "id": "af90dc14",
   "metadata": {
    "id": "af90dc14"
   },
   "source": [
    "Let's start with logistic regression. Create the model, fit it to the training data, and then use the model to predict the classification for the test data."
   ]
  },
  {
   "cell_type": "code",
   "execution_count": null,
   "id": "0efc3baa",
   "metadata": {
    "id": "0efc3baa"
   },
   "outputs": [],
   "source": [
    "logreg = LogisticRegression(max_iter=1000)\n",
    "logreg.fit(X_train,y_train)\n",
    "y_pred=logreg.predict(X_test)"
   ]
  },
  {
   "cell_type": "markdown",
   "id": "83f3db94",
   "metadata": {
    "id": "83f3db94"
   },
   "source": [
    "Now, let's quantify the prediction by creating the confusion matrix. The diagonal elements are correct classifications and the off diagonal elements are the type 1 and type 2 errors."
   ]
  },
  {
   "cell_type": "code",
   "execution_count": null,
   "id": "b32555fc",
   "metadata": {
    "colab": {
     "base_uri": "https://localhost:8080/"
    },
    "executionInfo": {
     "elapsed": 96,
     "status": "ok",
     "timestamp": 1662760055257,
     "user": {
      "displayName": "Nicholas Jackson",
      "userId": "01670215121017026455"
     },
     "user_tz": 300
    },
    "id": "b32555fc",
    "outputId": "d3b22744-b579-4771-d075-91994b66090b"
   },
   "outputs": [
    {
     "data": {
      "text/plain": [
       "array([[168,  33],\n",
       "       [ 40, 138]])"
      ]
     },
     "execution_count": 53,
     "metadata": {},
     "output_type": "execute_result"
    }
   ],
   "source": [
    "from sklearn import metrics\n",
    "cnf_matrix = metrics.confusion_matrix(y_test, y_pred)\n",
    "cnf_matrix"
   ]
  },
  {
   "cell_type": "markdown",
   "id": "5f4741e4",
   "metadata": {
    "id": "5f4741e4"
   },
   "source": [
    "We can also compute other metrics, like accuracy, recall, and precision."
   ]
  },
  {
   "cell_type": "code",
   "execution_count": null,
   "id": "9afb9fb8",
   "metadata": {
    "colab": {
     "base_uri": "https://localhost:8080/"
    },
    "executionInfo": {
     "elapsed": 92,
     "status": "ok",
     "timestamp": 1662760057909,
     "user": {
      "displayName": "Nicholas Jackson",
      "userId": "01670215121017026455"
     },
     "user_tz": 300
    },
    "id": "9afb9fb8",
    "outputId": "43566843-35eb-4b63-a46e-e375c829f7c6"
   },
   "outputs": [
    {
     "name": "stdout",
     "output_type": "stream",
     "text": [
      "Accuracy: 0.8073878627968337\n",
      "Precision: 0.8070175438596491\n",
      "Recall: 0.7752808988764045\n"
     ]
    }
   ],
   "source": [
    "print(\"Accuracy:\",metrics.accuracy_score(y_test, y_pred))\n",
    "print(\"Precision:\",metrics.precision_score(y_test, y_pred))\n",
    "print(\"Recall:\",metrics.recall_score(y_test, y_pred))"
   ]
  },
  {
   "cell_type": "code",
   "execution_count": null,
   "id": "9rIgYcTkIHBm",
   "metadata": {
    "id": "9rIgYcTkIHBm"
   },
   "outputs": [],
   "source": []
  }
 ],
 "metadata": {
  "colab": {
   "provenance": []
  },
  "kernelspec": {
   "display_name": "chbe-413",
   "language": "python",
   "name": "python3"
  },
  "language_info": {
   "codemirror_mode": {
    "name": "ipython",
    "version": 3
   },
   "file_extension": ".py",
   "mimetype": "text/x-python",
   "name": "python",
   "nbconvert_exporter": "python",
   "pygments_lexer": "ipython3",
   "version": "3.11.13"
  }
 },
 "nbformat": 4,
 "nbformat_minor": 5
}
