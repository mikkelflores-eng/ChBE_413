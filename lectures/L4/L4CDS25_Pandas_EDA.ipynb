{
 "cells": [
  {
   "cell_type": "markdown",
   "metadata": {
    "id": "h21QuW3c_RcI"
   },
   "source": [
    "Let's import some Python libraries"
   ]
  },
  {
   "cell_type": "code",
   "execution_count": null,
   "metadata": {
    "id": "F9PEVi9XiHjq"
   },
   "outputs": [],
   "source": []
  },
  {
   "cell_type": "code",
   "execution_count": 106,
   "metadata": {
    "executionInfo": {
     "elapsed": 766,
     "status": "ok",
     "timestamp": 1752612353828,
     "user": {
      "displayName": "Nicholas Jackson",
      "userId": "01670215121017026455"
     },
     "user_tz": 300
    },
    "id": "4n8Q6yEM-zMN"
   },
   "outputs": [],
   "source": [
    "import matplotlib.pyplot as plt\n",
    "import numpy as np\n",
    "import os\n",
    "import sys\n",
    "import pandas as pd\n",
    "from scipy import stats"
   ]
  },
  {
   "cell_type": "code",
   "execution_count": 107,
   "metadata": {
    "executionInfo": {
     "elapsed": 41,
     "status": "ok",
     "timestamp": 1752612386384,
     "user": {
      "displayName": "Nicholas Jackson",
      "userId": "01670215121017026455"
     },
     "user_tz": 300
    },
    "id": "LhNJA-P2Bgvd"
   },
   "outputs": [],
   "source": [
    "Tm_df = pd.read_csv(\"Tm_200_subset_original.csv\")"
   ]
  },
  {
   "cell_type": "markdown",
   "metadata": {
    "id": "fXhUsnT_D1WW"
   },
   "source": [
    "Look at the top of the data file with .head()"
   ]
  },
  {
   "cell_type": "code",
   "execution_count": 108,
   "metadata": {
    "colab": {
     "base_uri": "https://localhost:8080/",
     "height": 206
    },
    "executionInfo": {
     "elapsed": 44,
     "status": "ok",
     "timestamp": 1752612388951,
     "user": {
      "displayName": "Nicholas Jackson",
      "userId": "01670215121017026455"
     },
     "user_tz": 300
    },
    "id": "v4d3vy4pDHwu",
    "outputId": "3cf037c2-fb4c-47d9-9edf-9377e38fa258"
   },
   "outputs": [
    {
     "data": {
      "text/html": [
       "<div>\n",
       "<style scoped>\n",
       "    .dataframe tbody tr th:only-of-type {\n",
       "        vertical-align: middle;\n",
       "    }\n",
       "\n",
       "    .dataframe tbody tr th {\n",
       "        vertical-align: top;\n",
       "    }\n",
       "\n",
       "    .dataframe thead th {\n",
       "        text-align: right;\n",
       "    }\n",
       "</style>\n",
       "<table border=\"1\" class=\"dataframe\">\n",
       "  <thead>\n",
       "    <tr style=\"text-align: right;\">\n",
       "      <th></th>\n",
       "      <th>smiles</th>\n",
       "      <th>Tm</th>\n",
       "      <th>num_atms</th>\n",
       "      <th>dipole</th>\n",
       "      <th>quadrupole</th>\n",
       "    </tr>\n",
       "  </thead>\n",
       "  <tbody>\n",
       "    <tr>\n",
       "      <th>0</th>\n",
       "      <td>CC1=C(C=CC(O)=N1)[N+]([O-])=O</td>\n",
       "      <td>508.15</td>\n",
       "      <td>17</td>\n",
       "      <td>4.473978</td>\n",
       "      <td>23.191697</td>\n",
       "    </tr>\n",
       "    <tr>\n",
       "      <th>1</th>\n",
       "      <td>COC1=C(N)C=C(C=C1)C(=O)N(C)C</td>\n",
       "      <td>393.15</td>\n",
       "      <td>28</td>\n",
       "      <td>4.772571</td>\n",
       "      <td>21.767880</td>\n",
       "    </tr>\n",
       "    <tr>\n",
       "      <th>2</th>\n",
       "      <td>CC1=CC=C(Cl)C(N)=C1</td>\n",
       "      <td>303.95</td>\n",
       "      <td>17</td>\n",
       "      <td>2.216088</td>\n",
       "      <td>7.920099</td>\n",
       "    </tr>\n",
       "    <tr>\n",
       "      <th>3</th>\n",
       "      <td>BrC1(C(=O)C2=CC=CC=C2C1=O)C1=CC=CC=C1</td>\n",
       "      <td>379.15</td>\n",
       "      <td>27</td>\n",
       "      <td>3.919235</td>\n",
       "      <td>21.700726</td>\n",
       "    </tr>\n",
       "    <tr>\n",
       "      <th>4</th>\n",
       "      <td>NC1=C(Cl)C=C(Cl)C=C1I</td>\n",
       "      <td>353.15</td>\n",
       "      <td>14</td>\n",
       "      <td>2.157331</td>\n",
       "      <td>4.988358</td>\n",
       "    </tr>\n",
       "  </tbody>\n",
       "</table>\n",
       "</div>"
      ],
      "text/plain": [
       "                                  smiles      Tm  num_atms    dipole  \\\n",
       "0          CC1=C(C=CC(O)=N1)[N+]([O-])=O  508.15        17  4.473978   \n",
       "1           COC1=C(N)C=C(C=C1)C(=O)N(C)C  393.15        28  4.772571   \n",
       "2                    CC1=CC=C(Cl)C(N)=C1  303.95        17  2.216088   \n",
       "3  BrC1(C(=O)C2=CC=CC=C2C1=O)C1=CC=CC=C1  379.15        27  3.919235   \n",
       "4                  NC1=C(Cl)C=C(Cl)C=C1I  353.15        14  2.157331   \n",
       "\n",
       "   quadrupole  \n",
       "0   23.191697  \n",
       "1   21.767880  \n",
       "2    7.920099  \n",
       "3   21.700726  \n",
       "4    4.988358  "
      ]
     },
     "execution_count": 108,
     "metadata": {},
     "output_type": "execute_result"
    }
   ],
   "source": [
    "Tm_df.head()"
   ]
  },
  {
   "cell_type": "code",
   "execution_count": null,
   "metadata": {
    "id": "cD2WDBLLDy-S"
   },
   "outputs": [],
   "source": []
  },
  {
   "cell_type": "markdown",
   "metadata": {
    "id": "XtCPkpTKD7cR"
   },
   "source": [
    "Check data types and for missing values"
   ]
  },
  {
   "cell_type": "code",
   "execution_count": 109,
   "metadata": {
    "colab": {
     "base_uri": "https://localhost:8080/"
    },
    "executionInfo": {
     "elapsed": 15,
     "status": "ok",
     "timestamp": 1752612390460,
     "user": {
      "displayName": "Nicholas Jackson",
      "userId": "01670215121017026455"
     },
     "user_tz": 300
    },
    "id": "l1s6uWAQD9fX",
    "outputId": "c3f01c64-ed80-4ad8-8fa1-32406753df83"
   },
   "outputs": [
    {
     "name": "stdout",
     "output_type": "stream",
     "text": [
      "<class 'pandas.core.frame.DataFrame'>\n",
      "RangeIndex: 201 entries, 0 to 200\n",
      "Data columns (total 5 columns):\n",
      " #   Column      Non-Null Count  Dtype  \n",
      "---  ------      --------------  -----  \n",
      " 0   smiles      201 non-null    object \n",
      " 1   Tm          201 non-null    float64\n",
      " 2   num_atms    201 non-null    int64  \n",
      " 3   dipole      201 non-null    float64\n",
      " 4   quadrupole  201 non-null    float64\n",
      "dtypes: float64(3), int64(1), object(1)\n",
      "memory usage: 8.0+ KB\n"
     ]
    }
   ],
   "source": [
    "Tm_df.info()"
   ]
  },
  {
   "cell_type": "markdown",
   "metadata": {
    "id": "2gmBa3ZEEEJA"
   },
   "source": [
    "Columns can be accessed in two ways. Either as attributes of the dataframe or similar to a dictionary entry."
   ]
  },
  {
   "cell_type": "code",
   "execution_count": 110,
   "metadata": {
    "colab": {
     "base_uri": "https://localhost:8080/",
     "height": 241
    },
    "executionInfo": {
     "elapsed": 12,
     "status": "ok",
     "timestamp": 1752612387641,
     "user": {
      "displayName": "Nicholas Jackson",
      "userId": "01670215121017026455"
     },
     "user_tz": 300
    },
    "id": "AFYMl6JBEPrQ",
    "outputId": "a3ab954d-6029-494a-8e23-980544e9cfd1"
   },
   "outputs": [
    {
     "data": {
      "text/plain": [
       "0            CC1=C(C=CC(O)=N1)[N+]([O-])=O\n",
       "1             COC1=C(N)C=C(C=C1)C(=O)N(C)C\n",
       "2                      CC1=CC=C(Cl)C(N)=C1\n",
       "3    BrC1(C(=O)C2=CC=CC=C2C1=O)C1=CC=CC=C1\n",
       "4                    NC1=C(Cl)C=C(Cl)C=C1I\n",
       "Name: smiles, dtype: object"
      ]
     },
     "execution_count": 110,
     "metadata": {},
     "output_type": "execute_result"
    }
   ],
   "source": [
    "Tm_df.smiles.head()"
   ]
  },
  {
   "cell_type": "code",
   "execution_count": 111,
   "metadata": {
    "id": "r3iUPobdb82Z"
   },
   "outputs": [],
   "source": [
    "Tm_df = Tm_df.drop(index=3)"
   ]
  },
  {
   "cell_type": "code",
   "execution_count": 112,
   "metadata": {
    "colab": {
     "base_uri": "https://localhost:8080/"
    },
    "executionInfo": {
     "elapsed": 2,
     "status": "ok",
     "timestamp": 1733503334233,
     "user": {
      "displayName": "Nicholas Jackson",
      "userId": "01670215121017026455"
     },
     "user_tz": 360
    },
    "id": "Eadz3djiccWN",
    "outputId": "89490b23-ee42-479d-f74a-1b0f8e234273"
   },
   "outputs": [
    {
     "name": "stdout",
     "output_type": "stream",
     "text": [
      "         Tm    dipole\n",
      "0    508.15  4.473978\n",
      "1    393.15  4.772571\n",
      "2    303.95  2.216088\n",
      "4    353.15  2.157331\n",
      "5    477.15  4.871275\n",
      "..      ...       ...\n",
      "196  437.15  4.874555\n",
      "197  391.15  5.228117\n",
      "198  430.15  3.889375\n",
      "199  433.15  3.437255\n",
      "200  395.15  4.158610\n",
      "\n",
      "[200 rows x 2 columns]\n"
     ]
    }
   ],
   "source": [
    "print(Tm_df.iloc[:,[1,3]])"
   ]
  },
  {
   "cell_type": "code",
   "execution_count": 113,
   "metadata": {
    "colab": {
     "base_uri": "https://localhost:8080/",
     "height": 241
    },
    "executionInfo": {
     "elapsed": 4,
     "status": "ok",
     "timestamp": 1752612392189,
     "user": {
      "displayName": "Nicholas Jackson",
      "userId": "01670215121017026455"
     },
     "user_tz": 300
    },
    "id": "b9OJNi6sEYd3",
    "outputId": "eb376d4a-9eb1-41f4-8f98-da35b7ef8b0e"
   },
   "outputs": [
    {
     "data": {
      "text/plain": [
       "0                  CC1=C(C=CC(O)=N1)[N+]([O-])=O\n",
       "1                   COC1=C(N)C=C(C=C1)C(=O)N(C)C\n",
       "2                            CC1=CC=C(Cl)C(N)=C1\n",
       "4                          NC1=C(Cl)C=C(Cl)C=C1I\n",
       "5    [O-][N+](=O)C=CC1=CC(C=C[N+]([O-])=O)=CC=C1\n",
       "Name: smiles, dtype: object"
      ]
     },
     "execution_count": 113,
     "metadata": {},
     "output_type": "execute_result"
    }
   ],
   "source": [
    "Tm_df[\"smiles\"].head()"
   ]
  },
  {
   "cell_type": "markdown",
   "metadata": {
    "id": "FcZZXTqcEeh8"
   },
   "source": [
    "Rows can be accessed by index"
   ]
  },
  {
   "cell_type": "code",
   "execution_count": 114,
   "metadata": {
    "colab": {
     "base_uri": "https://localhost:8080/",
     "height": 241
    },
    "executionInfo": {
     "elapsed": 5,
     "status": "ok",
     "timestamp": 1752612393366,
     "user": {
      "displayName": "Nicholas Jackson",
      "userId": "01670215121017026455"
     },
     "user_tz": 300
    },
    "id": "9pXANgwtEfo1",
    "outputId": "0e6938ac-15df-4d20-b53a-ac1d3ff7f0f6"
   },
   "outputs": [
    {
     "data": {
      "text/plain": [
       "smiles        CC1=C(C=CC(O)=N1)[N+]([O-])=O\n",
       "Tm                                   508.15\n",
       "num_atms                                 17\n",
       "dipole                             4.473978\n",
       "quadrupole                        23.191697\n",
       "Name: 0, dtype: object"
      ]
     },
     "execution_count": 114,
     "metadata": {},
     "output_type": "execute_result"
    }
   ],
   "source": [
    "Tm_df.iloc[0]"
   ]
  },
  {
   "cell_type": "markdown",
   "metadata": {
    "id": "xbljdU8LEk_m"
   },
   "source": [
    "New columns can be mathematical operations of other columns"
   ]
  },
  {
   "cell_type": "code",
   "execution_count": 115,
   "metadata": {
    "colab": {
     "base_uri": "https://localhost:8080/",
     "height": 206
    },
    "executionInfo": {
     "elapsed": 254,
     "status": "ok",
     "timestamp": 1733503340265,
     "user": {
      "displayName": "Nicholas Jackson",
      "userId": "01670215121017026455"
     },
     "user_tz": 360
    },
    "id": "XNoaTsY6Eme3",
    "outputId": "2d6988f6-071d-4b08-dfb8-89376d5b8393"
   },
   "outputs": [
    {
     "data": {
      "text/html": [
       "<div>\n",
       "<style scoped>\n",
       "    .dataframe tbody tr th:only-of-type {\n",
       "        vertical-align: middle;\n",
       "    }\n",
       "\n",
       "    .dataframe tbody tr th {\n",
       "        vertical-align: top;\n",
       "    }\n",
       "\n",
       "    .dataframe thead th {\n",
       "        text-align: right;\n",
       "    }\n",
       "</style>\n",
       "<table border=\"1\" class=\"dataframe\">\n",
       "  <thead>\n",
       "    <tr style=\"text-align: right;\">\n",
       "      <th></th>\n",
       "      <th>smiles</th>\n",
       "      <th>Tm</th>\n",
       "      <th>num_atms</th>\n",
       "      <th>dipole</th>\n",
       "      <th>quadrupole</th>\n",
       "      <th>new_column</th>\n",
       "    </tr>\n",
       "  </thead>\n",
       "  <tbody>\n",
       "    <tr>\n",
       "      <th>0</th>\n",
       "      <td>CC1=C(C=CC(O)=N1)[N+]([O-])=O</td>\n",
       "      <td>508.15</td>\n",
       "      <td>17</td>\n",
       "      <td>4.473978</td>\n",
       "      <td>23.191697</td>\n",
       "      <td>0.192913</td>\n",
       "    </tr>\n",
       "    <tr>\n",
       "      <th>1</th>\n",
       "      <td>COC1=C(N)C=C(C=C1)C(=O)N(C)C</td>\n",
       "      <td>393.15</td>\n",
       "      <td>28</td>\n",
       "      <td>4.772571</td>\n",
       "      <td>21.767880</td>\n",
       "      <td>0.219248</td>\n",
       "    </tr>\n",
       "    <tr>\n",
       "      <th>2</th>\n",
       "      <td>CC1=CC=C(Cl)C(N)=C1</td>\n",
       "      <td>303.95</td>\n",
       "      <td>17</td>\n",
       "      <td>2.216088</td>\n",
       "      <td>7.920099</td>\n",
       "      <td>0.279806</td>\n",
       "    </tr>\n",
       "    <tr>\n",
       "      <th>4</th>\n",
       "      <td>NC1=C(Cl)C=C(Cl)C=C1I</td>\n",
       "      <td>353.15</td>\n",
       "      <td>14</td>\n",
       "      <td>2.157331</td>\n",
       "      <td>4.988358</td>\n",
       "      <td>0.432473</td>\n",
       "    </tr>\n",
       "    <tr>\n",
       "      <th>5</th>\n",
       "      <td>[O-][N+](=O)C=CC1=CC(C=C[N+]([O-])=O)=CC=C1</td>\n",
       "      <td>477.15</td>\n",
       "      <td>24</td>\n",
       "      <td>4.871275</td>\n",
       "      <td>44.863362</td>\n",
       "      <td>0.108580</td>\n",
       "    </tr>\n",
       "  </tbody>\n",
       "</table>\n",
       "</div>"
      ],
      "text/plain": [
       "                                        smiles      Tm  num_atms    dipole  \\\n",
       "0                CC1=C(C=CC(O)=N1)[N+]([O-])=O  508.15        17  4.473978   \n",
       "1                 COC1=C(N)C=C(C=C1)C(=O)N(C)C  393.15        28  4.772571   \n",
       "2                          CC1=CC=C(Cl)C(N)=C1  303.95        17  2.216088   \n",
       "4                        NC1=C(Cl)C=C(Cl)C=C1I  353.15        14  2.157331   \n",
       "5  [O-][N+](=O)C=CC1=CC(C=C[N+]([O-])=O)=CC=C1  477.15        24  4.871275   \n",
       "\n",
       "   quadrupole  new_column  \n",
       "0   23.191697    0.192913  \n",
       "1   21.767880    0.219248  \n",
       "2    7.920099    0.279806  \n",
       "4    4.988358    0.432473  \n",
       "5   44.863362    0.108580  "
      ]
     },
     "execution_count": 115,
     "metadata": {},
     "output_type": "execute_result"
    }
   ],
   "source": [
    "Tm_df[\"new_column\"] = Tm_df.dipole / Tm_df.quadrupole\n",
    "Tm_df.head()"
   ]
  },
  {
   "cell_type": "markdown",
   "metadata": {
    "id": "dO8_HERYE08v"
   },
   "source": [
    "Filtering can be done with Boolean masks of the dataframe"
   ]
  },
  {
   "cell_type": "code",
   "execution_count": 116,
   "metadata": {
    "colab": {
     "base_uri": "https://localhost:8080/",
     "height": 458
    },
    "executionInfo": {
     "elapsed": 21,
     "status": "ok",
     "timestamp": 1752612406457,
     "user": {
      "displayName": "Nicholas Jackson",
      "userId": "01670215121017026455"
     },
     "user_tz": 300
    },
    "id": "dNGpaBBaE2pH",
    "outputId": "fb6539d7-3b31-4195-a803-a49251f279ea"
   },
   "outputs": [
    {
     "data": {
      "text/plain": [
       "0       True\n",
       "1      False\n",
       "2      False\n",
       "4      False\n",
       "5       True\n",
       "       ...  \n",
       "196     True\n",
       "197    False\n",
       "198     True\n",
       "199     True\n",
       "200    False\n",
       "Name: Tm, Length: 200, dtype: bool"
      ]
     },
     "execution_count": 116,
     "metadata": {},
     "output_type": "execute_result"
    }
   ],
   "source": [
    "Tm_df.Tm > 400"
   ]
  },
  {
   "cell_type": "markdown",
   "metadata": {
    "id": "bgI31F3F5kFm"
   },
   "source": [
    "Plot using the built in Pandas functionality. It is generally better to use matplotlib or Seaborn, but the Pandas plotting is fine for exploratory data analysis."
   ]
  },
  {
   "cell_type": "code",
   "execution_count": 117,
   "metadata": {
    "colab": {
     "base_uri": "https://localhost:8080/",
     "height": 449
    },
    "executionInfo": {
     "elapsed": 420,
     "status": "ok",
     "timestamp": 1752612759958,
     "user": {
      "displayName": "Nicholas Jackson",
      "userId": "01670215121017026455"
     },
     "user_tz": 300
    },
    "id": "PQe08Bv8E9LS",
    "outputId": "e0d367d7-7860-44b2-9ff8-e44ecf21fbe2"
   },
   "outputs": [
    {
     "data": {
      "image/png": "[encoded data removed]",
      "text/plain": [
       "<Figure size 640x480 with 1 Axes>"
      ]
     },
     "metadata": {},
     "output_type": "display_data"
    }
   ],
   "source": [
    "Tm_df.plot.scatter(x=\"quadrupole\", y=\"Tm\");"
   ]
  },
  {
   "cell_type": "markdown",
   "metadata": {
    "id": "2TzusLeERkYO"
   },
   "source": [
    "Screening data according to multiple Boolean conditions"
   ]
  },
  {
   "cell_type": "code",
   "execution_count": 118,
   "metadata": {
    "colab": {
     "base_uri": "https://localhost:8080/",
     "height": 300
    },
    "executionInfo": {
     "elapsed": 205,
     "status": "ok",
     "timestamp": 1733503349676,
     "user": {
      "displayName": "Nicholas Jackson",
      "userId": "01670215121017026455"
     },
     "user_tz": 360
    },
    "id": "QLXZqs0lFFE6",
    "outputId": "b024cab7-2e28-4dbf-eff6-0b50d868eaad"
   },
   "outputs": [
    {
     "data": {
      "text/html": [
       "<div>\n",
       "<style scoped>\n",
       "    .dataframe tbody tr th:only-of-type {\n",
       "        vertical-align: middle;\n",
       "    }\n",
       "\n",
       "    .dataframe tbody tr th {\n",
       "        vertical-align: top;\n",
       "    }\n",
       "\n",
       "    .dataframe thead th {\n",
       "        text-align: right;\n",
       "    }\n",
       "</style>\n",
       "<table border=\"1\" class=\"dataframe\">\n",
       "  <thead>\n",
       "    <tr style=\"text-align: right;\">\n",
       "      <th></th>\n",
       "      <th>smiles</th>\n",
       "      <th>Tm</th>\n",
       "      <th>num_atms</th>\n",
       "      <th>dipole</th>\n",
       "      <th>quadrupole</th>\n",
       "      <th>new_column</th>\n",
       "    </tr>\n",
       "  </thead>\n",
       "  <tbody>\n",
       "    <tr>\n",
       "      <th>0</th>\n",
       "      <td>CC1=C(C=CC(O)=N1)[N+]([O-])=O</td>\n",
       "      <td>508.15</td>\n",
       "      <td>17</td>\n",
       "      <td>4.473978</td>\n",
       "      <td>23.191697</td>\n",
       "      <td>0.192913</td>\n",
       "    </tr>\n",
       "    <tr>\n",
       "      <th>19</th>\n",
       "      <td>NC(=O)C1=CNCCC1</td>\n",
       "      <td>477.15</td>\n",
       "      <td>19</td>\n",
       "      <td>4.806324</td>\n",
       "      <td>13.183506</td>\n",
       "      <td>0.364571</td>\n",
       "    </tr>\n",
       "    <tr>\n",
       "      <th>50</th>\n",
       "      <td>NS(=O)(=O)C1=C(Br)C=CC(=C1)[N+]([O-])=O</td>\n",
       "      <td>478.15</td>\n",
       "      <td>19</td>\n",
       "      <td>6.130894</td>\n",
       "      <td>18.045697</td>\n",
       "      <td>0.339743</td>\n",
       "    </tr>\n",
       "    <tr>\n",
       "      <th>62</th>\n",
       "      <td>CC1=C(Br)C(Cl)=C(C=N1)C(O)=O</td>\n",
       "      <td>426.15</td>\n",
       "      <td>17</td>\n",
       "      <td>4.160363</td>\n",
       "      <td>13.885092</td>\n",
       "      <td>0.299628</td>\n",
       "    </tr>\n",
       "    <tr>\n",
       "      <th>82</th>\n",
       "      <td>NC1=NC2=C(N=CN2)C(=O)N1</td>\n",
       "      <td>633.15</td>\n",
       "      <td>16</td>\n",
       "      <td>6.488483</td>\n",
       "      <td>21.894593</td>\n",
       "      <td>0.296351</td>\n",
       "    </tr>\n",
       "    <tr>\n",
       "      <th>95</th>\n",
       "      <td>CC1=NC2=C(N1)C=CN=C2</td>\n",
       "      <td>450.15</td>\n",
       "      <td>17</td>\n",
       "      <td>5.513190</td>\n",
       "      <td>3.831608</td>\n",
       "      <td>1.438871</td>\n",
       "    </tr>\n",
       "    <tr>\n",
       "      <th>115</th>\n",
       "      <td>CSC(=O)C1=C2SN=NC2=CC=C1</td>\n",
       "      <td>406.15</td>\n",
       "      <td>19</td>\n",
       "      <td>4.499769</td>\n",
       "      <td>8.209172</td>\n",
       "      <td>0.548139</td>\n",
       "    </tr>\n",
       "    <tr>\n",
       "      <th>125</th>\n",
       "      <td>NC1=C(F)C=C(F)C(=C1)C(O)=O</td>\n",
       "      <td>443.15</td>\n",
       "      <td>17</td>\n",
       "      <td>4.504212</td>\n",
       "      <td>13.524745</td>\n",
       "      <td>0.333035</td>\n",
       "    </tr>\n",
       "  </tbody>\n",
       "</table>\n",
       "</div>"
      ],
      "text/plain": [
       "                                      smiles      Tm  num_atms    dipole  \\\n",
       "0              CC1=C(C=CC(O)=N1)[N+]([O-])=O  508.15        17  4.473978   \n",
       "19                           NC(=O)C1=CNCCC1  477.15        19  4.806324   \n",
       "50   NS(=O)(=O)C1=C(Br)C=CC(=C1)[N+]([O-])=O  478.15        19  6.130894   \n",
       "62              CC1=C(Br)C(Cl)=C(C=N1)C(O)=O  426.15        17  4.160363   \n",
       "82                   NC1=NC2=C(N=CN2)C(=O)N1  633.15        16  6.488483   \n",
       "95                      CC1=NC2=C(N1)C=CN=C2  450.15        17  5.513190   \n",
       "115                 CSC(=O)C1=C2SN=NC2=CC=C1  406.15        19  4.499769   \n",
       "125               NC1=C(F)C=C(F)C(=C1)C(O)=O  443.15        17  4.504212   \n",
       "\n",
       "     quadrupole  new_column  \n",
       "0     23.191697    0.192913  \n",
       "19    13.183506    0.364571  \n",
       "50    18.045697    0.339743  \n",
       "62    13.885092    0.299628  \n",
       "82    21.894593    0.296351  \n",
       "95     3.831608    1.438871  \n",
       "115    8.209172    0.548139  \n",
       "125   13.524745    0.333035  "
      ]
     },
     "execution_count": 118,
     "metadata": {},
     "output_type": "execute_result"
    }
   ],
   "source": [
    "Tm_df[(Tm_df.Tm > 400) & (Tm_df.num_atms < 20) & (Tm_df.dipole > 4)]"
   ]
  },
  {
   "cell_type": "markdown",
   "metadata": {
    "id": "03wnAcjZRoRK"
   },
   "source": [
    "Invert that condition"
   ]
  },
  {
   "cell_type": "code",
   "execution_count": 119,
   "metadata": {
    "colab": {
     "base_uri": "https://localhost:8080/",
     "height": 206
    },
    "executionInfo": {
     "elapsed": 547,
     "status": "ok",
     "timestamp": 1733503352078,
     "user": {
      "displayName": "Nicholas Jackson",
      "userId": "01670215121017026455"
     },
     "user_tz": 360
    },
    "id": "HkWLNzcmFKXC",
    "outputId": "27048e09-db21-4d3b-b880-a661c5fefb3f"
   },
   "outputs": [
    {
     "data": {
      "text/html": [
       "<div>\n",
       "<style scoped>\n",
       "    .dataframe tbody tr th:only-of-type {\n",
       "        vertical-align: middle;\n",
       "    }\n",
       "\n",
       "    .dataframe tbody tr th {\n",
       "        vertical-align: top;\n",
       "    }\n",
       "\n",
       "    .dataframe thead th {\n",
       "        text-align: right;\n",
       "    }\n",
       "</style>\n",
       "<table border=\"1\" class=\"dataframe\">\n",
       "  <thead>\n",
       "    <tr style=\"text-align: right;\">\n",
       "      <th></th>\n",
       "      <th>smiles</th>\n",
       "      <th>Tm</th>\n",
       "      <th>num_atms</th>\n",
       "      <th>dipole</th>\n",
       "      <th>quadrupole</th>\n",
       "      <th>new_column</th>\n",
       "    </tr>\n",
       "  </thead>\n",
       "  <tbody>\n",
       "    <tr>\n",
       "      <th>27</th>\n",
       "      <td>[O-][N+](=O)C1=NN(CCBr)C=C1</td>\n",
       "      <td>324.15</td>\n",
       "      <td>17</td>\n",
       "      <td>7.529092</td>\n",
       "      <td>20.318932</td>\n",
       "      <td>0.370546</td>\n",
       "    </tr>\n",
       "    <tr>\n",
       "      <th>85</th>\n",
       "      <td>COC1=CSC=C1C(N)=O</td>\n",
       "      <td>393.15</td>\n",
       "      <td>17</td>\n",
       "      <td>5.085881</td>\n",
       "      <td>5.187686</td>\n",
       "      <td>0.980376</td>\n",
       "    </tr>\n",
       "    <tr>\n",
       "      <th>102</th>\n",
       "      <td>N#CC=CC1=CN=CC=C1</td>\n",
       "      <td>378.15</td>\n",
       "      <td>16</td>\n",
       "      <td>4.346182</td>\n",
       "      <td>27.610626</td>\n",
       "      <td>0.157410</td>\n",
       "    </tr>\n",
       "    <tr>\n",
       "      <th>147</th>\n",
       "      <td>CC1=CC=C(C=N1)C#N</td>\n",
       "      <td>358.15</td>\n",
       "      <td>15</td>\n",
       "      <td>4.467646</td>\n",
       "      <td>11.720369</td>\n",
       "      <td>0.381187</td>\n",
       "    </tr>\n",
       "    <tr>\n",
       "      <th>151</th>\n",
       "      <td>ClC1=C(C=O)C(=O)OC2=C1C=CC=C2</td>\n",
       "      <td>387.15</td>\n",
       "      <td>19</td>\n",
       "      <td>5.728380</td>\n",
       "      <td>8.455705</td>\n",
       "      <td>0.677457</td>\n",
       "    </tr>\n",
       "  </tbody>\n",
       "</table>\n",
       "</div>"
      ],
      "text/plain": [
       "                            smiles      Tm  num_atms    dipole  quadrupole  \\\n",
       "27     [O-][N+](=O)C1=NN(CCBr)C=C1  324.15        17  7.529092   20.318932   \n",
       "85               COC1=CSC=C1C(N)=O  393.15        17  5.085881    5.187686   \n",
       "102              N#CC=CC1=CN=CC=C1  378.15        16  4.346182   27.610626   \n",
       "147              CC1=CC=C(C=N1)C#N  358.15        15  4.467646   11.720369   \n",
       "151  ClC1=C(C=O)C(=O)OC2=C1C=CC=C2  387.15        19  5.728380    8.455705   \n",
       "\n",
       "     new_column  \n",
       "27     0.370546  \n",
       "85     0.980376  \n",
       "102    0.157410  \n",
       "147    0.381187  \n",
       "151    0.677457  "
      ]
     },
     "execution_count": 119,
     "metadata": {},
     "output_type": "execute_result"
    }
   ],
   "source": [
    "Tm_df[~(Tm_df.Tm > 400) & (Tm_df.num_atms < 20) & (Tm_df.dipole > 4)]"
   ]
  },
  {
   "cell_type": "markdown",
   "metadata": {
    "id": "_ZMiwV3oRrbX"
   },
   "source": [
    "Write pandas dataframe to a .csv file"
   ]
  },
  {
   "cell_type": "code",
   "execution_count": 120,
   "metadata": {
    "colab": {
     "base_uri": "https://localhost:8080/",
     "height": 206
    },
    "executionInfo": {
     "elapsed": 554,
     "status": "ok",
     "timestamp": 1733503354014,
     "user": {
      "displayName": "Nicholas Jackson",
      "userId": "01670215121017026455"
     },
     "user_tz": 360
    },
    "id": "-VJAK1CDFchI",
    "outputId": "7cc40545-960c-4cec-ae8f-12773e4eaa6d"
   },
   "outputs": [
    {
     "data": {
      "text/html": [
       "<div>\n",
       "<style scoped>\n",
       "    .dataframe tbody tr th:only-of-type {\n",
       "        vertical-align: middle;\n",
       "    }\n",
       "\n",
       "    .dataframe tbody tr th {\n",
       "        vertical-align: top;\n",
       "    }\n",
       "\n",
       "    .dataframe thead th {\n",
       "        text-align: right;\n",
       "    }\n",
       "</style>\n",
       "<table border=\"1\" class=\"dataframe\">\n",
       "  <thead>\n",
       "    <tr style=\"text-align: right;\">\n",
       "      <th></th>\n",
       "      <th>smiles</th>\n",
       "      <th>Tm</th>\n",
       "      <th>num_atms</th>\n",
       "      <th>dipole</th>\n",
       "      <th>quadrupole</th>\n",
       "      <th>new_column</th>\n",
       "    </tr>\n",
       "  </thead>\n",
       "  <tbody>\n",
       "    <tr>\n",
       "      <th>0</th>\n",
       "      <td>CC1=C(C=CC(O)=N1)[N+]([O-])=O</td>\n",
       "      <td>508.15</td>\n",
       "      <td>17</td>\n",
       "      <td>4.473978</td>\n",
       "      <td>23.191697</td>\n",
       "      <td>0.192913</td>\n",
       "    </tr>\n",
       "    <tr>\n",
       "      <th>1</th>\n",
       "      <td>COC1=C(N)C=C(C=C1)C(=O)N(C)C</td>\n",
       "      <td>393.15</td>\n",
       "      <td>28</td>\n",
       "      <td>4.772571</td>\n",
       "      <td>21.767880</td>\n",
       "      <td>0.219248</td>\n",
       "    </tr>\n",
       "    <tr>\n",
       "      <th>2</th>\n",
       "      <td>CC1=CC=C(Cl)C(N)=C1</td>\n",
       "      <td>303.95</td>\n",
       "      <td>17</td>\n",
       "      <td>2.216088</td>\n",
       "      <td>7.920099</td>\n",
       "      <td>0.279806</td>\n",
       "    </tr>\n",
       "    <tr>\n",
       "      <th>3</th>\n",
       "      <td>NC1=C(Cl)C=C(Cl)C=C1I</td>\n",
       "      <td>353.15</td>\n",
       "      <td>14</td>\n",
       "      <td>2.157331</td>\n",
       "      <td>4.988358</td>\n",
       "      <td>0.432473</td>\n",
       "    </tr>\n",
       "    <tr>\n",
       "      <th>4</th>\n",
       "      <td>[O-][N+](=O)C=CC1=CC(C=C[N+]([O-])=O)=CC=C1</td>\n",
       "      <td>477.15</td>\n",
       "      <td>24</td>\n",
       "      <td>4.871275</td>\n",
       "      <td>44.863362</td>\n",
       "      <td>0.108580</td>\n",
       "    </tr>\n",
       "  </tbody>\n",
       "</table>\n",
       "</div>"
      ],
      "text/plain": [
       "                                        smiles      Tm  num_atms    dipole  \\\n",
       "0                CC1=C(C=CC(O)=N1)[N+]([O-])=O  508.15        17  4.473978   \n",
       "1                 COC1=C(N)C=C(C=C1)C(=O)N(C)C  393.15        28  4.772571   \n",
       "2                          CC1=CC=C(Cl)C(N)=C1  303.95        17  2.216088   \n",
       "3                        NC1=C(Cl)C=C(Cl)C=C1I  353.15        14  2.157331   \n",
       "4  [O-][N+](=O)C=CC1=CC(C=C[N+]([O-])=O)=CC=C1  477.15        24  4.871275   \n",
       "\n",
       "   quadrupole  new_column  \n",
       "0   23.191697    0.192913  \n",
       "1   21.767880    0.219248  \n",
       "2    7.920099    0.279806  \n",
       "3    4.988358    0.432473  \n",
       "4   44.863362    0.108580  "
      ]
     },
     "execution_count": 120,
     "metadata": {},
     "output_type": "execute_result"
    }
   ],
   "source": [
    "Tm_df.to_csv(\n",
    "    \"test_file.csv\", index=False\n",
    ")  # Up to you if you want the index column saved in the output or not\n",
    "pd.read_csv(\"test_file.csv\").head()  # See the new column get written out"
   ]
  },
  {
   "cell_type": "markdown",
   "metadata": {
    "id": "Zss4Lse0RvNn"
   },
   "source": [
    "Sort dataframes by column"
   ]
  },
  {
   "cell_type": "code",
   "execution_count": 121,
   "metadata": {
    "colab": {
     "base_uri": "https://localhost:8080/",
     "height": 206
    },
    "executionInfo": {
     "elapsed": 227,
     "status": "ok",
     "timestamp": 1733503355548,
     "user": {
      "displayName": "Nicholas Jackson",
      "userId": "01670215121017026455"
     },
     "user_tz": 360
    },
    "id": "Vfa5A2PyFgzQ",
    "outputId": "ca9e4e44-08e4-4379-f913-1a72a108462b"
   },
   "outputs": [
    {
     "data": {
      "text/html": [
       "<div>\n",
       "<style scoped>\n",
       "    .dataframe tbody tr th:only-of-type {\n",
       "        vertical-align: middle;\n",
       "    }\n",
       "\n",
       "    .dataframe tbody tr th {\n",
       "        vertical-align: top;\n",
       "    }\n",
       "\n",
       "    .dataframe thead th {\n",
       "        text-align: right;\n",
       "    }\n",
       "</style>\n",
       "<table border=\"1\" class=\"dataframe\">\n",
       "  <thead>\n",
       "    <tr style=\"text-align: right;\">\n",
       "      <th></th>\n",
       "      <th>smiles</th>\n",
       "      <th>Tm</th>\n",
       "      <th>num_atms</th>\n",
       "      <th>dipole</th>\n",
       "      <th>quadrupole</th>\n",
       "      <th>new_column</th>\n",
       "    </tr>\n",
       "  </thead>\n",
       "  <tbody>\n",
       "    <tr>\n",
       "      <th>82</th>\n",
       "      <td>NC1=NC2=C(N=CN2)C(=O)N1</td>\n",
       "      <td>633.15</td>\n",
       "      <td>16</td>\n",
       "      <td>6.488483</td>\n",
       "      <td>21.894593</td>\n",
       "      <td>0.296351</td>\n",
       "    </tr>\n",
       "    <tr>\n",
       "      <th>9</th>\n",
       "      <td>NC1=C(C#N)C(=O)C2CC3=C(CN12)C=CC=C3</td>\n",
       "      <td>581.15</td>\n",
       "      <td>28</td>\n",
       "      <td>9.580572</td>\n",
       "      <td>34.144607</td>\n",
       "      <td>0.280588</td>\n",
       "    </tr>\n",
       "    <tr>\n",
       "      <th>188</th>\n",
       "      <td>OC(=O)C1=CC(NC(=O)C2=CC=C(Br)C=C2)=CC=C1</td>\n",
       "      <td>580.15</td>\n",
       "      <td>29</td>\n",
       "      <td>3.733080</td>\n",
       "      <td>29.455901</td>\n",
       "      <td>0.126735</td>\n",
       "    </tr>\n",
       "    <tr>\n",
       "      <th>92</th>\n",
       "      <td>O=C1NC(=O)C2=C(S1)C=CC=C2</td>\n",
       "      <td>566.15</td>\n",
       "      <td>17</td>\n",
       "      <td>3.758503</td>\n",
       "      <td>11.301116</td>\n",
       "      <td>0.332578</td>\n",
       "    </tr>\n",
       "    <tr>\n",
       "      <th>116</th>\n",
       "      <td>NC1=CC=C(C=C1)C1=CC2=C(O1)C=CC=C2</td>\n",
       "      <td>555.15</td>\n",
       "      <td>27</td>\n",
       "      <td>3.102335</td>\n",
       "      <td>16.948392</td>\n",
       "      <td>0.183046</td>\n",
       "    </tr>\n",
       "  </tbody>\n",
       "</table>\n",
       "</div>"
      ],
      "text/plain": [
       "                                       smiles      Tm  num_atms    dipole  \\\n",
       "82                    NC1=NC2=C(N=CN2)C(=O)N1  633.15        16  6.488483   \n",
       "9         NC1=C(C#N)C(=O)C2CC3=C(CN12)C=CC=C3  581.15        28  9.580572   \n",
       "188  OC(=O)C1=CC(NC(=O)C2=CC=C(Br)C=C2)=CC=C1  580.15        29  3.733080   \n",
       "92                  O=C1NC(=O)C2=C(S1)C=CC=C2  566.15        17  3.758503   \n",
       "116         NC1=CC=C(C=C1)C1=CC2=C(O1)C=CC=C2  555.15        27  3.102335   \n",
       "\n",
       "     quadrupole  new_column  \n",
       "82    21.894593    0.296351  \n",
       "9     34.144607    0.280588  \n",
       "188   29.455901    0.126735  \n",
       "92    11.301116    0.332578  \n",
       "116   16.948392    0.183046  "
      ]
     },
     "execution_count": 121,
     "metadata": {},
     "output_type": "execute_result"
    }
   ],
   "source": [
    "Tm_df.sort_values(\n",
    "    by=\"Tm\", ascending=False\n",
    ").head()  # Notice how the index column was shuffled"
   ]
  },
  {
   "cell_type": "markdown",
   "metadata": {
    "id": "QGwgFNC_RzMZ"
   },
   "source": [
    "Compute simple descriptive statistics"
   ]
  },
  {
   "cell_type": "code",
   "execution_count": 122,
   "metadata": {
    "colab": {
     "base_uri": "https://localhost:8080/",
     "height": 300
    },
    "executionInfo": {
     "elapsed": 590,
     "status": "ok",
     "timestamp": 1733503357350,
     "user": {
      "displayName": "Nicholas Jackson",
      "userId": "01670215121017026455"
     },
     "user_tz": 360
    },
    "id": "cUjiXhpsFjo9",
    "outputId": "b776d47e-e472-457c-cde5-cf07b906cb86"
   },
   "outputs": [
    {
     "data": {
      "text/html": [
       "<div>\n",
       "<style scoped>\n",
       "    .dataframe tbody tr th:only-of-type {\n",
       "        vertical-align: middle;\n",
       "    }\n",
       "\n",
       "    .dataframe tbody tr th {\n",
       "        vertical-align: top;\n",
       "    }\n",
       "\n",
       "    .dataframe thead th {\n",
       "        text-align: right;\n",
       "    }\n",
       "</style>\n",
       "<table border=\"1\" class=\"dataframe\">\n",
       "  <thead>\n",
       "    <tr style=\"text-align: right;\">\n",
       "      <th></th>\n",
       "      <th>Tm</th>\n",
       "      <th>num_atms</th>\n",
       "      <th>dipole</th>\n",
       "      <th>quadrupole</th>\n",
       "      <th>new_column</th>\n",
       "    </tr>\n",
       "  </thead>\n",
       "  <tbody>\n",
       "    <tr>\n",
       "      <th>count</th>\n",
       "      <td>200.000000</td>\n",
       "      <td>200.000000</td>\n",
       "      <td>200.000000</td>\n",
       "      <td>200.000000</td>\n",
       "      <td>200.000000</td>\n",
       "    </tr>\n",
       "    <tr>\n",
       "      <th>mean</th>\n",
       "      <td>405.175900</td>\n",
       "      <td>27.115000</td>\n",
       "      <td>3.792793</td>\n",
       "      <td>17.234830</td>\n",
       "      <td>0.281173</td>\n",
       "    </tr>\n",
       "    <tr>\n",
       "      <th>std</th>\n",
       "      <td>78.684318</td>\n",
       "      <td>10.248754</td>\n",
       "      <td>2.040079</td>\n",
       "      <td>11.153107</td>\n",
       "      <td>0.209809</td>\n",
       "    </tr>\n",
       "    <tr>\n",
       "      <th>min</th>\n",
       "      <td>119.150000</td>\n",
       "      <td>5.000000</td>\n",
       "      <td>0.000000</td>\n",
       "      <td>0.366284</td>\n",
       "      <td>0.000000</td>\n",
       "    </tr>\n",
       "    <tr>\n",
       "      <th>25%</th>\n",
       "      <td>360.150000</td>\n",
       "      <td>20.000000</td>\n",
       "      <td>2.387679</td>\n",
       "      <td>9.317734</td>\n",
       "      <td>0.154930</td>\n",
       "    </tr>\n",
       "    <tr>\n",
       "      <th>50%</th>\n",
       "      <td>406.650000</td>\n",
       "      <td>25.000000</td>\n",
       "      <td>3.640759</td>\n",
       "      <td>15.104636</td>\n",
       "      <td>0.229042</td>\n",
       "    </tr>\n",
       "    <tr>\n",
       "      <th>75%</th>\n",
       "      <td>451.150000</td>\n",
       "      <td>32.000000</td>\n",
       "      <td>5.023602</td>\n",
       "      <td>22.184068</td>\n",
       "      <td>0.332692</td>\n",
       "    </tr>\n",
       "    <tr>\n",
       "      <th>max</th>\n",
       "      <td>633.150000</td>\n",
       "      <td>69.000000</td>\n",
       "      <td>10.652692</td>\n",
       "      <td>86.544681</td>\n",
       "      <td>1.438871</td>\n",
       "    </tr>\n",
       "  </tbody>\n",
       "</table>\n",
       "</div>"
      ],
      "text/plain": [
       "               Tm    num_atms      dipole  quadrupole  new_column\n",
       "count  200.000000  200.000000  200.000000  200.000000  200.000000\n",
       "mean   405.175900   27.115000    3.792793   17.234830    0.281173\n",
       "std     78.684318   10.248754    2.040079   11.153107    0.209809\n",
       "min    119.150000    5.000000    0.000000    0.366284    0.000000\n",
       "25%    360.150000   20.000000    2.387679    9.317734    0.154930\n",
       "50%    406.650000   25.000000    3.640759   15.104636    0.229042\n",
       "75%    451.150000   32.000000    5.023602   22.184068    0.332692\n",
       "max    633.150000   69.000000   10.652692   86.544681    1.438871"
      ]
     },
     "execution_count": 122,
     "metadata": {},
     "output_type": "execute_result"
    }
   ],
   "source": [
    "# Descriptive Statistics\n",
    "Tm_df.describe()"
   ]
  },
  {
   "cell_type": "markdown",
   "metadata": {
    "id": "QX5N6O64R271"
   },
   "source": [
    "Compute specific quantities from columns"
   ]
  },
  {
   "cell_type": "code",
   "execution_count": 123,
   "metadata": {
    "colab": {
     "base_uri": "https://localhost:8080/"
    },
    "executionInfo": {
     "elapsed": 220,
     "status": "ok",
     "timestamp": 1733503360510,
     "user": {
      "displayName": "Nicholas Jackson",
      "userId": "01670215121017026455"
     },
     "user_tz": 360
    },
    "id": "yuKfcuBAFlmq",
    "outputId": "4fab1801-a233-4d37-9f2e-9db769da30fb"
   },
   "outputs": [
    {
     "data": {
      "text/plain": [
       "np.float64(405.17589999999996)"
      ]
     },
     "execution_count": 123,
     "metadata": {},
     "output_type": "execute_result"
    }
   ],
   "source": [
    "Tm_df.Tm.mean()"
   ]
  },
  {
   "cell_type": "markdown",
   "metadata": {
    "id": "SBd-mMn_R8IU"
   },
   "source": [
    "Accessing columns as operable lists in Python"
   ]
  },
  {
   "cell_type": "code",
   "execution_count": 124,
   "metadata": {
    "colab": {
     "base_uri": "https://localhost:8080/"
    },
    "executionInfo": {
     "elapsed": 3,
     "status": "ok",
     "timestamp": 1733503361709,
     "user": {
      "displayName": "Nicholas Jackson",
      "userId": "01670215121017026455"
     },
     "user_tz": 360
    },
    "id": "IrCm1TyCFnTJ",
    "outputId": "56dadce6-a2e0-40ad-fc51-82139b6c6256"
   },
   "outputs": [
    {
     "data": {
      "text/plain": [
       "[508.15, 393.15, 303.95, 353.15, 477.15]"
      ]
     },
     "execution_count": 124,
     "metadata": {},
     "output_type": "execute_result"
    }
   ],
   "source": [
    "Tm_list = Tm_df.Tm.to_list()\n",
    "Tm_list[0:5]"
   ]
  },
  {
   "cell_type": "markdown",
   "metadata": {
    "id": "D23eQlWWR_IO"
   },
   "source": [
    "Pandas can do basic plotting (though it is generally better to use matplotlib, seaborn, or plotly)"
   ]
  },
  {
   "cell_type": "code",
   "execution_count": 125,
   "metadata": {
    "colab": {
     "base_uri": "https://localhost:8080/",
     "height": 466
    },
    "executionInfo": {
     "elapsed": 418,
     "status": "ok",
     "timestamp": 1752612813918,
     "user": {
      "displayName": "Nicholas Jackson",
      "userId": "01670215121017026455"
     },
     "user_tz": 300
    },
    "id": "EmZauXrGF05O",
    "outputId": "7dd18f73-c4ae-4fa5-bf61-4a2ab38802be"
   },
   "outputs": [
    {
     "data": {
      "text/plain": [
       "Text(0, 0.5, 'Count')"
      ]
     },
     "execution_count": 125,
     "metadata": {},
     "output_type": "execute_result"
    },
    {
     "data": {
      "image/png": "[encoded data removed]",
      "text/plain": [
       "<Figure size 640x480 with 1 Axes>"
      ]
     },
     "metadata": {},
     "output_type": "display_data"
    }
   ],
   "source": [
    "Tm_df.Tm.hist();\n",
    "plt.xlabel('Melting Point (K)')\n",
    "plt.ylabel('Count')"
   ]
  },
  {
   "cell_type": "code",
   "execution_count": 126,
   "metadata": {
    "colab": {
     "base_uri": "https://localhost:8080/",
     "height": 407
    },
    "executionInfo": {
     "elapsed": 556,
     "status": "ok",
     "timestamp": 1752613549278,
     "user": {
      "displayName": "Nicholas Jackson",
      "userId": "01670215121017026455"
     },
     "user_tz": 300
    },
    "id": "t69kL89B3obw",
    "outputId": "130adcd8-a184-445f-ce48-35e4af61fd87"
   },
   "outputs": [
    {
     "data": {
      "image/png": "[encoded data removed]",
      "text/plain": [
       "<Figure size 500x400 with 2 Axes>"
      ]
     },
     "metadata": {},
     "output_type": "display_data"
    }
   ],
   "source": [
    "# prompt: Generate Python code using pandas to plot calculate and plot the pearson correlation coefficients of the dataset. Drop the smiles column. Label the x and y axes according to the title of the columns. use a contrasting color scheme\n",
    "\n",
    "import matplotlib.pyplot as plt\n",
    "import seaborn as sns\n",
    "\n",
    "# Drop the 'smiles' column\n",
    "df_for_corr = Tm_df.drop(columns=['smiles'])\n",
    "\n",
    "# Calculate the Pearson correlation matrix\n",
    "correlation_matrix = df_for_corr.corr(method='pearson')\n",
    "\n",
    "# Plot the correlation matrix as a heatmap\n",
    "plt.figure(figsize=(5, 4))\n",
    "sns.heatmap(correlation_matrix, annot=True, cmap='viridis', fmt=\".2f\")\n",
    "plt.title('Pearson Correlation Matrix (Excluding Smiles)')\n",
    "plt.xticks(rotation=45, ha='right')\n",
    "plt.yticks(rotation=0)\n",
    "plt.tight_layout() # Adjust layout to prevent labels from overlapping\n",
    "plt.show()"
   ]
  },
  {
   "cell_type": "code",
   "execution_count": 127,
   "metadata": {
    "colab": {
     "base_uri": "https://localhost:8080/",
     "height": 564
    },
    "executionInfo": {
     "elapsed": 2825,
     "status": "ok",
     "timestamp": 1752613329537,
     "user": {
      "displayName": "Nicholas Jackson",
      "userId": "01670215121017026455"
     },
     "user_tz": 300
    },
    "id": "Jkvu2OyZ5DhH",
    "outputId": "b35e3c58-48e9-419b-cd38-40091b7be5fe"
   },
   "outputs": [
    {
     "data": {
      "image/png": "[encoded data removed]",
      "text/plain": [
       "<Figure size 800x600 with 1 Axes>"
      ]
     },
     "metadata": {},
     "output_type": "display_data"
    }
   ],
   "source": [
    "# prompt: Generate code using pandas and scikit-learn to do principal components analysis on all data, excluding the \"smiles\" and \"Tm\" data. Plot the first two principal components of the data. Annotate the amount of variance they explain on the axes.\n",
    "\n",
    "import pandas as pd\n",
    "import matplotlib.pyplot as plt\n",
    "from sklearn.preprocessing import StandardScaler\n",
    "from sklearn.decomposition import PCA\n",
    "\n",
    "# Separate features from the target variable\n",
    "features = Tm_df.drop(['smiles', 'Tm'], axis=1)\n",
    "\n",
    "# Standardize the features\n",
    "x = StandardScaler().fit_transform(features)\n",
    "\n",
    "# Apply PCA\n",
    "pca = PCA(n_components=2)\n",
    "principal_components = pca.fit_transform(x)\n",
    "\n",
    "# Create a DataFrame with the principal components\n",
    "principal_df = pd.DataFrame(data=principal_components, columns=['principal component 1', 'principal component 2'])\n",
    "\n",
    "# Plot the first two principal components\n",
    "plt.figure(figsize=(8, 6))\n",
    "plt.scatter(principal_df['principal component 1'], principal_df['principal component 2'])\n",
    "plt.xlabel(f'Principal Component 1 ({pca.explained_variance_ratio_[0]*100:.2f}%)')\n",
    "plt.ylabel(f'Principal Component 2 ({pca.explained_variance_ratio_[1]*100:.2f}%)')\n",
    "plt.title('2 Component PCA')\n",
    "plt.grid()\n",
    "plt.show()"
   ]
  },
  {
   "cell_type": "markdown",
   "metadata": {
    "id": "rsHltNfd8dq6"
   },
   "source": [
    "Determining \"outliers\" in your data, but always be cautious!!!"
   ]
  },
  {
   "cell_type": "code",
   "execution_count": 128,
   "metadata": {
    "colab": {
     "base_uri": "https://localhost:8080/",
     "height": 686
    },
    "executionInfo": {
     "elapsed": 209,
     "status": "ok",
     "timestamp": 1752614078009,
     "user": {
      "displayName": "Nicholas Jackson",
      "userId": "01670215121017026455"
     },
     "user_tz": 300
    },
    "id": "1J5UYlcK7-xT",
    "outputId": "5fc99c00-1ae9-4006-ca3c-4cdd92e1ce55"
   },
   "outputs": [
    {
     "name": "stdout",
     "output_type": "stream",
     "text": [
      "Potential Outliers (based on Z-score > 3):\n",
      "          smiles      Tm  num_atms    dipole  quadrupole  new_column\n",
      "12      CCCC(C)C  119.15        20  0.067055    0.366284    0.183069\n",
      "38   C=CCC1CCCC1  162.15        22  0.357670    1.594611    0.224299\n",
      "55            CF  130.15         5  1.700645    5.380003    0.316105\n",
      "87    CCC(CC)C=C  146.15        21  0.386677    1.692360    0.228484\n",
      "100       CCCOCC  146.15        18  1.164088    3.246000    0.358622\n"
     ]
    },
    {
     "data": {
      "image/png": "[encoded data removed]",
      "text/plain": [
       "<Figure size 800x600 with 1 Axes>"
      ]
     },
     "metadata": {},
     "output_type": "display_data"
    }
   ],
   "source": [
    "# prompt: Provide code to detect outliers using a z-score applied to the Tm column data. Print what you think the outliers are and plot the outliers on a histogram\n",
    "\n",
    "import matplotlib.pyplot as plt\n",
    "import numpy as np\n",
    "from scipy import stats\n",
    "import pandas as pd\n",
    "\n",
    "# Calculate the Z-scores for the 'Tm' column\n",
    "z_scores = np.abs(stats.zscore(Tm_df['Tm']))\n",
    "\n",
    "# Define a threshold for identifying outliers (commonly 3 or -3 for normal distribution)\n",
    "threshold = 3\n",
    "\n",
    "# Identify outliers based on the threshold\n",
    "outlier_indices = np.where(z_scores > threshold)[0]\n",
    "\n",
    "# Print the potential outliers\n",
    "print(\"Potential Outliers (based on Z-score > {}):\".format(threshold))\n",
    "print(Tm_df.iloc[outlier_indices])\n",
    "\n",
    "# Plot the distribution of 'Tm' and highlight outliers\n",
    "plt.figure(figsize=(8, 6))\n",
    "plt.hist(Tm_df['Tm'], bins=20, color='skyblue', edgecolor='black', alpha=0.7)\n",
    "plt.scatter(Tm_df['Tm'].iloc[outlier_indices], np.zeros_like(outlier_indices), color='red', zorder=5, label='Outliers')\n",
    "plt.xlabel('Melting Point (K)')\n",
    "plt.ylabel('Count')\n",
    "plt.title('Distribution of Melting Point (Tm) with Outliers')\n",
    "plt.legend()\n",
    "plt.grid(axis='y', alpha=0.75)\n",
    "plt.show()"
   ]
  },
  {
   "cell_type": "code",
   "execution_count": 129,
   "metadata": {
    "colab": {
     "base_uri": "https://localhost:8080/",
     "height": 599
    },
    "executionInfo": {
     "elapsed": 188,
     "status": "ok",
     "timestamp": 1752614240794,
     "user": {
      "displayName": "Nicholas Jackson",
      "userId": "01670215121017026455"
     },
     "user_tz": 300
    },
    "id": "T8S56yIj8j2w",
    "outputId": "138f0dd8-c7ae-447f-f312-6176141b6dfa"
   },
   "outputs": [
    {
     "name": "stdout",
     "output_type": "stream",
     "text": [
      "T-test result: TtestResult(statistic=np.float64(-0.4064009056419599), pvalue=np.float64(0.684886964609434), df=np.float64(198.0))\n",
      "P-value: 0.684886964609434\n"
     ]
    },
    {
     "data": {
      "image/png": "[encoded data removed]",
      "text/plain": [
       "<Figure size 800x600 with 1 Axes>"
      ]
     },
     "metadata": {},
     "output_type": "display_data"
    }
   ],
   "source": [
    "# prompt: Split the Tm data randomly into two separate chunks. Perform a t-test on these two datasets and plot the results, including the p-value\n",
    "\n",
    "import matplotlib.pyplot as plt\n",
    "from sklearn.model_selection import train_test_split\n",
    "from scipy import stats\n",
    "\n",
    "# Split the Tm data into two random chunks\n",
    "tm_chunk1, tm_chunk2 = train_test_split(Tm_df['Tm'], test_size=0.5, random_state=42)\n",
    "\n",
    "# Perform independent t-test\n",
    "ttest_result = stats.ttest_ind(tm_chunk1, tm_chunk2)\n",
    "\n",
    "print(f\"T-test result: {ttest_result}\")\n",
    "print(f\"P-value: {ttest_result.pvalue}\")\n",
    "\n",
    "# Plot the results\n",
    "plt.figure(figsize=(8, 6))\n",
    "plt.hist(tm_chunk1, bins=15, color='skyblue', alpha=0.7, label='Chunk 1')\n",
    "plt.hist(tm_chunk2, bins=15, color='lightcoral', alpha=0.7, label='Chunk 2')\n",
    "plt.xlabel('Melting Point (K)')\n",
    "plt.ylabel('Count')\n",
    "plt.title('Distribution of Tm in Two Random Chunks')\n",
    "plt.legend()\n",
    "plt.text(plt.xlim()[1]*0.7, plt.ylim()[1]*0.8, f'P-value: {ttest_result.pvalue:.4f}', fontsize=12, bbox=dict(facecolor='white', alpha=0.5))\n",
    "plt.grid(axis='y', alpha=0.75)\n",
    "plt.show()"
   ]
  },
  {
   "cell_type": "code",
   "execution_count": 130,
   "metadata": {
    "colab": {
     "base_uri": "https://localhost:8080/",
     "height": 599
    },
    "executionInfo": {
     "elapsed": 358,
     "status": "ok",
     "timestamp": 1752614370758,
     "user": {
      "displayName": "Nicholas Jackson",
      "userId": "01670215121017026455"
     },
     "user_tz": 300
    },
    "id": "7kEaSsNf9Gzo",
    "outputId": "3fe42d0d-b6e2-49a9-d9ab-0aa12bc2173c"
   },
   "outputs": [
    {
     "name": "stdout",
     "output_type": "stream",
     "text": [
      "Mean Squared Error (MSE): 5363.38\n",
      "R-squared (R2): 0.13\n"
     ]
    },
    {
     "data": {
      "image/png": "[encoded data removed]",
      "text/plain": [
       "<Figure size 800x600 with 1 Axes>"
      ]
     },
     "metadata": {},
     "output_type": "display_data"
    }
   ],
   "source": [
    "# prompt: use sklearn to do linear regression between quadrupole and Tm. Report MSE and R2 scores and plot data and fit\n",
    "\n",
    "import matplotlib.pyplot as plt\n",
    "from sklearn.linear_model import LinearRegression\n",
    "from sklearn.metrics import mean_squared_error, r2_score\n",
    "\n",
    "# Extract the relevant columns\n",
    "X = Tm_df[['quadrupole']]  # Feature (independent variable)\n",
    "y = Tm_df['Tm']          # Target (dependent variable)\n",
    "\n",
    "# Create a Linear Regression model\n",
    "model = LinearRegression()\n",
    "\n",
    "# Fit the model to the data\n",
    "model.fit(X, y)\n",
    "\n",
    "# Make predictions\n",
    "y_pred = model.predict(X)\n",
    "\n",
    "# Evaluate the model\n",
    "mse = mean_squared_error(y, y_pred)\n",
    "r2 = r2_score(y, y_pred)\n",
    "\n",
    "print(f\"Mean Squared Error (MSE): {mse:.2f}\")\n",
    "print(f\"R-squared (R2): {r2:.2f}\")\n",
    "\n",
    "# Plot the data and the linear fit\n",
    "plt.figure(figsize=(8, 6))\n",
    "plt.scatter(X, y, color='skyblue', label='Data')\n",
    "plt.plot(X, y_pred, color='red', linewidth=2, label='Linear Fit')\n",
    "plt.xlabel('Quadrupole')\n",
    "plt.ylabel('Tm (K)')\n",
    "plt.title('Linear Regression: Tm vs. Quadrupole')\n",
    "plt.legend()\n",
    "plt.grid(True)\n",
    "plt.show()"
   ]
  },
  {
   "cell_type": "code",
   "execution_count": 131,
   "metadata": {
    "colab": {
     "base_uri": "https://localhost:8080/",
     "height": 599
    },
    "executionInfo": {
     "elapsed": 310,
     "status": "ok",
     "timestamp": 1752614504163,
     "user": {
      "displayName": "Nicholas Jackson",
      "userId": "01670215121017026455"
     },
     "user_tz": 300
    },
    "id": "NCE_Ezgz9eTg",
    "outputId": "8ab073c7-d2c7-4fb7-8e3d-ac8b7c18115c"
   },
   "outputs": [
    {
     "name": "stdout",
     "output_type": "stream",
     "text": [
      "Mean Squared Error (MSE): 5398.02\n",
      "R-squared (R2): 0.12\n"
     ]
    },
    {
     "data": {
      "image/png": "[encoded data removed]",
      "text/plain": [
       "<Figure size 800x600 with 1 Axes>"
      ]
     },
     "metadata": {},
     "output_type": "display_data"
    }
   ],
   "source": [
    "# prompt: rewrite the previous code block to use support vector regression with a linear kernel, instead of linear regression\n",
    "\n",
    "import matplotlib.pyplot as plt\n",
    "from sklearn.svm import SVR\n",
    "\n",
    "# Extract the relevant columns\n",
    "X = Tm_df[['quadrupole']]  # Feature (independent variable)\n",
    "y = Tm_df['Tm']          # Target (dependent variable)\n",
    "\n",
    "# Create an SVR model with a linear kernel\n",
    "model = SVR(kernel='linear')\n",
    "\n",
    "# Fit the model to the data\n",
    "model.fit(X, y)\n",
    "\n",
    "# Make predictions\n",
    "y_pred = model.predict(X)\n",
    "\n",
    "# Evaluate the model\n",
    "mse = mean_squared_error(y, y_pred)\n",
    "r2 = r2_score(y, y_pred)\n",
    "\n",
    "print(f\"Mean Squared Error (MSE): {mse:.2f}\")\n",
    "print(f\"R-squared (R2): {r2:.2f}\")\n",
    "\n",
    "# Plot the data and the SVR linear fit\n",
    "plt.figure(figsize=(8, 6))\n",
    "plt.scatter(X, y, color='skyblue', label='Data')\n",
    "plt.plot(X, y_pred, color='red', linewidth=2, label='SVR Linear Fit')\n",
    "plt.xlabel('Quadrupole')\n",
    "plt.ylabel('Tm (K)')\n",
    "plt.title('SVR (Linear Kernel): Tm vs. Quadrupole')\n",
    "plt.legend()\n",
    "plt.grid(True)\n",
    "plt.show()\n"
   ]
  },
  {
   "cell_type": "code",
   "execution_count": null,
   "metadata": {
    "id": "b7Koc8F720vP"
   },
   "outputs": [],
   "source": []
  },
  {
   "cell_type": "code",
   "execution_count": null,
   "metadata": {},
   "outputs": [],
   "source": []
  }
 ],
 "metadata": {
  "colab": {
   "provenance": []
  },
  "kernelspec": {
   "display_name": "chbe-413",
   "language": "python",
   "name": "python3"
  },
  "language_info": {
   "codemirror_mode": {
    "name": "ipython",
    "version": 3
   },
   "file_extension": ".py",
   "mimetype": "text/x-python",
   "name": "python",
   "nbconvert_exporter": "python",
   "pygments_lexer": "ipython3",
   "version": "3.11.13"
  }
 },
 "nbformat": 4,
 "nbformat_minor": 0
}
