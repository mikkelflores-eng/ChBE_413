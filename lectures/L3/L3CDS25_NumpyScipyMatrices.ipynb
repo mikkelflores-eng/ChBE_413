{
 "cells": [
  {
   "cell_type": "markdown",
   "metadata": {
    "id": "ggBp35He2Czl"
   },
   "source": [
    "#CHEM492/CHBE494/CHBE594 Lecture 2: Math Review"
   ]
  },
  {
   "cell_type": "code",
   "execution_count": 1,
   "metadata": {
    "id": "spQ7HfOe12w2"
   },
   "outputs": [],
   "source": [
    "import numpy as np\n",
    "import matplotlib.pyplot as plt\n",
    "import pandas as pd\n",
    "import scipy.linalg"
   ]
  },
  {
   "cell_type": "markdown",
   "metadata": {
    "id": "n9vaHna9-BFf"
   },
   "source": [
    "##Matrices and Vectors\n",
    "\n",
    "Define a matrix and turn it into a vector."
   ]
  },
  {
   "cell_type": "code",
   "execution_count": null,
   "metadata": {
    "colab": {
     "base_uri": "https://localhost:8080/"
    },
    "executionInfo": {
     "elapsed": 286,
     "status": "ok",
     "timestamp": 1661452760349,
     "user": {
      "displayName": "Nicholas Jackson",
      "userId": "01670215121017026455"
     },
     "user_tz": 300
    },
    "id": "ST6oSj6F2_T6",
    "outputId": "ce0e9b40-6cad-4245-ca5b-d90f615de79a"
   },
   "outputs": [
    {
     "name": "stdout",
     "output_type": "stream",
     "text": [
      "[[1 3 5]\n",
      " [2 4 6]]\n",
      "[1 3 5 2 4 6]\n"
     ]
    }
   ],
   "source": [
    "a = np.array([[1,3,5],[2,4,6]])\n",
    "print(a)\n",
    "\n",
    "#Turn matrix into a vector\n",
    "\n",
    "###BEGIN SOLUTION\n",
    "print(a.flatten())\n",
    "###END SOLUTION"
   ]
  },
  {
   "cell_type": "code",
   "execution_count": null,
   "metadata": {
    "colab": {
     "base_uri": "https://localhost:8080/"
    },
    "executionInfo": {
     "elapsed": 265,
     "status": "ok",
     "timestamp": 1661452886073,
     "user": {
      "displayName": "Nicholas Jackson",
      "userId": "01670215121017026455"
     },
     "user_tz": 300
    },
    "id": "xowjhBYyTjFC",
    "outputId": "e1d4656f-de46-4345-9fa5-68dff80251d0"
   },
   "outputs": [
    {
     "name": "stdout",
     "output_type": "stream",
     "text": [
      "[7 9]\n",
      "8\n"
     ]
    }
   ],
   "source": [
    "a = np.array([0,1])\n",
    "b = np.array([7,8])\n",
    "print(a+b)\n",
    "print(np.dot(a,b))"
   ]
  },
  {
   "cell_type": "markdown",
   "metadata": {
    "id": "YmO7mZjCKs88"
   },
   "source": [
    "##Tensors\n",
    "Arrays can hold tensors."
   ]
  },
  {
   "cell_type": "code",
   "execution_count": null,
   "metadata": {
    "colab": {
     "base_uri": "https://localhost:8080/"
    },
    "executionInfo": {
     "elapsed": 511,
     "status": "ok",
     "timestamp": 1661444709563,
     "user": {
      "displayName": "Nicholas Jackson",
      "userId": "01670215121017026455"
     },
     "user_tz": 300
    },
    "id": "wLbw-mHa-aP0",
    "outputId": "7662d34d-0454-43c7-bb44-2be93d881d0e"
   },
   "outputs": [
    {
     "name": "stdout",
     "output_type": "stream",
     "text": [
      "42\n",
      "[42]\n",
      "[[42]]\n",
      "[[[42]]]\n",
      "[[[[42]]]]\n"
     ]
    }
   ],
   "source": [
    "rank0 = np.array(42).reshape(())\n",
    "rank1 = np.array(42).reshape((1))\n",
    "rank2 = np.array(42).reshape((1,1))\n",
    "rank3 = np.array(42).reshape((1,1,1))\n",
    "rank4 = np.array(42).reshape((1,1,1,1))\n",
    "\n",
    "for i in range(5):\n",
    "  print(locals()['rank{}'.format(i)])"
   ]
  },
  {
   "cell_type": "code",
   "execution_count": null,
   "metadata": {
    "colab": {
     "base_uri": "https://localhost:8080/"
    },
    "id": "LMrWH4OxPpKN",
    "outputId": "452e53e5-90f1-44f0-d971-68ad519f6a34"
   },
   "outputs": [
    {
     "name": "stdout",
     "output_type": "stream",
     "text": [
      "42\n"
     ]
    }
   ],
   "source": [
    "##Exercise\n",
    "#Print only the element of rank4\n",
    "###BEGIN SOLUTION\n",
    "print(rank4[0,0,0,0])\n",
    "###END SOLUTION\n"
   ]
  },
  {
   "cell_type": "code",
   "execution_count": null,
   "metadata": {
    "colab": {
     "base_uri": "https://localhost:8080/"
    },
    "executionInfo": {
     "elapsed": 366,
     "status": "ok",
     "timestamp": 1661452947546,
     "user": {
      "displayName": "Nicholas Jackson",
      "userId": "01670215121017026455"
     },
     "user_tz": 300
    },
    "id": "jtnY_nUhPs7z",
    "outputId": "04b0b276-7d23-4dd7-926f-a3926345dedf"
   },
   "outputs": [
    {
     "name": "stdout",
     "output_type": "stream",
     "text": [
      "[[[ 0  1  2  3  4]\n",
      "  [ 5  6  7  8  9]]\n",
      "\n",
      " [[10 11 12 13 14]\n",
      "  [15 16 17 18 19]]\n",
      "\n",
      " [[20 21 22 23 24]\n",
      "  [25 26 27 28 29]]]\n",
      "[[0 1 2 3 4]\n",
      " [5 6 7 8 9]]\n",
      "(3, 2, 5)\n"
     ]
    }
   ],
   "source": [
    "#Tensor\n",
    "T = np.array([\n",
    "              [[0,1,2,3,4],\n",
    "               [5,6,7,8,9]],\n",
    "              [[10,11,12,13,14],\n",
    "               [15,16,17,18,19]],\n",
    "              [[20,21,22,23,24],\n",
    "               [25,26,27,28,29]]\n",
    "])\n",
    "\n",
    "print(T)\n",
    "print(T[0])\n",
    "##What is the shape of the tensor?\n",
    "\n",
    "###BEGIN SOLUTION\n",
    "print(T.shape)\n",
    "###END SOLUTION"
   ]
  },
  {
   "cell_type": "markdown",
   "metadata": {
    "id": "ZLtBCgnOZE_p"
   },
   "source": [
    "##Matrix Addition/Multiplication"
   ]
  },
  {
   "cell_type": "code",
   "execution_count": null,
   "metadata": {
    "colab": {
     "base_uri": "https://localhost:8080/"
    },
    "executionInfo": {
     "elapsed": 4,
     "status": "ok",
     "timestamp": 1661453310466,
     "user": {
      "displayName": "Nicholas Jackson",
      "userId": "01670215121017026455"
     },
     "user_tz": 300
    },
    "id": "sRieDsHoWxPt",
    "outputId": "b3c854b9-d0e0-4056-9a98-7c30f3e3483a"
   },
   "outputs": [
    {
     "name": "stdout",
     "output_type": "stream",
     "text": [
      "[[1 2]\n",
      " [3 4]]\n",
      "[[8 7]\n",
      " [6 5]]\n",
      "[[20 17]\n",
      " [48 41]]\n",
      "[[20 17]\n",
      " [48 41]]\n",
      "[[20 17]\n",
      " [48 41]]\n",
      "[[9 9]\n",
      " [9 9]]\n"
     ]
    }
   ],
   "source": [
    "#Addition\n",
    "A = np.array([[1,2], [3,4]])\n",
    "B = np.array([[8,7], [6,5]])\n",
    "print(A)\n",
    "print(B)\n",
    "print(A@B)\n",
    "print(np.matmul(A,B))\n",
    "print(np.dot(A,B))\n",
    "C = A+B\n",
    "\n",
    "print(C)"
   ]
  },
  {
   "cell_type": "code",
   "execution_count": null,
   "metadata": {
    "colab": {
     "base_uri": "https://localhost:8080/"
    },
    "id": "DVq-C1JSbrFQ",
    "outputId": "a3d1612f-f544-48d7-f08a-aa184aff8a9f"
   },
   "outputs": [
    {
     "name": "stdout",
     "output_type": "stream",
     "text": [
      "[[20 17]\n",
      " [48 41]]\n",
      "[[20 17]\n",
      " [48 41]]\n",
      "[[20 17]\n",
      " [48 41]]\n",
      "[[20 17]\n",
      " [48 41]]\n"
     ]
    }
   ],
   "source": [
    "#Multiplication\n",
    "print(np.matmul(A,B))\n",
    "print(np.dot(A,B))\n",
    "print(np.einsum('il,lj->ij',A,B))\n",
    "print(A@B)"
   ]
  },
  {
   "cell_type": "code",
   "execution_count": null,
   "metadata": {
    "colab": {
     "base_uri": "https://localhost:8080/"
    },
    "id": "B66yhz_Wc2bY",
    "outputId": "4c904963-3bd7-458d-b490-6954e1e98c21"
   },
   "outputs": [
    {
     "name": "stdout",
     "output_type": "stream",
     "text": [
      "[[29 44]\n",
      " [21 32]]\n"
     ]
    }
   ],
   "source": [
    "#Order matters!\n",
    "print(np.dot(B,A))"
   ]
  },
  {
   "cell_type": "markdown",
   "metadata": {
    "id": "UMwkimILJ8sf"
   },
   "source": [
    "## Covariance"
   ]
  },
  {
   "cell_type": "markdown",
   "metadata": {
    "id": "cjVvw42CKIME"
   },
   "source": [
    "Consider two variables x0 and x1, which corerlate perfrectly but in opposite directions."
   ]
  },
  {
   "cell_type": "code",
   "execution_count": null,
   "metadata": {
    "colab": {
     "base_uri": "https://localhost:8080/"
    },
    "executionInfo": {
     "elapsed": 300,
     "status": "ok",
     "timestamp": 1661453135756,
     "user": {
      "displayName": "Nicholas Jackson",
      "userId": "01670215121017026455"
     },
     "user_tz": 300
    },
    "id": "TGONC__CJ_z1",
    "outputId": "56c992d1-d1db-459e-ff58-807247cdcdf3"
   },
   "outputs": [
    {
     "name": "stdout",
     "output_type": "stream",
     "text": [
      "[[0 2]\n",
      " [1 1]\n",
      " [2 0]]\n"
     ]
    }
   ],
   "source": [
    "x = np.array([[0,2],[1,1],[2,0]])\n",
    "print(x)\n"
   ]
  },
  {
   "cell_type": "code",
   "execution_count": null,
   "metadata": {
    "colab": {
     "base_uri": "https://localhost:8080/"
    },
    "executionInfo": {
     "elapsed": 290,
     "status": "ok",
     "timestamp": 1661444832760,
     "user": {
      "displayName": "Nicholas Jackson",
      "userId": "01670215121017026455"
     },
     "user_tz": 300
    },
    "id": "QTgmS_bKKYOp",
    "outputId": "dd1d198e-408b-4955-b196-06fd81cfb2de"
   },
   "outputs": [
    {
     "data": {
      "text/plain": [
       "array([[ 1., -1.],\n",
       "       [-1.,  1.]])"
      ]
     },
     "execution_count": 8,
     "metadata": {},
     "output_type": "execute_result"
    }
   ],
   "source": [
    "np.cov(x)"
   ]
  },
  {
   "cell_type": "markdown",
   "metadata": {
    "id": "dqgH1RTYKR89"
   },
   "source": [
    "Note how x0 increases while x1 decreases. The covariance shows this clearly."
   ]
  },
  {
   "cell_type": "markdown",
   "metadata": {
    "id": "NSP4LzrleczN"
   },
   "source": [
    "##Matrix Inverse and Transpose"
   ]
  },
  {
   "cell_type": "code",
   "execution_count": null,
   "metadata": {
    "colab": {
     "base_uri": "https://localhost:8080/"
    },
    "id": "-Zbcoj5LdPi0",
    "outputId": "d440fcba-81b7-451d-e43d-bcad482b3f1d"
   },
   "outputs": [
    {
     "name": "stdout",
     "output_type": "stream",
     "text": [
      "[[1 2 1]\n",
      " [4 4 5]\n",
      " [6 7 7]]\n"
     ]
    }
   ],
   "source": [
    "A = np.array([[1,2,1],[4,4,5],[6,7,7]])\n",
    "print(A)"
   ]
  },
  {
   "cell_type": "code",
   "execution_count": null,
   "metadata": {
    "colab": {
     "base_uri": "https://localhost:8080/"
    },
    "id": "Hdxd36m7epyR",
    "outputId": "47b65d72-8f52-43ff-e294-5c36e09a0ebd"
   },
   "outputs": [
    {
     "data": {
      "text/plain": [
       "array([[-7., -7.,  6.],\n",
       "       [ 2.,  1., -1.],\n",
       "       [ 4.,  5., -4.]])"
      ]
     },
     "execution_count": 11,
     "metadata": {},
     "output_type": "execute_result"
    }
   ],
   "source": [
    "np.linalg.inv(A)"
   ]
  },
  {
   "cell_type": "code",
   "execution_count": null,
   "metadata": {
    "colab": {
     "base_uri": "https://localhost:8080/"
    },
    "id": "JQ7GFGq8esZQ",
    "outputId": "1e3cbba6-bd66-42ad-ced0-a952410446ff"
   },
   "outputs": [
    {
     "name": "stdout",
     "output_type": "stream",
     "text": [
      "[[1. 2. 1.]\n",
      " [4. 4. 5.]\n",
      " [6. 7. 7.]]\n"
     ]
    }
   ],
   "source": [
    "B = np.linalg.inv(A)\n",
    "print(np.linalg.inv(B))"
   ]
  },
  {
   "cell_type": "code",
   "execution_count": null,
   "metadata": {
    "colab": {
     "base_uri": "https://localhost:8080/"
    },
    "id": "7Fpng1fLe56l",
    "outputId": "9b9c3f9f-d81f-45d8-cf0e-51d9441baa31"
   },
   "outputs": [
    {
     "name": "stdout",
     "output_type": "stream",
     "text": [
      "[[1 4 6]\n",
      " [2 4 7]\n",
      " [1 5 7]]\n"
     ]
    }
   ],
   "source": [
    "print(A.transpose())"
   ]
  },
  {
   "cell_type": "markdown",
   "metadata": {
    "id": "CNDekYGk5D5B"
   },
   "source": [
    "Use the cell below to convince yourself of the useful propertires of Matrix Transpose and Inverse."
   ]
  },
  {
   "cell_type": "code",
   "execution_count": null,
   "metadata": {
    "colab": {
     "base_uri": "https://localhost:8080/"
    },
    "id": "Brxn4kek5MOt",
    "outputId": "9c4c5779-f402-4088-8b8d-5c19d6f184de"
   },
   "outputs": [
    {
     "name": "stdout",
     "output_type": "stream",
     "text": [
      "[[ 1.00000000e+00 -1.77635684e-15  8.88178420e-16]\n",
      " [-2.22044605e-15  1.00000000e+00  4.44089210e-15]\n",
      " [ 7.54951657e-15 -1.77635684e-15  1.00000000e+00]] [[ 1.00000000e+00  3.55271368e-15  3.55271368e-15]\n",
      " [ 0.00000000e+00  1.00000000e+00 -8.88178420e-16]\n",
      " [ 1.77635684e-15 -8.88178420e-16  1.00000000e+00]]\n",
      "[[-4.0625 -5.625   4.5   ]\n",
      " [-2.625  -2.25    2.    ]\n",
      " [ 4.9375  5.375  -4.5   ]] [[-4.0625 -5.625   4.5   ]\n",
      " [-2.625  -2.25    2.    ]\n",
      " [ 4.9375  5.375  -4.5   ]]\n",
      "[[ 0.63636364  0.95454545 -0.77272727]\n",
      " [ 0.18181818 -0.22727273  0.13636364]\n",
      " [-0.59090909 -0.38636364  0.43181818]] [[-6.5625 -6.125   5.3125]\n",
      " [ 2.375   0.75   -0.875 ]\n",
      " [ 3.4375  4.875  -3.6875]]\n",
      "[[1 2 1]\n",
      " [4 4 5]\n",
      " [6 7 7]] [[1 2 1]\n",
      " [4 4 5]\n",
      " [6 7 7]]\n",
      "[[ 2  7  9]\n",
      " [ 5  8 14]\n",
      " [ 2 10 14]] [[ 2  7  9]\n",
      " [ 5  8 14]\n",
      " [ 2 10 14]]\n",
      "[[10 31 48]\n",
      " [18 63 95]\n",
      " [18 59 90]] [[10 31 48]\n",
      " [18 63 95]\n",
      " [18 59 90]]\n"
     ]
    }
   ],
   "source": [
    "A = np.array([[1,2,1],[4,4,5],[6,7,7]])\n",
    "B = np.array([[1,3,1],[3,4,5],[3,7,7]])\n",
    "###BEGIN SOLUTION\n",
    "Ainv = np.linalg.inv(A)\n",
    "Binv = np.linalg.inv(B)\n",
    "print(A@np.linalg.inv(A), np.linalg.inv(A)@A)\n",
    "print(np.linalg.inv(A@B), np.linalg.inv(B)@np.linalg.inv(A))\n",
    "print(np.linalg.inv(A+B), Ainv + Binv)\n",
    "print(A.T.T, A)\n",
    "print((A+B).T, A.T + B.T)\n",
    "print((A@B).T, B.T@A.T)\n",
    "###END SOLUTION"
   ]
  },
  {
   "cell_type": "markdown",
   "metadata": {
    "id": "85Ljz6Pz7Lmg"
   },
   "source": [
    "##Systems of Linear Equations"
   ]
  },
  {
   "cell_type": "markdown",
   "metadata": {
    "id": "SnBx0xgq7PF0"
   },
   "source": [
    "Use the cell below to solve a simple system of equations."
   ]
  },
  {
   "cell_type": "code",
   "execution_count": null,
   "metadata": {
    "colab": {
     "base_uri": "https://localhost:8080/"
    },
    "id": "bvwWMdXZ7TzP",
    "outputId": "b0a7eea3-2d3c-4d84-8af4-ddfe742ee054"
   },
   "outputs": [
    {
     "name": "stdout",
     "output_type": "stream",
     "text": [
      "[[1 1 1]\n",
      " [1 1 0]\n",
      " [0 1 2]]\n",
      "[2. 1. 1.]\n",
      "3\n"
     ]
    }
   ],
   "source": [
    "###BEGIN SOLUTION\n",
    "\n",
    "#Begin by setting up system\n",
    "'''The coefficients aij indicate the number of units of chemial i required to generate one unit of product j.\n",
    "\n",
    "\n",
    "x1 +x2 + x3 =4\n",
    "x1 +x2 = 3\n",
    "x2+2x3 = 3\n",
    "\n",
    "Solution: xi = [2,1,1]'''\n",
    "\n",
    "A = np.array([[1, 1, 1],[1, 1, 0],[0,1,2]])\n",
    "b = np.array([4,3,3])\n",
    "print(A)\n",
    "x = np.linalg.solve(A,b)\n",
    "print(x)\n",
    "print(np.linalg.matrix_rank(A))\n",
    "###END SOLUTION"
   ]
  },
  {
   "cell_type": "markdown",
   "metadata": {
    "id": "T68BzlFbAgk-"
   },
   "source": [
    "##Eigenvectors and Eigenvalues"
   ]
  },
  {
   "cell_type": "code",
   "execution_count": null,
   "metadata": {
    "colab": {
     "base_uri": "https://localhost:8080/"
    },
    "id": "2bXvnjObAiEn",
    "outputId": "bd7bf799-420c-473c-d6bb-13522b4442ec"
   },
   "outputs": [
    {
     "name": "stdout",
     "output_type": "stream",
     "text": [
      "(array([5., 2.]), array([[ 0.89442719, -0.70710678],\n",
      "       [ 0.4472136 ,  0.70710678]])) (array([2., 2.]), array([[ 1.0000000e+00, -1.0000000e+00],\n",
      "       [ 0.0000000e+00,  4.4408921e-16]]))\n"
     ]
    }
   ],
   "source": [
    "###BEGIN SOLUTION\n",
    "A = np.array([[4,2],[1,3]])\n",
    "B = np.array([[2,1],[0,2]])\n",
    "\n",
    "print(np.linalg.eig(A), np.linalg.eig(B))\n",
    "###END SOLUTION"
   ]
  },
  {
   "cell_type": "markdown",
   "metadata": {
    "id": "bjhLFGa1gqAG"
   },
   "source": [
    "##Matrix Decomposition"
   ]
  },
  {
   "cell_type": "code",
   "execution_count": null,
   "metadata": {
    "colab": {
     "base_uri": "https://localhost:8080/"
    },
    "id": "RlwqcmUXfCAs",
    "outputId": "7799fdc1-9d01-4ebd-db2a-91050a82411c"
   },
   "outputs": [
    {
     "name": "stdout",
     "output_type": "stream",
     "text": [
      "[[ 5  7  6  5]\n",
      " [ 7 10  8  7]\n",
      " [ 6  8 10  9]\n",
      " [ 5  7  9 10]]\n"
     ]
    }
   ],
   "source": [
    "A = np.array([[5,7,6,5],[7,10,8,7],[6,8,10,9],[5,7,9,10]])\n",
    "print(A)"
   ]
  },
  {
   "cell_type": "code",
   "execution_count": null,
   "metadata": {
    "colab": {
     "base_uri": "https://localhost:8080/"
    },
    "id": "ylMjSrMEimnX",
    "outputId": "5390ab72-6d55-41e7-d6cc-85e058a26b6f"
   },
   "outputs": [
    {
     "name": "stdout",
     "output_type": "stream",
     "text": [
      "[[ 2.23606798  0.          0.          0.        ]\n",
      " [ 3.13049517  0.4472136   0.          0.        ]\n",
      " [ 2.68328157 -0.89442719  1.41421356  0.        ]\n",
      " [ 2.23606798  0.          2.12132034  0.70710678]]\n"
     ]
    }
   ],
   "source": [
    "L = np.linalg.cholesky(A)\n",
    "print(L)"
   ]
  },
  {
   "cell_type": "code",
   "execution_count": null,
   "metadata": {
    "colab": {
     "base_uri": "https://localhost:8080/"
    },
    "id": "BtahOXdPi11l",
    "outputId": "3d21141d-789d-45a9-fcf9-4738d4ca9e3f"
   },
   "outputs": [
    {
     "name": "stdout",
     "output_type": "stream",
     "text": [
      "[[ 5.  7.  6.  5.]\n",
      " [ 7. 10.  8.  7.]\n",
      " [ 6.  8. 10.  9.]\n",
      " [ 5.  7.  9. 10.]]\n"
     ]
    }
   ],
   "source": [
    "print(L@L.T)"
   ]
  },
  {
   "cell_type": "code",
   "execution_count": null,
   "metadata": {
    "id": "GsNWofHJi5RD"
   },
   "outputs": [],
   "source": [
    "u,s,vT = np.linalg.svd(A)\n"
   ]
  },
  {
   "cell_type": "code",
   "execution_count": null,
   "metadata": {
    "colab": {
     "base_uri": "https://localhost:8080/"
    },
    "id": "h-IdTDwqmxfP",
    "outputId": "3dbf67ea-4062-4de5-8ccd-fc80ab75f4e4"
   },
   "outputs": [
    {
     "data": {
      "text/plain": [
       "array([[ 5.,  7.,  6.,  5.],\n",
       "       [ 7., 10.,  8.,  7.],\n",
       "       [ 6.,  8., 10.,  9.],\n",
       "       [ 5.,  7.,  9., 10.]])"
      ]
     },
     "execution_count": 21,
     "metadata": {},
     "output_type": "execute_result"
    }
   ],
   "source": [
    "u@np.diag(s)@vT"
   ]
  },
  {
   "cell_type": "code",
   "execution_count": null,
   "metadata": {
    "colab": {
     "base_uri": "https://localhost:8080/"
    },
    "id": "8LrlTXWxm1ro",
    "outputId": "450f1128-7b14-4bcd-fb76-70fae9280ad0"
   },
   "outputs": [
    {
     "name": "stdout",
     "output_type": "stream",
     "text": [
      "[3.02886853e+01 3.85805746e+00 1.01500484e-02 8.43107150e-01]\n"
     ]
    }
   ],
   "source": [
    "e, P = np.linalg.eig(A)\n",
    "print(e)"
   ]
  },
  {
   "cell_type": "code",
   "execution_count": null,
   "metadata": {
    "colab": {
     "base_uri": "https://localhost:8080/"
    },
    "id": "p3sQ_jAHm7nV",
    "outputId": "175c3d96-1883-42e5-8682-82d06fd117bd"
   },
   "outputs": [
    {
     "name": "stdout",
     "output_type": "stream",
     "text": [
      "[[3.02886853e+01 0.00000000e+00 0.00000000e+00 0.00000000e+00]\n",
      " [0.00000000e+00 3.85805746e+00 0.00000000e+00 0.00000000e+00]\n",
      " [0.00000000e+00 0.00000000e+00 1.01500484e-02 0.00000000e+00]\n",
      " [0.00000000e+00 0.00000000e+00 0.00000000e+00 8.43107150e-01]]\n"
     ]
    }
   ],
   "source": [
    "D = np.diag(e)\n",
    "print(D)"
   ]
  },
  {
   "cell_type": "code",
   "execution_count": null,
   "metadata": {
    "colab": {
     "base_uri": "https://localhost:8080/"
    },
    "id": "KVM9GZmGm_xN",
    "outputId": "229f786d-d4f6-4724-d63f-5e49c7ead5b8"
   },
   "outputs": [
    {
     "name": "stdout",
     "output_type": "stream",
     "text": [
      "[[ 5.  7.  6.  5.]\n",
      " [ 7. 10.  8.  7.]\n",
      " [ 6.  8. 10.  9.]\n",
      " [ 5.  7.  9. 10.]]\n"
     ]
    }
   ],
   "source": [
    "print(P@D@P.T)"
   ]
  },
  {
   "cell_type": "code",
   "execution_count": null,
   "metadata": {
    "colab": {
     "base_uri": "https://localhost:8080/"
    },
    "id": "2A_702_LDipY",
    "outputId": "f9a19eeb-aa73-477a-c14f-32c3a5e3b1d2"
   },
   "outputs": [
    {
     "name": "stdout",
     "output_type": "stream",
     "text": [
      "[[-1. -1.  1.  1.  0.  0.]\n",
      " [ 0. -1. -1.  1.  1.  0.]\n",
      " [ 0.  0. -2. -2.  1.  1.]\n",
      " [ 0.  0.  0.  0.  0.  0.]\n",
      " [ 0.  0.  0.  0.  0.  0.]]\n"
     ]
    }
   ],
   "source": [
    "###BEGIN SOLUTION\n",
    "A = np.array([[-1,-1,1,1,0,0],\n",
    "              [-1,-2,0,2,1,0],\n",
    "              [-1,0,0,-2,0,1],\n",
    "              [-1,0,2,0,-1,0],\n",
    "              [0,-1,-1,1,1,0]])\n",
    "\n",
    "P,L,U = scipy.linalg.lu(A)\n",
    "\n",
    "print(U)\n",
    "###END SOLUTION"
   ]
  }
 ],
 "metadata": {
  "colab": {
   "provenance": []
  },
  "kernelspec": {
   "display_name": "chbe-413",
   "language": "python",
   "name": "python3"
  },
  "language_info": {
   "codemirror_mode": {
    "name": "ipython",
    "version": 3
   },
   "file_extension": ".py",
   "mimetype": "text/x-python",
   "name": "python",
   "nbconvert_exporter": "python",
   "pygments_lexer": "ipython3",
   "version": "3.11.13"
  }
 },
 "nbformat": 4,
 "nbformat_minor": 0
}
