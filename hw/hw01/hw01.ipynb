{
  "cells": [
    {
      "cell_type": "markdown",
      "metadata": {},
      "source": [
        "# HW01 — ChBE 413\n",
        "**Name:** Mikkel Flores  \n",
        "**Due Date:** September 4, 2025\n"
      ]
    },
    {
      "cell_type": "markdown",
      "id": "4e0ba19a",
      "metadata": {},
      "source": [
        "# Question 1"
      ]
    },
    {
      "cell_type": "markdown",
      "id": "a6c39eab",
      "metadata": {},
      "source": [
        "Along with Chemical Engineering, I am pursuing a minor in Statistics, and after talking to my advisor I was able to substitute ChBE 413 as one of my 400 level technical electives for the Stat minor. I was first exposed to data science and machine learning at my internship at Fauske & Associates, where I had the opportunity to develop a computer vision model to characterize nuclear waste which will help inform waste remediation strategies. Additionally, I was interested in the kinetic fitting models the other interns were able to work on. In my exit interview, I recognized the major growth opportunity in our Combustible Dust Hazards department, where there is no shortage of testing data and reports. I had the idea of creating a predictive model to estimate the explosibility parameters of combustible dusts based on their material and physical properties. The intended benefit is to support the expansion of the department by using the model to accelerate testing and client reporting turnover. I believe this class will help me get closer to that goal by complimenting the skillset I already have and the work in Process Safety that I am passionate about."
      ]
    },
    {
      "cell_type": "markdown",
      "id": "841751eb",
      "metadata": {},
      "source": [
        "# Question 2"
      ]
    },
    {
      "cell_type": "markdown",
      "id": "0b3f7fbd",
      "metadata": {},
      "source": [
        "**Part a**"
      ]
    },
    {
      "cell_type": "code",
      "execution_count": 44,
      "id": "fcb3190f",
      "metadata": {},
      "outputs": [],
      "source": [
        "def ReadToDict(filename):\n",
        "    MWDict = {}\n",
        "    FormulaDict = {}\n",
        "\n",
        "    with open(filename, 'r') as f:\n",
        "        for line in f:\n",
        "            parts = line.strip().split(\"\\t\")\n",
        "            parts = [p for p in parts if p != \"\"]\n",
        "\n",
        "            if len(parts) < 3:\n",
        "                continue\n",
        "\n",
        "            name, mw_str, formula = parts[-3], parts[-2], parts[-1]\n",
        "\n",
        "            mw_str = mw_str.replace(\" g/mol\", \"\").strip()\n",
        "\n",
        "            try:\n",
        "                mw = float(mw_str)\n",
        "            except ValueError:\n",
        "                continue\n",
        "\n",
        "            MWDict[name] = mw\n",
        "            FormulaDict[name] = formula\n",
        "            \n",
        "    return [MWDict, FormulaDict]"
      ]
    },
    {
      "cell_type": "code",
      "execution_count": 45,
      "id": "7e7bb55f",
      "metadata": {},
      "outputs": [
        {
          "name": "stdout",
          "output_type": "stream",
          "text": [
            "Total entries: 132\n",
            "Acetic acid: 60.052 g/mol | formula: CH3COOH\n",
            "Hydrochloric acid: 36.458 g/mol | formula: HCl\n",
            "Sulfuric acid: 98.072 g/mol | formula: H2SO4\n",
            "Acetate: 59.044 g/mol | formula: CH3COO–\n",
            "Ammonia: 17.031 g/mol | formula: NH3\n",
            "Nitric acid: 63.012 g/mol | formula: HNO3\n",
            "Phosphoric acid: 97.994 g/mol | formula: H3PO4\n",
            "Sodium phosphate: 119.976 g/mol | formula: Na3PO4\n",
            "Calcium carbonate: 100.086 g/mol | formula: CaCO3\n",
            "Ammonium sulfate: 132.134 g/mol | formula: (NH4)2SO4\n"
          ]
        }
      ],
      "source": [
        "MWDict, FormulaDict = ReadToDict(\"ChemicalNames.txt\")\n",
        "\n",
        "print(\"Total entries:\", len(MWDict))\n",
        "for i, (name, mw) in enumerate(MWDict.items()):\n",
        "    if i >= 10:\n",
        "        break\n",
        "    formula = FormulaDict.get(name, \"N/A\")\n",
        "    print(f\"{name}: {mw} g/mol | formula: {FormulaDict[name]}\")"
      ]
    },
    {
      "cell_type": "markdown",
      "id": "cc043d77",
      "metadata": {},
      "source": [
        "Debugging"
      ]
    },
    {
      "cell_type": "code",
      "execution_count": 46,
      "id": "8346cde5",
      "metadata": {},
      "outputs": [
        {
          "name": "stdout",
          "output_type": "stream",
          "text": [
            "'1\\tAcetic acid\\t60.052 g/mol\\tCH3COOH\\n'\n",
            "'2\\tHydrochloric acid\\t36.458 g/mol\\tHCl\\n'\n",
            "'3\\tSulfuric acid\\t98.072 g/mol\\tH2SO4\\n'\n",
            "'4\\tAcetate\\t59.044 g/mol\\tCH3COO–\\n'\n",
            "'5\\tAmmonia\\t17.031 g/mol\\tNH3\\n'\n",
            "'6\\tNitric acid\\t63.012 g/mol\\tHNO3\\n'\n",
            "'7\\tPhosphoric acid\\t97.994 g/mol\\tH3PO4\\n'\n"
          ]
        }
      ],
      "source": [
        "with open(\"ChemicalNames.txt\", 'r') as f:\n",
        "    for i, line in enumerate(f):\n",
        "        print(repr(line))\n",
        "        if i > 5:\n",
        "            break"
      ]
    },
    {
      "cell_type": "markdown",
      "id": "b599ad5d",
      "metadata": {},
      "source": [
        "**Part b**"
      ]
    },
    {
      "cell_type": "code",
      "execution_count": 47,
      "id": "62b9d05a",
      "metadata": {},
      "outputs": [],
      "source": [
        "# 1 kDa = 1000 g/mol\n",
        "\n",
        "def ConvertMW(mw_g_per_mol):\n",
        "    return mw_g_per_mol / 1000.0"
      ]
    },
    {
      "cell_type": "code",
      "execution_count": 48,
      "id": "bb983417",
      "metadata": {},
      "outputs": [],
      "source": [
        "def write_kDa_file(out_filename, MWDict, FormulaDict):\n",
        "    with open(out_filename, \"w\") as f:\n",
        "        for name, mw_g in MWDict.items():\n",
        "            mw_kDa = ConvertMW(mw_g)\n",
        "            formula = FormulaDict.get(name, \"\")\n",
        "            f.write(f\"{name}\\t{mw_kDa:.6f} kDa\\t{formula}\\n\")\n",
        "\n",
        "write_kDa_file(\"ChemicalNames_kDa.txt\", MWDict, FormulaDict)"
      ]
    },
    {
      "cell_type": "markdown",
      "id": "5e820e3a",
      "metadata": {},
      "source": [
        "Checking Output"
      ]
    },
    {
      "cell_type": "code",
      "execution_count": 49,
      "id": "e1bc76c9",
      "metadata": {},
      "outputs": [
        {
          "name": "stdout",
          "output_type": "stream",
          "text": [
            "'Acetic acid\\t0.060052 kDa\\tCH3COOH\\n'\n",
            "'Hydrochloric acid\\t0.036458 kDa\\tHCl\\n'\n",
            "'Sulfuric acid\\t0.098072 kDa\\tH2SO4\\n'\n",
            "'Acetate\\t0.059044 kDa\\tCH3COO–\\n'\n",
            "'Ammonia\\t0.017031 kDa\\tNH3\\n'\n",
            "'Nitric acid\\t0.063012 kDa\\tHNO3\\n'\n",
            "'Phosphoric acid\\t0.097994 kDa\\tH3PO4\\n'\n"
          ]
        }
      ],
      "source": [
        "with open(\"ChemicalNames_kDa.txt\", \"r\") as f:\n",
        "    for i, line in enumerate(f):\n",
        "        print(repr(line))\n",
        "        if i > 5:\n",
        "            break"
      ]
    },
    {
      "cell_type": "markdown",
      "id": "1f045d36",
      "metadata": {},
      "source": [
        "**Part c**"
      ]
    },
    {
      "cell_type": "code",
      "execution_count": 50,
      "id": "55333902",
      "metadata": {},
      "outputs": [],
      "source": [
        "def write_sulfur_acids(out_filename, MWDict, FormulaDict):\n",
        "    with open(out_filename, \"w\") as f:\n",
        "        for name, mw_g in MWDict.items():\n",
        "            formula = FormulaDict.get(name, \"\")\n",
        "\n",
        "            if \"acid\" in name.lower() and \"S\" in formula:\n",
        "                mw_kDa = ConvertMW(mw_g)\n",
        "                f.write(f\"{name}\\t{mw_kDa:.6f} kDa\\t{formula}\\n\")\n",
        "\n",
        "write_sulfur_acids(\"ChemicalNames_kDa_Sulfur_acids.txt\", MWDict, FormulaDict)"
      ]
    },
    {
      "cell_type": "markdown",
      "id": "6f141d52",
      "metadata": {},
      "source": [
        "Checking Output"
      ]
    },
    {
      "cell_type": "code",
      "execution_count": 51,
      "id": "d7578956",
      "metadata": {},
      "outputs": [
        {
          "name": "stdout",
          "output_type": "stream",
          "text": [
            "'Sulfuric acid\\t0.098072 kDa\\tH2SO4\\n'\n",
            "'Sulfurous acid\\t0.082073 kDa\\tH2SO3\\n'\n"
          ]
        }
      ],
      "source": [
        "with open(\"ChemicalNames_kDa_Sulfur_acids.txt\", \"r\") as f:\n",
        "    for i, line in enumerate(f):\n",
        "        print(repr(line))\n",
        "        if i > 5:\n",
        "            break"
      ]
    },
    {
      "cell_type": "markdown",
      "id": "6e803d1c",
      "metadata": {},
      "source": [
        "**Part d**"
      ]
    },
    {
      "cell_type": "code",
      "execution_count": 52,
      "id": "9257ea7e",
      "metadata": {},
      "outputs": [
        {
          "name": "stdout",
          "output_type": "stream",
          "text": [
            "Array of sulfur acid MWs (kDa): [0.098072 0.082073]\n"
          ]
        }
      ],
      "source": [
        "import numpy as np\n",
        "\n",
        "sulfur_mws_kDa = []\n",
        "\n",
        "for name, mw_g in MWDict.items():\n",
        "    formula = FormulaDict.get(name, \"\")\n",
        "    if \"acid\" in name.lower() and \"S\" in formula:\n",
        "        mw_kDa = ConvertMW(mw_g)\n",
        "        sulfur_mws_kDa.append(mw_kDa)\n",
        "\n",
        "sulfur_array = np.array(sulfur_mws_kDa)\n",
        "print(\"Array of sulfur acid MWs (kDa):\", sulfur_array)"
      ]
    },
    {
      "cell_type": "code",
      "execution_count": 53,
      "id": "a6a2d152",
      "metadata": {},
      "outputs": [
        {
          "name": "stdout",
          "output_type": "stream",
          "text": [
            "Average MW of Sulfur-containing acids (kDa): 0.090072\n",
            "Standard Deviation of MW of Sulfur-containing acids (kDa): 0.008000\n"
          ]
        }
      ],
      "source": [
        "avg = np.mean(sulfur_array)\n",
        "std = np.std(sulfur_array)\n",
        "\n",
        "print(f\"Average MW of Sulfur-containing acids (kDa): {avg:.6f}\")\n",
        "print(f\"Standard Deviation of MW of Sulfur-containing acids (kDa): {std:.6f}\")"
      ]
    },
    {
      "cell_type": "markdown",
      "id": "7f9f9909",
      "metadata": {},
      "source": [
        "**Part e**"
      ]
    },
    {
      "cell_type": "code",
      "execution_count": 54,
      "id": "b1361057",
      "metadata": {},
      "outputs": [
        {
          "data": {
            "image/png": "[encoded data removed]",
            "text/plain": [
              "<Figure size 640x480 with 1 Axes>"
            ]
          },
          "metadata": {},
          "output_type": "display_data"
        }
      ],
      "source": [
        "import matplotlib.pyplot as plt\n",
        "\n",
        "mw_kDa_all = [ConvertMW(mw_g) for mw_g in MWDict.values()]\n",
        "\n",
        "plt.hist(mw_kDa_all, bins=30, color=\"skyblue\", edgecolor=\"black\", label=\"Molecular Weights (kDa)\")\n",
        "plt.title(\"Histogram of Molecular Weights (kDa) for All Compounds\")\n",
        "plt.xlabel(\"Molecular Weight (kDa)\")\n",
        "plt.ylabel(\"Frequency\")\n",
        "plt.legend()\n",
        "\n",
        "plt.show()"
      ]
    }
  ],
  "metadata": {
    "kernelspec": {
      "display_name": "chbe-413",
      "language": "python",
      "name": "python3"
    },
    "language_info": {
      "codemirror_mode": {
        "name": "ipython",
        "version": 3
      },
      "file_extension": ".py",
      "mimetype": "text/x-python",
      "name": "python",
      "nbconvert_exporter": "python",
      "pygments_lexer": "ipython3",
      "version": "3.11.13"
    }
  },
  "nbformat": 4,
  "nbformat_minor": 5
}
