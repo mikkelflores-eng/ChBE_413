{
 "cells": [
  {
   "cell_type": "markdown",
   "id": "c1cff0d6",
   "metadata": {},
   "source": [
    "# HW02 — ChBE 413\n",
    "**Name:** Mikkel Flores  \n",
    "**Due Date:** September 11, 2025"
   ]
  },
  {
   "cell_type": "markdown",
   "id": "06e82c96",
   "metadata": {},
   "source": [
    "# Question 1: Processing and Visualizing Molecular Datasets with Pandas"
   ]
  },
  {
   "cell_type": "code",
   "execution_count": 205,
   "id": "da8e7c55",
   "metadata": {},
   "outputs": [],
   "source": [
    "import rdkit\n",
    "from rdkit import Chem\n",
    "from rdkit.Chem import AllChem\n",
    "import pandas as pd"
   ]
  },
  {
   "cell_type": "markdown",
   "id": "5c065a9f",
   "metadata": {},
   "source": [
    "**Part a**"
   ]
  },
  {
   "cell_type": "code",
   "execution_count": 206,
   "id": "2108ff64",
   "metadata": {},
   "outputs": [
    {
     "data": {
      "text/html": [
       "<div>\n",
       "<style scoped>\n",
       "    .dataframe tbody tr th:only-of-type {\n",
       "        vertical-align: middle;\n",
       "    }\n",
       "\n",
       "    .dataframe tbody tr th {\n",
       "        vertical-align: top;\n",
       "    }\n",
       "\n",
       "    .dataframe thead th {\n",
       "        text-align: right;\n",
       "    }\n",
       "</style>\n",
       "<table border=\"1\" class=\"dataframe\">\n",
       "  <thead>\n",
       "    <tr style=\"text-align: right;\">\n",
       "      <th></th>\n",
       "      <th>smiles</th>\n",
       "      <th>Tm</th>\n",
       "      <th>num_atms</th>\n",
       "      <th>dipole</th>\n",
       "      <th>quadrupole</th>\n",
       "    </tr>\n",
       "  </thead>\n",
       "  <tbody>\n",
       "    <tr>\n",
       "      <th>0</th>\n",
       "      <td>CC1=C(C=CC(O)=N1)[N+]([O-])=O</td>\n",
       "      <td>508.15</td>\n",
       "      <td>17.0</td>\n",
       "      <td>4.473978</td>\n",
       "      <td>23.191697</td>\n",
       "    </tr>\n",
       "    <tr>\n",
       "      <th>1</th>\n",
       "      <td>COC1=C(N)C=C(C=C1)C(=O)N(C)C</td>\n",
       "      <td>393.15</td>\n",
       "      <td>28.0</td>\n",
       "      <td>4.772571</td>\n",
       "      <td>21.767880</td>\n",
       "    </tr>\n",
       "    <tr>\n",
       "      <th>2</th>\n",
       "      <td>CC1=CC=C(Cl)C(N)=C1</td>\n",
       "      <td>303.95</td>\n",
       "      <td>17.0</td>\n",
       "      <td>2.216088</td>\n",
       "      <td>7.920099</td>\n",
       "    </tr>\n",
       "    <tr>\n",
       "      <th>3</th>\n",
       "      <td>BrC1(C(=O)C2=CC=CC=C2C1=O)C1=CC=CC=C1</td>\n",
       "      <td>379.15</td>\n",
       "      <td>27.0</td>\n",
       "      <td>3.919235</td>\n",
       "      <td>21.700726</td>\n",
       "    </tr>\n",
       "    <tr>\n",
       "      <th>4</th>\n",
       "      <td>NC1=C(Cl)C=C(Cl)C=C1I</td>\n",
       "      <td>353.15</td>\n",
       "      <td>14.0</td>\n",
       "      <td>2.157331</td>\n",
       "      <td>4.988358</td>\n",
       "    </tr>\n",
       "  </tbody>\n",
       "</table>\n",
       "</div>"
      ],
      "text/plain": [
       "                                  smiles      Tm  num_atms    dipole  \\\n",
       "0          CC1=C(C=CC(O)=N1)[N+]([O-])=O  508.15      17.0  4.473978   \n",
       "1           COC1=C(N)C=C(C=C1)C(=O)N(C)C  393.15      28.0  4.772571   \n",
       "2                    CC1=CC=C(Cl)C(N)=C1  303.95      17.0  2.216088   \n",
       "3  BrC1(C(=O)C2=CC=CC=C2C1=O)C1=CC=CC=C1  379.15      27.0  3.919235   \n",
       "4                  NC1=C(Cl)C=C(Cl)C=C1I  353.15      14.0  2.157331   \n",
       "\n",
       "   quadrupole  \n",
       "0   23.191697  \n",
       "1   21.767880  \n",
       "2    7.920099  \n",
       "3   21.700726  \n",
       "4    4.988358  "
      ]
     },
     "execution_count": 206,
     "metadata": {},
     "output_type": "execute_result"
    }
   ],
   "source": [
    "df = pd.read_csv(\"Tm_200_subset_raw.csv\")\n",
    "df.head()\n"
   ]
  },
  {
   "cell_type": "code",
   "execution_count": 207,
   "id": "4899cfba",
   "metadata": {},
   "outputs": [
    {
     "name": "stdout",
     "output_type": "stream",
     "text": [
      "Number of duplicate rows: 12\n"
     ]
    }
   ],
   "source": [
    "duplicates = df.duplicated().sum()\n",
    "print(f\"Number of duplicate rows: {duplicates}\")\n"
   ]
  },
  {
   "cell_type": "code",
   "execution_count": 208,
   "id": "f64026e8",
   "metadata": {},
   "outputs": [
    {
     "data": {
      "text/html": [
       "<div>\n",
       "<style scoped>\n",
       "    .dataframe tbody tr th:only-of-type {\n",
       "        vertical-align: middle;\n",
       "    }\n",
       "\n",
       "    .dataframe tbody tr th {\n",
       "        vertical-align: top;\n",
       "    }\n",
       "\n",
       "    .dataframe thead th {\n",
       "        text-align: right;\n",
       "    }\n",
       "</style>\n",
       "<table border=\"1\" class=\"dataframe\">\n",
       "  <thead>\n",
       "    <tr style=\"text-align: right;\">\n",
       "      <th></th>\n",
       "      <th>smiles</th>\n",
       "      <th>Tm</th>\n",
       "      <th>num_atms</th>\n",
       "      <th>dipole</th>\n",
       "      <th>quadrupole</th>\n",
       "    </tr>\n",
       "  </thead>\n",
       "  <tbody>\n",
       "    <tr>\n",
       "      <th>0</th>\n",
       "      <td>CC1=C(C=CC(O)=N1)[N+]([O-])=O</td>\n",
       "      <td>508.15</td>\n",
       "      <td>17.0</td>\n",
       "      <td>4.473978</td>\n",
       "      <td>23.191697</td>\n",
       "    </tr>\n",
       "    <tr>\n",
       "      <th>1</th>\n",
       "      <td>COC1=C(N)C=C(C=C1)C(=O)N(C)C</td>\n",
       "      <td>393.15</td>\n",
       "      <td>28.0</td>\n",
       "      <td>4.772571</td>\n",
       "      <td>21.767880</td>\n",
       "    </tr>\n",
       "    <tr>\n",
       "      <th>2</th>\n",
       "      <td>CC1=CC=C(Cl)C(N)=C1</td>\n",
       "      <td>303.95</td>\n",
       "      <td>17.0</td>\n",
       "      <td>2.216088</td>\n",
       "      <td>7.920099</td>\n",
       "    </tr>\n",
       "    <tr>\n",
       "      <th>3</th>\n",
       "      <td>BrC1(C(=O)C2=CC=CC=C2C1=O)C1=CC=CC=C1</td>\n",
       "      <td>379.15</td>\n",
       "      <td>27.0</td>\n",
       "      <td>3.919235</td>\n",
       "      <td>21.700726</td>\n",
       "    </tr>\n",
       "    <tr>\n",
       "      <th>4</th>\n",
       "      <td>NC1=C(Cl)C=C(Cl)C=C1I</td>\n",
       "      <td>353.15</td>\n",
       "      <td>14.0</td>\n",
       "      <td>2.157331</td>\n",
       "      <td>4.988358</td>\n",
       "    </tr>\n",
       "    <tr>\n",
       "      <th>...</th>\n",
       "      <td>...</td>\n",
       "      <td>...</td>\n",
       "      <td>...</td>\n",
       "      <td>...</td>\n",
       "      <td>...</td>\n",
       "    </tr>\n",
       "    <tr>\n",
       "      <th>208</th>\n",
       "      <td>O=CC1=CN=C(S1)N1CCOCC1</td>\n",
       "      <td>437.15</td>\n",
       "      <td>23.0</td>\n",
       "      <td>4.874555</td>\n",
       "      <td>18.470379</td>\n",
       "    </tr>\n",
       "    <tr>\n",
       "      <th>209</th>\n",
       "      <td>CC(C)N(C)S(=O)(=O)C1=CC(N)=C(C)C=C1</td>\n",
       "      <td>391.15</td>\n",
       "      <td>34.0</td>\n",
       "      <td>NaN</td>\n",
       "      <td>21.523472</td>\n",
       "    </tr>\n",
       "    <tr>\n",
       "      <th>210</th>\n",
       "      <td>NC1=C(N=CN=C1)N1CCCC1</td>\n",
       "      <td>430.15</td>\n",
       "      <td>2400.0</td>\n",
       "      <td>3.889375</td>\n",
       "      <td>11.228281</td>\n",
       "    </tr>\n",
       "    <tr>\n",
       "      <th>211</th>\n",
       "      <td>CC(=O)N[C@@H](CC(O)=O)C(N)=O</td>\n",
       "      <td>433.15</td>\n",
       "      <td>22.0</td>\n",
       "      <td>3.437255</td>\n",
       "      <td>11.903019</td>\n",
       "    </tr>\n",
       "    <tr>\n",
       "      <th>212</th>\n",
       "      <td>CN(C)C(=O)C1=CC(=CC=C1)S(N)(=O)=O</td>\n",
       "      <td>395.15</td>\n",
       "      <td>27.0</td>\n",
       "      <td>4.158610</td>\n",
       "      <td>19.023166</td>\n",
       "    </tr>\n",
       "  </tbody>\n",
       "</table>\n",
       "<p>201 rows × 5 columns</p>\n",
       "</div>"
      ],
      "text/plain": [
       "                                    smiles      Tm  num_atms    dipole  \\\n",
       "0            CC1=C(C=CC(O)=N1)[N+]([O-])=O  508.15      17.0  4.473978   \n",
       "1             COC1=C(N)C=C(C=C1)C(=O)N(C)C  393.15      28.0  4.772571   \n",
       "2                      CC1=CC=C(Cl)C(N)=C1  303.95      17.0  2.216088   \n",
       "3    BrC1(C(=O)C2=CC=CC=C2C1=O)C1=CC=CC=C1  379.15      27.0  3.919235   \n",
       "4                    NC1=C(Cl)C=C(Cl)C=C1I  353.15      14.0  2.157331   \n",
       "..                                     ...     ...       ...       ...   \n",
       "208                 O=CC1=CN=C(S1)N1CCOCC1  437.15      23.0  4.874555   \n",
       "209    CC(C)N(C)S(=O)(=O)C1=CC(N)=C(C)C=C1  391.15      34.0       NaN   \n",
       "210                  NC1=C(N=CN=C1)N1CCCC1  430.15    2400.0  3.889375   \n",
       "211           CC(=O)N[C@@H](CC(O)=O)C(N)=O  433.15      22.0  3.437255   \n",
       "212      CN(C)C(=O)C1=CC(=CC=C1)S(N)(=O)=O  395.15      27.0  4.158610   \n",
       "\n",
       "     quadrupole  \n",
       "0     23.191697  \n",
       "1     21.767880  \n",
       "2      7.920099  \n",
       "3     21.700726  \n",
       "4      4.988358  \n",
       "..          ...  \n",
       "208   18.470379  \n",
       "209   21.523472  \n",
       "210   11.228281  \n",
       "211   11.903019  \n",
       "212   19.023166  \n",
       "\n",
       "[201 rows x 5 columns]"
      ]
     },
     "execution_count": 208,
     "metadata": {},
     "output_type": "execute_result"
    }
   ],
   "source": [
    "df.drop_duplicates()"
   ]
  },
  {
   "cell_type": "markdown",
   "id": "8134996e",
   "metadata": {},
   "source": [
    "**Part b**"
   ]
  },
  {
   "cell_type": "code",
   "execution_count": 209,
   "id": "0a0f10bc",
   "metadata": {},
   "outputs": [
    {
     "name": "stdout",
     "output_type": "stream",
     "text": [
      "<class 'pandas.core.frame.DataFrame'>\n",
      "RangeIndex: 213 entries, 0 to 212\n",
      "Data columns (total 5 columns):\n",
      " #   Column      Non-Null Count  Dtype  \n",
      "---  ------      --------------  -----  \n",
      " 0   smiles      213 non-null    object \n",
      " 1   Tm          213 non-null    float64\n",
      " 2   num_atms    210 non-null    float64\n",
      " 3   dipole      205 non-null    float64\n",
      " 4   quadrupole  213 non-null    float64\n",
      "dtypes: float64(4), object(1)\n",
      "memory usage: 8.4+ KB\n"
     ]
    }
   ],
   "source": [
    "df.info()"
   ]
  },
  {
   "cell_type": "code",
   "execution_count": 210,
   "id": "c912acc9",
   "metadata": {},
   "outputs": [
    {
     "data": {
      "text/plain": [
       "smiles        0\n",
       "Tm            0\n",
       "num_atms      3\n",
       "dipole        8\n",
       "quadrupole    0\n",
       "dtype: int64"
      ]
     },
     "execution_count": 210,
     "metadata": {},
     "output_type": "execute_result"
    }
   ],
   "source": [
    "df.isnull().sum()\n"
   ]
  },
  {
   "cell_type": "markdown",
   "id": "5b0ad5e4",
   "metadata": {},
   "source": [
    "There are 3 entries missing in the num_atms column and 8 entries missing in the dipole column."
   ]
  },
  {
   "cell_type": "markdown",
   "id": "6c87ba0c",
   "metadata": {},
   "source": [
    "**Part c**"
   ]
  },
  {
   "cell_type": "code",
   "execution_count": 211,
   "id": "3b26c1b7",
   "metadata": {},
   "outputs": [
    {
     "name": "stdout",
     "output_type": "stream",
     "text": [
      "The mean column values: \n",
      " Tm            419.614930\n",
      "num_atms       38.090476\n",
      "dipole         23.218965\n",
      "quadrupole    301.074375\n",
      "dtype: float64\n"
     ]
    }
   ],
   "source": [
    "mean_col_vals = df[['Tm', 'num_atms', 'dipole', 'quadrupole']].mean()\n",
    "print(\"The mean column values:\",\n",
    "      \"\\n\", mean_col_vals)"
   ]
  },
  {
   "cell_type": "code",
   "execution_count": 212,
   "id": "b2ab775a",
   "metadata": {},
   "outputs": [
    {
     "name": "stdout",
     "output_type": "stream",
     "text": [
      "Skewness of the columns: \n",
      " Tm            11.555019\n",
      "num_atms      14.412902\n",
      "dipole        14.316706\n",
      "quadrupole    14.594364\n",
      "dtype: float64 \n",
      "\n",
      "Percentage of missing values in the columns: \n",
      " Tm            0.00\n",
      "num_atms      1.41\n",
      "dipole        3.76\n",
      "quadrupole    0.00\n",
      "dtype: float64\n"
     ]
    }
   ],
   "source": [
    "# Checking skewness and percentage of missing values\n",
    "df_skew = df[['Tm', 'num_atms', 'dipole', 'quadrupole']].skew()\n",
    "df_missing = (df[['Tm', 'num_atms', 'dipole', 'quadrupole']].isnull().mean()*100).round(2)\n",
    "print(\"Skewness of the columns:\"\n",
    "      , \"\\n\", df_skew\n",
    "      , \"\\n\\nPercentage of missing values in the columns:\"\n",
    "      , \"\\n\", df_missing)"
   ]
  },
  {
   "cell_type": "markdown",
   "id": "25f61f12",
   "metadata": {},
   "source": [
    "Mean imputation is not necessarily a good approximation here because the columns show high positive skew, which demonstrates that the mean is not representative and may bias results. The article notes that mean imputation does not account for correlations between features, so approximating with the column means ignores those relationships, subsequently worsening models or further multivariate analyses. Even though the percentage of missing values is small, imputation with the mean reduces the variance and can artifically make a model more confident since uncertainty is not accounted for these imputations."
   ]
  },
  {
   "cell_type": "markdown",
   "id": "1796afc5",
   "metadata": {},
   "source": [
    "**Part d**"
   ]
  },
  {
   "cell_type": "code",
   "execution_count": 213,
   "id": "e2ddf86d",
   "metadata": {},
   "outputs": [
    {
     "data": {
      "image/png": "[encoded data removed]",
      "text/plain": [
       "<Figure size 1000x800 with 4 Axes>"
      ]
     },
     "metadata": {},
     "output_type": "display_data"
    }
   ],
   "source": [
    "import matplotlib.pyplot as plt\n",
    "cols = ['Tm', 'num_atms', 'dipole', 'quadrupole']\n",
    "num_cols = len(cols)\n",
    "num_plots_per_col = 2\n",
    "num_plots_per_row = (num_cols + num_plots_per_col -1) // num_plots_per_col\n",
    "\n",
    "fig, axes = plt.subplots(num_plots_per_row, num_plots_per_col, figsize=(10, 4*num_plots_per_row))\n",
    "axes = axes.flatten()\n",
    "\n",
    "for i, col in enumerate(cols):\n",
    "    ax = axes[i]\n",
    "    df[col].hist(bins=20, ax=ax)\n",
    "    ax.set_title(col)\n",
    "    ax.set_xlabel(col)\n",
    "    ax.set_ylabel(\"Frequency\")\n",
    "    ax.grid(True)\n",
    "    \n",
    "for j in range(i+1, len(axes)):\n",
    "    axes[j].axis('off')\n",
    "\n",
    "plt.tight_layout()\n",
    "plt.show()"
   ]
  },
  {
   "cell_type": "code",
   "execution_count": 214,
   "id": "a29eeeff",
   "metadata": {},
   "outputs": [
    {
     "name": "stdout",
     "output_type": "stream",
     "text": [
      "            count        mean          std         min         25%         50%         75%           max\n",
      "Tm          213.0  419.614930   205.510776  119.150000  361.150000  413.150000  451.150000   3186.500000\n",
      "num_atms    210.0   38.090476   164.061916    5.000000   20.000000   25.500000   31.750000   2400.000000\n",
      "dipole      205.0   23.218965   279.247777    0.000000    2.371265    3.486184    5.003426   4001.832900\n",
      "quadrupole  213.0  301.074375  4141.268430    0.366284    9.455462   15.351293   22.387872  60456.931093\n"
     ]
    }
   ],
   "source": [
    "description = df[cols].describe().transpose()\n",
    "print(description.to_string())"
   ]
  },
  {
   "cell_type": "code",
   "execution_count": 215,
   "id": "90fcfe0b",
   "metadata": {},
   "outputs": [
    {
     "name": "stdout",
     "output_type": "stream",
     "text": [
      "Tm: flagged 1 rows (bounds -196.92 .. 1036.15)\n",
      "num_atms: flagged 1 rows (bounds -454.10 .. 530.28)\n",
      "dipole: flagged 1 rows (bounds -814.52 .. 860.96)\n",
      "quadrupole: flagged 1 rows (bounds -12122.73 .. 12724.88)\n",
      "\n",
      "Flagged rows: 4\n"
     ]
    },
    {
     "data": {
      "text/html": [
       "<div>\n",
       "<style scoped>\n",
       "    .dataframe tbody tr th:only-of-type {\n",
       "        vertical-align: middle;\n",
       "    }\n",
       "\n",
       "    .dataframe tbody tr th {\n",
       "        vertical-align: top;\n",
       "    }\n",
       "\n",
       "    .dataframe thead th {\n",
       "        text-align: right;\n",
       "    }\n",
       "</style>\n",
       "<table border=\"1\" class=\"dataframe\">\n",
       "  <thead>\n",
       "    <tr style=\"text-align: right;\">\n",
       "      <th></th>\n",
       "      <th>smiles</th>\n",
       "      <th>Tm</th>\n",
       "      <th>num_atms</th>\n",
       "      <th>dipole</th>\n",
       "      <th>quadrupole</th>\n",
       "    </tr>\n",
       "  </thead>\n",
       "  <tbody>\n",
       "    <tr>\n",
       "      <th>13</th>\n",
       "      <td>O=CC1=CC=CC=C1N1CCOCC1</td>\n",
       "      <td>3186.50</td>\n",
       "      <td>27.0</td>\n",
       "      <td>3.318658</td>\n",
       "      <td>15.881392</td>\n",
       "    </tr>\n",
       "    <tr>\n",
       "      <th>26</th>\n",
       "      <td>CS(=O)(=O)C1=CC=C(C=C1)C(O)C(CO)NC(=O)C(Cl)Cl</td>\n",
       "      <td>438.15</td>\n",
       "      <td>36.0</td>\n",
       "      <td>4001.832900</td>\n",
       "      <td>27.426057</td>\n",
       "    </tr>\n",
       "    <tr>\n",
       "      <th>191</th>\n",
       "      <td>COC(=O)C1=CC=C(I)C=C1O</td>\n",
       "      <td>342.15</td>\n",
       "      <td>19.0</td>\n",
       "      <td>2.664381</td>\n",
       "      <td>60456.931093</td>\n",
       "    </tr>\n",
       "    <tr>\n",
       "      <th>210</th>\n",
       "      <td>NC1=C(N=CN=C1)N1CCCC1</td>\n",
       "      <td>430.15</td>\n",
       "      <td>2400.0</td>\n",
       "      <td>3.889375</td>\n",
       "      <td>11.228281</td>\n",
       "    </tr>\n",
       "  </tbody>\n",
       "</table>\n",
       "</div>"
      ],
      "text/plain": [
       "                                            smiles       Tm  num_atms  \\\n",
       "13                          O=CC1=CC=CC=C1N1CCOCC1  3186.50      27.0   \n",
       "26   CS(=O)(=O)C1=CC=C(C=C1)C(O)C(CO)NC(=O)C(Cl)Cl   438.15      36.0   \n",
       "191                         COC(=O)C1=CC=C(I)C=C1O   342.15      19.0   \n",
       "210                          NC1=C(N=CN=C1)N1CCCC1   430.15    2400.0   \n",
       "\n",
       "          dipole    quadrupole  \n",
       "13      3.318658     15.881392  \n",
       "26   4001.832900     27.426057  \n",
       "191     2.664381  60456.931093  \n",
       "210     3.889375     11.228281  "
      ]
     },
     "metadata": {},
     "output_type": "display_data"
    },
    {
     "name": "stdout",
     "output_type": "stream",
     "text": [
      "\n",
      "Indices to drop: [13, 26, 191, 210]\n"
     ]
    }
   ],
   "source": [
    "means = description['mean']\n",
    "stds = description['std']\n",
    "outlier_mult = 3\n",
    "flag_mask = pd.Series(False, index=df.index)\n",
    "\n",
    "for c in cols:\n",
    "    lower_bound = means[c] - outlier_mult * stds[c]\n",
    "    upper_bound = means[c] + outlier_mult * stds[c]\n",
    "    outliers = (df[c] < lower_bound) | (df[c] > upper_bound)\n",
    "    print(f\"{c}: flagged {outliers.sum()} rows (bounds {lower_bound:.2f} .. {upper_bound:.2f})\")\n",
    "    flag_mask |= outliers\n",
    "\n",
    "flagged = df.loc[flag_mask, ['smiles'] + cols]\n",
    "print(\"\\nFlagged rows:\", len(flagged))\n",
    "display(flagged)\n",
    "print(\"\\nIndices to drop:\", flagged.index.tolist())"
   ]
  },
  {
   "cell_type": "code",
   "execution_count": 216,
   "id": "a532677c",
   "metadata": {},
   "outputs": [
    {
     "data": {
      "text/html": [
       "<div>\n",
       "<style scoped>\n",
       "    .dataframe tbody tr th:only-of-type {\n",
       "        vertical-align: middle;\n",
       "    }\n",
       "\n",
       "    .dataframe tbody tr th {\n",
       "        vertical-align: top;\n",
       "    }\n",
       "\n",
       "    .dataframe thead th {\n",
       "        text-align: right;\n",
       "    }\n",
       "</style>\n",
       "<table border=\"1\" class=\"dataframe\">\n",
       "  <thead>\n",
       "    <tr style=\"text-align: right;\">\n",
       "      <th></th>\n",
       "      <th>smiles</th>\n",
       "      <th>Tm</th>\n",
       "      <th>num_atms</th>\n",
       "      <th>dipole</th>\n",
       "      <th>quadrupole</th>\n",
       "    </tr>\n",
       "  </thead>\n",
       "  <tbody>\n",
       "    <tr>\n",
       "      <th>13</th>\n",
       "      <td>O=CC1=CC=CC=C1N1CCOCC1</td>\n",
       "      <td>3186.50</td>\n",
       "      <td>27.0</td>\n",
       "      <td>3.318658</td>\n",
       "      <td>15.881392</td>\n",
       "    </tr>\n",
       "    <tr>\n",
       "      <th>26</th>\n",
       "      <td>CS(=O)(=O)C1=CC=C(C=C1)C(O)C(CO)NC(=O)C(Cl)Cl</td>\n",
       "      <td>438.15</td>\n",
       "      <td>36.0</td>\n",
       "      <td>4001.832900</td>\n",
       "      <td>27.426057</td>\n",
       "    </tr>\n",
       "    <tr>\n",
       "      <th>191</th>\n",
       "      <td>COC(=O)C1=CC=C(I)C=C1O</td>\n",
       "      <td>342.15</td>\n",
       "      <td>19.0</td>\n",
       "      <td>2.664381</td>\n",
       "      <td>60456.931093</td>\n",
       "    </tr>\n",
       "    <tr>\n",
       "      <th>210</th>\n",
       "      <td>NC1=C(N=CN=C1)N1CCCC1</td>\n",
       "      <td>430.15</td>\n",
       "      <td>2400.0</td>\n",
       "      <td>3.889375</td>\n",
       "      <td>11.228281</td>\n",
       "    </tr>\n",
       "  </tbody>\n",
       "</table>\n",
       "</div>"
      ],
      "text/plain": [
       "                                            smiles       Tm  num_atms  \\\n",
       "13                          O=CC1=CC=CC=C1N1CCOCC1  3186.50      27.0   \n",
       "26   CS(=O)(=O)C1=CC=C(C=C1)C(O)C(CO)NC(=O)C(Cl)Cl   438.15      36.0   \n",
       "191                         COC(=O)C1=CC=C(I)C=C1O   342.15      19.0   \n",
       "210                          NC1=C(N=CN=C1)N1CCCC1   430.15    2400.0   \n",
       "\n",
       "          dipole    quadrupole  \n",
       "13      3.318658     15.881392  \n",
       "26   4001.832900     27.426057  \n",
       "191     2.664381  60456.931093  \n",
       "210     3.889375     11.228281  "
      ]
     },
     "metadata": {},
     "output_type": "display_data"
    },
    {
     "name": "stdout",
     "output_type": "stream",
     "text": [
      "\n",
      "SMILES and indices of dropped rows:\n",
      "SMILES list: ['O=CC1=CC=CC=C1N1CCOCC1', 'CS(=O)(=O)C1=CC=C(C=C1)C(O)C(CO)NC(=O)C(Cl)Cl', 'COC(=O)C1=CC=C(I)C=C1O', 'NC1=C(N=CN=C1)N1CCCC1']\n",
      "Indices: [13, 26, 191, 210]\n"
     ]
    }
   ],
   "source": [
    "display(df.loc[flagged.index, ['smiles'] + cols])\n",
    "print(\"\\nSMILES and indices of dropped rows:\")\n",
    "print(\"SMILES list:\", df.loc[flagged.index, 'smiles'].tolist())\n",
    "print(\"Indices:\", flagged.index.tolist())"
   ]
  },
  {
   "cell_type": "code",
   "execution_count": 217,
   "id": "798a530b",
   "metadata": {},
   "outputs": [
    {
     "name": "stdout",
     "output_type": "stream",
     "text": [
      "rows after cleaning: 209\n"
     ]
    }
   ],
   "source": [
    "df.drop(index=flagged.index, inplace=True)\n",
    "df.reset_index(drop=True, inplace=True)\n",
    "df.to_csv(\"Tm_200_subset_cleaned.csv\", index=False)\n",
    "print(\"rows after cleaning:\", len(df))"
   ]
  },
  {
   "cell_type": "markdown",
   "id": "2829e18f",
   "metadata": {},
   "source": [
    "**Part e**"
   ]
  },
  {
   "cell_type": "code",
   "execution_count": 218,
   "id": "42a567db",
   "metadata": {},
   "outputs": [
    {
     "name": "stdout",
     "output_type": "stream",
     "text": [
      "<class 'pandas.core.frame.DataFrame'>\n",
      "Index: 197 entries, 0 to 208\n",
      "Data columns (total 5 columns):\n",
      " #   Column      Non-Null Count  Dtype  \n",
      "---  ------      --------------  -----  \n",
      " 0   smiles      197 non-null    object \n",
      " 1   Tm          197 non-null    float64\n",
      " 2   num_atms    194 non-null    float64\n",
      " 3   dipole      189 non-null    float64\n",
      " 4   quadrupole  197 non-null    float64\n",
      "dtypes: float64(4), object(1)\n",
      "memory usage: 9.2+ KB\n",
      "\n",
      "NaN Values: \n",
      " smiles        0\n",
      "Tm            0\n",
      "num_atms      3\n",
      "dipole        8\n",
      "quadrupole    0\n",
      "dtype: int64\n",
      "\n",
      "Duplicated Values: 0\n"
     ]
    }
   ],
   "source": [
    "df_clean = pd.read_csv(\"Tm_200_subset_cleaned.csv\")\n",
    "df_clean.drop_duplicates(inplace=True)\n",
    "df_clean.head()\n",
    "df_clean.info()\n",
    "print(\"\\nNaN Values:\", \"\\n\", df_clean.isnull().sum())\n",
    "print(\"\\nDuplicated Values:\", df_clean.duplicated().sum())"
   ]
  },
  {
   "cell_type": "code",
   "execution_count": 219,
   "id": "fe652a5d",
   "metadata": {},
   "outputs": [
    {
     "name": "stdout",
     "output_type": "stream",
     "text": [
      "Pearson correlation matrix:\n",
      "                   Tm  num_atms    dipole  quadrupole\n",
      "Tm          1.000000  0.107806  0.332250    0.358435\n",
      "num_atms    0.107806  1.000000  0.105737    0.367393\n",
      "dipole      0.332250  0.105737  1.000000    0.351995\n",
      "quadrupole  0.358435  0.367393  0.351995    1.000000\n"
     ]
    }
   ],
   "source": [
    "cols = ['Tm', 'num_atms', 'dipole', 'quadrupole']\n",
    "\n",
    "corr = df_clean[cols].corr(method='pearson')\n",
    "print(\"Pearson correlation matrix:\\n\", corr)"
   ]
  },
  {
   "cell_type": "markdown",
   "id": "1dccde4a",
   "metadata": {},
   "source": [
    "From the Pearson correlation matrix, it seems that the two columns most correlated to each other are num_atms and quadrupole with an r value of 0.367. The least correlated pair seems to be num_atms and dipole (r = 0.106). All pairwise Pearson r values are positive, indicating there are no anti-correlations between any of the columns."
   ]
  },
  {
   "cell_type": "code",
   "execution_count": 220,
   "id": "16205920",
   "metadata": {},
   "outputs": [
    {
     "name": "stdout",
     "output_type": "stream",
     "text": [
      "\n",
      "Pairwise counts of non-NaN values:\n",
      "Tm          vs Tm         : 197\n",
      "Tm          vs num_atms   : 194\n",
      "Tm          vs dipole     : 189\n",
      "Tm          vs quadrupole : 197\n",
      "num_atms    vs Tm         : 194\n",
      "num_atms    vs num_atms   : 194\n",
      "num_atms    vs dipole     : 186\n",
      "num_atms    vs quadrupole : 194\n",
      "dipole      vs Tm         : 189\n",
      "dipole      vs num_atms   : 186\n",
      "dipole      vs dipole     : 189\n",
      "dipole      vs quadrupole : 189\n",
      "quadrupole  vs Tm         : 197\n",
      "quadrupole  vs num_atms   : 194\n",
      "quadrupole  vs dipole     : 189\n",
      "quadrupole  vs quadrupole : 197\n"
     ]
    }
   ],
   "source": [
    "# Showing pairwise counts of non-NaN values\n",
    "print(\"\\nPairwise counts of non-NaN values:\")\n",
    "for i in cols:\n",
    "    for j in cols:\n",
    "        print(f\"{i:11s} vs {j:11s}: {df_clean[[i, j]].dropna().shape[0]}\")"
   ]
  },
  {
   "cell_type": "markdown",
   "id": "7ff5192c",
   "metadata": {},
   "source": [
    "**Part f**"
   ]
  },
  {
   "cell_type": "code",
   "execution_count": 221,
   "id": "970a7603",
   "metadata": {},
   "outputs": [
    {
     "data": {
      "image/png": "[encoded data removed]",
      "text/plain": [
       "<Figure size 600x400 with 1 Axes>"
      ]
     },
     "metadata": {},
     "output_type": "display_data"
    },
    {
     "data": {
      "image/png": "[encoded data removed]",
      "text/plain": [
       "<Figure size 600x400 with 1 Axes>"
      ]
     },
     "metadata": {},
     "output_type": "display_data"
    },
    {
     "data": {
      "image/png": "[encoded data removed]",
      "text/plain": [
       "<Figure size 600x400 with 1 Axes>"
      ]
     },
     "metadata": {},
     "output_type": "display_data"
    }
   ],
   "source": [
    "for feat in ['num_atms', 'dipole', 'quadrupole']:\n",
    "    data = df_clean[['Tm', feat]].dropna()\n",
    "    x = data[feat]\n",
    "    y = data['Tm']\n",
    "    r = x.corr(y)\n",
    "\n",
    "    plt.figure(figsize=(6, 4))\n",
    "    plt.scatter(x, y, alpha=0.7, s=20)\n",
    "    plt.title(f'Tm vs {feat} (Pearson r = {r:.3f})')\n",
    "    plt.xlabel(feat)\n",
    "    plt.ylabel('Tm')\n",
    "    plt.grid(True)\n",
    "    plt.show()"
   ]
  },
  {
   "cell_type": "markdown",
   "id": "9d9b5a17",
   "metadata": {},
   "source": [
    "From the plots, diple and quadrupole exhibits the strongest visual correlation with Tm, which is consistent with the computed correlation coefficients in e."
   ]
  },
  {
   "cell_type": "markdown",
   "id": "7ea66698",
   "metadata": {},
   "source": [
    "**Part g**"
   ]
  },
  {
   "cell_type": "code",
   "execution_count": 222,
   "id": "1b712ada",
   "metadata": {},
   "outputs": [
    {
     "name": "stdout",
     "output_type": "stream",
     "text": [
      "Lowest 3 Tm SMILES: ['CCCC(C)C', 'CF', 'CCC(CC)C=C']\n",
      "Highest 3 Tm SMILES: ['NC1=NC2=C(N=CN2)C(=O)N1', 'NC1=C(C#N)C(=O)C2CC3=C(CN12)C=CC=C3', 'OC(=O)C1=CC(NC(=O)C2=CC=C(Br)C=C2)=CC=C1']\n",
      "\n",
      "Lowest 3 Tm molecules:\n"
     ]
    },
    {
     "data": {
      "text/html": [
       "<div>\n",
       "<style scoped>\n",
       "    .dataframe tbody tr th:only-of-type {\n",
       "        vertical-align: middle;\n",
       "    }\n",
       "\n",
       "    .dataframe tbody tr th {\n",
       "        vertical-align: top;\n",
       "    }\n",
       "\n",
       "    .dataframe thead th {\n",
       "        text-align: right;\n",
       "    }\n",
       "</style>\n",
       "<table border=\"1\" class=\"dataframe\">\n",
       "  <thead>\n",
       "    <tr style=\"text-align: right;\">\n",
       "      <th></th>\n",
       "      <th>smiles</th>\n",
       "      <th>Tm</th>\n",
       "      <th>num_atms</th>\n",
       "      <th>dipole</th>\n",
       "      <th>quadrupole</th>\n",
       "    </tr>\n",
       "  </thead>\n",
       "  <tbody>\n",
       "    <tr>\n",
       "      <th>12</th>\n",
       "      <td>CCCC(C)C</td>\n",
       "      <td>119.15</td>\n",
       "      <td>20.0</td>\n",
       "      <td>0.067055</td>\n",
       "      <td>0.366284</td>\n",
       "    </tr>\n",
       "    <tr>\n",
       "      <th>53</th>\n",
       "      <td>CF</td>\n",
       "      <td>130.15</td>\n",
       "      <td>5.0</td>\n",
       "      <td>1.700645</td>\n",
       "      <td>5.380003</td>\n",
       "    </tr>\n",
       "    <tr>\n",
       "      <th>85</th>\n",
       "      <td>CCC(CC)C=C</td>\n",
       "      <td>146.15</td>\n",
       "      <td>21.0</td>\n",
       "      <td>0.386677</td>\n",
       "      <td>1.692360</td>\n",
       "    </tr>\n",
       "  </tbody>\n",
       "</table>\n",
       "</div>"
      ],
      "text/plain": [
       "        smiles      Tm  num_atms    dipole  quadrupole\n",
       "12    CCCC(C)C  119.15      20.0  0.067055    0.366284\n",
       "53          CF  130.15       5.0  1.700645    5.380003\n",
       "85  CCC(CC)C=C  146.15      21.0  0.386677    1.692360"
      ]
     },
     "metadata": {},
     "output_type": "display_data"
    },
    {
     "name": "stdout",
     "output_type": "stream",
     "text": [
      "\n",
      "Highest 3 Tm molecules:\n"
     ]
    },
    {
     "data": {
      "text/html": [
       "<div>\n",
       "<style scoped>\n",
       "    .dataframe tbody tr th:only-of-type {\n",
       "        vertical-align: middle;\n",
       "    }\n",
       "\n",
       "    .dataframe tbody tr th {\n",
       "        vertical-align: top;\n",
       "    }\n",
       "\n",
       "    .dataframe thead th {\n",
       "        text-align: right;\n",
       "    }\n",
       "</style>\n",
       "<table border=\"1\" class=\"dataframe\">\n",
       "  <thead>\n",
       "    <tr style=\"text-align: right;\">\n",
       "      <th></th>\n",
       "      <th>smiles</th>\n",
       "      <th>Tm</th>\n",
       "      <th>num_atms</th>\n",
       "      <th>dipole</th>\n",
       "      <th>quadrupole</th>\n",
       "    </tr>\n",
       "  </thead>\n",
       "  <tbody>\n",
       "    <tr>\n",
       "      <th>80</th>\n",
       "      <td>NC1=NC2=C(N=CN2)C(=O)N1</td>\n",
       "      <td>633.15</td>\n",
       "      <td>16.0</td>\n",
       "      <td>6.488483</td>\n",
       "      <td>21.894593</td>\n",
       "    </tr>\n",
       "    <tr>\n",
       "      <th>9</th>\n",
       "      <td>NC1=C(C#N)C(=O)C2CC3=C(CN12)C=CC=C3</td>\n",
       "      <td>581.15</td>\n",
       "      <td>28.0</td>\n",
       "      <td>9.580572</td>\n",
       "      <td>34.144607</td>\n",
       "    </tr>\n",
       "    <tr>\n",
       "      <th>197</th>\n",
       "      <td>OC(=O)C1=CC(NC(=O)C2=CC=C(Br)C=C2)=CC=C1</td>\n",
       "      <td>580.15</td>\n",
       "      <td>29.0</td>\n",
       "      <td>3.733080</td>\n",
       "      <td>29.455901</td>\n",
       "    </tr>\n",
       "  </tbody>\n",
       "</table>\n",
       "</div>"
      ],
      "text/plain": [
       "                                       smiles      Tm  num_atms    dipole  \\\n",
       "80                    NC1=NC2=C(N=CN2)C(=O)N1  633.15      16.0  6.488483   \n",
       "9         NC1=C(C#N)C(=O)C2CC3=C(CN12)C=CC=C3  581.15      28.0  9.580572   \n",
       "197  OC(=O)C1=CC(NC(=O)C2=CC=C(Br)C=C2)=CC=C1  580.15      29.0  3.733080   \n",
       "\n",
       "     quadrupole  \n",
       "80    21.894593  \n",
       "9     34.144607  \n",
       "197   29.455901  "
      ]
     },
     "metadata": {},
     "output_type": "display_data"
    }
   ],
   "source": [
    "lowest3 = df_clean.nsmallest(3, 'Tm').copy()\n",
    "highest3 = df_clean.nlargest(3, 'Tm').copy()\n",
    "\n",
    "lowest3_smiles = lowest3['smiles'].tolist()\n",
    "highest3_smiles = highest3['smiles'].tolist()\n",
    "print(\"Lowest 3 Tm SMILES:\", lowest3_smiles)\n",
    "print(\"Highest 3 Tm SMILES:\", highest3_smiles)\n",
    "\n",
    "print(\"\\nLowest 3 Tm molecules:\")\n",
    "display(lowest3[['smiles'] + cols])\n",
    "print(\"\\nHighest 3 Tm molecules:\")\n",
    "display(highest3[['smiles'] + cols])"
   ]
  },
  {
   "cell_type": "code",
   "execution_count": 223,
   "id": "01f9a144",
   "metadata": {},
   "outputs": [
    {
     "name": "stdout",
     "output_type": "stream",
     "text": [
      "\n",
      "2D depictions (lowest 3):\n"
     ]
    },
    {
     "data": {
      "image/jpeg": "[encoded data removed]",
      "image/png": "[encoded data removed]",
      "text/plain": [
       "<PIL.PngImagePlugin.PngImageFile image mode=RGB size=200x200>"
      ]
     },
     "metadata": {},
     "output_type": "display_data"
    },
    {
     "data": {
      "image/jpeg": "[encoded data removed]",
      "image/png": "[encoded data removed]",
      "text/plain": [
       "<PIL.PngImagePlugin.PngImageFile image mode=RGB size=200x200>"
      ]
     },
     "metadata": {},
     "output_type": "display_data"
    },
    {
     "data": {
      "image/jpeg": "[encoded data removed]",
      "image/png": "[encoded data removed]",
      "text/plain": [
       "<PIL.PngImagePlugin.PngImageFile image mode=RGB size=200x200>"
      ]
     },
     "metadata": {},
     "output_type": "display_data"
    },
    {
     "name": "stdout",
     "output_type": "stream",
     "text": [
      "\n",
      "2D depictions (highest 3):\n"
     ]
    },
    {
     "data": {
      "image/jpeg": "[encoded data removed]",
      "image/png": "[encoded data removed]",
      "text/plain": [
       "<PIL.PngImagePlugin.PngImageFile image mode=RGB size=200x200>"
      ]
     },
     "metadata": {},
     "output_type": "display_data"
    },
    {
     "data": {
      "image/jpeg": "[encoded data removed]",
      "image/png": "[encoded data removed]",
      "text/plain": [
       "<PIL.PngImagePlugin.PngImageFile image mode=RGB size=200x200>"
      ]
     },
     "metadata": {},
     "output_type": "display_data"
    },
    {
     "data": {
      "image/jpeg": "[encoded data removed]",
      "image/png": "[encoded data removed]",
      "text/plain": [
       "<PIL.PngImagePlugin.PngImageFile image mode=RGB size=200x200>"
      ]
     },
     "metadata": {},
     "output_type": "display_data"
    }
   ],
   "source": [
    "print(\"\\n2D depictions (lowest 3):\")\n",
    "for sm in lowest3_smiles:\n",
    "    mol = Chem.MolFromSmiles(sm)\n",
    "    img = Chem.Draw.MolToImage(mol, size=(200, 200))\n",
    "    display(img)\n",
    "\n",
    "print(\"\\n2D depictions (highest 3):\")\n",
    "for sm in highest3_smiles:\n",
    "    mol = Chem.MolFromSmiles(sm)\n",
    "    img = Chem.Draw.MolToImage(mol, size=(200, 200))\n",
    "    display(img)"
   ]
  },
  {
   "cell_type": "code",
   "execution_count": 224,
   "id": "46ce6fff",
   "metadata": {},
   "outputs": [
    {
     "name": "stdout",
     "output_type": "stream",
     "text": [
      "Descriptor table for lowest3 then highest3 (includes bond counts):\n"
     ]
    },
    {
     "data": {
      "text/html": [
       "<div>\n",
       "<style scoped>\n",
       "    .dataframe tbody tr th:only-of-type {\n",
       "        vertical-align: middle;\n",
       "    }\n",
       "\n",
       "    .dataframe tbody tr th {\n",
       "        vertical-align: top;\n",
       "    }\n",
       "\n",
       "    .dataframe thead th {\n",
       "        text-align: right;\n",
       "    }\n",
       "</style>\n",
       "<table border=\"1\" class=\"dataframe\">\n",
       "  <thead>\n",
       "    <tr style=\"text-align: right;\">\n",
       "      <th></th>\n",
       "      <th>smiles</th>\n",
       "      <th>Tm</th>\n",
       "      <th>MolWt</th>\n",
       "      <th>HeavyAtoms</th>\n",
       "      <th>NumRings</th>\n",
       "      <th>NumRotatable</th>\n",
       "      <th>NumHDonors</th>\n",
       "      <th>NumHAcceptors</th>\n",
       "      <th>BondSingle</th>\n",
       "      <th>BondDouble</th>\n",
       "      <th>BondTriple</th>\n",
       "      <th>BondAromatic</th>\n",
       "    </tr>\n",
       "  </thead>\n",
       "  <tbody>\n",
       "    <tr>\n",
       "      <th>0</th>\n",
       "      <td>CCCC(C)C</td>\n",
       "      <td>119.15</td>\n",
       "      <td>86.178</td>\n",
       "      <td>6</td>\n",
       "      <td>0</td>\n",
       "      <td>2</td>\n",
       "      <td>0</td>\n",
       "      <td>0</td>\n",
       "      <td>5</td>\n",
       "      <td>0</td>\n",
       "      <td>0</td>\n",
       "      <td>0</td>\n",
       "    </tr>\n",
       "    <tr>\n",
       "      <th>1</th>\n",
       "      <td>CF</td>\n",
       "      <td>130.15</td>\n",
       "      <td>34.033</td>\n",
       "      <td>2</td>\n",
       "      <td>0</td>\n",
       "      <td>0</td>\n",
       "      <td>0</td>\n",
       "      <td>0</td>\n",
       "      <td>1</td>\n",
       "      <td>0</td>\n",
       "      <td>0</td>\n",
       "      <td>0</td>\n",
       "    </tr>\n",
       "    <tr>\n",
       "      <th>2</th>\n",
       "      <td>CCC(CC)C=C</td>\n",
       "      <td>146.15</td>\n",
       "      <td>98.189</td>\n",
       "      <td>7</td>\n",
       "      <td>0</td>\n",
       "      <td>3</td>\n",
       "      <td>0</td>\n",
       "      <td>0</td>\n",
       "      <td>5</td>\n",
       "      <td>1</td>\n",
       "      <td>0</td>\n",
       "      <td>0</td>\n",
       "    </tr>\n",
       "    <tr>\n",
       "      <th>3</th>\n",
       "      <td>NC1=NC2=C(N=CN2)C(=O)N1</td>\n",
       "      <td>633.15</td>\n",
       "      <td>151.129</td>\n",
       "      <td>11</td>\n",
       "      <td>2</td>\n",
       "      <td>0</td>\n",
       "      <td>3</td>\n",
       "      <td>4</td>\n",
       "      <td>1</td>\n",
       "      <td>1</td>\n",
       "      <td>0</td>\n",
       "      <td>10</td>\n",
       "    </tr>\n",
       "    <tr>\n",
       "      <th>4</th>\n",
       "      <td>NC1=C(C#N)C(=O)C2CC3=C(CN12)C=CC=C3</td>\n",
       "      <td>581.15</td>\n",
       "      <td>225.251</td>\n",
       "      <td>17</td>\n",
       "      <td>3</td>\n",
       "      <td>0</td>\n",
       "      <td>1</td>\n",
       "      <td>4</td>\n",
       "      <td>10</td>\n",
       "      <td>2</td>\n",
       "      <td>1</td>\n",
       "      <td>6</td>\n",
       "    </tr>\n",
       "    <tr>\n",
       "      <th>5</th>\n",
       "      <td>OC(=O)C1=CC(NC(=O)C2=CC=C(Br)C=C2)=CC=C1</td>\n",
       "      <td>580.15</td>\n",
       "      <td>320.142</td>\n",
       "      <td>19</td>\n",
       "      <td>2</td>\n",
       "      <td>3</td>\n",
       "      <td>2</td>\n",
       "      <td>2</td>\n",
       "      <td>6</td>\n",
       "      <td>2</td>\n",
       "      <td>0</td>\n",
       "      <td>12</td>\n",
       "    </tr>\n",
       "  </tbody>\n",
       "</table>\n",
       "</div>"
      ],
      "text/plain": [
       "                                     smiles      Tm    MolWt  HeavyAtoms  \\\n",
       "0                                  CCCC(C)C  119.15   86.178           6   \n",
       "1                                        CF  130.15   34.033           2   \n",
       "2                                CCC(CC)C=C  146.15   98.189           7   \n",
       "3                   NC1=NC2=C(N=CN2)C(=O)N1  633.15  151.129          11   \n",
       "4       NC1=C(C#N)C(=O)C2CC3=C(CN12)C=CC=C3  581.15  225.251          17   \n",
       "5  OC(=O)C1=CC(NC(=O)C2=CC=C(Br)C=C2)=CC=C1  580.15  320.142          19   \n",
       "\n",
       "   NumRings  NumRotatable  NumHDonors  NumHAcceptors  BondSingle  BondDouble  \\\n",
       "0         0             2           0              0           5           0   \n",
       "1         0             0           0              0           1           0   \n",
       "2         0             3           0              0           5           1   \n",
       "3         2             0           3              4           1           1   \n",
       "4         3             0           1              4          10           2   \n",
       "5         2             3           2              2           6           2   \n",
       "\n",
       "   BondTriple  BondAromatic  \n",
       "0           0             0  \n",
       "1           0             0  \n",
       "2           0             0  \n",
       "3           0            10  \n",
       "4           1             6  \n",
       "5           0            12  "
      ]
     },
     "metadata": {},
     "output_type": "display_data"
    }
   ],
   "source": [
    "# Exploring extra functionalities from the rdkit.Chem module since this is new to me; I thought it was cool, so I pulled some descriptors to help me answer the qualitative question in part g.\n",
    "from rdkit.Chem import Descriptors, rdMolDescriptors, rdchem\n",
    "\n",
    "rows = pd.concat([lowest3, highest3], ignore_index=True)\n",
    "\n",
    "descrs = []\n",
    "for _, r in rows.iterrows():\n",
    "    sm = r['smiles']\n",
    "    m = Chem.MolFromSmiles(sm)\n",
    "    if m is None:\n",
    "        descrs.append({\n",
    "            'smiles': sm, 'Tm': r['Tm'],\n",
    "            'MolWt': None, 'HeavyAtoms': None,\n",
    "            'NumRings': None, 'NumRotatable': None,\n",
    "            'NumHDonors': None, 'NumHAcceptors': None,\n",
    "            'BondSingle': None, 'BondDouble': None, 'BondTriple': None, 'BondAromatic': None\n",
    "        })\n",
    "        continue\n",
    "\n",
    "    # bond counts\n",
    "    single = 0\n",
    "    double = 0\n",
    "    triple = 0\n",
    "    aromatic = 0\n",
    "    for b in m.GetBonds():\n",
    "        bt = b.GetBondType()\n",
    "        if bt == rdchem.BondType.SINGLE:\n",
    "            single += 1\n",
    "        elif bt == rdchem.BondType.DOUBLE:\n",
    "            double += 1\n",
    "        elif bt == rdchem.BondType.TRIPLE:\n",
    "            triple += 1\n",
    "        # aromatic detection\n",
    "        if b.GetIsAromatic():\n",
    "            aromatic += 1\n",
    "\n",
    "    descrs.append({\n",
    "        'smiles': sm,\n",
    "        'Tm': float(r['Tm']),\n",
    "        'MolWt': float(Descriptors.MolWt(m)),\n",
    "        'HeavyAtoms': int(m.GetNumHeavyAtoms()),\n",
    "        'NumRings': int(rdMolDescriptors.CalcNumRings(m)),\n",
    "        'NumRotatable': int(rdMolDescriptors.CalcNumRotatableBonds(m)),\n",
    "        'NumHDonors': int(Descriptors.NumHDonors(m)),\n",
    "        'NumHAcceptors': int(Descriptors.NumHAcceptors(m)),\n",
    "        'BondSingle': int(single),\n",
    "        'BondDouble': int(double),\n",
    "        'BondTriple': int(triple),\n",
    "        'BondAromatic': int(aromatic),\n",
    "    })\n",
    "\n",
    "descr_df = pd.DataFrame(descrs)\n",
    "print(\"Descriptor table for lowest3 then highest3 (includes bond counts):\")\n",
    "display(descr_df)\n"
   ]
  },
  {
   "cell_type": "markdown",
   "id": "beb3a65d",
   "metadata": {},
   "source": [
    "While I included multiple qualitative molecular descriptors from rd.Chem, it seems that molecular size (MolWt and HeavyAtoms) and intermolecular interactions (dipole, polarity,NumHDonors/NumHAcceptors) seem to most correlate with increasing Tm. The larger molecules have greater polarizability and more potential for London dispersion forces, both of which scale with the increased surface area from the presence of Heavy Atoms. This cohesive energy creates a crystal lattice that is more \"tightly packed\" which subsequently increases Tm relative to the smaller molecules. Going off of this, the number of polar functional groups and H-bond donors/acceptors also correlate with Tm. These atoms create strong dipole-dipole and hydrogen bonds that increase the cohesion energy which also raise Tm when compared to molecules with less of these types of atoms."
   ]
  }
 ],
 "metadata": {
  "kernelspec": {
   "display_name": "chbe-413",
   "language": "python",
   "name": "python3"
  },
  "language_info": {
   "codemirror_mode": {
    "name": "ipython",
    "version": 3
   },
   "file_extension": ".py",
   "mimetype": "text/x-python",
   "name": "python",
   "nbconvert_exporter": "python",
   "pygments_lexer": "ipython3",
   "version": "3.11.13"
  }
 },
 "nbformat": 4,
 "nbformat_minor": 5
}
